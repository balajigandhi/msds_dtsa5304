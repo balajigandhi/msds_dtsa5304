{
 "cells": [
  {
   "cell_type": "markdown",
   "id": "919b5e3de353407b",
   "metadata": {},
   "source": [
    "## Visualization Project: Movie Recommendation System\n",
    "\n",
    "### Overview\n",
    "This project is part of MSDS course work (Course: DTSA 5304: Fundamentals of Data Visualization). The course uses the Altair library to explain visualization concepts.\n",
    "\n",
    "### Project Description\n",
    "The project uses the movies dataset to analyze multiple aspects of the dataset.\n",
    "\n",
    "### Dataset: The Movies Dataset\n",
    "This system uses the movies dataset (https://www.kaggle.com/datasets/rounakbanik/the-movies-dataset). It has metadata on over 45,000 movies. 26 million ratings from over 270,000 users."
   ]
  },
  {
   "cell_type": "markdown",
   "id": "49391e9f",
   "metadata": {},
   "source": [
    "### Required Libraries\n",
    "First we install the required libraries. This only needs to be done **once**."
   ]
  },
  {
   "cell_type": "code",
   "execution_count": 203,
   "id": "4e854eeb",
   "metadata": {},
   "outputs": [],
   "source": [
    "#%pip install altair vega vega_datasets pandas scikit-learn sentence-transformers streamlit"
   ]
  },
  {
   "cell_type": "markdown",
   "id": "e640647b",
   "metadata": {},
   "source": [
    "### Visualition #1: Genres Distribution\n",
    "The first visualization tries to analyze the distribution of genres in the movies dataset."
   ]
  },
  {
   "cell_type": "code",
   "execution_count": 204,
   "id": "347a35fc",
   "metadata": {},
   "outputs": [
    {
     "data": {
      "text/plain": "      id                        title  \\\n0    862                    Toy Story   \n1   8844                      Jumanji   \n2  15602             Grumpier Old Men   \n3  31357            Waiting to Exhale   \n4  11862  Father of the Bride Part II   \n\n                                              genres  \n0  [{'id': 16, 'name': 'Animation'}, {'id': 35, '...  \n1  [{'id': 12, 'name': 'Adventure'}, {'id': 14, '...  \n2  [{'id': 10749, 'name': 'Romance'}, {'id': 35, ...  \n3  [{'id': 35, 'name': 'Comedy'}, {'id': 18, 'nam...  \n4                     [{'id': 35, 'name': 'Comedy'}]  ",
      "text/html": "<div>\n<style scoped>\n    .dataframe tbody tr th:only-of-type {\n        vertical-align: middle;\n    }\n\n    .dataframe tbody tr th {\n        vertical-align: top;\n    }\n\n    .dataframe thead th {\n        text-align: right;\n    }\n</style>\n<table border=\"1\" class=\"dataframe\">\n  <thead>\n    <tr style=\"text-align: right;\">\n      <th></th>\n      <th>id</th>\n      <th>title</th>\n      <th>genres</th>\n    </tr>\n  </thead>\n  <tbody>\n    <tr>\n      <th>0</th>\n      <td>862</td>\n      <td>Toy Story</td>\n      <td>[{'id': 16, 'name': 'Animation'}, {'id': 35, '...</td>\n    </tr>\n    <tr>\n      <th>1</th>\n      <td>8844</td>\n      <td>Jumanji</td>\n      <td>[{'id': 12, 'name': 'Adventure'}, {'id': 14, '...</td>\n    </tr>\n    <tr>\n      <th>2</th>\n      <td>15602</td>\n      <td>Grumpier Old Men</td>\n      <td>[{'id': 10749, 'name': 'Romance'}, {'id': 35, ...</td>\n    </tr>\n    <tr>\n      <th>3</th>\n      <td>31357</td>\n      <td>Waiting to Exhale</td>\n      <td>[{'id': 35, 'name': 'Comedy'}, {'id': 18, 'nam...</td>\n    </tr>\n    <tr>\n      <th>4</th>\n      <td>11862</td>\n      <td>Father of the Bride Part II</td>\n      <td>[{'id': 35, 'name': 'Comedy'}]</td>\n    </tr>\n  </tbody>\n</table>\n</div>"
     },
     "execution_count": 204,
     "metadata": {},
     "output_type": "execute_result"
    }
   ],
   "source": [
    "import pandas as pd\n",
    "import altair as alt\n",
    "from ast import literal_eval\n",
    "\n",
    "# load the movies metadata\n",
    "movies_metadata = pd.read_csv('./The_Movies_Dataset/movies_metadata.csv', low_memory=False)\n",
    "# extract the genres from the genres column\n",
    "movies_metadata_genres = movies_metadata[['id', 'title', 'genres']].copy()\n",
    "movies_metadata_genres.head()"
   ]
  },
  {
   "cell_type": "code",
   "execution_count": 205,
   "id": "0f6fb28a",
   "metadata": {},
   "outputs": [
    {
     "data": {
      "text/plain": "      id                        title                        genres\n0    862                    Toy Story   [Animation, Comedy, Family]\n1   8844                      Jumanji  [Adventure, Fantasy, Family]\n2  15602             Grumpier Old Men             [Romance, Comedy]\n3  31357            Waiting to Exhale      [Comedy, Drama, Romance]\n4  11862  Father of the Bride Part II                      [Comedy]",
      "text/html": "<div>\n<style scoped>\n    .dataframe tbody tr th:only-of-type {\n        vertical-align: middle;\n    }\n\n    .dataframe tbody tr th {\n        vertical-align: top;\n    }\n\n    .dataframe thead th {\n        text-align: right;\n    }\n</style>\n<table border=\"1\" class=\"dataframe\">\n  <thead>\n    <tr style=\"text-align: right;\">\n      <th></th>\n      <th>id</th>\n      <th>title</th>\n      <th>genres</th>\n    </tr>\n  </thead>\n  <tbody>\n    <tr>\n      <th>0</th>\n      <td>862</td>\n      <td>Toy Story</td>\n      <td>[Animation, Comedy, Family]</td>\n    </tr>\n    <tr>\n      <th>1</th>\n      <td>8844</td>\n      <td>Jumanji</td>\n      <td>[Adventure, Fantasy, Family]</td>\n    </tr>\n    <tr>\n      <th>2</th>\n      <td>15602</td>\n      <td>Grumpier Old Men</td>\n      <td>[Romance, Comedy]</td>\n    </tr>\n    <tr>\n      <th>3</th>\n      <td>31357</td>\n      <td>Waiting to Exhale</td>\n      <td>[Comedy, Drama, Romance]</td>\n    </tr>\n    <tr>\n      <th>4</th>\n      <td>11862</td>\n      <td>Father of the Bride Part II</td>\n      <td>[Comedy]</td>\n    </tr>\n  </tbody>\n</table>\n</div>"
     },
     "execution_count": 205,
     "metadata": {},
     "output_type": "execute_result"
    }
   ],
   "source": [
    "# genres column is a string representation of a list of dictionaries. We need to convert it to a list of strings.\n",
    "movies_metadata_genres['genres'] = (\n",
    "    movies_metadata_genres['genres']\n",
    "    .fillna('[]')\n",
    "    .apply(literal_eval)\n",
    "    .apply(lambda x: [i['name'] for i in x] if isinstance(x, list) else [])\n",
    ")\n",
    "movies_metadata_genres.head()"
   ]
  },
  {
   "cell_type": "code",
   "execution_count": 206,
   "id": "b3a6a36d567172b",
   "metadata": {
    "ExecuteTime": {
     "end_time": "2024-06-01T00:20:43.679747Z",
     "start_time": "2024-06-01T00:20:43.635922Z"
    }
   },
   "outputs": [
    {
     "data": {
      "text/plain": "      genres  count  percentage\n9      Drama  20265   22.243321\n6     Comedy  13182   14.468860\n28  Thriller   7624    8.368274\n22   Romance   6735    7.392488\n0     Action   6596    7.239918",
      "text/html": "<div>\n<style scoped>\n    .dataframe tbody tr th:only-of-type {\n        vertical-align: middle;\n    }\n\n    .dataframe tbody tr th {\n        vertical-align: top;\n    }\n\n    .dataframe thead th {\n        text-align: right;\n    }\n</style>\n<table border=\"1\" class=\"dataframe\">\n  <thead>\n    <tr style=\"text-align: right;\">\n      <th></th>\n      <th>genres</th>\n      <th>count</th>\n      <th>percentage</th>\n    </tr>\n  </thead>\n  <tbody>\n    <tr>\n      <th>9</th>\n      <td>Drama</td>\n      <td>20265</td>\n      <td>22.243321</td>\n    </tr>\n    <tr>\n      <th>6</th>\n      <td>Comedy</td>\n      <td>13182</td>\n      <td>14.468860</td>\n    </tr>\n    <tr>\n      <th>28</th>\n      <td>Thriller</td>\n      <td>7624</td>\n      <td>8.368274</td>\n    </tr>\n    <tr>\n      <th>22</th>\n      <td>Romance</td>\n      <td>6735</td>\n      <td>7.392488</td>\n    </tr>\n    <tr>\n      <th>0</th>\n      <td>Action</td>\n      <td>6596</td>\n      <td>7.239918</td>\n    </tr>\n  </tbody>\n</table>\n</div>"
     },
     "execution_count": 206,
     "metadata": {},
     "output_type": "execute_result"
    }
   ],
   "source": [
    "# The genres column is now a list of strings. We can now explode the genres column and group by genres.\n",
    "movies_metadata_genres_exploded = movies_metadata_genres.explode('genres')\n",
    "movies_metadata_genres_exploded = movies_metadata_genres_exploded.groupby('genres').size().reset_index(name='count')\n",
    "movies_metadata_genres_exploded = movies_metadata_genres_exploded.sort_values('count', ascending=False)\n",
    "# calculate the percentage\n",
    "movies_metadata_genres_exploded['percentage'] = movies_metadata_genres_exploded['count'] / movies_metadata_genres_exploded['count'].sum() * 100\n",
    "movies_metadata_genres_exploded.head()"
   ]
  },
  {
   "cell_type": "code",
   "execution_count": 207,
   "id": "775e62828dbf1b9d",
   "metadata": {
    "ExecuteTime": {
     "end_time": "2024-06-01T00:20:46.379829Z",
     "start_time": "2024-06-01T00:20:46.347851Z"
    }
   },
   "outputs": [
    {
     "data": {
      "text/html": "\n<style>\n  #altair-viz-bead91de16924909bf414503a58e4d06.vega-embed {\n    width: 100%;\n    display: flex;\n  }\n\n  #altair-viz-bead91de16924909bf414503a58e4d06.vega-embed details,\n  #altair-viz-bead91de16924909bf414503a58e4d06.vega-embed details summary {\n    position: relative;\n  }\n</style>\n<div id=\"altair-viz-bead91de16924909bf414503a58e4d06\"></div>\n<script type=\"text/javascript\">\n  var VEGA_DEBUG = (typeof VEGA_DEBUG == \"undefined\") ? {} : VEGA_DEBUG;\n  (function(spec, embedOpt){\n    let outputDiv = document.currentScript.previousElementSibling;\n    if (outputDiv.id !== \"altair-viz-bead91de16924909bf414503a58e4d06\") {\n      outputDiv = document.getElementById(\"altair-viz-bead91de16924909bf414503a58e4d06\");\n    }\n    const paths = {\n      \"vega\": \"https://cdn.jsdelivr.net/npm/vega@5?noext\",\n      \"vega-lib\": \"https://cdn.jsdelivr.net/npm/vega-lib?noext\",\n      \"vega-lite\": \"https://cdn.jsdelivr.net/npm/vega-lite@5.17.0?noext\",\n      \"vega-embed\": \"https://cdn.jsdelivr.net/npm/vega-embed@6?noext\",\n    };\n\n    function maybeLoadScript(lib, version) {\n      var key = `${lib.replace(\"-\", \"\")}_version`;\n      return (VEGA_DEBUG[key] == version) ?\n        Promise.resolve(paths[lib]) :\n        new Promise(function(resolve, reject) {\n          var s = document.createElement('script');\n          document.getElementsByTagName(\"head\")[0].appendChild(s);\n          s.async = true;\n          s.onload = () => {\n            VEGA_DEBUG[key] = version;\n            return resolve(paths[lib]);\n          };\n          s.onerror = () => reject(`Error loading script: ${paths[lib]}`);\n          s.src = paths[lib];\n        });\n    }\n\n    function showError(err) {\n      outputDiv.innerHTML = `<div class=\"error\" style=\"color:red;\">${err}</div>`;\n      throw err;\n    }\n\n    function displayChart(vegaEmbed) {\n      vegaEmbed(outputDiv, spec, embedOpt)\n        .catch(err => showError(`Javascript Error: ${err.message}<br>This usually means there's a typo in your chart specification. See the javascript console for the full traceback.`));\n    }\n\n    if(typeof define === \"function\" && define.amd) {\n      requirejs.config({paths});\n      require([\"vega-embed\"], displayChart, err => showError(`Error loading script: ${err.message}`));\n    } else {\n      maybeLoadScript(\"vega\", \"5\")\n        .then(() => maybeLoadScript(\"vega-lite\", \"5.17.0\"))\n        .then(() => maybeLoadScript(\"vega-embed\", \"6\"))\n        .catch(showError)\n        .then(() => displayChart(vegaEmbed));\n    }\n  })({\"config\": {\"view\": {\"continuousWidth\": 300, \"continuousHeight\": 300}}, \"data\": {\"name\": \"data-7a5acd705897b16d5b322c2d9ff4d5c4\"}, \"mark\": {\"type\": \"arc\"}, \"encoding\": {\"color\": {\"field\": \"genres\", \"type\": \"nominal\"}, \"theta\": {\"field\": \"percentage\", \"stack\": true, \"type\": \"quantitative\"}, \"tooltip\": [{\"field\": \"genres\", \"title\": \"Genre\", \"type\": \"nominal\"}, {\"field\": \"percentage\", \"format\": \".2f\", \"title\": \"Percentage\", \"type\": \"quantitative\"}]}, \"params\": [{\"name\": \"param_63\", \"select\": {\"type\": \"interval\", \"encodings\": [\"x\", \"y\"]}, \"bind\": \"scales\"}], \"title\": \"Genres Distribution\", \"$schema\": \"https://vega.github.io/schema/vega-lite/v5.17.0.json\", \"datasets\": {\"data-7a5acd705897b16d5b322c2d9ff4d5c4\": [{\"genres\": \"Drama\", \"count\": 20265, \"percentage\": 22.243320966785944}, {\"genres\": \"Comedy\", \"count\": 13182, \"percentage\": 14.46886044826905}, {\"genres\": \"Thriller\", \"count\": 7624, \"percentage\": 8.368274317827586}, {\"genres\": \"Romance\", \"count\": 6735, \"percentage\": 7.392487871270828}, {\"genres\": \"Action\", \"count\": 6596, \"percentage\": 7.2399183368823135}, {\"genres\": \"Horror\", \"count\": 4673, \"percentage\": 5.129190174082936}, {\"genres\": \"Crime\", \"count\": 4307, \"percentage\": 4.727460320944833}, {\"genres\": \"Documentary\", \"count\": 3932, \"percentage\": 4.315851864860712}, {\"genres\": \"Adventure\", \"count\": 3496, \"percentage\": 3.837288433253573}, {\"genres\": \"Science Fiction\", \"count\": 3049, \"percentage\": 3.3466511536012997}, {\"genres\": \"Family\", \"count\": 2770, \"percentage\": 3.040414462274713}, {\"genres\": \"Mystery\", \"count\": 2467, \"percentage\": 2.7078348297587427}, {\"genres\": \"Fantasy\", \"count\": 2313, \"percentage\": 2.5388009571268633}, {\"genres\": \"Animation\", \"count\": 1935, \"percentage\": 2.1238996333940685}, {\"genres\": \"Foreign\", \"count\": 1622, \"percentage\": 1.7803437753825215}, {\"genres\": \"Music\", \"count\": 1598, \"percentage\": 1.754000834193138}, {\"genres\": \"History\", \"count\": 1398, \"percentage\": 1.534476324281606}, {\"genres\": \"War\", \"count\": 1323, \"percentage\": 1.4521546330647817}, {\"genres\": \"Western\", \"count\": 1042, \"percentage\": 1.1437226966390797}, {\"genres\": \"TV Movie\", \"count\": 767, \"percentage\": 0.8418764955107239}, {\"genres\": \"Odyssey Media\", \"count\": 1, \"percentage\": 0.001097622549557658}, {\"genres\": \"Pulser Productions\", \"count\": 1, \"percentage\": 0.001097622549557658}, {\"genres\": \"Rogue State\", \"count\": 1, \"percentage\": 0.001097622549557658}, {\"genres\": \"GoHands\", \"count\": 1, \"percentage\": 0.001097622549557658}, {\"genres\": \"Carousel Productions\", \"count\": 1, \"percentage\": 0.001097622549557658}, {\"genres\": \"Sentai Filmworks\", \"count\": 1, \"percentage\": 0.001097622549557658}, {\"genres\": \"Telescene Film Group Productions\", \"count\": 1, \"percentage\": 0.001097622549557658}, {\"genres\": \"The Cartel\", \"count\": 1, \"percentage\": 0.001097622549557658}, {\"genres\": \"BROSTA TV\", \"count\": 1, \"percentage\": 0.001097622549557658}, {\"genres\": \"Vision View Entertainment\", \"count\": 1, \"percentage\": 0.001097622549557658}, {\"genres\": \"Aniplex\", \"count\": 1, \"percentage\": 0.001097622549557658}, {\"genres\": \"Mardock Scramble Production Committee\", \"count\": 1, \"percentage\": 0.001097622549557658}]}}, {\"mode\": \"vega-lite\"});\n</script>",
      "text/plain": "alt.Chart(...)"
     },
     "execution_count": 207,
     "metadata": {},
     "output_type": "execute_result"
    }
   ],
   "source": [
    "# plot the genres distribution\n",
    "alt.Chart(movies_metadata_genres_exploded).mark_arc().encode(\n",
    "    theta=alt.Theta(field='percentage', type='quantitative', stack=True),\n",
    "    color=alt.Color(field='genres', type='nominal'),\n",
    "    tooltip=[alt.Tooltip('genres', title='Genre'), alt.Tooltip('percentage', format='.2f', title='Percentage')]\n",
    ").properties(\n",
    "    title='Genres Distribution'\n",
    ").interactive()"
   ]
  },
  {
   "cell_type": "markdown",
   "id": "a313061b",
   "metadata": {},
   "source": [
    "### Visualition #2: Genres Distribution and Top Movies"
   ]
  },
  {
   "cell_type": "code",
   "execution_count": 208,
   "id": "53e2fb0b",
   "metadata": {},
   "outputs": [],
   "source": [
    "credits = pd.read_csv('./The_Movies_Dataset/credits.csv', low_memory=False)\n",
    "movies_metadata['id'] = pd.to_numeric(movies_metadata['id'], errors='coerce')\n",
    "credits['id'] = pd.to_numeric(credits['id'], errors='coerce')\n",
    "movies_metadata_credits = movies_metadata.merge(credits, on='id')\n",
    "# Calculating the average rating for each movie is not enough. We need to calculate the weighted rating for each movie.\n",
    "# https://math.stackexchange.com/questions/169032/understanding-the-imdb-weighted-rating-function-for-usage-on-my-own-website\n",
    "# Weighted Rating (WR) = (v ÷ (v+m)) × R + (m ÷ (v+m)) × C\n",
    "\n",
    "# v = number of votes for the movie\n",
    "# m = minimum votes required to be listed in the chart\n",
    "# R = average rating of the movie\n",
    "# C = mean vote across the whole report\n",
    "\n",
    "C = movies_metadata_credits['vote_average'].mean()\n",
    "m = movies_metadata_credits['vote_count'].quantile(0.90)\n",
    "\n",
    "# filter out movies that have less than m votes\n",
    "movies_metadata_credits = movies_metadata_credits[movies_metadata_credits['vote_count'] >= m]\n",
    "\n",
    "# calculate the score\n",
    "movies_metadata_credits['score'] = (\n",
    "    (movies_metadata_credits['vote_count'] / (movies_metadata_credits['vote_count'] + m)) * movies_metadata_credits['vote_average'] +\n",
    "    (m / (movies_metadata_credits['vote_count'] + m)) * C\n",
    ")"
   ]
  },
  {
   "cell_type": "code",
   "execution_count": 209,
   "id": "12f3edd2",
   "metadata": {},
   "outputs": [],
   "source": [
    "movies_metadata_credits['genres'] = (\n",
    "    movies_metadata_credits['genres']\n",
    "    .fillna('[]')\n",
    "    .apply(literal_eval)\n",
    "    .apply(lambda x: [i['name'] for i in x] if isinstance(x, list) else [])\n",
    ")\n",
    "genres = movies_metadata_credits.explode('genres')\n",
    "genres = genres.groupby('genres').size().reset_index(name='count')\n",
    "genres['score'] = genres['genres'].apply(\n",
    "    lambda x: movies_metadata_credits[\n",
    "        movies_metadata_credits['genres'].apply(lambda y: x in y)\n",
    "    ]['score'].mean()\n",
    ")\n",
    "genres['percentage'] = genres['count'] / genres['count'].sum() * 100\n",
    "genres['top_movies'] = genres['genres'].apply(\n",
    "    lambda x: ' '.join(\n",
    "        f\"{i + 1}. {title}\"\n",
    "        for i, title in enumerate(\n",
    "            movies_metadata_credits[\n",
    "                movies_metadata_credits['genres'].apply(lambda y: x in y)\n",
    "            ]\n",
    "            .sort_values('score', ascending=False)['title']\n",
    "            .head(10)\n",
    "        )\n",
    "    )\n",
    ")"
   ]
  },
  {
   "cell_type": "code",
   "execution_count": 210,
   "id": "6f24937c",
   "metadata": {},
   "outputs": [
    {
     "data": {
      "text/html": "\n<style>\n  #altair-viz-d8e43253951442b7a8aa64cb32d4d138.vega-embed {\n    width: 100%;\n    display: flex;\n  }\n\n  #altair-viz-d8e43253951442b7a8aa64cb32d4d138.vega-embed details,\n  #altair-viz-d8e43253951442b7a8aa64cb32d4d138.vega-embed details summary {\n    position: relative;\n  }\n</style>\n<div id=\"altair-viz-d8e43253951442b7a8aa64cb32d4d138\"></div>\n<script type=\"text/javascript\">\n  var VEGA_DEBUG = (typeof VEGA_DEBUG == \"undefined\") ? {} : VEGA_DEBUG;\n  (function(spec, embedOpt){\n    let outputDiv = document.currentScript.previousElementSibling;\n    if (outputDiv.id !== \"altair-viz-d8e43253951442b7a8aa64cb32d4d138\") {\n      outputDiv = document.getElementById(\"altair-viz-d8e43253951442b7a8aa64cb32d4d138\");\n    }\n    const paths = {\n      \"vega\": \"https://cdn.jsdelivr.net/npm/vega@5?noext\",\n      \"vega-lib\": \"https://cdn.jsdelivr.net/npm/vega-lib?noext\",\n      \"vega-lite\": \"https://cdn.jsdelivr.net/npm/vega-lite@5.17.0?noext\",\n      \"vega-embed\": \"https://cdn.jsdelivr.net/npm/vega-embed@6?noext\",\n    };\n\n    function maybeLoadScript(lib, version) {\n      var key = `${lib.replace(\"-\", \"\")}_version`;\n      return (VEGA_DEBUG[key] == version) ?\n        Promise.resolve(paths[lib]) :\n        new Promise(function(resolve, reject) {\n          var s = document.createElement('script');\n          document.getElementsByTagName(\"head\")[0].appendChild(s);\n          s.async = true;\n          s.onload = () => {\n            VEGA_DEBUG[key] = version;\n            return resolve(paths[lib]);\n          };\n          s.onerror = () => reject(`Error loading script: ${paths[lib]}`);\n          s.src = paths[lib];\n        });\n    }\n\n    function showError(err) {\n      outputDiv.innerHTML = `<div class=\"error\" style=\"color:red;\">${err}</div>`;\n      throw err;\n    }\n\n    function displayChart(vegaEmbed) {\n      vegaEmbed(outputDiv, spec, embedOpt)\n        .catch(err => showError(`Javascript Error: ${err.message}<br>This usually means there's a typo in your chart specification. See the javascript console for the full traceback.`));\n    }\n\n    if(typeof define === \"function\" && define.amd) {\n      requirejs.config({paths});\n      require([\"vega-embed\"], displayChart, err => showError(`Error loading script: ${err.message}`));\n    } else {\n      maybeLoadScript(\"vega\", \"5\")\n        .then(() => maybeLoadScript(\"vega-lite\", \"5.17.0\"))\n        .then(() => maybeLoadScript(\"vega-embed\", \"6\"))\n        .catch(showError)\n        .then(() => displayChart(vegaEmbed));\n    }\n  })({\"config\": {\"view\": {\"continuousWidth\": 300, \"continuousHeight\": 300}}, \"data\": {\"name\": \"data-c7e71c6d53259da9ebc31dac8d24724f\"}, \"mark\": {\"type\": \"arc\"}, \"encoding\": {\"color\": {\"field\": \"genres\", \"type\": \"nominal\"}, \"order\": {\"field\": \"count\", \"sort\": \"descending\", \"type\": \"quantitative\"}, \"theta\": {\"field\": \"percentage\", \"stack\": true, \"type\": \"quantitative\"}, \"tooltip\": [{\"field\": \"genres\", \"title\": \"Genre\", \"type\": \"nominal\"}, {\"field\": \"percentage\", \"format\": \".2f\", \"title\": \"Percentage\", \"type\": \"quantitative\"}, {\"field\": \"top_movies\", \"title\": \"Top Movies\", \"type\": \"nominal\"}]}, \"params\": [{\"name\": \"param_64\", \"select\": {\"type\": \"interval\", \"encodings\": [\"x\", \"y\"]}, \"bind\": \"scales\"}], \"title\": \"Genres Distribution and Top Movies\", \"$schema\": \"https://vega.github.io/schema/vega-lite/v5.17.0.json\", \"datasets\": {\"data-c7e71c6d53259da9ebc31dac8d24724f\": [{\"genres\": \"Action\", \"count\": 1176, \"score\": 6.14032683671411, \"percentage\": 9.769876215003737, \"top_movies\": \"1. The Dark Knight 2. The Empire Strikes Back 3. Inception 4. The Lord of the Rings: The Return of the King 5. Star Wars 6. The Lord of the Rings: The Fellowship of the Ring 7. The Lord of the Rings: The Two Towers 8. Scarface 9. Guardians of the Galaxy 10. The Matrix\"}, {\"genres\": \"Adventure\", \"count\": 885, \"score\": 6.24249574681646, \"percentage\": 7.352330314862507, \"top_movies\": \"1. Spirited Away 2. The Empire Strikes Back 3. Inception 4. Interstellar 5. The Lord of the Rings: The Return of the King 6. Star Wars 7. Howl's Moving Castle 8. Princess Mononoke 9. The Lord of the Rings: The Fellowship of the Ring 10. The Lord of the Rings: The Two Towers\"}, {\"genres\": \"Animation\", \"count\": 370, \"score\": 6.48212339550624, \"percentage\": 3.073855611863421, \"top_movies\": \"1. Spirited Away 2. Your Name. 3. Howl's Moving Castle 4. Princess Mononoke 5. The Lion King 6. Inside Out 7. Grave of the Fireflies 8. My Neighbor Totoro 9. Up 10. WALL\\u00b7E\"}, {\"genres\": \"Comedy\", \"count\": 1591, \"score\": 6.124103331478091, \"percentage\": 13.21757913101271, \"top_movies\": \"1. Dilwale Dulhania Le Jayenge 2. Life Is Beautiful 3. Forrest Gump 4. The Intouchables 5. Back to the Future 6. The Grand Budapest Hotel 7. The Wolf of Wall Street 8. Inside Out 9. La La Land 10. Dr. Strangelove or: How I Learned to Stop Worrying and Love the Bomb\"}, {\"genres\": \"Crime\", \"count\": 747, \"score\": 6.335401829372328, \"percentage\": 6.20586524881615, \"top_movies\": \"1. The Shawshank Redemption 2. The Godfather 3. The Dark Knight 4. Pulp Fiction 5. The Godfather: Part II 6. Leon: The Professional 7. The Green Mile 8. GoodFellas 9. Se7en 10. The Silence of the Lambs\"}, {\"genres\": \"Documentary\", \"count\": 43, \"score\": 6.640978601231809, \"percentage\": 0.35723186840574894, \"top_movies\": \"1. Citizenfour 2. Blackfish 3. Planet Earth 4. Senna 5. Searching for Sugar Man 6. Amy 7. The Cove 8. Going Clear: Scientology and the Prison of Belief 9. One Direction: This Is Us 10. Inside Job\"}, {\"genres\": \"Drama\", \"count\": 1992, \"score\": 6.4904170201383105, \"percentage\": 16.548973996843067, \"top_movies\": \"1. The Shawshank Redemption 2. The Godfather 3. Dilwale Dulhania Le Jayenge 4. The Dark Knight 5. Fight Club 6. Schindler's List 7. Whiplash 8. Life Is Beautiful 9. The Godfather: Part II 10. One Flew Over the Cuckoo's Nest\"}, {\"genres\": \"Family\", \"count\": 541, \"score\": 6.245337421301623, \"percentage\": 4.4944753676165154, \"top_movies\": \"1. Spirited Away 2. Back to the Future 3. The Lion King 4. Inside Out 5. Harry Potter and the Deathly Hallows: Part 2 6. My Neighbor Totoro 7. Up 8. WALL\\u00b7E 9. Big Hero 6 10. It's a Wonderful Life\"}, {\"genres\": \"Fantasy\", \"count\": 516, \"score\": 6.225767863757777, \"percentage\": 4.286782420868987, \"top_movies\": \"1. Spirited Away 2. The Green Mile 3. The Lord of the Rings: The Return of the King 4. Howl's Moving Castle 5. Princess Mononoke 6. The Lord of the Rings: The Fellowship of the Ring 7. The Lord of the Rings: The Two Towers 8. Harry Potter and the Deathly Hallows: Part 2 9. My Neighbor Totoro 10. It's a Wonderful Life\"}, {\"genres\": \"History\", \"count\": 161, \"score\": 6.626792682445996, \"percentage\": 1.3375425770540832, \"top_movies\": \"1. Schindler's List 2. The Imitation Game 3. Saving Private Ryan 4. 12 Years a Slave 5. Dallas Buyers Club 6. Hacksaw Ridge 7. Spotlight 8. Braveheart 9. Amadeus 10. The Elephant Man\"}, {\"genres\": \"Horror\", \"count\": 572, \"score\": 5.939149434133186, \"percentage\": 4.752014621583451, \"top_movies\": \"1. Psycho 2. The Shining 3. Alien 4. The Thing 5. Aliens 6. Train to Busan 7. Jaws 8. Shaun of the Dead 9. The Exorcist 10. The Conjuring\"}, {\"genres\": \"Music\", \"count\": 123, \"score\": 6.4336171377755464, \"percentage\": 1.02184929799784, \"top_movies\": \"1. La La Land 2. Sing Street 3. Amadeus 4. Singin' in the Rain 5. Straight Outta Compton 6. Beauty and the Beast 7. The Blues Brothers 8. Moulin Rouge! 9. Pitch Perfect 10. The Sound of Music\"}, {\"genres\": \"Mystery\", \"count\": 401, \"score\": 6.326470556321798, \"percentage\": 3.3313948658303567, \"top_movies\": \"1. Inception 2. Se7en 3. Memento 4. Rear Window 5. The Prestige 6. Gone Girl 7. Oldboy 8. 2001: A Space Odyssey 9. Shutter Island 10. Citizen Kane\"}, {\"genres\": \"Romance\", \"count\": 704, \"score\": 6.320627696052669, \"percentage\": 5.848633380410401, \"top_movies\": \"1. Dilwale Dulhania Le Jayenge 2. Forrest Gump 3. Your Name. 4. La La Land 5. Her 6. Eternal Sunshine of the Spotless Mind 7. Cinema Paradiso 8. Vertigo 9. Am\\u00e9lie 10. The Theory of Everything\"}, {\"genres\": \"Science Fiction\", \"count\": 588, \"score\": 6.193821775540929, \"percentage\": 4.884938107501869, \"top_movies\": \"1. The Empire Strikes Back 2. Inception 3. Interstellar 4. Star Wars 5. Back to the Future 6. A Clockwork Orange 7. Guardians of the Galaxy 8. The Matrix 9. Return of the Jedi 10. Alien\"}, {\"genres\": \"TV Movie\", \"count\": 13, \"score\": 6.046233279389357, \"percentage\": 0.1080003323087148, \"top_movies\": \"1. Black Mirror: White Christmas 2. Before the Flood 3. Duel 4. Descendants 2 5. High School Musical 6. StarStruck 7. Camp Rock 8. Teen Beach Movie 9. Geek Charming 10. Ice Age: A Mammoth Christmas\"}, {\"genres\": \"Thriller\", \"count\": 1407, \"score\": 6.174366611282802, \"percentage\": 11.688959042950902, \"top_movies\": \"1. The Dark Knight 2. Pulp Fiction 3. Psycho 4. Leon: The Professional 5. Inception 6. Se7en 7. The Silence of the Lambs 8. Memento 9. The Shining 10. Reservoir Dogs\"}, {\"genres\": \"War\", \"count\": 137, \"score\": 6.657579718228505, \"percentage\": 1.138157348176456, \"top_movies\": \"1. Schindler's List 2. The Imitation Game 3. The Pianist 4. Inglourious Basterds 5. Grave of the Fireflies 6. Apocalypse Now 7. Saving Private Ryan 8. Full Metal Jacket 9. Dr. Strangelove or: How I Learned to Stop Worrying and Love the Bomb 10. Band of Brothers\"}, {\"genres\": \"Western\", \"count\": 70, \"score\": 6.490674835859895, \"percentage\": 0.5815402508930797, \"top_movies\": \"1. The Good, the Bad and the Ugly 2. Once Upon a Time in the West 3. Django Unchained 4. The Hateful Eight 5. For a Few Dollars More 6. Unforgiven 7. Dances with Wolves 8. A Fistful of Dollars 9. The Revenant 10. Spirit: Stallion of the Cimarron\"}]}}, {\"mode\": \"vega-lite\"});\n</script>",
      "text/plain": "alt.Chart(...)"
     },
     "execution_count": 210,
     "metadata": {},
     "output_type": "execute_result"
    }
   ],
   "source": [
    "# plot the genres distribution and show top 10 movies as a tooltip\n",
    "alt.Chart(genres).mark_arc().encode(\n",
    "    theta=alt.Theta(field='percentage', type='quantitative', stack=True),\n",
    "    color=alt.Color(field='genres', type='nominal'),\n",
    "    tooltip=[alt.Tooltip('genres', title='Genre'), alt.Tooltip('percentage', format='.2f', title='Percentage'), alt.Tooltip('top_movies', title='Top Movies')],\n",
    "    order=alt.Order('count', sort='descending')\n",
    ").properties(\n",
    "    title='Genres Distribution and Top Movies'\n",
    ").interactive()"
   ]
  },
  {
   "cell_type": "markdown",
   "id": "cb7baabd",
   "metadata": {},
   "source": [
    "### Visualition #3: Recommendation System"
   ]
  },
  {
   "cell_type": "code",
   "execution_count": 211,
   "id": "e9d6e4b1",
   "metadata": {},
   "outputs": [],
   "source": [
    "import os\n",
    "from sentence_transformers import SentenceTransformer\n",
    "\n",
    "model_name = 'all-MiniLM-L6-v2'\n",
    "model_directory = './models'\n",
    "\n",
    "# Create the models directory if it doesn't exist\n",
    "os.makedirs(model_directory, exist_ok=True)\n",
    "\n",
    "model_path = os.path.join(model_directory, model_name)\n",
    "\n",
    "# Check if the model is already saved on disk\n",
    "if os.path.exists(model_path):\n",
    "    # Load the model from disk\n",
    "    model = SentenceTransformer(model_path)\n",
    "else:\n",
    "    # Download the model and save it to disk\n",
    "    model = SentenceTransformer(model_name)\n",
    "    model.save(model_path)"
   ]
  },
  {
   "cell_type": "code",
   "execution_count": 212,
   "id": "b987e5fc",
   "metadata": {},
   "outputs": [],
   "source": [
    "import numpy as np\n",
    "from sklearn.metrics.pairwise import cosine_similarity\n",
    "\n",
    "movies_metadata_overview = movies_metadata[['id', 'title', 'overview', 'popularity', 'vote_average']].copy()\n",
    "# cache the embeddings in a folder\n",
    "embeddings_directory = './embeddings'\n",
    "os.makedirs(embeddings_directory, exist_ok=True)\n",
    "if os.path.exists(os.path.join(embeddings_directory, 'movies_metadata_overview_embeddings.npy')):\n",
    "    embeddings = np.load(os.path.join(embeddings_directory, 'movies_metadata_overview_embeddings.npy'))\n",
    "else:\n",
    "    # Generate the embeddings\n",
    "    embeddings = model.encode(movies_metadata_overview['overview'].astype(str).tolist())\n",
    "    # Save the embeddings to disk\n",
    "    np.save(os.path.join(embeddings_directory, 'movies_metadata_overview_embeddings.npy'), embeddings)"
   ]
  },
  {
   "cell_type": "code",
   "execution_count": 213,
   "id": "d4f1cdf2",
   "metadata": {},
   "outputs": [
    {
     "data": {
      "text/html": "\n<style>\n  #altair-viz-92676f676ff347138b0362d2f8415fb5.vega-embed {\n    width: 100%;\n    display: flex;\n  }\n\n  #altair-viz-92676f676ff347138b0362d2f8415fb5.vega-embed details,\n  #altair-viz-92676f676ff347138b0362d2f8415fb5.vega-embed details summary {\n    position: relative;\n  }\n</style>\n<div id=\"altair-viz-92676f676ff347138b0362d2f8415fb5\"></div>\n<script type=\"text/javascript\">\n  var VEGA_DEBUG = (typeof VEGA_DEBUG == \"undefined\") ? {} : VEGA_DEBUG;\n  (function(spec, embedOpt){\n    let outputDiv = document.currentScript.previousElementSibling;\n    if (outputDiv.id !== \"altair-viz-92676f676ff347138b0362d2f8415fb5\") {\n      outputDiv = document.getElementById(\"altair-viz-92676f676ff347138b0362d2f8415fb5\");\n    }\n    const paths = {\n      \"vega\": \"https://cdn.jsdelivr.net/npm/vega@5?noext\",\n      \"vega-lib\": \"https://cdn.jsdelivr.net/npm/vega-lib?noext\",\n      \"vega-lite\": \"https://cdn.jsdelivr.net/npm/vega-lite@5.17.0?noext\",\n      \"vega-embed\": \"https://cdn.jsdelivr.net/npm/vega-embed@6?noext\",\n    };\n\n    function maybeLoadScript(lib, version) {\n      var key = `${lib.replace(\"-\", \"\")}_version`;\n      return (VEGA_DEBUG[key] == version) ?\n        Promise.resolve(paths[lib]) :\n        new Promise(function(resolve, reject) {\n          var s = document.createElement('script');\n          document.getElementsByTagName(\"head\")[0].appendChild(s);\n          s.async = true;\n          s.onload = () => {\n            VEGA_DEBUG[key] = version;\n            return resolve(paths[lib]);\n          };\n          s.onerror = () => reject(`Error loading script: ${paths[lib]}`);\n          s.src = paths[lib];\n        });\n    }\n\n    function showError(err) {\n      outputDiv.innerHTML = `<div class=\"error\" style=\"color:red;\">${err}</div>`;\n      throw err;\n    }\n\n    function displayChart(vegaEmbed) {\n      vegaEmbed(outputDiv, spec, embedOpt)\n        .catch(err => showError(`Javascript Error: ${err.message}<br>This usually means there's a typo in your chart specification. See the javascript console for the full traceback.`));\n    }\n\n    if(typeof define === \"function\" && define.amd) {\n      requirejs.config({paths});\n      require([\"vega-embed\"], displayChart, err => showError(`Error loading script: ${err.message}`));\n    } else {\n      maybeLoadScript(\"vega\", \"5\")\n        .then(() => maybeLoadScript(\"vega-lite\", \"5.17.0\"))\n        .then(() => maybeLoadScript(\"vega-embed\", \"6\"))\n        .catch(showError)\n        .then(() => displayChart(vegaEmbed));\n    }\n  })({\"config\": {\"view\": {\"continuousWidth\": 300, \"continuousHeight\": 300}}, \"data\": {\"name\": \"data-db4389282b570057c6e3a34d7d3a7213\"}, \"mark\": {\"type\": \"point\"}, \"encoding\": {\"color\": {\"field\": \"title\", \"title\": \"Title\", \"type\": \"nominal\"}, \"tooltip\": [{\"field\": \"title\", \"type\": \"nominal\"}, {\"field\": \"overview\", \"type\": \"nominal\"}], \"x\": {\"field\": \"popularity\", \"title\": \"Popularity\", \"type\": \"quantitative\"}, \"y\": {\"field\": \"vote_average\", \"title\": \"Vote Average\", \"type\": \"quantitative\"}}, \"height\": 400, \"params\": [{\"name\": \"param_65\", \"select\": {\"type\": \"point\", \"fields\": [\"query_title\"]}, \"bind\": {\"input\": \"select\", \"options\": [\"Heat\", \"The Bridges of Madison County\", \"Assassins\", \"Apollo 13\", \"Miracle on 34th Street\"], \"name\": \" \"}, \"value\": \"Heat\"}, {\"name\": \"param_66\", \"select\": {\"type\": \"interval\", \"encodings\": [\"x\", \"y\"]}, \"bind\": \"scales\"}], \"title\": \"Similar Movies to Selected Movie\", \"transform\": [{\"filter\": {\"param\": \"param_65\"}}], \"width\": 600, \"$schema\": \"https://vega.github.io/schema/vega-lite/v5.17.0.json\", \"datasets\": {\"data-db4389282b570057c6e3a34d7d3a7213\": [{\"id\": 11657.0, \"title\": \"Le Cercle Rouge\", \"overview\": \"Master thief Corey is fresh out of prison. But instead of toeing the line of law-abiding freedom, he finds his steps leading back to the shadowy world of crime, crossing those of a notorious escapee and alcoholic ex-cop. As the unlikely trio plots a heist against impossible odds, their trail is pursued by a relentless inspector, and fate seals their destinies.\", \"popularity\": 6.62, \"vote_average\": 7.6, \"query_title\": \"Heat\"}, {\"id\": 23168.0, \"title\": \"The Town\", \"overview\": \"Doug MacRay is a longtime thief, who, smarter than the rest of his crew, is looking for his chance to exit the game. When a bank job leads to the group kidnapping an attractive branch manager, he takes on the role of monitoring her \\u2013 but their burgeoning relationship threatens to unveil the identities of Doug and his crew to the FBI Agent who is on their case.\", \"popularity\": 13.08, \"vote_average\": 7.0, \"query_title\": \"Heat\"}, {\"id\": 67899.0, \"title\": \"Thick as Thieves\", \"overview\": \"Two master thieves go at odds with one another as one sets the other up for a crime. The first, a suave pro who does his job and then hides in his own privacy, listening to old jazz records and caring for his ailing dog, Wally. The other is a local gangster with a taste for the finer life, who decides to eliminate the competition. This ignites a war between the two men and their aides. An angry mob boss and a female police officer try to sort the mess before things get too out of hand.\", \"popularity\": 1.25, \"vote_average\": 5.3, \"query_title\": \"Heat\"}, {\"id\": 13741.0, \"title\": \"2 Alone in Paris\", \"overview\": \"A bumbling Paris policeman is doggedly determined to capture the master thief that repeatedly eludes him, even when they're the last two men on Earth.\", \"popularity\": 4.62, \"vote_average\": 5.1, \"query_title\": \"Heat\"}, {\"id\": 98085.0, \"title\": \"Operation Kid Brother\", \"overview\": \"The evil crime syndicate Thanatos is bent on taking over the world, using a magnetic wave generator that will cause all metal-based machinery to grind to a halt. However, the well-known British secret agent normally assigned to such tasks isn't available, so they engage his civilian brother, Neil, to help. Neil, played by Neil Connery, is a world-class plastic surgeon, hypnotist, and lip-reader, which turn out to be precisely the skills required for thwarting Thanatos.\", \"popularity\": 0.59, \"vote_average\": 5.1, \"query_title\": \"Heat\"}, {\"id\": 66.0, \"title\": \"Absolute Power\", \"overview\": \"A master thief coincidentally is robbing a house where a murder in which the President of The United States is involved occurs in front of his eyes. He is forced to run yet may hold evidence that could convict the President. A political thriller from and starring Clint Eastwood and based on a novel by David Baldacci.\", \"popularity\": 7.66, \"vote_average\": 6.4, \"query_title\": \"Heat\"}, {\"id\": 57269.0, \"title\": \"Sidekick\", \"overview\": \"Mild-mannered computer consultant Norman Neale has two great loves in this cruel world: Comic books and his office's effervescent main receptionist, Andrea Hicks. Norman spends his days dreaming of Andrea from the isolation of his cubicle and his nights dreaming of fighting crime from the solitude of his apartment. Then one fateful day Norman discovers that a fellow co-worker, Victor Ventura, a swaggering, pretty-boy salesman, has slight telekinetic abilities beyond his understanding. After discussing his mind-blowing discovery with his only friend Chuck, a know-it-all comic book store owner, Norman comes to the outlandish conclusion that he should train Victor to become a real-life superhero by helping him refine and expand his extraordinary ability.\", \"popularity\": 0.04, \"vote_average\": 7.0, \"query_title\": \"Heat\"}, {\"id\": 14527.0, \"title\": \"Foolproof\", \"overview\": \"Kevin, Sam and Rob have an unusual hobby: planning foolproof heists, without intending to actually perform them. The game goes wrong when their latest plan is stolen and carried out. Things get even worse when a mysterious man approaches them with an offer: plan a heist for him, or go to jail. As the clock ticks, they find that the risk might be higher than just their freedom.\", \"popularity\": 7.47, \"vote_average\": 6.3, \"query_title\": \"Heat\"}, {\"id\": 119283.0, \"title\": \"Parker\", \"overview\": \"A thief with a unique code of professional ethics is double-crossed by his crew and left for dead. Assuming a new disguise and forming an unlikely alliance with a woman on the inside, he looks to hijack the score of the crew's latest heist.\", \"popularity\": 13.96, \"vote_average\": 5.7, \"query_title\": \"Heat\"}, {\"id\": 72460.0, \"title\": \"Harry in Your Pocket\", \"overview\": \"A master thief (James Coburn) and his drug-addicted partner teach two aspiring crooks (Michael Sarrazin, Trish Van Devere) how to steal wallets.\", \"popularity\": 0.85, \"vote_average\": 6.1, \"query_title\": \"Heat\"}, {\"id\": 24874.0, \"title\": \"Dark Mirror\", \"overview\": \"The story about a photographer who moves her family into a home filled with mirrors which seem to reflect a different reality.\", \"popularity\": 2.12, \"vote_average\": 4.5, \"query_title\": \"The Bridges of Madison County\"}, {\"id\": 66135.0, \"title\": \"The Cry of the Owl\", \"overview\": \"Robert is an architect and artist, in Vichy after separating from his Parisian wife. Robert finds it calms him to stand in the shadows of the home of Juliette and Patrick and watch her cook. She thinks he's a prowler and confronts him, then invites him in...\", \"popularity\": 0.86, \"vote_average\": 5.5, \"query_title\": \"The Bridges of Madison County\"}, {\"id\": 328844.0, \"title\": \"Eloquent Nude: The Love and Legacy of Edward Weston & Charis Wilson\", \"overview\": \"She was beautiful, smart, and searching. He was an emerging genius in the world of photography. When they met, they fell instantly in love. Setting off across the West with camera and typewriter in the depths of the Great Depression, Charis Wilson and Edward Weston transformed photography, and each other. Now age 90, Charis Wilson recounts her years with Weston with great humor, candor, and some regret. Combining insight from leading scholars, rare archival images, and convincingly authentic reenactments, Eloquent Nude presents a remarkable true story of love and loss, travel and adventure, and an intimate look at the making of Modern photography. Written by Anonymous\", \"popularity\": 0.0, \"vote_average\": 0.0, \"query_title\": \"The Bridges of Madison County\"}, {\"id\": 12223.0, \"title\": \"The Stepford Wives\", \"overview\": \"The urban aspirant photographer Joanna Eberhart moves from Manhattan to Stepford, Connecticut with her family. Her husband Walter Eberhart decided to live in a calm suburb, but Joanna did not like the neighborhood with beautiful and perfect housewives. She becomes friend of Bobbie Markowe and Charmaine Wimperis, and when they change Joanna tries to escape.\", \"popularity\": 3.95, \"vote_average\": 6.7, \"query_title\": \"The Bridges of Madison County\"}, {\"id\": 112618.0, \"title\": \"The Bride Walks Out\", \"overview\": \"Barbara Stanwyck takes top-billing as Carolyn Martin, a fashion model who hastily marries her boyfriend, engineer Michael Martin (Gene Raymond). But part of the marriage arrangement requires that Carolyn quit her $50-per-week modeling job to be a full-time housewife; the couple will instead live on Michael\\u2019s $35-per-week job.\", \"popularity\": 0.27, \"vote_average\": 4.1, \"query_title\": \"The Bridges of Madison County\"}, {\"id\": 121903.0, \"title\": \"Tender Is the Night\", \"overview\": \"Director Henry King's 1962 film adaptation of the F. Scott Fitzgerald novel stars Jennifer Jones, Jason Robards Jr., Joan Fontaine, Tom Ewell, Paul Lukas and Jill St. John.\", \"popularity\": 0.24, \"vote_average\": 0.0, \"query_title\": \"The Bridges of Madison County\"}, {\"id\": 10185.0, \"title\": \"The Midnight Meat Train\", \"overview\": \"The photographer Leon lives with his girlfriend and waitress Maya waiting for a chance to get in the photo business. When Maya contacts their friend Jurgis, he schedules a meeting for Leon with the successful owner of arts gallery Susan Hoff; she analyzes Leon's work and asks him to improve the quality of his photos. During the night, the upset Leon decides to wander on the streets taking pictures with his camera, and he follows three punks down to the subway station; when the gang attacks a young woman, Leon defends her and the guys move on. On the next morning, Leon discovers that the woman is missing. He goes to the police station, but Detective Lynn Hadley does not give much attention to him and discredits his statement. Leon becomes obsessed to find what happened with the stranger and he watches the subway station. When he sees the elegant butcher Mahogany in the train, Leon believes he might be a murderer and stalks him everywhere, in the beginning of his journey to the darkness.\", \"popularity\": 13.39, \"vote_average\": 6.0, \"query_title\": \"The Bridges of Madison County\"}, {\"id\": 91207.0, \"title\": \"A Woman's Tale\", \"overview\": \"Uplifting and intimate look at the last days of an elderly cancer victim. The film is even more relevant as it was written specifically for the lead actress, Sheila Florance, who was in fact dying of cancer as she created what is essentially a self-portrait.\", \"popularity\": 0.11, \"vote_average\": 4.3, \"query_title\": \"The Bridges of Madison County\"}, {\"id\": 75400.0, \"title\": \"Henri Cartier-Bresson: The Impassioned Eye\", \"overview\": \"Heinz B\\u00fctler interviews Henri Cartier-Bresson (1908-2004) late in life. Cartier-Bresson pulls out photographs, comments briefly, and holds them up to B\\u00fctler's camera. A few others share observations, including Isabelle Huppert, Arthur Miller, and Josef Koudelka. Cartier-Bresson talks about his travels, including Mexico in the 1930s, imprisonment during World War II, being with Gandhi moments before his assassination, and returning to sketching late in life. He shows us examples. He talks about becoming and being a photographer, about composition, and about some of his secrets to capture the moment.\", \"popularity\": 0.14, \"vote_average\": 7.8, \"query_title\": \"The Bridges of Madison County\"}, {\"id\": 340584.0, \"title\": \"Lavender\", \"overview\": \"A photographer struggling with memory loss discovers her pictures may indicate something sinister is hitting close to home.\", \"popularity\": 3.53, \"vote_average\": 5.5, \"query_title\": \"The Bridges of Madison County\"}, {\"id\": 32008.0, \"title\": \"Blast of Silence\", \"overview\": \"A hired killer from Cleveland has a job to do on a second-string mob boss in New York. But a special girl from his past, and a fat gun dealer with pet rats, each gets in his way.\", \"popularity\": 0.68, \"vote_average\": 7.4, \"query_title\": \"Assassins\"}, {\"id\": 22672.0, \"title\": \"Sharpshooter\", \"overview\": \"An assassin working for the CIA decides to take one final job before quitting only to find out that he is the target of his CIA boss.\", \"popularity\": 9.4, \"vote_average\": 4.5, \"query_title\": \"Assassins\"}, {\"id\": 326057.0, \"title\": \"Assassin\", \"overview\": \"Ruthless killer for hire breaks the rules of his profession and falls for a beautiful young woman. Discovering the notorious gangland brothers had hired him to kill her father, his world breaks down and he must turn against his criminal employers and their gang to save the woman he loves.\", \"popularity\": 1.78, \"vote_average\": 3.8, \"query_title\": \"Assassins\"}, {\"id\": 26010.0, \"title\": \"Legendary Assassin\", \"overview\": \"An assassin who is fresh from his latest kill becomes stranded in an island, when he inadvertently befriends a female police officer. As the night progresses, the unspoken truth honored by the two sides of the law is broken. After the remains of a body that belonged to a drug lord and syndicate crime leader are found, chaos ensues and criminals ravage the once peaceful streets in a race against time to find the mysterious murderer that's loose and out for blood.\", \"popularity\": 3.41, \"vote_average\": 6.2, \"query_title\": \"Assassins\"}, {\"id\": 24.0, \"title\": \"Kill Bill: Vol. 1\", \"overview\": \"An assassin is shot at the altar by her ruthless employer, Bill and other members of their assassination circle \\u2013 but 'The Bride' lives to plot her vengeance. Setting out for some payback, she makes a death list and hunts down those who wronged her, saving Bill for last.\", \"popularity\": 25.26, \"vote_average\": 7.7, \"query_title\": \"Assassins\"}, {\"id\": 48153.0, \"title\": \"The Outside Man\", \"overview\": \"A French hit man is hired by a crime family to end the life of a rival mobster, but things fall apart when the boss who hired him is killed.\", \"popularity\": 0.24, \"vote_average\": 6.8, \"query_title\": \"Assassins\"}, {\"id\": 331110.0, \"title\": \"Sicarivs: The Night and the Silence\", \"overview\": \"A hit man receives the assignment to kill a woman. But what seems as another job complicates when he is about to execute her, but does not. He will have to go after those who gave him the contract, for, in his profession, those who do not comply with their duty end up dead. But the question remains, why did he not kill the woman?\", \"popularity\": 0.65, \"vote_average\": 7.3, \"query_title\": \"Assassins\"}, {\"id\": 80520.0, \"title\": \"Second Nature\", \"overview\": \"Everything is not as it seems for a man who recovers from a plane crash in which his family is killed. After plastic surgery and rehabilitation, he determines that he worked for a secret agency for which he was an assassin. His former boss puts him back to work to assassinate a political leader, but when he proves unable to pull the trigger, it is he who becomes the target for assassins. As he avoids capture, the story unfolds about his true past and the reason why he has a tattoo of \\\"chilly willy\\\" inside his lip.\", \"popularity\": 1.0, \"vote_average\": 5.3, \"query_title\": \"Assassins\"}, {\"id\": 290729.0, \"title\": \"Sniper: Legacy\", \"overview\": \"A rogue gunman is assassinating high-ranking military officers one by one. When Gunnery Sgt. Brandon Beckett is informed his father, legendary shooter Thomas Beckett has been killed, Brandon springs into action to take out the perpetrator. But when his father rescues him from an ambush, Brandon realizes he's a pawn being played by his superiors to draw out the killer. It's up to the two men, bound by blood, to bring an end to the carnage.\", \"popularity\": 3.54, \"vote_average\": 5.5, \"query_title\": \"Assassins\"}, {\"id\": 62684.0, \"title\": \"Snowman's Land\", \"overview\": \"When the wife of a crime boss is accidentally killed, the hit man who was hired to protect the remote house in which she was living tries to keep her death under wraps. Fearing vengeance from the gangster, he's soon locked in a fight for survival.\", \"popularity\": 0.35, \"vote_average\": 5.6, \"query_title\": \"Assassins\"}, {\"id\": 128857.0, \"title\": \"Apollo 13: To the Edge and Back\", \"overview\": \"Apollo 13: To the Edge and Back tells the gripping, true story of the catastrophic flight of the Apollo 13 and the heroic struggle to bring the astronauts back alive. With first-hand accounts from the pilots, their families, and the people of mission control, it documents a thrilling struggle against time and all odds and serves as a reminder that, in the words of James Lovell, \\\"We do not realize what we have on Earth until we leave it.\\\"\", \"popularity\": 0.0, \"vote_average\": 0.0, \"query_title\": \"Apollo 13\"}, {\"id\": 295087.0, \"title\": \"Bangkok, We Have A Problem!\", \"overview\": \"Serge Renart, a television journalist who's now a has-been, and Natacha Bison, a war reporter who has been laid off because she posed too much of a danger to her colleagues, find themselves forced to investigate a story together, which will take them to Thailand, in search of one of the best kept secrets of contemporary history.\\n What really happened during the televised broadcast of the Apollo 11 mission, when man first walked on the moon?\", \"popularity\": 3.0, \"vote_average\": 4.9, \"query_title\": \"Apollo 13\"}, {\"id\": 276537.0, \"title\": \"The Last Man on the Moon\", \"overview\": \"The 1960s was an extraordinary time for the United States. Unburdened by post-war reparations, Americans were preoccupied with other developments like NASA, the game-changing space programme that put Neil Armstrong on the moon. Yet it was astronauts like Eugene Cernan who paved the uneven, perilous path to lunar exploration. A test pilot who lived to court danger, he was recruited along with 14 other men in a secretive process that saw them become the closest of friends and adversaries. In this intensely competitive environment, Cernan was one of only three men who was sent twice to the moon, with his second trip also being NASA\\u2019s final lunar mission. As he looks back at what he loved and lost during the eight years in Houston, an incomparably eventful life emerges into view. Director Mark Craig crafts a quietly epic biography that combines the rare insight of the surviving former astronauts with archival footage and otherworldly moonscapes.\", \"popularity\": 1.12, \"vote_average\": 6.3, \"query_title\": \"Apollo 13\"}, {\"id\": 47868.0, \"title\": \"The First Men in the Moon\", \"overview\": \"Mark Gatiss's adaptation of HG Wells's science fiction classic. July 1969, and as the world waits with bated breath for the Apollo astronauts to land on the Moon, a young boy meets 90-year-old Julius Bedford. He's a man with an extraordinary story of how, way back in 1909, he got to the Moon first, and, together with the eccentric Professor Cavor, discovered a terrifying secret deep beneath its seemingly-barren surface.\", \"popularity\": 1.44, \"vote_average\": 5.5, \"query_title\": \"Apollo 13\"}, {\"id\": 44578.0, \"title\": \"Moonshot, the Flight of Apollo 11\", \"overview\": \"Man's landing on the moon was our greatest technological achievement. The Apollo 11 mission was truly the stuff of dreams. For the first time, our species walked on another celestial body. Even more remarkable was their ability to make it back. This is the story of the July 20, 1969, Apollo 11 moon landing. Drama with digitally remastered original footage.\", \"popularity\": 1.18, \"vote_average\": 5.9, \"query_title\": \"Apollo 13\"}, {\"id\": 30983.0, \"title\": \"From the Earth to the Moon\", \"overview\": \"Tom Hanks, Imagine Entertainment and HBO present From the Earth to the Moon, the dramatic story of the unforgettable Apollo missions and their heroic astronauts, from President John F. Kennedy's historic speech, through the first manned expeditions into space, to the defining moment of the space program - putting a man on the moon.  \\\"One small step for man...one giant leap for mankind.\\\"  Powerfully told as never before through the unforgettable performances of Cary Elwes, Sally Field, Chris Isaak and many more, these are the stories of the men, women and children who lived, breathed and manufactured from the power of human will one of the greatest achievements in the history of mankind.\", \"popularity\": 3.22, \"vote_average\": 8.4, \"query_title\": \"Apollo 13\"}, {\"id\": 50357.0, \"title\": \"Apollo 18\", \"overview\": \"Officially, Apollo 17 was the last manned mission to the moon. But a year later in 1973, three American astronauts were sent on a secret mission to the moon funded by the US Department of Defense. What you are about to see is the actual footage which the astronauts captured on that mission. While NASA denies it's authenticity, others say it's the real reason we've never gone back to the moon.\", \"popularity\": 10.71, \"vote_average\": 5.0, \"query_title\": \"Apollo 13\"}, {\"id\": 5257.0, \"title\": \"The Dish\", \"overview\": \"The true story of how the Parkes Radio Telescope was used to relay the live television of man's first steps on the moon, during the Apollo 11 mission in 1969.\", \"popularity\": 6.26, \"vote_average\": 6.6, \"query_title\": \"Apollo 13\"}, {\"id\": 98355.0, \"title\": \"The Space Movie\", \"overview\": \"1969's Apollo 11 mission to the moon is highlighted in this tribute to the history of the United States' space program.\", \"popularity\": 0.12, \"vote_average\": 3.8, \"query_title\": \"Apollo 13\"}, {\"id\": 3007.0, \"title\": \"Woman in the Moon\", \"overview\": \"A scientist discovers that there's gold on the moon, he builds a rocket to fly there, but there's too much rivalry among the crew to have a sucessful expedition.\", \"popularity\": 1.24, \"vote_average\": 6.7, \"query_title\": \"Apollo 13\"}, {\"id\": 73576.0, \"title\": \"Mermaid\", \"overview\": \"The fanciful tale of an introverted little girl who grows up believing she has the power to make wishes come true. She must reconcile this belief with reality when, as a young woman, she journeys to Moscow and grapples with love, modernity and materialism.\", \"popularity\": 1.42, \"vote_average\": 6.3, \"query_title\": \"Miracle on 34th Street\"}, {\"id\": 81416.0, \"title\": \"Annie Claus is Coming to Town\", \"overview\": \"This year, Santa\\u2019s daughter (Maria Thayer) takes her first trip away from the North Pole during the Christmas season hoping to find adventure and love in sunny California. While Santa watches his daughter through a magic snow globe, Annie arrives in L.A. and becomes friends with the owner of Candy Cane Inn, Lucy (Vivica A. Fox), and her daughter, Mia (Nay Nay Kirby). She also quickly lands a job at Wonderland Toys. Wonderland Toys\\u2019 owner, Ted (Sam Page) is struggling to stay in business selling old-fashioned toys in a digital world. Annie soon realizes that she wants Ted\\u2019s business to thrive because she has feelings for this Christmas traditionalist.\", \"popularity\": 0.37, \"vote_average\": 5.9, \"query_title\": \"Miracle on 34th Street\"}, {\"id\": 26990.0, \"title\": \"The Perfect Holiday\", \"overview\": \"A young girl turns to a department store Santa in the hopes that he will help find a new husband for her divorced mother.\", \"popularity\": 1.38, \"vote_average\": 5.7, \"query_title\": \"Miracle on 34th Street\"}, {\"id\": 35297.0, \"title\": \"Daisy Diamond\", \"overview\": \"A tragic story about Anna who dreams of one thing only: making it as an actress. She moves from Sweden to Copenhagen to pursue her dream. But fate has something else in store for her. Though she struggles to give her 4 month old daughter a good start in life, she ultimately fails to unite her dream of acting with a safe and loving environment for her child, culminating in a desperate act that has fatal consequences for Anna and her daughter.\", \"popularity\": 0.48, \"vote_average\": 6.0, \"query_title\": \"Miracle on 34th Street\"}, {\"id\": 40205.0, \"title\": \"16 Wishes\", \"overview\": \"The story about Abby Jensen, a girl who's been eager to reach her 16th birthday and has kept a secret wish list since she was a little girl. When the Big Day actually arrives, utter disaster strikes, leaving Abby to think her birthday is ruined. But when a mysterious box of magical birthday candles arrives to turn things around, Abby's 16 Wishes start to come true. Her day gets better and better...until she makes one wish that threatens to change everything.\", \"popularity\": 4.87, \"vote_average\": 5.5, \"query_title\": \"Miracle on 34th Street\"}, {\"id\": 437311.0, \"title\": \"Orbiter 9\", \"overview\": \"A girl discovers that the reality of her life isn't as she believes.\", \"popularity\": 9.68, \"vote_average\": 5.5, \"query_title\": \"Miracle on 34th Street\"}, {\"id\": 329010.0, \"title\": \"Emelie\", \"overview\": \"After their regular babysitter Maggie can\\u2019t make it, the Thompson family turns to her friend Anna to supervise their children while the parents go out to celebrate their anniversary. At first Anna seems like a dream come true to the kids, allowing them to eat extra cookies and play with things that are usually off-limits, but as her behavior becomes increasingly odd, the kids soon find out that her intentions are dark and twisted, and she is not who she seems to be.\", \"popularity\": 5.54, \"vote_average\": 5.4, \"query_title\": \"Miracle on 34th Street\"}, {\"id\": 376549.0, \"title\": \"The Strange House\", \"overview\": \"A young girl pretends to be the deceased granddaughter of an ailing grandmother soon to celebrate her birthday. The aged woman does not know her granddaughter has died; thinking she has only left, and the young girl, with her remarkable resemblance, is asked by the family to accompany the grandmother in her last days; posing as her granddaughter in order to cheer her up for her anniversary. The young girl suddenly experiences horrific visions of the dead granddaughter, and her life is threatened when the rest of the family suddenly conspires to kill her. Now in danger, she seeks the truth about the dead girl, while slowly succumbing to insanity as illusion and reality merge.\", \"popularity\": 1.7, \"vote_average\": 5.5, \"query_title\": \"Miracle on 34th Street\"}, {\"id\": 32622.0, \"title\": \"Angela\", \"overview\": \"A ten year old girl named Angela leads her six year old sister, Ellie, through various regimens of 'purification' in an attempt to rid themselves of their evil, which she believes to be the cause of their mother's mental illness. Precocious, to say the least, Angela has visions of Lucifer coming to take her and her sister away, and one of her remedies for this is for them to remain within a circle of their dolls and toys until they see a vision of the virgin Mary come to them. But such thinking can only lead to an ending befitting of her own mental state.\", \"popularity\": 2.2, \"vote_average\": 5.6, \"query_title\": \"Miracle on 34th Street\"}, {\"id\": 145312.0, \"title\": \"Dear Santa\", \"overview\": \"Crystal, a rich party girl, finds a little girl's letter to Santa asking for a new mother, and she vows to win over the father and daughter before the holidays.\", \"popularity\": 4.74, \"vote_average\": 6.8, \"query_title\": \"Miracle on 34th Street\"}]}}, {\"mode\": \"vega-lite\"});\n</script>",
      "text/plain": "alt.Chart(...)"
     },
     "execution_count": 213,
     "metadata": {},
     "output_type": "execute_result"
    }
   ],
   "source": [
    "# Function to find similar movies\n",
    "def find_similar_movies(movie_title, top_n=10):\n",
    "    idx = movies_metadata_overview[movies_metadata_overview['title'] == movie_title].index[0]\n",
    "    query_embedding = embeddings[idx].reshape(1, -1)\n",
    "\n",
    "    # Calculate cosine similarity between the query and all movie embeddings\n",
    "    similarities = cosine_similarity(query_embedding, embeddings).flatten()\n",
    "\n",
    "    # Get the top N similar movies\n",
    "    similar_indices = similarities.argsort()[::-1][1:top_n+1]\n",
    "    similar_movies = movies_metadata_overview.iloc[similar_indices]\n",
    "\n",
    "    return similar_movies\n",
    "\n",
    "# pick 5 movies from the top 100 movies\n",
    "filtered_movies = movies_metadata_credits.head(100).sample(5)\n",
    "similar_movies = pd.concat([find_similar_movies(movie_title).assign(query_title=movie_title) for movie_title in filtered_movies['title']])\n",
    "similar_movies = similar_movies.copy()\n",
    "similar_movies['popularity'] = similar_movies['popularity'].astype(float).round(2)\n",
    "\n",
    "dropdown_symbol = alt.binding_select(options=list(similar_movies[\"query_title\"].unique()), name=\" \")\n",
    "selection_symbol = alt.selection_point(fields=[\"query_title\"], bind=dropdown_symbol, value=filtered_movies['title'].values[0])\n",
    "\n",
    "# display the similar movies on a chart\n",
    "alt.Chart(similar_movies).mark_point().encode(\n",
    "    alt.X('popularity', title='Popularity'),\n",
    "    alt.Y('vote_average', title='Vote Average'),\n",
    "    alt.Color('title', title='Title'),\n",
    "    tooltip=['title', 'overview']\n",
    ").add_params(\n",
    "    selection_symbol\n",
    ").transform_filter(\n",
    "    selection_symbol\n",
    ").properties(\n",
    "    title='Similar Movies to Selected Movie',\n",
    "    width=600,\n",
    "    height=400,\n",
    ").interactive()"
   ]
  },
  {
   "cell_type": "markdown",
   "id": "e643ae62",
   "metadata": {},
   "source": [
    "### Visualition #4: Genres Distribution by Decade"
   ]
  },
  {
   "cell_type": "code",
   "execution_count": 214,
   "id": "9ea9e2a8",
   "metadata": {},
   "outputs": [
    {
     "data": {
      "text/html": "\n<style>\n  #altair-viz-4f1b93aa3928496596a7e5dba54ee8b5.vega-embed {\n    width: 100%;\n    display: flex;\n  }\n\n  #altair-viz-4f1b93aa3928496596a7e5dba54ee8b5.vega-embed details,\n  #altair-viz-4f1b93aa3928496596a7e5dba54ee8b5.vega-embed details summary {\n    position: relative;\n  }\n</style>\n<div id=\"altair-viz-4f1b93aa3928496596a7e5dba54ee8b5\"></div>\n<script type=\"text/javascript\">\n  var VEGA_DEBUG = (typeof VEGA_DEBUG == \"undefined\") ? {} : VEGA_DEBUG;\n  (function(spec, embedOpt){\n    let outputDiv = document.currentScript.previousElementSibling;\n    if (outputDiv.id !== \"altair-viz-4f1b93aa3928496596a7e5dba54ee8b5\") {\n      outputDiv = document.getElementById(\"altair-viz-4f1b93aa3928496596a7e5dba54ee8b5\");\n    }\n    const paths = {\n      \"vega\": \"https://cdn.jsdelivr.net/npm/vega@5?noext\",\n      \"vega-lib\": \"https://cdn.jsdelivr.net/npm/vega-lib?noext\",\n      \"vega-lite\": \"https://cdn.jsdelivr.net/npm/vega-lite@5.17.0?noext\",\n      \"vega-embed\": \"https://cdn.jsdelivr.net/npm/vega-embed@6?noext\",\n    };\n\n    function maybeLoadScript(lib, version) {\n      var key = `${lib.replace(\"-\", \"\")}_version`;\n      return (VEGA_DEBUG[key] == version) ?\n        Promise.resolve(paths[lib]) :\n        new Promise(function(resolve, reject) {\n          var s = document.createElement('script');\n          document.getElementsByTagName(\"head\")[0].appendChild(s);\n          s.async = true;\n          s.onload = () => {\n            VEGA_DEBUG[key] = version;\n            return resolve(paths[lib]);\n          };\n          s.onerror = () => reject(`Error loading script: ${paths[lib]}`);\n          s.src = paths[lib];\n        });\n    }\n\n    function showError(err) {\n      outputDiv.innerHTML = `<div class=\"error\" style=\"color:red;\">${err}</div>`;\n      throw err;\n    }\n\n    function displayChart(vegaEmbed) {\n      vegaEmbed(outputDiv, spec, embedOpt)\n        .catch(err => showError(`Javascript Error: ${err.message}<br>This usually means there's a typo in your chart specification. See the javascript console for the full traceback.`));\n    }\n\n    if(typeof define === \"function\" && define.amd) {\n      requirejs.config({paths});\n      require([\"vega-embed\"], displayChart, err => showError(`Error loading script: ${err.message}`));\n    } else {\n      maybeLoadScript(\"vega\", \"5\")\n        .then(() => maybeLoadScript(\"vega-lite\", \"5.17.0\"))\n        .then(() => maybeLoadScript(\"vega-embed\", \"6\"))\n        .catch(showError)\n        .then(() => displayChart(vegaEmbed));\n    }\n  })({\"config\": {\"view\": {\"continuousWidth\": 300, \"continuousHeight\": 300}}, \"data\": {\"name\": \"data-9d3889547a3350a8c84b838f082c8804\"}, \"mark\": {\"type\": \"bar\"}, \"encoding\": {\"color\": {\"field\": \"genres\", \"title\": \"Genre\", \"type\": \"nominal\"}, \"tooltip\": [{\"field\": \"genres\", \"title\": \"Genre\", \"type\": \"nominal\"}, {\"field\": \"count\", \"format\": \".2f\", \"title\": \"Count\", \"type\": \"quantitative\"}], \"x\": {\"field\": \"genres\", \"sort\": \"-y\", \"title\": \"Genre\", \"type\": \"nominal\"}, \"y\": {\"field\": \"count\", \"title\": \"Count\", \"type\": \"quantitative\"}}, \"height\": 400, \"params\": [{\"name\": \"param_67\", \"select\": {\"type\": \"point\", \"fields\": [\"year\"]}, \"bind\": {\"input\": \"range\", \"max\": 2010, \"min\": 1900, \"name\": \"Year:\", \"step\": 10}, \"value\": {\"year\": 1900}}, {\"name\": \"param_68\", \"select\": {\"type\": \"interval\", \"encodings\": [\"x\", \"y\"]}, \"bind\": \"scales\"}], \"title\": \"Genres Distribution\", \"transform\": [{\"filter\": {\"param\": \"param_67\"}}], \"width\": 600, \"$schema\": \"https://vega.github.io/schema/vega-lite/v5.17.0.json\", \"datasets\": {\"data-9d3889547a3350a8c84b838f082c8804\": [{\"genres\": \"Drama\", \"year\": 2000, \"count\": 5282, \"percentage\": 5.802100268025836}, {\"genres\": \"Drama\", \"year\": 2010, \"count\": 5183, \"percentage\": 5.693352080495629}, {\"genres\": \"Comedy\", \"year\": 2010, \"count\": 3537, \"percentage\": 3.885276154488334}, {\"genres\": \"Comedy\", \"year\": 2000, \"count\": 3380, \"percentage\": 3.712816907596995}, {\"genres\": \"Drama\", \"year\": 1990, \"count\": 2613, \"percentage\": 2.870293070873061}, {\"genres\": \"Thriller\", \"year\": 2010, \"count\": 2363, \"percentage\": 2.5956764356957684}, {\"genres\": \"Thriller\", \"year\": 2000, \"count\": 2169, \"percentage\": 2.3825739267981896}, {\"genres\": \"Documentary\", \"year\": 2010, \"count\": 1883, \"percentage\": 2.0684124961553674}, {\"genres\": \"Comedy\", \"year\": 1990, \"count\": 1853, \"percentage\": 2.035458499934092}, {\"genres\": \"Romance\", \"year\": 2000, \"count\": 1767, \"percentage\": 1.9409903774331032}, {\"genres\": \"Action\", \"year\": 2000, \"count\": 1720, \"percentage\": 1.8893624500197725}, {\"genres\": \"Action\", \"year\": 2010, \"count\": 1616, \"percentage\": 1.7751219297860186}, {\"genres\": \"Drama\", \"year\": 1980, \"count\": 1553, \"percentage\": 1.705918537721341}, {\"genres\": \"Drama\", \"year\": 1970, \"count\": 1508, \"percentage\": 1.6564875433894284}, {\"genres\": \"Romance\", \"year\": 2010, \"count\": 1448, \"percentage\": 1.590579550946878}, {\"genres\": \"Horror\", \"year\": 2010, \"count\": 1370, \"percentage\": 1.504899160771563}, {\"genres\": \"Comedy\", \"year\": 1980, \"count\": 1297, \"percentage\": 1.4247111032997934}, {\"genres\": \"Drama\", \"year\": 1960, \"count\": 1212, \"percentage\": 1.331341447339514}, {\"genres\": \"Documentary\", \"year\": 2000, \"count\": 1197, \"percentage\": 1.3148644492288764}, {\"genres\": \"Horror\", \"year\": 2000, \"count\": 1161, \"percentage\": 1.2753196537633464}, {\"genres\": \"Drama\", \"year\": 1950, \"count\": 1065, \"percentage\": 1.169866865855266}, {\"genres\": \"Thriller\", \"year\": 1990, \"count\": 1049, \"percentage\": 1.1522914012039194}, {\"genres\": \"Crime\", \"year\": 2000, \"count\": 1004, \"percentage\": 1.1028604068720067}, {\"genres\": \"Action\", \"year\": 1990, \"count\": 995, \"percentage\": 1.0929742080056242}, {\"genres\": \"Romance\", \"year\": 1990, \"count\": 995, \"percentage\": 1.0929742080056242}, {\"genres\": \"Crime\", \"year\": 2010, \"count\": 929, \"percentage\": 1.0204754163188188}, {\"genres\": \"Comedy\", \"year\": 1970, \"count\": 839, \"percentage\": 0.9216134276549937}, {\"genres\": \"Adventure\", \"year\": 2000, \"count\": 828, \"percentage\": 0.9095302957071928}, {\"genres\": \"Science Fiction\", \"year\": 2010, \"count\": 798, \"percentage\": 0.8765762994859175}, {\"genres\": \"Family\", \"year\": 2000, \"count\": 798, \"percentage\": 0.8765762994859175}, {\"genres\": \"Foreign\", \"year\": 2000, \"count\": 786, \"percentage\": 0.8633947009974077}, {\"genres\": \"Adventure\", \"year\": 2010, \"count\": 784, \"percentage\": 0.8611977679159893}, {\"genres\": \"Drama\", \"year\": 1940, \"count\": 781, \"percentage\": 0.8579023682938617}, {\"genres\": \"Science Fiction\", \"year\": 2000, \"count\": 740, \"percentage\": 0.8128652401247858}, {\"genres\": \"Comedy\", \"year\": 1960, \"count\": 723, \"percentage\": 0.7941913089327299}, {\"genres\": \"Family\", \"year\": 2010, \"count\": 723, \"percentage\": 0.7941913089327299}, {\"genres\": \"Action\", \"year\": 1980, \"count\": 713, \"percentage\": 0.7832066435256382}, {\"genres\": \"Drama\", \"year\": 1930, \"count\": 707, \"percentage\": 0.7766158442813832}, {\"genres\": \"Action\", \"year\": 1970, \"count\": 651, \"percentage\": 0.7151017180016697}, {\"genres\": \"Horror\", \"year\": 1980, \"count\": 643, \"percentage\": 0.7063139856759962}, {\"genres\": \"Mystery\", \"year\": 2010, \"count\": 612, \"percentage\": 0.6722615229140121}, {\"genres\": \"Mystery\", \"year\": 2000, \"count\": 606, \"percentage\": 0.665670723669757}, {\"genres\": \"Animation\", \"year\": 2010, \"count\": 604, \"percentage\": 0.6634737905883387}, {\"genres\": \"Thriller\", \"year\": 1980, \"count\": 600, \"percentage\": 0.659079924425502}, {\"genres\": \"Thriller\", \"year\": 1970, \"count\": 596, \"percentage\": 0.6546860582626653}, {\"genres\": \"Crime\", \"year\": 1990, \"count\": 585, \"percentage\": 0.6426029263148644}, {\"genres\": \"Animation\", \"year\": 2000, \"count\": 579, \"percentage\": 0.6360121270706095}, {\"genres\": \"Fantasy\", \"year\": 2000, \"count\": 569, \"percentage\": 0.6250274616635177}, {\"genres\": \"Fantasy\", \"year\": 2010, \"count\": 561, \"percentage\": 0.6162397293378444}, {\"genres\": \"Romance\", \"year\": 1980, \"count\": 542, \"percentage\": 0.5953688650643701}, {\"genres\": \"Horror\", \"year\": 1970, \"count\": 499, \"percentage\": 0.5481348038138758}, {\"genres\": \"Family\", \"year\": 1990, \"count\": 485, \"percentage\": 0.5327562722439475}, {\"genres\": \"Adventure\", \"year\": 1990, \"count\": 485, \"percentage\": 0.5327562722439475}, {\"genres\": \"Science Fiction\", \"year\": 1990, \"count\": 482, \"percentage\": 0.52946087262182}, {\"genres\": \"Horror\", \"year\": 1990, \"count\": 465, \"percentage\": 0.5107869414297641}, {\"genres\": \"Comedy\", \"year\": 1950, \"count\": 463, \"percentage\": 0.5085900083483457}, {\"genres\": \"Crime\", \"year\": 1970, \"count\": 451, \"percentage\": 0.4954084098598357}, {\"genres\": \"Comedy\", \"year\": 1930, \"count\": 446, \"percentage\": 0.4899160771562898}, {\"genres\": \"Comedy\", \"year\": 1940, \"count\": 409, \"percentage\": 0.4492728151500505}, {\"genres\": \"Romance\", \"year\": 1930, \"count\": 406, \"percentage\": 0.445977415527923}, {\"genres\": \"Science Fiction\", \"year\": 1980, \"count\": 404, \"percentage\": 0.44378048244650464}, {\"genres\": \"Romance\", \"year\": 1950, \"count\": 399, \"percentage\": 0.43828814974295877}, {\"genres\": \"Adventure\", \"year\": 1980, \"count\": 390, \"percentage\": 0.4284019508765763}, {\"genres\": \"Crime\", \"year\": 1980, \"count\": 389, \"percentage\": 0.4273034843358671}, {\"genres\": \"Romance\", \"year\": 1960, \"count\": 379, \"percentage\": 0.4163188189287755}, {\"genres\": \"History\", \"year\": 2010, \"count\": 378, \"percentage\": 0.4152203523880663}, {\"genres\": \"Romance\", \"year\": 1940, \"count\": 378, \"percentage\": 0.4152203523880663}, {\"genres\": \"Action\", \"year\": 1960, \"count\": 372, \"percentage\": 0.4086295531438112}, {\"genres\": \"Fantasy\", \"year\": 1990, \"count\": 362, \"percentage\": 0.3976448877367195}, {\"genres\": \"Music\", \"year\": 2000, \"count\": 357, \"percentage\": 0.3921525550331737}, {\"genres\": \"Music\", \"year\": 2010, \"count\": 351, \"percentage\": 0.38556175578891866}, {\"genres\": \"History\", \"year\": 2000, \"count\": 316, \"percentage\": 0.34711542686409774}, {\"genres\": \"Fantasy\", \"year\": 1980, \"count\": 307, \"percentage\": 0.3372292279977152}, {\"genres\": \"TV Movie\", \"year\": 2010, \"count\": 303, \"percentage\": 0.3328353618348785}, {\"genres\": \"Romance\", \"year\": 1970, \"count\": 302, \"percentage\": 0.33173689529416933}, {\"genres\": \"Documentary\", \"year\": 1990, \"count\": 292, \"percentage\": 0.32075222988707763}, {\"genres\": \"Adventure\", \"year\": 1960, \"count\": 289, \"percentage\": 0.31745683026495014}, {\"genres\": \"Mystery\", \"year\": 1990, \"count\": 284, \"percentage\": 0.31196449756140426}, {\"genres\": \"Adventure\", \"year\": 1970, \"count\": 270, \"percentage\": 0.2965859659914759}, {\"genres\": \"Crime\", \"year\": 1950, \"count\": 266, \"percentage\": 0.2921920998286392}, {\"genres\": \"Thriller\", \"year\": 1960, \"count\": 266, \"percentage\": 0.2921920998286392}, {\"genres\": \"Drama\", \"year\": 1920, \"count\": 257, \"percentage\": 0.28230590096225666}, {\"genres\": \"Crime\", \"year\": 1960, \"count\": 256, \"percentage\": 0.2812074344215475}, {\"genres\": \"Animation\", \"year\": 1990, \"count\": 256, \"percentage\": 0.2812074344215475}, {\"genres\": \"Family\", \"year\": 1980, \"count\": 254, \"percentage\": 0.2790105013401292}, {\"genres\": \"Action\", \"year\": 1950, \"count\": 248, \"percentage\": 0.27241970209587413}, {\"genres\": \"War\", \"year\": 2010, \"count\": 235, \"percentage\": 0.258139637066655}, {\"genres\": \"Mystery\", \"year\": 1970, \"count\": 233, \"percentage\": 0.2559427039852366}, {\"genres\": \"Thriller\", \"year\": 1940, \"count\": 233, \"percentage\": 0.2559427039852366}, {\"genres\": \"Foreign\", \"year\": 1990, \"count\": 230, \"percentage\": 0.2526473043631091}, {\"genres\": \"Thriller\", \"year\": 1950, \"count\": 229, \"percentage\": 0.2515488378223999}, {\"genres\": \"Horror\", \"year\": 1960, \"count\": 225, \"percentage\": 0.24715497165956327}, {\"genres\": \"Western\", \"year\": 1950, \"count\": 225, \"percentage\": 0.24715497165956327}, {\"genres\": \"Foreign\", \"year\": 2010, \"count\": 224, \"percentage\": 0.24605650511885407}, {\"genres\": \"Crime\", \"year\": 1940, \"count\": 220, \"percentage\": 0.2416626389560174}, {\"genres\": \"War\", \"year\": 2000, \"count\": 215, \"percentage\": 0.23617030625247157}, {\"genres\": \"Science Fiction\", \"year\": 1970, \"count\": 210, \"percentage\": 0.2306779735489257}, {\"genres\": \"Mystery\", \"year\": 1980, \"count\": 208, \"percentage\": 0.2284810404675074}, {\"genres\": \"Adventure\", \"year\": 1950, \"count\": 203, \"percentage\": 0.2229887077639615}, {\"genres\": \"Western\", \"year\": 1960, \"count\": 199, \"percentage\": 0.21859484160112486}, {\"genres\": \"TV Movie\", \"year\": 2000, \"count\": 197, \"percentage\": 0.2163979085197065}, {\"genres\": \"Animation\", \"year\": 1980, \"count\": 189, \"percentage\": 0.20761017619403316}, {\"genres\": \"Science Fiction\", \"year\": 1960, \"count\": 187, \"percentage\": 0.2054132431126148}, {\"genres\": \"Family\", \"year\": 1970, \"count\": 185, \"percentage\": 0.20321631003119645}, {\"genres\": \"Western\", \"year\": 1970, \"count\": 179, \"percentage\": 0.19662551078694143}, {\"genres\": \"Foreign\", \"year\": 1970, \"count\": 170, \"percentage\": 0.1867393119205589}, {\"genres\": \"Mystery\", \"year\": 1940, \"count\": 170, \"percentage\": 0.1867393119205589}, {\"genres\": \"War\", \"year\": 1960, \"count\": 169, \"percentage\": 0.1856408453798497}, {\"genres\": \"Crime\", \"year\": 1930, \"count\": 166, \"percentage\": 0.1823454457577222}, {\"genres\": \"Documentary\", \"year\": 1970, \"count\": 162, \"percentage\": 0.17795157959488553}, {\"genres\": \"Music\", \"year\": 1980, \"count\": 158, \"percentage\": 0.17355771343204887}, {\"genres\": \"Science Fiction\", \"year\": 1950, \"count\": 154, \"percentage\": 0.1691638472692122}, {\"genres\": \"Documentary\", \"year\": 1980, \"count\": 154, \"percentage\": 0.1691638472692122}, {\"genres\": \"History\", \"year\": 1990, \"count\": 153, \"percentage\": 0.16806538072850302}, {\"genres\": \"Music\", \"year\": 1990, \"count\": 150, \"percentage\": 0.1647699811063755}, {\"genres\": \"War\", \"year\": 1950, \"count\": 150, \"percentage\": 0.1647699811063755}, {\"genres\": \"War\", \"year\": 1940, \"count\": 148, \"percentage\": 0.16257304802495715}, {\"genres\": \"Fantasy\", \"year\": 1970, \"count\": 147, \"percentage\": 0.16147458148424798}, {\"genres\": \"Horror\", \"year\": 1950, \"count\": 134, \"percentage\": 0.1471945164550288}, {\"genres\": \"Family\", \"year\": 1960, \"count\": 134, \"percentage\": 0.1471945164550288}, {\"genres\": \"Mystery\", \"year\": 1960, \"count\": 132, \"percentage\": 0.14499758337361043}, {\"genres\": \"Comedy\", \"year\": 1920, \"count\": 129, \"percentage\": 0.1417021837514829}, {\"genres\": \"TV Movie\", \"year\": 1990, \"count\": 128, \"percentage\": 0.14060371721077375}, {\"genres\": \"Action\", \"year\": 1940, \"count\": 124, \"percentage\": 0.13620985104793706}, {\"genres\": \"Mystery\", \"year\": 1930, \"count\": 122, \"percentage\": 0.13401291796651874}, {\"genres\": \"Music\", \"year\": 1970, \"count\": 121, \"percentage\": 0.13291445142580957}, {\"genres\": \"History\", \"year\": 1960, \"count\": 120, \"percentage\": 0.1318159848851004}, {\"genres\": \"Music\", \"year\": 1950, \"count\": 119, \"percentage\": 0.13071751834439121}, {\"genres\": \"Music\", \"year\": 1940, \"count\": 118, \"percentage\": 0.12961905180368208}, {\"genres\": \"War\", \"year\": 1970, \"count\": 117, \"percentage\": 0.1285205852629729}, {\"genres\": \"Fantasy\", \"year\": 1960, \"count\": 116, \"percentage\": 0.12742211872226372}, {\"genres\": \"History\", \"year\": 1970, \"count\": 116, \"percentage\": 0.12742211872226372}, {\"genres\": \"Foreign\", \"year\": 1980, \"count\": 115, \"percentage\": 0.12632365218155456}, {\"genres\": \"Action\", \"year\": 1930, \"count\": 112, \"percentage\": 0.12302825255942704}, {\"genres\": \"War\", \"year\": 1980, \"count\": 111, \"percentage\": 0.12192978601871787}, {\"genres\": \"Music\", \"year\": 1960, \"count\": 108, \"percentage\": 0.11863438639659037}, {\"genres\": \"Adventure\", \"year\": 1930, \"count\": 106, \"percentage\": 0.11643745331517202}, {\"genres\": \"Music\", \"year\": 1930, \"count\": 106, \"percentage\": 0.11643745331517202}, {\"genres\": \"War\", \"year\": 1990, \"count\": 104, \"percentage\": 0.1142405202337537}, {\"genres\": \"History\", \"year\": 1980, \"count\": 103, \"percentage\": 0.11314205369304452}, {\"genres\": \"Romance\", \"year\": 1920, \"count\": 101, \"percentage\": 0.11094512061162616}, {\"genres\": \"Western\", \"year\": 1940, \"count\": 95, \"percentage\": 0.10435432136737113}, {\"genres\": \"Foreign\", \"year\": 1960, \"count\": 94, \"percentage\": 0.10325585482666198}, {\"genres\": \"Thriller\", \"year\": 1930, \"count\": 94, \"percentage\": 0.10325585482666198}, {\"genres\": \"Animation\", \"year\": 1970, \"count\": 92, \"percentage\": 0.10105892174524364}, {\"genres\": \"Adventure\", \"year\": 1940, \"count\": 89, \"percentage\": 0.09776352212311613}, {\"genres\": \"Documentary\", \"year\": 1960, \"count\": 85, \"percentage\": 0.09336965596027945}, {\"genres\": \"Mystery\", \"year\": 1950, \"count\": 84, \"percentage\": 0.09227118941957028}, {\"genres\": \"Western\", \"year\": 2010, \"count\": 82, \"percentage\": 0.09007425633815194}, {\"genres\": \"Drama\", \"year\": 1910, \"count\": 81, \"percentage\": 0.08897578979744276}, {\"genres\": \"Family\", \"year\": 1950, \"count\": 78, \"percentage\": 0.08568039017531526}, {\"genres\": \"History\", \"year\": 1950, \"count\": 76, \"percentage\": 0.08348345709389692}, {\"genres\": \"Fantasy\", \"year\": 1950, \"count\": 72, \"percentage\": 0.07908959093106024}, {\"genres\": \"TV Movie\", \"year\": 1970, \"count\": 70, \"percentage\": 0.0768926578496419}, {\"genres\": \"Western\", \"year\": 1930, \"count\": 69, \"percentage\": 0.07579419130893272}, {\"genres\": \"Horror\", \"year\": 1940, \"count\": 68, \"percentage\": 0.07469572476822356}, {\"genres\": \"Western\", \"year\": 1990, \"count\": 67, \"percentage\": 0.0735972582275144}, {\"genres\": \"Fantasy\", \"year\": 1940, \"count\": 65, \"percentage\": 0.07140032514609605}, {\"genres\": \"Comedy\", \"year\": 1910, \"count\": 65, \"percentage\": 0.07140032514609605}, {\"genres\": \"Western\", \"year\": 2000, \"count\": 62, \"percentage\": 0.06810492552396853}, {\"genres\": \"History\", \"year\": 1930, \"count\": 59, \"percentage\": 0.06480952590184104}, {\"genres\": \"Family\", \"year\": 1940, \"count\": 58, \"percentage\": 0.06371105936113186}, {\"genres\": \"Horror\", \"year\": 1930, \"count\": 57, \"percentage\": 0.06261259282042268}, {\"genres\": \"Animation\", \"year\": 1960, \"count\": 57, \"percentage\": 0.06261259282042268}, {\"genres\": \"TV Movie\", \"year\": 1980, \"count\": 54, \"percentage\": 0.05931719319829518}, {\"genres\": \"War\", \"year\": 1930, \"count\": 53, \"percentage\": 0.05821872665758601}, {\"genres\": \"History\", \"year\": 1940, \"count\": 50, \"percentage\": 0.0549233270354585}, {\"genres\": \"Animation\", \"year\": 1930, \"count\": 49, \"percentage\": 0.053824860494749334}, {\"genres\": \"Animation\", \"year\": 1940, \"count\": 48, \"percentage\": 0.052726393954040156}, {\"genres\": \"Family\", \"year\": 1930, \"count\": 43, \"percentage\": 0.047234061250494314}, {\"genres\": \"Western\", \"year\": 1980, \"count\": 40, \"percentage\": 0.0439386616283668}, {\"genres\": \"Animation\", \"year\": 1950, \"count\": 36, \"percentage\": 0.03954479546553012}, {\"genres\": \"Adventure\", \"year\": 1920, \"count\": 35, \"percentage\": 0.03844632892482095}, {\"genres\": \"Fantasy\", \"year\": 1930, \"count\": 35, \"percentage\": 0.03844632892482095}, {\"genres\": \"Documentary\", \"year\": 1950, \"count\": 35, \"percentage\": 0.03844632892482095}, {\"genres\": \"Comedy\", \"year\": 1900, \"count\": 30, \"percentage\": 0.0329539962212751}, {\"genres\": \"Fantasy\", \"year\": 1900, \"count\": 30, \"percentage\": 0.0329539962212751}, {\"genres\": \"Documentary\", \"year\": 1890, \"count\": 28, \"percentage\": 0.03075706313985676}, {\"genres\": \"Documentary\", \"year\": 1940, \"count\": 28, \"percentage\": 0.03075706313985676}, {\"genres\": \"Horror\", \"year\": 1920, \"count\": 28, \"percentage\": 0.03075706313985676}, {\"genres\": \"Action\", \"year\": 1920, \"count\": 27, \"percentage\": 0.02965859659914759}, {\"genres\": \"Crime\", \"year\": 1920, \"count\": 25, \"percentage\": 0.02746166351772925}, {\"genres\": \"Fantasy\", \"year\": 1920, \"count\": 24, \"percentage\": 0.026363196977020078}, {\"genres\": \"Science Fiction\", \"year\": 1940, \"count\": 24, \"percentage\": 0.026363196977020078}, {\"genres\": \"Science Fiction\", \"year\": 1930, \"count\": 24, \"percentage\": 0.026363196977020078}, {\"genres\": \"Documentary\", \"year\": 1920, \"count\": 21, \"percentage\": 0.02306779735489257}, {\"genres\": \"Thriller\", \"year\": 1920, \"count\": 18, \"percentage\": 0.01977239773276506}, {\"genres\": \"Documentary\", \"year\": 1930, \"count\": 16, \"percentage\": 0.01757546465134672}, {\"genres\": \"Western\", \"year\": 1920, \"count\": 16, \"percentage\": 0.01757546465134672}, {\"genres\": \"History\", \"year\": 1920, \"count\": 16, \"percentage\": 0.01757546465134672}, {\"genres\": \"TV Movie\", \"year\": 1960, \"count\": 14, \"percentage\": 0.01537853156992838}, {\"genres\": \"Romance\", \"year\": 1910, \"count\": 13, \"percentage\": 0.014280065029219212}, {\"genres\": \"War\", \"year\": 1920, \"count\": 13, \"percentage\": 0.014280065029219212}, {\"genres\": \"Documentary\", \"year\": 1900, \"count\": 12, \"percentage\": 0.013181598488510039}, {\"genres\": \"Fantasy\", \"year\": 1910, \"count\": 12, \"percentage\": 0.013181598488510039}, {\"genres\": \"Animation\", \"year\": 1920, \"count\": 12, \"percentage\": 0.013181598488510039}, {\"genres\": \"Fantasy\", \"year\": 1890, \"count\": 12, \"percentage\": 0.013181598488510039}, {\"genres\": \"Comedy\", \"year\": 1890, \"count\": 10, \"percentage\": 0.0109846654070917}, {\"genres\": \"Crime\", \"year\": 1910, \"count\": 10, \"percentage\": 0.0109846654070917}, {\"genres\": \"Adventure\", \"year\": 1910, \"count\": 9, \"percentage\": 0.00988619886638253}, {\"genres\": \"Horror\", \"year\": 1900, \"count\": 9, \"percentage\": 0.00988619886638253}, {\"genres\": \"Mystery\", \"year\": 1920, \"count\": 9, \"percentage\": 0.00988619886638253}, {\"genres\": \"Drama\", \"year\": 1900, \"count\": 9, \"percentage\": 0.00988619886638253}, {\"genres\": \"Science Fiction\", \"year\": 1920, \"count\": 9, \"percentage\": 0.00988619886638253}, {\"genres\": \"Music\", \"year\": 1920, \"count\": 8, \"percentage\": 0.00878773232567336}, {\"genres\": \"History\", \"year\": 1910, \"count\": 7, \"percentage\": 0.00768926578496419}, {\"genres\": \"War\", \"year\": 1910, \"count\": 7, \"percentage\": 0.00768926578496419}, {\"genres\": \"Western\", \"year\": 1910, \"count\": 7, \"percentage\": 0.00768926578496419}, {\"genres\": \"Family\", \"year\": 1920, \"count\": 6, \"percentage\": 0.0065907992442550195}, {\"genres\": \"Animation\", \"year\": 1910, \"count\": 6, \"percentage\": 0.0065907992442550195}, {\"genres\": \"Horror\", \"year\": 1890, \"count\": 6, \"percentage\": 0.0065907992442550195}, {\"genres\": \"Action\", \"year\": 1910, \"count\": 6, \"percentage\": 0.0065907992442550195}, {\"genres\": \"Horror\", \"year\": 1910, \"count\": 5, \"percentage\": 0.00549233270354585}, {\"genres\": \"Action\", \"year\": 1900, \"count\": 5, \"percentage\": 0.00549233270354585}, {\"genres\": \"Science Fiction\", \"year\": 1900, \"count\": 5, \"percentage\": 0.00549233270354585}, {\"genres\": \"Adventure\", \"year\": 1900, \"count\": 5, \"percentage\": 0.00549233270354585}, {\"genres\": \"Crime\", \"year\": 1900, \"count\": 4, \"percentage\": 0.00439386616283668}, {\"genres\": \"Mystery\", \"year\": 1910, \"count\": 4, \"percentage\": 0.00439386616283668}, {\"genres\": \"Documentary\", \"year\": 1880, \"count\": 4, \"percentage\": 0.00439386616283668}, {\"genres\": \"Drama\", \"year\": 1890, \"count\": 4, \"percentage\": 0.00439386616283668}, {\"genres\": \"Animation\", \"year\": 1900, \"count\": 3, \"percentage\": 0.0032953996221275097}, {\"genres\": \"Science Fiction\", \"year\": 1910, \"count\": 3, \"percentage\": 0.0032953996221275097}, {\"genres\": \"Music\", \"year\": 1900, \"count\": 2, \"percentage\": 0.00219693308141834}, {\"genres\": \"Romance\", \"year\": 1900, \"count\": 2, \"percentage\": 0.00219693308141834}, {\"genres\": \"Documentary\", \"year\": 1910, \"count\": 2, \"percentage\": 0.00219693308141834}, {\"genres\": \"Action\", \"year\": 1890, \"count\": 2, \"percentage\": 0.00219693308141834}, {\"genres\": \"History\", \"year\": 1890, \"count\": 2, \"percentage\": 0.00219693308141834}, {\"genres\": \"Family\", \"year\": 1890, \"count\": 2, \"percentage\": 0.00219693308141834}, {\"genres\": \"Foreign\", \"year\": 1950, \"count\": 2, \"percentage\": 0.00219693308141834}, {\"genres\": \"Documentary\", \"year\": 1870, \"count\": 2, \"percentage\": 0.00219693308141834}, {\"genres\": \"Thriller\", \"year\": 1900, \"count\": 2, \"percentage\": 0.00219693308141834}, {\"genres\": \"Science Fiction\", \"year\": 1890, \"count\": 1, \"percentage\": 0.00109846654070917}, {\"genres\": \"Science Fiction\", \"year\": 2020, \"count\": 1, \"percentage\": 0.00109846654070917}, {\"genres\": \"Fantasy\", \"year\": 2020, \"count\": 1, \"percentage\": 0.00109846654070917}, {\"genres\": \"Action\", \"year\": 2020, \"count\": 1, \"percentage\": 0.00109846654070917}, {\"genres\": \"Family\", \"year\": 1900, \"count\": 1, \"percentage\": 0.00109846654070917}, {\"genres\": \"Animation\", \"year\": 1890, \"count\": 1, \"percentage\": 0.00109846654070917}, {\"genres\": \"Family\", \"year\": 1910, \"count\": 1, \"percentage\": 0.00109846654070917}, {\"genres\": \"History\", \"year\": 1900, \"count\": 1, \"percentage\": 0.00109846654070917}, {\"genres\": \"Western\", \"year\": 1900, \"count\": 1, \"percentage\": 0.00109846654070917}, {\"genres\": \"War\", \"year\": 1890, \"count\": 1, \"percentage\": 0.00109846654070917}, {\"genres\": \"Adventure\", \"year\": 2020, \"count\": 1, \"percentage\": 0.00109846654070917}, {\"genres\": \"Romance\", \"year\": 1890, \"count\": 1, \"percentage\": 0.00109846654070917}]}}, {\"mode\": \"vega-lite\"});\n</script>",
      "text/plain": "alt.Chart(...)"
     },
     "execution_count": 214,
     "metadata": {},
     "output_type": "execute_result"
    }
   ],
   "source": [
    "movies_metadata_genres = movies_metadata[['id', 'title', 'genres', 'release_date']].copy()\n",
    "\n",
    "# convert the genres column to a list\n",
    "movies_metadata_genres['genres'] = (\n",
    "    movies_metadata_genres['genres']\n",
    "    .fillna('[]')\n",
    "    .apply(literal_eval)\n",
    "    .apply(lambda x: [i['name'] for i in x] if isinstance(x, list) else [])\n",
    ")\n",
    "\n",
    "movies_metadata_genres['release_date'] = pd.to_datetime(movies_metadata_genres['release_date'], errors='coerce')\n",
    "movies_metadata_genres = movies_metadata_genres[~movies_metadata_genres['release_date'].isna()]\n",
    "# convert year to decade\n",
    "movies_metadata_genres['year'] = (movies_metadata_genres['release_date'].dt.year // 10 * 10).astype(int)\n",
    "\n",
    "genres = movies_metadata_genres.explode('genres')\n",
    "genres = genres.groupby(['genres', 'year']).size().reset_index(name='count')\n",
    "genres = genres.sort_values('count', ascending=False)\n",
    "\n",
    "# Create a selection object for the slider\n",
    "year_slider = alt.binding_range(min=1900, max=2010, step=10, name='Year:')\n",
    "year_select = alt.selection_point(fields=['year'], bind=year_slider, value={'year': 1900})\n",
    "\n",
    "# calculate the percentage\n",
    "genres['percentage'] = genres['count'] / genres['count'].sum() * 100\n",
    "# plot the genres distribution\n",
    "chart = alt.Chart(genres).mark_bar().encode(\n",
    "    x=alt.X('genres', title='Genre', sort='-y'),\n",
    "    y=alt.Y('count', title='Count'),\n",
    "    color=alt.Color('genres', title='Genre'),\n",
    "    tooltip=[alt.Tooltip('genres', title='Genre'), alt.Tooltip('count', format='.2f', title='Count')]\n",
    ").add_params(\n",
    "    year_select\n",
    ").transform_filter(\n",
    "    year_select\n",
    ").properties(\n",
    "    title='Genres Distribution',\n",
    "    width=600,\n",
    "    height=400,\n",
    ").interactive()\n",
    "\n",
    "chart"
   ]
  },
  {
   "cell_type": "markdown",
   "id": "21163d34",
   "metadata": {},
   "source": [
    "### Visualition #5: Countries Distribution"
   ]
  },
  {
   "cell_type": "code",
   "execution_count": 215,
   "id": "42777279",
   "metadata": {},
   "outputs": [],
   "source": [
    "import time\n",
    "import json\n",
    "from ast import literal_eval\n",
    "import requests\n",
    "\n",
    "# extract the country from the production_countries column\n",
    "movies_metadata_countries = movies_metadata[['id', 'title', 'production_countries']].copy()\n",
    "\n",
    "# convert the production_countries column to a list\n",
    "movies_metadata_countries['production_countries'] = (\n",
    "    movies_metadata_countries['production_countries']\n",
    "    .fillna('[]')\n",
    "    .apply(literal_eval)\n",
    "    .apply(lambda x: [i['name'] for i in x] if isinstance(x, list) else [])\n",
    ")\n",
    "\n",
    "# explode the production_countries column\n",
    "movies_metadata_countries = movies_metadata_countries.explode('production_countries')\n",
    "movies_metadata_countries = movies_metadata_countries.groupby('production_countries').size().reset_index(name='count')\n",
    "movies_metadata_countries = movies_metadata_countries.sort_values('count', ascending=False)\n",
    "\n",
    "def fetch_lat_long_data(country):\n",
    "    country_param = country.replace(' ', '%20')\n",
    "    country_filename = country.replace(' ', '_').lower() + '.json'\n",
    "    data_directory = './data'\n",
    "    if os.path.exists(os.path.join(data_directory, country_filename)):\n",
    "        with open(os.path.join(data_directory, country_filename), 'r') as f:\n",
    "            return json.load(f)\n",
    "    else:\n",
    "        lat_long_url = f\"https://geocode.maps.co/search?q={country_param}&api_key=6668f5eb3d464108527128ndi77d74c\"\n",
    "        print('Fetching data for:', country)\n",
    "        response = requests.get(lat_long_url)\n",
    "        if response.status_code == 200:\n",
    "            data = response.json()\n",
    "            with open(os.path.join(data_directory, country_filename), 'w') as f:\n",
    "                json.dump(data, f)\n",
    "            print('Waiting for 5 seconds...')\n",
    "            time.sleep(5)\n",
    "            return data\n",
    "        else:\n",
    "            return None\n",
    "\n",
    "def get_lat_long(country):\n",
    "    data = fetch_lat_long_data(country)\n",
    "    if data:\n",
    "        return data[0]['lat'] + ',' + data[0]['lon']\n",
    "    else:\n",
    "        return None\n",
    "\n",
    "movies_metadata_countries['lat_long'] = movies_metadata_countries.apply(lambda x: get_lat_long(x['production_countries']), axis=1)\n",
    "movies_metadata_countries[['lat', 'long']] = movies_metadata_countries['lat_long'].str.split(',', expand=True)\n",
    "movies_metadata_countries = movies_metadata_countries.drop(columns=['lat_long'])\n",
    "# write the data to a csv file\n",
    "movies_metadata_countries.to_csv('./movies_metadata_countries.csv', index=False)"
   ]
  },
  {
   "cell_type": "code",
   "execution_count": 216,
   "id": "e952d7f4",
   "metadata": {},
   "outputs": [
    {
     "data": {
      "text/html": "\n<style>\n  #altair-viz-109c322b4b2645e294cf0a5e115383a5.vega-embed {\n    width: 100%;\n    display: flex;\n  }\n\n  #altair-viz-109c322b4b2645e294cf0a5e115383a5.vega-embed details,\n  #altair-viz-109c322b4b2645e294cf0a5e115383a5.vega-embed details summary {\n    position: relative;\n  }\n</style>\n<div id=\"altair-viz-109c322b4b2645e294cf0a5e115383a5\"></div>\n<script type=\"text/javascript\">\n  var VEGA_DEBUG = (typeof VEGA_DEBUG == \"undefined\") ? {} : VEGA_DEBUG;\n  (function(spec, embedOpt){\n    let outputDiv = document.currentScript.previousElementSibling;\n    if (outputDiv.id !== \"altair-viz-109c322b4b2645e294cf0a5e115383a5\") {\n      outputDiv = document.getElementById(\"altair-viz-109c322b4b2645e294cf0a5e115383a5\");\n    }\n    const paths = {\n      \"vega\": \"https://cdn.jsdelivr.net/npm/vega@5?noext\",\n      \"vega-lib\": \"https://cdn.jsdelivr.net/npm/vega-lib?noext\",\n      \"vega-lite\": \"https://cdn.jsdelivr.net/npm/vega-lite@5.17.0?noext\",\n      \"vega-embed\": \"https://cdn.jsdelivr.net/npm/vega-embed@6?noext\",\n    };\n\n    function maybeLoadScript(lib, version) {\n      var key = `${lib.replace(\"-\", \"\")}_version`;\n      return (VEGA_DEBUG[key] == version) ?\n        Promise.resolve(paths[lib]) :\n        new Promise(function(resolve, reject) {\n          var s = document.createElement('script');\n          document.getElementsByTagName(\"head\")[0].appendChild(s);\n          s.async = true;\n          s.onload = () => {\n            VEGA_DEBUG[key] = version;\n            return resolve(paths[lib]);\n          };\n          s.onerror = () => reject(`Error loading script: ${paths[lib]}`);\n          s.src = paths[lib];\n        });\n    }\n\n    function showError(err) {\n      outputDiv.innerHTML = `<div class=\"error\" style=\"color:red;\">${err}</div>`;\n      throw err;\n    }\n\n    function displayChart(vegaEmbed) {\n      vegaEmbed(outputDiv, spec, embedOpt)\n        .catch(err => showError(`Javascript Error: ${err.message}<br>This usually means there's a typo in your chart specification. See the javascript console for the full traceback.`));\n    }\n\n    if(typeof define === \"function\" && define.amd) {\n      requirejs.config({paths});\n      require([\"vega-embed\"], displayChart, err => showError(`Error loading script: ${err.message}`));\n    } else {\n      maybeLoadScript(\"vega\", \"5\")\n        .then(() => maybeLoadScript(\"vega-lite\", \"5.17.0\"))\n        .then(() => maybeLoadScript(\"vega-embed\", \"6\"))\n        .catch(showError)\n        .then(() => displayChart(vegaEmbed));\n    }\n  })({\"config\": {\"view\": {\"continuousWidth\": 300, \"continuousHeight\": 300}}, \"layer\": [{\"data\": {\"url\": \"https://cdn.jsdelivr.net/npm/vega-datasets@v1.29.0/data/world-110m.json\", \"format\": {\"feature\": \"countries\", \"type\": \"topojson\"}}, \"mark\": {\"type\": \"geoshape\", \"fill\": \"lightblue\", \"stroke\": \"white\"}, \"name\": \"view_9\", \"projection\": {\"type\": \"equirectangular\"}}, {\"data\": {\"name\": \"data-301a4231fcae8234ef89c487987b088b\"}, \"mark\": {\"type\": \"circle\"}, \"encoding\": {\"color\": {\"field\": \"count\", \"scale\": {\"range\": [\"blue\", \"darkblue\"]}, \"title\": \"Count\", \"type\": \"quantitative\"}, \"latitude\": {\"field\": \"lat\", \"type\": \"quantitative\"}, \"longitude\": {\"field\": \"long\", \"type\": \"quantitative\"}, \"size\": {\"field\": \"count\", \"scale\": {\"range\": [50, 250]}, \"title\": \"Count\", \"type\": \"quantitative\"}, \"tooltip\": [{\"field\": \"production_countries\", \"title\": \"Country\", \"type\": \"nominal\"}, {\"field\": \"count\", \"format\": \".2f\", \"title\": \"Count\", \"type\": \"quantitative\"}]}, \"projection\": {\"type\": \"equirectangular\"}}], \"height\": 600, \"params\": [{\"name\": \"param_69\", \"select\": {\"type\": \"interval\", \"encodings\": [\"x\", \"y\"]}, \"bind\": \"scales\", \"views\": [\"view_9\"]}], \"title\": \"Countries Distribution\", \"width\": 800, \"$schema\": \"https://vega.github.io/schema/vega-lite/v5.17.0.json\", \"datasets\": {\"data-301a4231fcae8234ef89c487987b088b\": [{\"production_countries\": \"United States of America\", \"count\": 21153, \"lat\": \"39.7837304\", \"long\": \"-100.445882\"}, {\"production_countries\": \"United Kingdom\", \"count\": 4094, \"lat\": \"54.7023545\", \"long\": \"-3.2765753\"}, {\"production_countries\": \"France\", \"count\": 3940, \"lat\": \"46.603354\", \"long\": \"1.8883335\"}, {\"production_countries\": \"Germany\", \"count\": 2254, \"lat\": \"51.1638175\", \"long\": \"10.4478313\"}, {\"production_countries\": \"Italy\", \"count\": 2169, \"lat\": \"42.6384261\", \"long\": \"12.674297\"}, {\"production_countries\": \"Canada\", \"count\": 1765, \"lat\": \"61.0666922\", \"long\": \"-107.991707\"}, {\"production_countries\": \"Japan\", \"count\": 1648, \"lat\": \"36.5748441\", \"long\": \"139.2394179\"}, {\"production_countries\": \"Spain\", \"count\": 964, \"lat\": \"39.3260685\", \"long\": \"-4.8379791\"}, {\"production_countries\": \"Russia\", \"count\": 912, \"lat\": \"64.6863136\", \"long\": \"97.7453061\"}, {\"production_countries\": \"India\", \"count\": 828, \"lat\": \"22.3511148\", \"long\": \"78.6677428\"}, {\"production_countries\": \"Hong Kong\", \"count\": 596, \"lat\": \"22.2793278\", \"long\": \"114.1628131\"}, {\"production_countries\": \"Sweden\", \"count\": 588, \"lat\": \"59.6749712\", \"long\": \"14.5208584\"}, {\"production_countries\": \"Australia\", \"count\": 570, \"lat\": \"-24.7761086\", \"long\": \"134.755\"}, {\"production_countries\": \"South Korea\", \"count\": 495, \"lat\": \"36.638392\", \"long\": \"127.6961188\"}, {\"production_countries\": \"Belgium\", \"count\": 447, \"lat\": \"50.6402809\", \"long\": \"4.6667145\"}, {\"production_countries\": \"Denmark\", \"count\": 386, \"lat\": \"55.670249\", \"long\": \"10.3333283\"}, {\"production_countries\": \"Finland\", \"count\": 383, \"lat\": \"63.2467777\", \"long\": \"25.9209164\"}, {\"production_countries\": \"Netherlands\", \"count\": 375, \"lat\": \"52.2434979\", \"long\": \"5.6343227\"}, {\"production_countries\": \"China\", \"count\": 372, \"lat\": \"35.000074\", \"long\": \"104.999927\"}, {\"production_countries\": \"Mexico\", \"count\": 329, \"lat\": \"19.4326296\", \"long\": \"-99.1331785\"}, {\"production_countries\": \"Poland\", \"count\": 319, \"lat\": \"52.215933\", \"long\": \"19.134422\"}, {\"production_countries\": \"Brazil\", \"count\": 291, \"lat\": \"-10.3333333\", \"long\": \"-53.2\"}, {\"production_countries\": \"Switzerland\", \"count\": 254, \"lat\": \"46.7985624\", \"long\": \"8.2319736\"}, {\"production_countries\": \"Argentina\", \"count\": 254, \"lat\": \"-34.9964963\", \"long\": \"-64.9672817\"}, {\"production_countries\": \"Ireland\", \"count\": 225, \"lat\": \"52.865196\", \"long\": \"-7.9794599\"}, {\"production_countries\": \"Austria\", \"count\": 209, \"lat\": \"47.59397\", \"long\": \"14.12456\"}, {\"production_countries\": \"Czech Republic\", \"count\": 209, \"lat\": \"49.7439047\", \"long\": \"15.3381061\"}, {\"production_countries\": \"Norway\", \"count\": 203, \"lat\": \"61.1529386\", \"long\": \"8.7876653\"}, {\"production_countries\": \"Hungary\", \"count\": 175, \"lat\": \"47.1817585\", \"long\": \"19.5060937\"}, {\"production_countries\": \"Greece\", \"count\": 169, \"lat\": \"38.9953683\", \"long\": \"21.9877132\"}, {\"production_countries\": \"Turkey\", \"count\": 165, \"lat\": \"38.9597594\", \"long\": \"34.9249653\"}, {\"production_countries\": \"Israel\", \"count\": 147, \"lat\": \"30.8124247\", \"long\": \"34.8594762\"}, {\"production_countries\": \"Romania\", \"count\": 142, \"lat\": \"45.9852129\", \"long\": \"24.6859225\"}, {\"production_countries\": \"Taiwan\", \"count\": 129, \"lat\": \"23.9739374\", \"long\": \"120.9820179\"}, {\"production_countries\": \"Portugal\", \"count\": 128, \"lat\": \"39.6621648\", \"long\": \"-8.1353519\"}, {\"production_countries\": \"South Africa\", \"count\": 125, \"lat\": \"-28.8166236\", \"long\": \"24.991639\"}, {\"production_countries\": \"New Zealand\", \"count\": 123, \"lat\": \"-41.5000831\", \"long\": \"172.8344077\"}, {\"production_countries\": \"Thailand\", \"count\": 116, \"lat\": \"14.8971921\", \"long\": \"100.83273\"}, {\"production_countries\": \"Iran\", \"count\": 106, \"lat\": \"32.6475314\", \"long\": \"54.5643516\"}, {\"production_countries\": \"Serbia\", \"count\": 106, \"lat\": \"44.1534121\", \"long\": \"20.55144\"}, {\"production_countries\": \"Luxembourg\", \"count\": 90, \"lat\": \"49.8158683\", \"long\": \"6.1296751\"}, {\"production_countries\": \"Philippines\", \"count\": 83, \"lat\": \"12.7503486\", \"long\": \"122.7312101\"}, {\"production_countries\": \"Croatia\", \"count\": 78, \"lat\": \"45.3658443\", \"long\": \"15.6575209\"}, {\"production_countries\": \"Iceland\", \"count\": 68, \"lat\": \"64.9841821\", \"long\": \"-18.1059013\"}, {\"production_countries\": \"Chile\", \"count\": 68, \"lat\": \"-31.7613365\", \"long\": \"-71.3187697\"}, {\"production_countries\": \"Estonia\", \"count\": 59, \"lat\": \"58.7523778\", \"long\": \"25.3319078\"}, {\"production_countries\": \"Bulgaria\", \"count\": 56, \"lat\": \"42.6073975\", \"long\": \"25.4856617\"}, {\"production_countries\": \"Ukraine\", \"count\": 55, \"lat\": \"49.4871968\", \"long\": \"31.2718321\"}, {\"production_countries\": \"Singapore\", \"count\": 41, \"lat\": \"1.357107\", \"long\": \"103.8194992\"}, {\"production_countries\": \"Lithuania\", \"count\": 36, \"lat\": \"55.3500003\", \"long\": \"23.7499997\"}, {\"production_countries\": \"Bosnia and Herzegovina\", \"count\": 35, \"lat\": \"44.3053476\", \"long\": \"17.5961467\"}, {\"production_countries\": \"Colombia\", \"count\": 34, \"lat\": \"4.099917\", \"long\": \"-72.9088133\"}, {\"production_countries\": \"Indonesia\", \"count\": 33, \"lat\": \"-2.4833826\", \"long\": \"117.8902853\"}, {\"production_countries\": \"Morocco\", \"count\": 33, \"lat\": \"31.1728205\", \"long\": \"-7.3362482\"}, {\"production_countries\": \"Slovenia\", \"count\": 32, \"lat\": \"46.1199444\", \"long\": \"14.8153333\"}, {\"production_countries\": \"Peru\", \"count\": 30, \"lat\": \"-6.8699697\", \"long\": \"-75.0458515\"}, {\"production_countries\": \"Georgia\", \"count\": 30, \"lat\": \"41.6808672\", \"long\": \"44.0287806\"}, {\"production_countries\": \"Slovakia\", \"count\": 30, \"lat\": \"48.7411522\", \"long\": \"19.4528646\"}, {\"production_countries\": \"Latvia\", \"count\": 29, \"lat\": \"56.8406494\", \"long\": \"24.7537645\"}, {\"production_countries\": \"United Arab Emirates\", \"count\": 27, \"lat\": \"24.0002488\", \"long\": \"53.9994829\"}, {\"production_countries\": \"Cuba\", \"count\": 25, \"lat\": \"23.0131338\", \"long\": \"-80.8328748\"}, {\"production_countries\": \"Egypt\", \"count\": 25, \"lat\": \"26.2540493\", \"long\": \"29.2675469\"}, {\"production_countries\": \"Kazakhstan\", \"count\": 23, \"lat\": \"48.1012954\", \"long\": \"66.7780818\"}, {\"production_countries\": \"Soviet Union\", \"count\": 20, \"lat\": \"44.566633350000004\", \"long\": \"27.359792969682104\"}, {\"production_countries\": \"Venezuela\", \"count\": 19, \"lat\": \"8.0018709\", \"long\": \"-66.1109318\"}, {\"production_countries\": \"Uruguay\", \"count\": 18, \"lat\": \"-32.8755548\", \"long\": \"-56.0201525\"}, {\"production_countries\": \"Pakistan\", \"count\": 18, \"lat\": \"30.3308401\", \"long\": \"71.247499\"}, {\"production_countries\": \"Tunisia\", \"count\": 18, \"lat\": \"33.8439408\", \"long\": \"9.400138\"}, {\"production_countries\": \"Macedonia\", \"count\": 15, \"lat\": \"41.6171214\", \"long\": \"21.7168387\"}, {\"production_countries\": \"Lebanon\", \"count\": 15, \"lat\": \"33.8750629\", \"long\": \"35.843409\"}, {\"production_countries\": \"Senegal\", \"count\": 14, \"lat\": \"14.4750607\", \"long\": \"-14.4529612\"}, {\"production_countries\": \"Qatar\", \"count\": 14, \"lat\": \"25.3336984\", \"long\": \"51.2295295\"}, {\"production_countries\": \"Algeria\", \"count\": 13, \"lat\": \"28.0000272\", \"long\": \"2.9999825\"}, {\"production_countries\": \"Puerto Rico\", \"count\": 13, \"lat\": \"18.2247706\", \"long\": \"-66.4858295\"}, {\"production_countries\": \"Malaysia\", \"count\": 13, \"lat\": \"4.5693754\", \"long\": \"102.2656823\"}, {\"production_countries\": \"Palestinian Territory\", \"count\": 11, \"lat\": null, \"long\": null}, {\"production_countries\": \"Ecuador\", \"count\": 10, \"lat\": \"-1.3397668\", \"long\": \"-79.3666965\"}, {\"production_countries\": \"Burkina Faso\", \"count\": 10, \"lat\": \"12.0753083\", \"long\": \"-1.6880314\"}, {\"production_countries\": \"Vietnam\", \"count\": 10, \"lat\": \"15.9266657\", \"long\": \"107.9650855\"}, {\"production_countries\": \"Bolivia\", \"count\": 10, \"lat\": \"-17.0568696\", \"long\": \"-64.9912286\"}, {\"production_countries\": \"Belarus\", \"count\": 9, \"lat\": \"53.4250605\", \"long\": \"27.6971358\"}, {\"production_countries\": \"Jordan\", \"count\": 9, \"lat\": \"31.1667049\", \"long\": \"36.941628\"}, {\"production_countries\": \"Cambodia\", \"count\": 9, \"lat\": \"12.5433216\", \"long\": \"104.8144914\"}, {\"production_countries\": \"Malta\", \"count\": 9, \"lat\": \"35.8885993\", \"long\": \"14.4476911\"}, {\"production_countries\": \"Afghanistan\", \"count\": 8, \"lat\": \"33.7680065\", \"long\": \"66.2385139\"}, {\"production_countries\": \"Liechtenstein\", \"count\": 8, \"lat\": \"47.1416307\", \"long\": \"9.5531527\"}, {\"production_countries\": \"Dominican Republic\", \"count\": 8, \"lat\": \"19.0974031\", \"long\": \"-70.3028026\"}, {\"production_countries\": \"Armenia\", \"count\": 8, \"lat\": \"40.7696272\", \"long\": \"44.6736646\"}, {\"production_countries\": \"Iraq\", \"count\": 8, \"lat\": \"33.0955793\", \"long\": \"44.1749775\"}, {\"production_countries\": \"Montenegro\", \"count\": 7, \"lat\": \"42.9868853\", \"long\": \"19.5180992\"}, {\"production_countries\": \"Panama\", \"count\": 7, \"lat\": \"8.559559\", \"long\": \"-81.1308434\"}, {\"production_countries\": \"Cyprus\", \"count\": 7, \"lat\": \"34.9823018\", \"long\": \"33.1451285\"}, {\"production_countries\": \"East Germany\", \"count\": 6, \"lat\": \"51.3152252\", \"long\": \"9.4785397\"}, {\"production_countries\": \"Guatemala\", \"count\": 6, \"lat\": \"15.5855545\", \"long\": \"-90.345759\"}, {\"production_countries\": \"Costa Rica\", \"count\": 6, \"lat\": \"10.2735633\", \"long\": \"-84.0739102\"}, {\"production_countries\": \"Nigeria\", \"count\": 6, \"lat\": \"9.6000359\", \"long\": \"7.9999721\"}, {\"production_countries\": \"Kyrgyz Republic\", \"count\": 6, \"lat\": \"41.5089324\", \"long\": \"74.724091\"}, {\"production_countries\": \"Nepal\", \"count\": 6, \"lat\": \"28.3780464\", \"long\": \"83.9999901\"}, {\"production_countries\": \"Aruba\", \"count\": 6, \"lat\": \"12.5013629\", \"long\": \"-69.9618475\"}, {\"production_countries\": \"Uzbekistan\", \"count\": 6, \"lat\": \"41.32373\", \"long\": \"63.9528098\"}, {\"production_countries\": \"Syrian Arab Republic\", \"count\": 5, \"lat\": \"34.6401861\", \"long\": \"39.0494106\"}, {\"production_countries\": \"Ethiopia\", \"count\": 5, \"lat\": \"10.2116702\", \"long\": \"38.6521203\"}, {\"production_countries\": \"Cameroon\", \"count\": 5, \"lat\": \"4.6125522\", \"long\": \"13.1535811\"}, {\"production_countries\": \"Congo\", \"count\": 5, \"lat\": \"-2.9814344\", \"long\": \"23.8222636\"}, {\"production_countries\": \"Bahamas\", \"count\": 5, \"lat\": \"24.7736546\", \"long\": \"-78.0000547\"}, {\"production_countries\": \"Albania\", \"count\": 5, \"lat\": \"41.000028\", \"long\": \"19.9999619\"}, {\"production_countries\": \"Mauritania\", \"count\": 5, \"lat\": \"20.2540382\", \"long\": \"-9.2399263\"}, {\"production_countries\": \"Jamaica\", \"count\": 4, \"lat\": \"18.1850507\", \"long\": \"-77.3947693\"}, {\"production_countries\": \"Ghana\", \"count\": 4, \"lat\": \"8.0300284\", \"long\": \"-1.0800271\"}, {\"production_countries\": \"Yugoslavia\", \"count\": 4, \"lat\": \"23.04123655\", \"long\": \"-81.52614194734898\"}, {\"production_countries\": \"Czechoslovakia\", \"count\": 4, \"lat\": \"48.257918\", \"long\": \"14.5007688\"}, {\"production_countries\": \"Rwanda\", \"count\": 4, \"lat\": \"-1.9646631\", \"long\": \"30.0644358\"}, {\"production_countries\": \"Monaco\", \"count\": 4, \"lat\": \"43.7323492\", \"long\": \"7.4276832\"}, {\"production_countries\": \"Bhutan\", \"count\": 4, \"lat\": \"27.549511\", \"long\": \"90.5119273\"}, {\"production_countries\": \"Chad\", \"count\": 4, \"lat\": \"15.6134137\", \"long\": \"19.0156172\"}, {\"production_countries\": \"Serbia and Montenegro\", \"count\": 3, \"lat\": null, \"long\": null}, {\"production_countries\": \"Angola\", \"count\": 3, \"lat\": \"-11.8775768\", \"long\": \"17.5691241\"}, {\"production_countries\": \"Sri Lanka\", \"count\": 3, \"lat\": \"7.5554942\", \"long\": \"80.7137847\"}, {\"production_countries\": \"Botswana\", \"count\": 3, \"lat\": \"-23.1681782\", \"long\": \"24.5928742\"}, {\"production_countries\": \"Tajikistan\", \"count\": 3, \"lat\": \"38.6281733\", \"long\": \"70.8156541\"}, {\"production_countries\": \"El Salvador\", \"count\": 3, \"lat\": \"13.8000382\", \"long\": \"-88.9140683\"}, {\"production_countries\": \"Namibia\", \"count\": 3, \"lat\": \"-23.2335499\", \"long\": \"17.3231107\"}, {\"production_countries\": \"North Korea\", \"count\": 3, \"lat\": \"40.3736611\", \"long\": \"127.0870417\"}, {\"production_countries\": \"Libyan Arab Jamahiriya\", \"count\": 3, \"lat\": \"26.8234472\", \"long\": \"18.1236723\"}, {\"production_countries\": \"Liberia\", \"count\": 3, \"lat\": \"5.7499721\", \"long\": \"-9.3658524\"}, {\"production_countries\": \"Lao People's Democratic Republic\", \"count\": 3, \"lat\": \"20.0171109\", \"long\": \"103.378253\"}, {\"production_countries\": \"Mongolia\", \"count\": 3, \"lat\": \"46.8250388\", \"long\": \"103.8499736\"}, {\"production_countries\": \"Kenya\", \"count\": 3, \"lat\": \"1.4419683\", \"long\": \"38.4313975\"}, {\"production_countries\": \"Nicaragua\", \"count\": 3, \"lat\": \"12.6090157\", \"long\": \"-85.2936911\"}, {\"production_countries\": \"Zimbabwe\", \"count\": 3, \"lat\": \"-18.4554963\", \"long\": \"29.7468414\"}, {\"production_countries\": \"Paraguay\", \"count\": 3, \"lat\": \"-23.3165935\", \"long\": \"-58.1693445\"}, {\"production_countries\": \"Trinidad and Tobago\", \"count\": 2, \"lat\": \"10.7466905\", \"long\": \"-61.0840075\"}, {\"production_countries\": \"Uganda\", \"count\": 2, \"lat\": \"1.5333554\", \"long\": \"32.2166578\"}, {\"production_countries\": \"Cote D'Ivoire\", \"count\": 2, \"lat\": \"7.9897371\", \"long\": \"-5.5679458\"}, {\"production_countries\": \"Saudi Arabia\", \"count\": 2, \"lat\": \"25.6242618\", \"long\": \"42.3528328\"}, {\"production_countries\": \"Tanzania\", \"count\": 2, \"lat\": \"-6.5247123\", \"long\": \"35.7878438\"}, {\"production_countries\": \"Azerbaijan\", \"count\": 2, \"lat\": \"40.3936294\", \"long\": \"47.7872508\"}, {\"production_countries\": \"Macao\", \"count\": 2, \"lat\": \"22.1899448\", \"long\": \"113.5380454\"}, {\"production_countries\": \"Mali\", \"count\": 2, \"lat\": \"16.3700359\", \"long\": \"-2.2900239\"}, {\"production_countries\": \"Papua New Guinea\", \"count\": 2, \"lat\": \"-5.6816069\", \"long\": \"144.2489081\"}, {\"production_countries\": \"Bangladesh\", \"count\": 2, \"lat\": \"24.4769288\", \"long\": \"90.2934413\"}, {\"production_countries\": \"Martinique\", \"count\": 1, \"lat\": \"14.6367927\", \"long\": \"-61.01582685063731\"}, {\"production_countries\": \"Samoa\", \"count\": 1, \"lat\": \"-13.7693895\", \"long\": \"-172.12005\"}, {\"production_countries\": \"United States Minor Outlying Islands\", \"count\": 1, \"lat\": \"16.7288207\", \"long\": \"-169.5333824\"}, {\"production_countries\": \"Antarctica\", \"count\": 1, \"lat\": \"-79.4063075\", \"long\": \"0.3149312\"}, {\"production_countries\": \"Madagascar\", \"count\": 1, \"lat\": \"-18.9249604\", \"long\": \"46.4416422\"}, {\"production_countries\": \"French Southern Territories\", \"count\": 1, \"lat\": \"-49.237441950000004\", \"long\": \"69.62275903679347\"}, {\"production_countries\": \"Honduras\", \"count\": 1, \"lat\": \"15.2572432\", \"long\": \"-86.0755145\"}, {\"production_countries\": \"Barbados\", \"count\": 1, \"lat\": \"13.1500331\", \"long\": \"-59.5250305\"}, {\"production_countries\": \"Bermuda\", \"count\": 1, \"lat\": \"32.3040273\", \"long\": \"-64.7563086\"}, {\"production_countries\": \"Moldova\", \"count\": 1, \"lat\": \"47.2879608\", \"long\": \"28.5670941\"}, {\"production_countries\": \"Gibraltar\", \"count\": 1, \"lat\": \"36.1285933\", \"long\": \"-5.3474761\"}, {\"production_countries\": \"Myanmar\", \"count\": 1, \"lat\": \"17.1750495\", \"long\": \"95.9999652\"}, {\"production_countries\": \"Brunei Darussalam\", \"count\": 1, \"lat\": \"4.4137155\", \"long\": \"114.5653908\"}, {\"production_countries\": \"Kuwait\", \"count\": 1, \"lat\": \"29.2733964\", \"long\": \"47.4979476\"}, {\"production_countries\": \"Netherlands Antilles\", \"count\": 1, \"lat\": \"12.1845\", \"long\": \"-68.6607922625\"}, {\"production_countries\": \"Cayman Islands\", \"count\": 1, \"lat\": \"19.703182249999998\", \"long\": \"-79.9174627243246\"}, {\"production_countries\": \"Guinea\", \"count\": 1, \"lat\": \"10.7226226\", \"long\": \"-10.7083587\"}, {\"production_countries\": \"Somalia\", \"count\": 1, \"lat\": \"8.3676771\", \"long\": \"49.083416\"}, {\"production_countries\": \"French Polynesia\", \"count\": 1, \"lat\": \"-17.0243749\", \"long\": \"-144.6434898\"}]}}, {\"mode\": \"vega-lite\"});\n</script>",
      "text/plain": "alt.LayerChart(...)"
     },
     "execution_count": 216,
     "metadata": {},
     "output_type": "execute_result"
    }
   ],
   "source": [
    "import altair as alt\n",
    "from vega_datasets import data\n",
    "\n",
    "# Load a GeoJSON source that contains features for drawing\n",
    "base = alt.topo_feature(data.world_110m.url, 'countries')\n",
    "\n",
    "# Create a base map\n",
    "base_map = alt.Chart(base).mark_geoshape(\n",
    "    fill='lightblue',\n",
    "    stroke='white'\n",
    ").project('equirectangular')\n",
    "\n",
    "# Create a scatter plot layer\n",
    "points = alt.Chart(movies_metadata_countries).mark_circle().encode(\n",
    "    longitude='long:Q',\n",
    "    latitude='lat:Q',\n",
    "    size=alt.Size('count:Q', title='Count', scale=alt.Scale(range=[50, 250])),\n",
    "    # color=alt.Color('count:Q', title='Count'),\n",
    "    color=alt.Color('count:Q', title='Count', scale=alt.Scale(range=['blue', 'darkblue'])),\n",
    "    tooltip=[alt.Tooltip('production_countries', title='Country'), alt.Tooltip('count', format='.2f', title='Count')]\n",
    ").project('equirectangular')\n",
    "\n",
    "# Combine the base map and scatter plot\n",
    "chart = base_map + points\n",
    "\n",
    "# Set the chart properties\n",
    "chart = chart.properties(\n",
    "    title='Countries Distribution',\n",
    "    width=800,\n",
    "    height=600\n",
    ").interactive()\n",
    "\n",
    "chart"
   ]
  },
  {
   "cell_type": "code",
   "execution_count": 216,
   "id": "b7382dab",
   "metadata": {},
   "outputs": [],
   "source": []
  }
 ],
 "metadata": {
  "kernelspec": {
   "display_name": "Python 3 (ipykernel)",
   "language": "python",
   "name": "python3"
  },
  "language_info": {
   "codemirror_mode": {
    "name": "ipython",
    "version": 3
   },
   "file_extension": ".py",
   "mimetype": "text/x-python",
   "name": "python",
   "nbconvert_exporter": "python",
   "pygments_lexer": "ipython3",
   "version": "3.9.13"
  }
 },
 "nbformat": 4,
 "nbformat_minor": 5
}
