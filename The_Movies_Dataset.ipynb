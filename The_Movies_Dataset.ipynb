{
 "cells": [
  {
   "cell_type": "code",
   "execution_count": 79,
   "id": "6a0b37ce6b6a8a8f",
   "metadata": {
    "ExecuteTime": {
     "end_time": "2024-05-31T23:56:48.350791Z",
     "start_time": "2024-05-31T23:56:48.348792Z"
    }
   },
   "outputs": [],
   "source": [
    "#%pip install altair vega vega_datasets pandas"
   ]
  },
  {
   "metadata": {},
   "cell_type": "markdown",
   "source": [
    "## Visualization Project: Movie Recommendation System\n",
    "\n",
    "#### Dataset: The Movies Dataset\n",
    "This system uses the movies dataset (https://www.kaggle.com/datasets/rounakbanik/the-movies-dataset). It has metadata on over 45,000 movies. 26 million ratings from over 270,000 users.\n",
    "\n",
    "#### Objective\n",
    "The objective of this project is to build a movie recommendation system using the metadata of the movies dataset. The system will recommend movies with the appropriate visualizations based on the user's preferences."
   ],
   "id": "919b5e3de353407b"
  },
  {
   "cell_type": "code",
   "id": "8aa13330ffa9841d",
   "metadata": {
    "ExecuteTime": {
     "end_time": "2024-06-01T00:20:41.844547Z",
     "start_time": "2024-06-01T00:20:40.948957Z"
    }
   },
   "source": [
    "import pandas as pd\n",
    "import altair as alt\n",
    "from ast import literal_eval\n",
    "movies_metadata = pd.read_csv('./The_Movies_Dataset/movies_metadata.csv', low_memory=False)"
   ],
   "outputs": [],
   "execution_count": 80
  },
  {
   "cell_type": "code",
   "id": "7631073a766e3bb",
   "metadata": {
    "ExecuteTime": {
     "end_time": "2024-06-01T00:20:42.585930Z",
     "start_time": "2024-06-01T00:20:41.845547Z"
    }
   },
   "source": [
    "movies_metadata_genres = movies_metadata[['id', 'title', 'genres']].copy()\n",
    "\n",
    "# convert the genres column to a list\n",
    "movies_metadata_genres['genres'] = (\n",
    "    movies_metadata_genres['genres']\n",
    "    .fillna('[]')\n",
    "    .apply(literal_eval)\n",
    "    .apply(lambda x: [i['name'] for i in x] if isinstance(x, list) else [])\n",
    ")"
   ],
   "outputs": [],
   "execution_count": 81
  },
  {
   "cell_type": "code",
   "id": "b3a6a36d567172b",
   "metadata": {
    "ExecuteTime": {
     "end_time": "2024-06-01T00:20:43.679747Z",
     "start_time": "2024-06-01T00:20:43.635922Z"
    }
   },
   "source": [
    "# Grouping by genres\n",
    "genres = movies_metadata_genres.explode('genres')\n",
    "genres = genres.groupby('genres').size().reset_index(name='count')\n",
    "genres = genres.sort_values('count', ascending=False)\n",
    "\n",
    "# calculate the percentage\n",
    "genres['percentage'] = genres['count'] / genres['count'].sum() * 100"
   ],
   "outputs": [],
   "execution_count": 82
  },
  {
   "cell_type": "code",
   "id": "775e62828dbf1b9d",
   "metadata": {
    "ExecuteTime": {
     "end_time": "2024-06-01T00:20:46.379829Z",
     "start_time": "2024-06-01T00:20:46.347851Z"
    }
   },
   "source": [
    "# plot the genres distribution\n",
    "alt.Chart(genres).mark_arc().encode(\n",
    "    theta=alt.Theta(field='percentage', type='quantitative', stack=True),\n",
    "    color=alt.Color(field='genres', type='nominal'),\n",
    "    tooltip=[alt.Tooltip('genres', title='Genre'), alt.Tooltip('percentage', format='.2f', title='Percentage')]\n",
    ").properties(\n",
    "    title='Genres Distribution'\n",
    ").interactive()"
   ],
   "outputs": [
    {
     "data": {
      "text/html": "\n<style>\n  #altair-viz-500b45d8b074463a87db86bf2044444d.vega-embed {\n    width: 100%;\n    display: flex;\n  }\n\n  #altair-viz-500b45d8b074463a87db86bf2044444d.vega-embed details,\n  #altair-viz-500b45d8b074463a87db86bf2044444d.vega-embed details summary {\n    position: relative;\n  }\n</style>\n<div id=\"altair-viz-500b45d8b074463a87db86bf2044444d\"></div>\n<script type=\"text/javascript\">\n  var VEGA_DEBUG = (typeof VEGA_DEBUG == \"undefined\") ? {} : VEGA_DEBUG;\n  (function(spec, embedOpt){\n    let outputDiv = document.currentScript.previousElementSibling;\n    if (outputDiv.id !== \"altair-viz-500b45d8b074463a87db86bf2044444d\") {\n      outputDiv = document.getElementById(\"altair-viz-500b45d8b074463a87db86bf2044444d\");\n    }\n    const paths = {\n      \"vega\": \"https://cdn.jsdelivr.net/npm/vega@5?noext\",\n      \"vega-lib\": \"https://cdn.jsdelivr.net/npm/vega-lib?noext\",\n      \"vega-lite\": \"https://cdn.jsdelivr.net/npm/vega-lite@5.17.0?noext\",\n      \"vega-embed\": \"https://cdn.jsdelivr.net/npm/vega-embed@6?noext\",\n    };\n\n    function maybeLoadScript(lib, version) {\n      var key = `${lib.replace(\"-\", \"\")}_version`;\n      return (VEGA_DEBUG[key] == version) ?\n        Promise.resolve(paths[lib]) :\n        new Promise(function(resolve, reject) {\n          var s = document.createElement('script');\n          document.getElementsByTagName(\"head\")[0].appendChild(s);\n          s.async = true;\n          s.onload = () => {\n            VEGA_DEBUG[key] = version;\n            return resolve(paths[lib]);\n          };\n          s.onerror = () => reject(`Error loading script: ${paths[lib]}`);\n          s.src = paths[lib];\n        });\n    }\n\n    function showError(err) {\n      outputDiv.innerHTML = `<div class=\"error\" style=\"color:red;\">${err}</div>`;\n      throw err;\n    }\n\n    function displayChart(vegaEmbed) {\n      vegaEmbed(outputDiv, spec, embedOpt)\n        .catch(err => showError(`Javascript Error: ${err.message}<br>This usually means there's a typo in your chart specification. See the javascript console for the full traceback.`));\n    }\n\n    if(typeof define === \"function\" && define.amd) {\n      requirejs.config({paths});\n      require([\"vega-embed\"], displayChart, err => showError(`Error loading script: ${err.message}`));\n    } else {\n      maybeLoadScript(\"vega\", \"5\")\n        .then(() => maybeLoadScript(\"vega-lite\", \"5.17.0\"))\n        .then(() => maybeLoadScript(\"vega-embed\", \"6\"))\n        .catch(showError)\n        .then(() => displayChart(vegaEmbed));\n    }\n  })({\"config\": {\"view\": {\"continuousWidth\": 300, \"continuousHeight\": 300}}, \"data\": {\"name\": \"data-7a5acd705897b16d5b322c2d9ff4d5c4\"}, \"mark\": {\"type\": \"arc\"}, \"encoding\": {\"color\": {\"field\": \"genres\", \"type\": \"nominal\"}, \"theta\": {\"field\": \"percentage\", \"stack\": true, \"type\": \"quantitative\"}, \"tooltip\": [{\"field\": \"genres\", \"title\": \"Genre\", \"type\": \"nominal\"}, {\"field\": \"percentage\", \"format\": \".2f\", \"title\": \"Percentage\", \"type\": \"quantitative\"}]}, \"params\": [{\"name\": \"param_12\", \"select\": {\"type\": \"interval\", \"encodings\": [\"x\", \"y\"]}, \"bind\": \"scales\"}], \"title\": \"Genres Distribution\", \"$schema\": \"https://vega.github.io/schema/vega-lite/v5.17.0.json\", \"datasets\": {\"data-7a5acd705897b16d5b322c2d9ff4d5c4\": [{\"genres\": \"Drama\", \"count\": 20265, \"percentage\": 22.243320966785944}, {\"genres\": \"Comedy\", \"count\": 13182, \"percentage\": 14.46886044826905}, {\"genres\": \"Thriller\", \"count\": 7624, \"percentage\": 8.368274317827586}, {\"genres\": \"Romance\", \"count\": 6735, \"percentage\": 7.392487871270828}, {\"genres\": \"Action\", \"count\": 6596, \"percentage\": 7.2399183368823135}, {\"genres\": \"Horror\", \"count\": 4673, \"percentage\": 5.129190174082936}, {\"genres\": \"Crime\", \"count\": 4307, \"percentage\": 4.727460320944833}, {\"genres\": \"Documentary\", \"count\": 3932, \"percentage\": 4.315851864860712}, {\"genres\": \"Adventure\", \"count\": 3496, \"percentage\": 3.837288433253573}, {\"genres\": \"Science Fiction\", \"count\": 3049, \"percentage\": 3.3466511536012997}, {\"genres\": \"Family\", \"count\": 2770, \"percentage\": 3.040414462274713}, {\"genres\": \"Mystery\", \"count\": 2467, \"percentage\": 2.7078348297587427}, {\"genres\": \"Fantasy\", \"count\": 2313, \"percentage\": 2.5388009571268633}, {\"genres\": \"Animation\", \"count\": 1935, \"percentage\": 2.1238996333940685}, {\"genres\": \"Foreign\", \"count\": 1622, \"percentage\": 1.7803437753825215}, {\"genres\": \"Music\", \"count\": 1598, \"percentage\": 1.754000834193138}, {\"genres\": \"History\", \"count\": 1398, \"percentage\": 1.534476324281606}, {\"genres\": \"War\", \"count\": 1323, \"percentage\": 1.4521546330647817}, {\"genres\": \"Western\", \"count\": 1042, \"percentage\": 1.1437226966390797}, {\"genres\": \"TV Movie\", \"count\": 767, \"percentage\": 0.8418764955107239}, {\"genres\": \"Odyssey Media\", \"count\": 1, \"percentage\": 0.001097622549557658}, {\"genres\": \"Pulser Productions\", \"count\": 1, \"percentage\": 0.001097622549557658}, {\"genres\": \"Rogue State\", \"count\": 1, \"percentage\": 0.001097622549557658}, {\"genres\": \"GoHands\", \"count\": 1, \"percentage\": 0.001097622549557658}, {\"genres\": \"Carousel Productions\", \"count\": 1, \"percentage\": 0.001097622549557658}, {\"genres\": \"Sentai Filmworks\", \"count\": 1, \"percentage\": 0.001097622549557658}, {\"genres\": \"Telescene Film Group Productions\", \"count\": 1, \"percentage\": 0.001097622549557658}, {\"genres\": \"The Cartel\", \"count\": 1, \"percentage\": 0.001097622549557658}, {\"genres\": \"BROSTA TV\", \"count\": 1, \"percentage\": 0.001097622549557658}, {\"genres\": \"Vision View Entertainment\", \"count\": 1, \"percentage\": 0.001097622549557658}, {\"genres\": \"Aniplex\", \"count\": 1, \"percentage\": 0.001097622549557658}, {\"genres\": \"Mardock Scramble Production Committee\", \"count\": 1, \"percentage\": 0.001097622549557658}]}}, {\"mode\": \"vega-lite\"});\n</script>",
      "text/plain": "alt.Chart(...)"
     },
     "execution_count": 83,
     "metadata": {},
     "output_type": "execute_result"
    }
   ],
   "execution_count": 83
  },
  {
   "cell_type": "code",
   "execution_count": 84,
   "id": "13cc046d4ba23152",
   "metadata": {},
   "outputs": [],
   "source": [
    "credits = pd.read_csv('./The_Movies_Dataset/credits.csv', low_memory=False)"
   ]
  },
  {
   "cell_type": "code",
   "execution_count": 85,
   "outputs": [],
   "source": [
    "movies_metadata['id'] = pd.to_numeric(movies_metadata['id'], errors='coerce')\n",
    "credits['id'] = pd.to_numeric(credits['id'], errors='coerce')\n",
    "movies_metadata_credits = movies_metadata.merge(credits, on='id')"
   ],
   "metadata": {
    "collapsed": false
   }
  },
  {
   "cell_type": "code",
   "execution_count": 125,
   "outputs": [],
   "source": [
    "# Calculating the average rating for each movie is not enough. We need to calculate the weighted rating for each movie.\n",
    "# https://math.stackexchange.com/questions/169032/understanding-the-imdb-weighted-rating-function-for-usage-on-my-own-website\n",
    "# Weighted Rating (WR) = (v ÷ (v+m)) × R + (m ÷ (v+m)) × C\n",
    "\n",
    "# v = number of votes for the movie\n",
    "# m = minimum votes required to be listed in the chart\n",
    "# R = average rating of the movie\n",
    "# C = mean vote across the whole report\n",
    "\n",
    "C = movies_metadata_credits['vote_average'].mean()\n",
    "m = movies_metadata_credits['vote_count'].quantile(0.90)\n",
    "\n",
    "# filter out movies that have less than m votes\n",
    "movies_metadata_credits = movies_metadata_credits[movies_metadata_credits['vote_count'] >= m]\n",
    "\n",
    "# calculate the score\n",
    "movies_metadata_credits['score'] = (\n",
    "    (movies_metadata_credits['vote_count'] / (movies_metadata_credits['vote_count'] + m)) * movies_metadata_credits['vote_average'] +\n",
    "    (m / (movies_metadata_credits['vote_count'] + m)) * C\n",
    ")\n",
    "movies_metadata_credits = movies_metadata_credits.sort_values('score', ascending=False)"
   ],
   "metadata": {
    "collapsed": false
   }
  },
  {
   "cell_type": "code",
   "execution_count": 126,
   "outputs": [],
   "source": [
    "# Grouping by genres\n",
    "genres = movies_metadata_genres.explode('genres')\n",
    "genres = genres.groupby('genres').size().reset_index(name='count')\n",
    "genres = genres.sort_values('count', ascending=False)\n",
    "# calculate the percentage\n",
    "genres['percentage'] = genres['count'] / genres['count'].sum() * 100\n",
    "genres['top_movies'] = genres['genres'].apply(lambda x: ' '.join(f\"{i+1}. {title}\" for i, title in enumerate(movies_metadata_genres[movies_metadata_genres['genres'].apply(lambda y: x in y)]['title'].astype(str).head(10))))"
   ],
   "metadata": {
    "collapsed": false
   }
  },
  {
   "cell_type": "code",
   "execution_count": 128,
   "outputs": [
    {
     "data": {
      "text/html": "\n<style>\n  #altair-viz-993d34ba3ccc4f29b0bb5b622b561574.vega-embed {\n    width: 100%;\n    display: flex;\n  }\n\n  #altair-viz-993d34ba3ccc4f29b0bb5b622b561574.vega-embed details,\n  #altair-viz-993d34ba3ccc4f29b0bb5b622b561574.vega-embed details summary {\n    position: relative;\n  }\n</style>\n<div id=\"altair-viz-993d34ba3ccc4f29b0bb5b622b561574\"></div>\n<script type=\"text/javascript\">\n  var VEGA_DEBUG = (typeof VEGA_DEBUG == \"undefined\") ? {} : VEGA_DEBUG;\n  (function(spec, embedOpt){\n    let outputDiv = document.currentScript.previousElementSibling;\n    if (outputDiv.id !== \"altair-viz-993d34ba3ccc4f29b0bb5b622b561574\") {\n      outputDiv = document.getElementById(\"altair-viz-993d34ba3ccc4f29b0bb5b622b561574\");\n    }\n    const paths = {\n      \"vega\": \"https://cdn.jsdelivr.net/npm/vega@5?noext\",\n      \"vega-lib\": \"https://cdn.jsdelivr.net/npm/vega-lib?noext\",\n      \"vega-lite\": \"https://cdn.jsdelivr.net/npm/vega-lite@5.17.0?noext\",\n      \"vega-embed\": \"https://cdn.jsdelivr.net/npm/vega-embed@6?noext\",\n    };\n\n    function maybeLoadScript(lib, version) {\n      var key = `${lib.replace(\"-\", \"\")}_version`;\n      return (VEGA_DEBUG[key] == version) ?\n        Promise.resolve(paths[lib]) :\n        new Promise(function(resolve, reject) {\n          var s = document.createElement('script');\n          document.getElementsByTagName(\"head\")[0].appendChild(s);\n          s.async = true;\n          s.onload = () => {\n            VEGA_DEBUG[key] = version;\n            return resolve(paths[lib]);\n          };\n          s.onerror = () => reject(`Error loading script: ${paths[lib]}`);\n          s.src = paths[lib];\n        });\n    }\n\n    function showError(err) {\n      outputDiv.innerHTML = `<div class=\"error\" style=\"color:red;\">${err}</div>`;\n      throw err;\n    }\n\n    function displayChart(vegaEmbed) {\n      vegaEmbed(outputDiv, spec, embedOpt)\n        .catch(err => showError(`Javascript Error: ${err.message}<br>This usually means there's a typo in your chart specification. See the javascript console for the full traceback.`));\n    }\n\n    if(typeof define === \"function\" && define.amd) {\n      requirejs.config({paths});\n      require([\"vega-embed\"], displayChart, err => showError(`Error loading script: ${err.message}`));\n    } else {\n      maybeLoadScript(\"vega\", \"5\")\n        .then(() => maybeLoadScript(\"vega-lite\", \"5.17.0\"))\n        .then(() => maybeLoadScript(\"vega-embed\", \"6\"))\n        .catch(showError)\n        .then(() => displayChart(vegaEmbed));\n    }\n  })({\"config\": {\"view\": {\"continuousWidth\": 300, \"continuousHeight\": 300}}, \"data\": {\"name\": \"data-5664ff56d714cfb44149ec537a1fdb34\"}, \"mark\": {\"type\": \"arc\"}, \"encoding\": {\"color\": {\"field\": \"genres\", \"type\": \"nominal\"}, \"order\": {\"field\": \"count\", \"sort\": \"descending\", \"type\": \"quantitative\"}, \"theta\": {\"field\": \"percentage\", \"stack\": true, \"type\": \"quantitative\"}, \"tooltip\": [{\"field\": \"genres\", \"title\": \"Genre\", \"type\": \"nominal\"}, {\"field\": \"percentage\", \"format\": \".2f\", \"title\": \"Percentage\", \"type\": \"quantitative\"}, {\"field\": \"top_movies\", \"title\": \"Top Movies\", \"type\": \"nominal\"}]}, \"params\": [{\"name\": \"param_24\", \"select\": {\"type\": \"interval\", \"encodings\": [\"x\", \"y\"]}, \"bind\": \"scales\"}], \"title\": \"Genres Distribution and Top Movies\", \"$schema\": \"https://vega.github.io/schema/vega-lite/v5.17.0.json\", \"datasets\": {\"data-5664ff56d714cfb44149ec537a1fdb34\": [{\"genres\": \"Drama\", \"count\": 20265, \"percentage\": 22.243320966785944, \"top_movies\": \"1. Waiting to Exhale 2. Heat 3. Tom and Huck 4. The American President 5. Nixon 6. Casino 7. Sense and Sensibility 8. Copycat 9. Powder 10. Leaving Las Vegas\"}, {\"genres\": \"Comedy\", \"count\": 13182, \"percentage\": 14.46886044826905, \"top_movies\": \"1. Toy Story 2. Grumpier Old Men 3. Waiting to Exhale 4. Father of the Bride Part II 5. Sabrina 6. The American President 7. Dracula: Dead and Loving It 8. Four Rooms 9. Ace Ventura: When Nature Calls 10. Money Train\"}, {\"genres\": \"Thriller\", \"count\": 7624, \"percentage\": 8.368274317827586, \"top_movies\": \"1. Heat 2. Sudden Death 3. GoldenEye 4. Get Shorty 5. Copycat 6. Assassins 7. Powder 8. Twelve Monkeys 9. To Die For 10. Se7en\"}, {\"genres\": \"Romance\", \"count\": 6735, \"percentage\": 7.392487871270828, \"top_movies\": \"1. Grumpier Old Men 2. Waiting to Exhale 3. Sabrina 4. The American President 5. Sense and Sensibility 6. Leaving Las Vegas 7. Persuasion 8. Wings of Courage 9. Carrington 10. It Takes Two\"}, {\"genres\": \"Action\", \"count\": 6596, \"percentage\": 7.2399183368823135, \"top_movies\": \"1. Heat 2. Tom and Huck 3. Sudden Death 4. GoldenEye 5. Cutthroat Island 6. Money Train 7. Assassins 8. Dead Presidents 9. Mortal Kombat 10. Guardian Angel\"}, {\"genres\": \"Horror\", \"count\": 4673, \"percentage\": 5.129190174082936, \"top_movies\": \"1. Dracula: Dead and Loving It 2. From Dusk Till Dawn 3. Screamers 4. Mary Reilly 5. Vampire in Brooklyn 6. The Addiction 7. Lord of Illusions 8. Nadja 9. The Prophecy 10. Species\"}, {\"genres\": \"Crime\", \"count\": 4307, \"percentage\": 4.727460320944833, \"top_movies\": \"1. Heat 2. Casino 3. Four Rooms 4. Ace Ventura: When Nature Calls 5. Money Train 6. Get Shorty 7. Assassins 8. Shanghai Triad 9. Dangerous Minds 10. Dead Presidents\"}, {\"genres\": \"Documentary\", \"count\": 3932, \"percentage\": 4.315851864860712, \"top_movies\": \"1. Nico Icon 2. Heidi Fleiss: Hollywood Madam 3. Catwalk 4. Anne Frank Remembered 5. Sonic Outlaws 6. From the Journals of Jean Seberg 7. Crumb 8. The Show 9. Unzipped 10. Hoop Dreams\"}, {\"genres\": \"Adventure\", \"count\": 3496, \"percentage\": 3.837288433253573, \"top_movies\": \"1. Jumanji 2. Tom and Huck 3. Sudden Death 4. GoldenEye 5. Balto 6. Cutthroat Island 7. Ace Ventura: When Nature Calls 8. Assassins 9. The City of Lost Children 10. Wings of Courage\"}, {\"genres\": \"Science Fiction\", \"count\": 3049, \"percentage\": 3.3466511536012997, \"top_movies\": \"1. Powder 2. The City of Lost Children 3. Twelve Monkeys 4. Lawnmower Man 2: Beyond Cyberspace 5. Screamers 6. Shopping 7. Unforgettable 8. Congo 9. Johnny Mnemonic 10. Judge Dredd\"}, {\"genres\": \"Family\", \"count\": 2770, \"percentage\": 3.040414462274713, \"top_movies\": \"1. Toy Story 2. Jumanji 3. Tom and Huck 4. Balto 5. Now and Then 6. Babe 7. Across the Sea of Time 8. It Takes Two 9. Pocahontas 10. The Big Green\"}, {\"genres\": \"Mystery\", \"count\": 2467, \"percentage\": 2.7078348297587427, \"top_movies\": \"1. Twelve Monkeys 2. Se7en 3. The Confessional 4. Unforgettable 5. Jade 6. Clockers 7. Congo 8. Devil in a Blue Dress 9. Lord of Illusions 10. The Net\"}, {\"genres\": \"Fantasy\", \"count\": 2313, \"percentage\": 2.5388009571268633, \"top_movies\": \"1. Jumanji 2. Powder 3. The City of Lost Children 4. Babe 5. Mortal Kombat 6. To Die For 7. The Indian in the Cupboard 8. The Neverending Story III: Escape from Fantasia 9. Batman Forever 10. Casper\"}, {\"genres\": \"Animation\", \"count\": 1935, \"percentage\": 2.1238996333940685, \"top_movies\": \"1. Toy Story 2. Balto 3. Pocahontas 4. A Goofy Movie 5. Gumby: The Movie 6. The Swan Princess 7. The Lion King 8. The Secret Adventures of Tom Thumb 9. The Nightmare Before Christmas 10. The Pagemaster\"}, {\"genres\": \"Foreign\", \"count\": 1622, \"percentage\": 1.7803437753825215, \"top_movies\": \"1. Lamerica 2. Anne Frank Remembered 3. Mute Witness 4. The Wonderful, Horrible Life of Leni Riefenstahl 5. Widows' Peak 6. Ciao, Professore! 7. Caf\\u00e9 au Lait 8. The Wooden Man's Bride 9. Bread and Chocolate 10. Tigrero: A Film That Was Never Made\"}, {\"genres\": \"Music\", \"count\": 1598, \"percentage\": 1.754000834193138, \"top_movies\": \"1. Mr. Holland's Opus 2. Muppet Treasure Island 3. Sonic Outlaws 4. Immortal Beloved 5. Three Colors: Blue 6. Backbeat 7. Airheads 8. What's Love Got to Do with It 9. Radioland Murders 10. Thirty Two Short Films About Glenn Gould\"}, {\"genres\": \"History\", \"count\": 1398, \"percentage\": 1.534476324281606, \"top_movies\": \"1. Nixon 2. Carrington 3. Across the Sea of Time 4. Dead Presidents 5. Les Miserables 6. Braveheart 7. The Scarlet Letter 8. Ed Wood 9. Farinelli 10. The Madness of King George\"}, {\"genres\": \"War\", \"count\": 1323, \"percentage\": 1.4521546330647817, \"top_movies\": \"1. Richard III 2. Braveheart 3. Frankie Starlight 4. Before the Rain 5. Legends of the Fall 6. To Live 7. The Walking Dead 8. Heaven & Earth 9. Hot Shots! Part Deux 10. Renaissance Man\"}, {\"genres\": \"Western\", \"count\": 1042, \"percentage\": 1.1437226966390797, \"top_movies\": \"1. Wild Bill 2. The Quick and the Dead 3. Maverick 4. Wyatt Earp 5. Bad Girls 6. City Slickers II: The Legend of Curly's Gold 7. The Cowboy Way 8. Even Cowgirls Get the Blues 9. Geronimo: An American Legend 10. Lightning Jack\"}, {\"genres\": \"TV Movie\", \"count\": 767, \"percentage\": 0.8418764955107239, \"top_movies\": \"1. Rent-a-Kid 2. Wide Eyed and Legless 3. Inside 4. Go Now 5. Love Is the Devil: Study for a Portrait of Francis Bacon 6. Photographer 7. Babymother 8. Hysterical Blindness 9. Wit 10. Skokie\"}, {\"genres\": \"Odyssey Media\", \"count\": 1, \"percentage\": 0.001097622549557658, \"top_movies\": \"1. nan\"}, {\"genres\": \"Pulser Productions\", \"count\": 1, \"percentage\": 0.001097622549557658, \"top_movies\": \"1. nan\"}, {\"genres\": \"Rogue State\", \"count\": 1, \"percentage\": 0.001097622549557658, \"top_movies\": \"1. nan\"}, {\"genres\": \"GoHands\", \"count\": 1, \"percentage\": 0.001097622549557658, \"top_movies\": \"1. nan\"}, {\"genres\": \"Carousel Productions\", \"count\": 1, \"percentage\": 0.001097622549557658, \"top_movies\": \"1. nan\"}, {\"genres\": \"Sentai Filmworks\", \"count\": 1, \"percentage\": 0.001097622549557658, \"top_movies\": \"1. nan\"}, {\"genres\": \"Telescene Film Group Productions\", \"count\": 1, \"percentage\": 0.001097622549557658, \"top_movies\": \"1. nan\"}, {\"genres\": \"The Cartel\", \"count\": 1, \"percentage\": 0.001097622549557658, \"top_movies\": \"1. nan\"}, {\"genres\": \"BROSTA TV\", \"count\": 1, \"percentage\": 0.001097622549557658, \"top_movies\": \"1. nan\"}, {\"genres\": \"Vision View Entertainment\", \"count\": 1, \"percentage\": 0.001097622549557658, \"top_movies\": \"1. nan\"}, {\"genres\": \"Aniplex\", \"count\": 1, \"percentage\": 0.001097622549557658, \"top_movies\": \"1. nan\"}, {\"genres\": \"Mardock Scramble Production Committee\", \"count\": 1, \"percentage\": 0.001097622549557658, \"top_movies\": \"1. nan\"}]}}, {\"mode\": \"vega-lite\"});\n</script>",
      "text/plain": "alt.Chart(...)"
     },
     "execution_count": 128,
     "metadata": {},
     "output_type": "execute_result"
    }
   ],
   "source": [
    "# plot the genres distribution and show top 10 movies as a tooltip\n",
    "alt.Chart(genres).mark_arc().encode(\n",
    "    theta=alt.Theta(field='percentage', type='quantitative', stack=True),\n",
    "    color=alt.Color(field='genres', type='nominal'),\n",
    "    tooltip=[alt.Tooltip('genres', title='Genre'), alt.Tooltip('percentage', format='.2f', title='Percentage'), alt.Tooltip('top_movies', title='Top Movies')],\n",
    "    order=alt.Order('count', sort='descending')\n",
    ").properties(\n",
    "    title='Genres Distribution and Top Movies'\n",
    ").interactive()\n"
   ],
   "metadata": {
    "collapsed": false
   }
  },
  {
   "cell_type": "code",
   "execution_count": 87,
   "outputs": [],
   "source": [],
   "metadata": {
    "collapsed": false
   }
  }
 ],
 "metadata": {
  "kernelspec": {
   "display_name": "Python 3 (ipykernel)",
   "language": "python",
   "name": "python3"
  },
  "language_info": {
   "codemirror_mode": {
    "name": "ipython",
    "version": 3
   },
   "file_extension": ".py",
   "mimetype": "text/x-python",
   "name": "python",
   "nbconvert_exporter": "python",
   "pygments_lexer": "ipython3",
   "version": "3.9.6"
  }
 },
 "nbformat": 4,
 "nbformat_minor": 5
}
