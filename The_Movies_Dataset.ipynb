{
 "cells": [
  {
   "cell_type": "markdown",
   "id": "919b5e3de353407b",
   "metadata": {},
   "source": [
    "## Visualization Project: Movie Recommendation System\n",
    "\n",
    "### Overview\n",
    "This project is part of MSDS course work (Course: DTSA 5304: Fundamentals of Data Visualization). The course uses the Altair library to explain visualization concepts.\n",
    "\n",
    "### Project Description\n",
    "The project uses the movies dataset to analyze multiple aspects of the dataset.\n",
    "\n",
    "### Dataset: The Movies Dataset\n",
    "This system uses the movies dataset [the-movies-dataset](https://www.kaggle.com/datasets/rounakbanik/the-movies-dataset). It has metadata on over 45,000 movies. 26 million ratings from over 270,000 users.\n",
    "\n",
    "### Visualization\n",
    "To access the visualization online, use this [link](https://html-preview.github.io/?url=https://github.com/balajigandhi/msds_dtsa5304/blob/main/The_Movies_Dataset.html).\n",
    "To access the source notebook online, use this [link](https://nbviewer.org/github/balajigandhi/msds_dtsa5304/blob/main/The_Movies_Dataset.ipynb)."
   ]
  },
  {
   "cell_type": "markdown",
   "id": "49391e9f",
   "metadata": {},
   "source": [
    "### Required Libraries\n",
    "First we install the required libraries. This only needs to be done **once**."
   ]
  },
  {
   "cell_type": "code",
   "execution_count": 479,
   "id": "4e854eeb",
   "metadata": {},
   "outputs": [],
   "source": [
    "#%pip install altair vega vega_datasets pandas scikit-learn sentence-transformers streamlit"
   ]
  },
  {
   "cell_type": "markdown",
   "id": "e640647b",
   "metadata": {},
   "source": [
    "### Visualition #1: Genres Distribution\n",
    "The first visualization tries to analyze the distribution of genres in the movies dataset."
   ]
  },
  {
   "cell_type": "code",
   "execution_count": 480,
   "id": "347a35fc",
   "metadata": {},
   "outputs": [
    {
     "data": {
      "text/plain": "      id                        title  \\\n0    862                    Toy Story   \n1   8844                      Jumanji   \n2  15602             Grumpier Old Men   \n3  31357            Waiting to Exhale   \n4  11862  Father of the Bride Part II   \n\n                                              genres  \n0  [{'id': 16, 'name': 'Animation'}, {'id': 35, '...  \n1  [{'id': 12, 'name': 'Adventure'}, {'id': 14, '...  \n2  [{'id': 10749, 'name': 'Romance'}, {'id': 35, ...  \n3  [{'id': 35, 'name': 'Comedy'}, {'id': 18, 'nam...  \n4                     [{'id': 35, 'name': 'Comedy'}]  ",
      "text/html": "<div>\n<style scoped>\n    .dataframe tbody tr th:only-of-type {\n        vertical-align: middle;\n    }\n\n    .dataframe tbody tr th {\n        vertical-align: top;\n    }\n\n    .dataframe thead th {\n        text-align: right;\n    }\n</style>\n<table border=\"1\" class=\"dataframe\">\n  <thead>\n    <tr style=\"text-align: right;\">\n      <th></th>\n      <th>id</th>\n      <th>title</th>\n      <th>genres</th>\n    </tr>\n  </thead>\n  <tbody>\n    <tr>\n      <th>0</th>\n      <td>862</td>\n      <td>Toy Story</td>\n      <td>[{'id': 16, 'name': 'Animation'}, {'id': 35, '...</td>\n    </tr>\n    <tr>\n      <th>1</th>\n      <td>8844</td>\n      <td>Jumanji</td>\n      <td>[{'id': 12, 'name': 'Adventure'}, {'id': 14, '...</td>\n    </tr>\n    <tr>\n      <th>2</th>\n      <td>15602</td>\n      <td>Grumpier Old Men</td>\n      <td>[{'id': 10749, 'name': 'Romance'}, {'id': 35, ...</td>\n    </tr>\n    <tr>\n      <th>3</th>\n      <td>31357</td>\n      <td>Waiting to Exhale</td>\n      <td>[{'id': 35, 'name': 'Comedy'}, {'id': 18, 'nam...</td>\n    </tr>\n    <tr>\n      <th>4</th>\n      <td>11862</td>\n      <td>Father of the Bride Part II</td>\n      <td>[{'id': 35, 'name': 'Comedy'}]</td>\n    </tr>\n  </tbody>\n</table>\n</div>"
     },
     "execution_count": 480,
     "metadata": {},
     "output_type": "execute_result"
    }
   ],
   "source": [
    "import pandas as pd\n",
    "import altair as alt\n",
    "from ast import literal_eval\n",
    "\n",
    "# load the movies metadata\n",
    "movies_metadata = pd.read_csv('./The_Movies_Dataset/movies_metadata.csv', low_memory=False)\n",
    "# extract the genres from the genres column\n",
    "movies_metadata_genres = movies_metadata[['id', 'title', 'genres']].copy()\n",
    "movies_metadata_genres.head()"
   ]
  },
  {
   "cell_type": "code",
   "execution_count": 481,
   "id": "0f6fb28a",
   "metadata": {},
   "outputs": [
    {
     "data": {
      "text/plain": "      id                        title  \\\n0    862                    Toy Story   \n1   8844                      Jumanji   \n2  15602             Grumpier Old Men   \n3  31357            Waiting to Exhale   \n4  11862  Father of the Bride Part II   \n\n                                              genres  \n0  [{'id': 16, 'name': 'Animation'}, {'id': 35, '...  \n1  [{'id': 12, 'name': 'Adventure'}, {'id': 14, '...  \n2  [{'id': 10749, 'name': 'Romance'}, {'id': 35, ...  \n3  [{'id': 35, 'name': 'Comedy'}, {'id': 18, 'nam...  \n4                     [{'id': 35, 'name': 'Comedy'}]  ",
      "text/html": "<div>\n<style scoped>\n    .dataframe tbody tr th:only-of-type {\n        vertical-align: middle;\n    }\n\n    .dataframe tbody tr th {\n        vertical-align: top;\n    }\n\n    .dataframe thead th {\n        text-align: right;\n    }\n</style>\n<table border=\"1\" class=\"dataframe\">\n  <thead>\n    <tr style=\"text-align: right;\">\n      <th></th>\n      <th>id</th>\n      <th>title</th>\n      <th>genres</th>\n    </tr>\n  </thead>\n  <tbody>\n    <tr>\n      <th>0</th>\n      <td>862</td>\n      <td>Toy Story</td>\n      <td>[{'id': 16, 'name': 'Animation'}, {'id': 35, '...</td>\n    </tr>\n    <tr>\n      <th>1</th>\n      <td>8844</td>\n      <td>Jumanji</td>\n      <td>[{'id': 12, 'name': 'Adventure'}, {'id': 14, '...</td>\n    </tr>\n    <tr>\n      <th>2</th>\n      <td>15602</td>\n      <td>Grumpier Old Men</td>\n      <td>[{'id': 10749, 'name': 'Romance'}, {'id': 35, ...</td>\n    </tr>\n    <tr>\n      <th>3</th>\n      <td>31357</td>\n      <td>Waiting to Exhale</td>\n      <td>[{'id': 35, 'name': 'Comedy'}, {'id': 18, 'nam...</td>\n    </tr>\n    <tr>\n      <th>4</th>\n      <td>11862</td>\n      <td>Father of the Bride Part II</td>\n      <td>[{'id': 35, 'name': 'Comedy'}]</td>\n    </tr>\n  </tbody>\n</table>\n</div>"
     },
     "execution_count": 481,
     "metadata": {},
     "output_type": "execute_result"
    }
   ],
   "source": [
    "# genres column is a string representation of a list of dictionaries. We need to convert it to a list of strings.\n",
    "movies_metadata_genres_as_list = movies_metadata_genres.copy()\n",
    "movies_metadata_genres_as_list['genres'] = (\n",
    "    movies_metadata_genres['genres']\n",
    "    .fillna('[]')\n",
    "    .apply(literal_eval)\n",
    "    .apply(lambda x: [i['name'] for i in x] if isinstance(x, list) else [])\n",
    ")\n",
    "movies_metadata_genres.head()"
   ]
  },
  {
   "cell_type": "code",
   "execution_count": 482,
   "outputs": [
    {
     "data": {
      "text/plain": "      genres  count  percentage\n9      Drama  20265   22.243321\n6     Comedy  13182   14.468860\n28  Thriller   7624    8.368274\n22   Romance   6735    7.392488\n0     Action   6596    7.239918",
      "text/html": "<div>\n<style scoped>\n    .dataframe tbody tr th:only-of-type {\n        vertical-align: middle;\n    }\n\n    .dataframe tbody tr th {\n        vertical-align: top;\n    }\n\n    .dataframe thead th {\n        text-align: right;\n    }\n</style>\n<table border=\"1\" class=\"dataframe\">\n  <thead>\n    <tr style=\"text-align: right;\">\n      <th></th>\n      <th>genres</th>\n      <th>count</th>\n      <th>percentage</th>\n    </tr>\n  </thead>\n  <tbody>\n    <tr>\n      <th>9</th>\n      <td>Drama</td>\n      <td>20265</td>\n      <td>22.243321</td>\n    </tr>\n    <tr>\n      <th>6</th>\n      <td>Comedy</td>\n      <td>13182</td>\n      <td>14.468860</td>\n    </tr>\n    <tr>\n      <th>28</th>\n      <td>Thriller</td>\n      <td>7624</td>\n      <td>8.368274</td>\n    </tr>\n    <tr>\n      <th>22</th>\n      <td>Romance</td>\n      <td>6735</td>\n      <td>7.392488</td>\n    </tr>\n    <tr>\n      <th>0</th>\n      <td>Action</td>\n      <td>6596</td>\n      <td>7.239918</td>\n    </tr>\n  </tbody>\n</table>\n</div>"
     },
     "execution_count": 482,
     "metadata": {},
     "output_type": "execute_result"
    }
   ],
   "source": [
    "# The genres column is now a list of strings. We can now explode the genres column and group by genres.\n",
    "movies_metadata_genres_exploded = movies_metadata_genres_as_list.explode('genres')\n",
    "movies_metadata_genres_exploded = movies_metadata_genres_exploded.groupby('genres').size().reset_index(name='count')\n",
    "movies_metadata_genres_exploded = movies_metadata_genres_exploded.sort_values('count', ascending=False)\n",
    "# calculate the percentage\n",
    "movies_metadata_genres_exploded['percentage'] = movies_metadata_genres_exploded['count'] / movies_metadata_genres_exploded['count'].sum() * 100\n",
    "movies_metadata_genres_exploded.head()"
   ],
   "metadata": {
    "collapsed": false
   }
  },
  {
   "cell_type": "code",
   "execution_count": 483,
   "outputs": [
    {
     "data": {
      "text/plain": "['Drama',\n 'Comedy',\n 'Thriller',\n 'Romance',\n 'Action',\n 'Horror',\n 'Crime',\n 'Documentary',\n 'Adventure',\n 'Science Fiction',\n 'Family',\n 'Mystery',\n 'Fantasy',\n 'Animation',\n 'Foreign',\n 'Music',\n 'History',\n 'War',\n 'Western',\n 'TV Movie',\n 'Odyssey Media',\n 'Pulser Productions',\n 'Rogue State',\n 'GoHands',\n 'Carousel Productions',\n 'Sentai Filmworks',\n 'Telescene Film Group Productions',\n 'The Cartel',\n 'BROSTA TV',\n 'Vision View Entertainment',\n 'Aniplex',\n 'Mardock Scramble Production Committee']"
     },
     "execution_count": 483,
     "metadata": {},
     "output_type": "execute_result"
    }
   ],
   "source": [
    "# Some records are missing genres. This causes the production house names to be parsed into genres field in the dataframes. We need to remove these records.\n",
    "movies_metadata_genres_exploded.genres.unique().tolist()"
   ],
   "metadata": {
    "collapsed": false
   }
  },
  {
   "cell_type": "code",
   "execution_count": 484,
   "outputs": [
    {
     "data": {
      "text/plain": "['Drama',\n 'Comedy',\n 'Thriller',\n 'Romance',\n 'Action',\n 'Horror',\n 'Crime',\n 'Documentary',\n 'Adventure',\n 'Science Fiction',\n 'Family',\n 'Mystery',\n 'Fantasy',\n 'Animation',\n 'Foreign',\n 'Music',\n 'History',\n 'War',\n 'Western',\n 'TV Movie']"
     },
     "execution_count": 484,
     "metadata": {},
     "output_type": "execute_result"
    }
   ],
   "source": [
    "# Remove the records with the wrong genres values\n",
    "wrong_genres = ['Odyssey Media',\n",
    "'Pulser Productions',\n",
    "'Rogue State',\n",
    "'GoHands',\n",
    "'Carousel Productions',\n",
    "'Sentai Filmworks',\n",
    "'Telescene Film Group Productions',\n",
    "'The Cartel',\n",
    "'BROSTA TV',\n",
    "'Vision View Entertainment',\n",
    "'Aniplex',\n",
    "'Mardock Scramble Production Committee']\n",
    "movies_metadata_genres_exploded = movies_metadata_genres_exploded[~movies_metadata_genres_exploded['genres'].isin(wrong_genres)]\n",
    "movies_metadata_genres_exploded.genres.unique().tolist()"
   ],
   "metadata": {
    "collapsed": false
   }
  },
  {
   "cell_type": "code",
   "execution_count": 485,
   "outputs": [
    {
     "data": {
      "text/plain": "      genres  count percentage\n3    Romance   6735   7.392488\n2   Thriller   7624   8.368274\n14     Other   7750   8.506575\n1     Comedy  13182   14.46886\n0      Drama  20265  22.243321",
      "text/html": "<div>\n<style scoped>\n    .dataframe tbody tr th:only-of-type {\n        vertical-align: middle;\n    }\n\n    .dataframe tbody tr th {\n        vertical-align: top;\n    }\n\n    .dataframe thead th {\n        text-align: right;\n    }\n</style>\n<table border=\"1\" class=\"dataframe\">\n  <thead>\n    <tr style=\"text-align: right;\">\n      <th></th>\n      <th>genres</th>\n      <th>count</th>\n      <th>percentage</th>\n    </tr>\n  </thead>\n  <tbody>\n    <tr>\n      <th>3</th>\n      <td>Romance</td>\n      <td>6735</td>\n      <td>7.392488</td>\n    </tr>\n    <tr>\n      <th>2</th>\n      <td>Thriller</td>\n      <td>7624</td>\n      <td>8.368274</td>\n    </tr>\n    <tr>\n      <th>14</th>\n      <td>Other</td>\n      <td>7750</td>\n      <td>8.506575</td>\n    </tr>\n    <tr>\n      <th>1</th>\n      <td>Comedy</td>\n      <td>13182</td>\n      <td>14.46886</td>\n    </tr>\n    <tr>\n      <th>0</th>\n      <td>Drama</td>\n      <td>20265</td>\n      <td>22.243321</td>\n    </tr>\n  </tbody>\n</table>\n</div>"
     },
     "execution_count": 485,
     "metadata": {},
     "output_type": "execute_result"
    }
   ],
   "source": [
    "# Group the genres with less than 2% into a single genre called 'Other'\n",
    "threshold = 2\n",
    "other_genres = movies_metadata_genres_exploded[movies_metadata_genres_exploded['percentage'] < threshold]\n",
    "other_genres = other_genres.sum()\n",
    "other_genres['genres'] = 'Other'\n",
    "movies_metadata_genres_exploded = movies_metadata_genres_exploded[movies_metadata_genres_exploded['percentage'] >= threshold]\n",
    "movies_metadata_genres_exploded = pd.concat([movies_metadata_genres_exploded, other_genres.to_frame().T], ignore_index=True)\n",
    "movies_metadata_genres_exploded = movies_metadata_genres_exploded.sort_values('count')\n",
    "movies_metadata_genres_exploded.tail()"
   ],
   "metadata": {
    "collapsed": false
   }
  },
  {
   "cell_type": "code",
   "execution_count": 486,
   "id": "775e62828dbf1b9d",
   "metadata": {
    "ExecuteTime": {
     "end_time": "2024-06-01T00:20:46.379829Z",
     "start_time": "2024-06-01T00:20:46.347851Z"
    }
   },
   "outputs": [
    {
     "data": {
      "text/html": "\n<style>\n  #altair-viz-bf98417d95064b33b6d5576fb45b3cff.vega-embed {\n    width: 100%;\n    display: flex;\n  }\n\n  #altair-viz-bf98417d95064b33b6d5576fb45b3cff.vega-embed details,\n  #altair-viz-bf98417d95064b33b6d5576fb45b3cff.vega-embed details summary {\n    position: relative;\n  }\n</style>\n<div id=\"altair-viz-bf98417d95064b33b6d5576fb45b3cff\"></div>\n<script type=\"text/javascript\">\n  var VEGA_DEBUG = (typeof VEGA_DEBUG == \"undefined\") ? {} : VEGA_DEBUG;\n  (function(spec, embedOpt){\n    let outputDiv = document.currentScript.previousElementSibling;\n    if (outputDiv.id !== \"altair-viz-bf98417d95064b33b6d5576fb45b3cff\") {\n      outputDiv = document.getElementById(\"altair-viz-bf98417d95064b33b6d5576fb45b3cff\");\n    }\n    const paths = {\n      \"vega\": \"https://cdn.jsdelivr.net/npm/vega@5?noext\",\n      \"vega-lib\": \"https://cdn.jsdelivr.net/npm/vega-lib?noext\",\n      \"vega-lite\": \"https://cdn.jsdelivr.net/npm/vega-lite@5.17.0?noext\",\n      \"vega-embed\": \"https://cdn.jsdelivr.net/npm/vega-embed@6?noext\",\n    };\n\n    function maybeLoadScript(lib, version) {\n      var key = `${lib.replace(\"-\", \"\")}_version`;\n      return (VEGA_DEBUG[key] == version) ?\n        Promise.resolve(paths[lib]) :\n        new Promise(function(resolve, reject) {\n          var s = document.createElement('script');\n          document.getElementsByTagName(\"head\")[0].appendChild(s);\n          s.async = true;\n          s.onload = () => {\n            VEGA_DEBUG[key] = version;\n            return resolve(paths[lib]);\n          };\n          s.onerror = () => reject(`Error loading script: ${paths[lib]}`);\n          s.src = paths[lib];\n        });\n    }\n\n    function showError(err) {\n      outputDiv.innerHTML = `<div class=\"error\" style=\"color:red;\">${err}</div>`;\n      throw err;\n    }\n\n    function displayChart(vegaEmbed) {\n      vegaEmbed(outputDiv, spec, embedOpt)\n        .catch(err => showError(`Javascript Error: ${err.message}<br>This usually means there's a typo in your chart specification. See the javascript console for the full traceback.`));\n    }\n\n    if(typeof define === \"function\" && define.amd) {\n      requirejs.config({paths});\n      require([\"vega-embed\"], displayChart, err => showError(`Error loading script: ${err.message}`));\n    } else {\n      maybeLoadScript(\"vega\", \"5\")\n        .then(() => maybeLoadScript(\"vega-lite\", \"5.17.0\"))\n        .then(() => maybeLoadScript(\"vega-embed\", \"6\"))\n        .catch(showError)\n        .then(() => displayChart(vegaEmbed));\n    }\n  })({\"config\": {\"view\": {\"continuousWidth\": 300, \"continuousHeight\": 300}}, \"data\": {\"name\": \"data-bbe7cd2b53e0fb835cef49cd50e27a9c\"}, \"mark\": {\"type\": \"arc\"}, \"encoding\": {\"color\": {\"field\": \"genres\", \"type\": \"nominal\"}, \"theta\": {\"field\": \"percentage\", \"stack\": true, \"type\": \"quantitative\"}, \"tooltip\": [{\"field\": \"genres\", \"title\": \"Genre\", \"type\": \"nominal\"}, {\"field\": \"percentage\", \"format\": \".2f\", \"title\": \"Percentage\", \"type\": \"quantitative\"}]}, \"params\": [{\"name\": \"param_182\", \"select\": {\"type\": \"interval\", \"encodings\": [\"x\", \"y\"]}, \"bind\": \"scales\"}], \"title\": \"Genres Distribution\", \"$schema\": \"https://vega.github.io/schema/vega-lite/v5.17.0.json\", \"datasets\": {\"data-bbe7cd2b53e0fb835cef49cd50e27a9c\": [{\"genres\": \"Animation\", \"count\": 1935, \"percentage\": 2.1238996333940685}, {\"genres\": \"Fantasy\", \"count\": 2313, \"percentage\": 2.5388009571268633}, {\"genres\": \"Mystery\", \"count\": 2467, \"percentage\": 2.7078348297587427}, {\"genres\": \"Family\", \"count\": 2770, \"percentage\": 3.040414462274713}, {\"genres\": \"Science Fiction\", \"count\": 3049, \"percentage\": 3.3466511536012997}, {\"genres\": \"Adventure\", \"count\": 3496, \"percentage\": 3.837288433253573}, {\"genres\": \"Documentary\", \"count\": 3932, \"percentage\": 4.315851864860712}, {\"genres\": \"Crime\", \"count\": 4307, \"percentage\": 4.727460320944833}, {\"genres\": \"Horror\", \"count\": 4673, \"percentage\": 5.129190174082936}, {\"genres\": \"Action\", \"count\": 6596, \"percentage\": 7.2399183368823135}, {\"genres\": \"Romance\", \"count\": 6735, \"percentage\": 7.392487871270828}, {\"genres\": \"Thriller\", \"count\": 7624, \"percentage\": 8.368274317827586}, {\"genres\": \"Other\", \"count\": 7750, \"percentage\": 8.50657475907185}, {\"genres\": \"Comedy\", \"count\": 13182, \"percentage\": 14.46886044826905}, {\"genres\": \"Drama\", \"count\": 20265, \"percentage\": 22.243320966785944}]}}, {\"mode\": \"vega-lite\"});\n</script>",
      "text/plain": "alt.Chart(...)"
     },
     "execution_count": 486,
     "metadata": {},
     "output_type": "execute_result"
    }
   ],
   "source": [
    "# Plot the genres distribution\n",
    "alt.Chart(movies_metadata_genres_exploded).mark_arc().encode(\n",
    "    theta=alt.Theta(field='percentage', type='quantitative', stack=True),\n",
    "    color=alt.Color(field='genres', type='nominal'),\n",
    "    tooltip=[alt.Tooltip('genres', title='Genre'), alt.Tooltip('percentage', format='.2f', title='Percentage')]\n",
    ").properties(\n",
    "    title='Genres Distribution'\n",
    ").interactive()"
   ]
  },
  {
   "cell_type": "markdown",
   "id": "a313061b",
   "metadata": {},
   "source": [
    "### Visualition #2: Genres Distribution and Top Movies"
   ]
  },
  {
   "cell_type": "code",
   "execution_count": 487,
   "id": "53e2fb0b",
   "metadata": {},
   "outputs": [
    {
     "data": {
      "text/plain": "        id                        title     score\n0    862.0                    Toy Story  7.640254\n1   8844.0                      Jumanji  6.820294\n4  11862.0  Father of the Bride Part II  5.660712\n5    949.0                         Heat  7.537203\n8   9091.0                 Sudden Death  5.556638",
      "text/html": "<div>\n<style scoped>\n    .dataframe tbody tr th:only-of-type {\n        vertical-align: middle;\n    }\n\n    .dataframe tbody tr th {\n        vertical-align: top;\n    }\n\n    .dataframe thead th {\n        text-align: right;\n    }\n</style>\n<table border=\"1\" class=\"dataframe\">\n  <thead>\n    <tr style=\"text-align: right;\">\n      <th></th>\n      <th>id</th>\n      <th>title</th>\n      <th>score</th>\n    </tr>\n  </thead>\n  <tbody>\n    <tr>\n      <th>0</th>\n      <td>862.0</td>\n      <td>Toy Story</td>\n      <td>7.640254</td>\n    </tr>\n    <tr>\n      <th>1</th>\n      <td>8844.0</td>\n      <td>Jumanji</td>\n      <td>6.820294</td>\n    </tr>\n    <tr>\n      <th>4</th>\n      <td>11862.0</td>\n      <td>Father of the Bride Part II</td>\n      <td>5.660712</td>\n    </tr>\n    <tr>\n      <th>5</th>\n      <td>949.0</td>\n      <td>Heat</td>\n      <td>7.537203</td>\n    </tr>\n    <tr>\n      <th>8</th>\n      <td>9091.0</td>\n      <td>Sudden Death</td>\n      <td>5.556638</td>\n    </tr>\n  </tbody>\n</table>\n</div>"
     },
     "execution_count": 487,
     "metadata": {},
     "output_type": "execute_result"
    }
   ],
   "source": [
    "credits = pd.read_csv('./The_Movies_Dataset/credits.csv', low_memory=False)\n",
    "movies_metadata['id'] = pd.to_numeric(movies_metadata['id'], errors='coerce')\n",
    "credits['id'] = pd.to_numeric(credits['id'], errors='coerce')\n",
    "movies_metadata_credits = movies_metadata.merge(credits, on='id')\n",
    "# Calculating the average rating for each movie is not enough. We need to calculate the weighted rating for each movie.\n",
    "# https://math.stackexchange.com/questions/169032/understanding-the-imdb-weighted-rating-function-for-usage-on-my-own-website\n",
    "# Weighted Rating (WR) = (v ÷ (v+m)) × R + (m ÷ (v+m)) × C\n",
    "\n",
    "# v = number of votes for the movie\n",
    "# m = minimum votes required to be listed in the chart\n",
    "# R = average rating of the movie\n",
    "# C = mean vote across the whole report\n",
    "\n",
    "C = movies_metadata_credits['vote_average'].mean()\n",
    "m = movies_metadata_credits['vote_count'].quantile(0.90)\n",
    "\n",
    "# filter out movies that have less than m votes\n",
    "movies_metadata_credits = movies_metadata_credits[movies_metadata_credits['vote_count'] >= m]\n",
    "\n",
    "# calculate the score\n",
    "movies_metadata_credits['score'] = (\n",
    "    (movies_metadata_credits['vote_count'] / (movies_metadata_credits['vote_count'] + m)) * movies_metadata_credits['vote_average'] +\n",
    "    (m / (movies_metadata_credits['vote_count'] + m)) * C\n",
    ")\n",
    "movies_metadata_credits[['id', 'title', 'score']].head()"
   ]
  },
  {
   "cell_type": "code",
   "execution_count": 488,
   "id": "12f3edd2",
   "metadata": {},
   "outputs": [
    {
     "data": {
      "text/plain": "      genres  count     score  percentage  \\\n0     Action   1176  6.140327    9.769876   \n1  Adventure    885  6.242496    7.352330   \n2  Animation    370  6.482123    3.073856   \n3     Comedy   1591  6.124103   13.217579   \n4      Crime    747  6.335402    6.205865   \n\n                                          top_movies  \n0  1. The Dark Knight 2. The Empire Strikes Back ...  \n1  1. Spirited Away 2. The Empire Strikes Back 3....  \n2  1. Spirited Away 2. Your Name. 3. Howl's Movin...  \n3  1. Dilwale Dulhania Le Jayenge 2. Life Is Beau...  \n4  1. The Shawshank Redemption 2. The Godfather 3...  ",
      "text/html": "<div>\n<style scoped>\n    .dataframe tbody tr th:only-of-type {\n        vertical-align: middle;\n    }\n\n    .dataframe tbody tr th {\n        vertical-align: top;\n    }\n\n    .dataframe thead th {\n        text-align: right;\n    }\n</style>\n<table border=\"1\" class=\"dataframe\">\n  <thead>\n    <tr style=\"text-align: right;\">\n      <th></th>\n      <th>genres</th>\n      <th>count</th>\n      <th>score</th>\n      <th>percentage</th>\n      <th>top_movies</th>\n    </tr>\n  </thead>\n  <tbody>\n    <tr>\n      <th>0</th>\n      <td>Action</td>\n      <td>1176</td>\n      <td>6.140327</td>\n      <td>9.769876</td>\n      <td>1. The Dark Knight 2. The Empire Strikes Back ...</td>\n    </tr>\n    <tr>\n      <th>1</th>\n      <td>Adventure</td>\n      <td>885</td>\n      <td>6.242496</td>\n      <td>7.352330</td>\n      <td>1. Spirited Away 2. The Empire Strikes Back 3....</td>\n    </tr>\n    <tr>\n      <th>2</th>\n      <td>Animation</td>\n      <td>370</td>\n      <td>6.482123</td>\n      <td>3.073856</td>\n      <td>1. Spirited Away 2. Your Name. 3. Howl's Movin...</td>\n    </tr>\n    <tr>\n      <th>3</th>\n      <td>Comedy</td>\n      <td>1591</td>\n      <td>6.124103</td>\n      <td>13.217579</td>\n      <td>1. Dilwale Dulhania Le Jayenge 2. Life Is Beau...</td>\n    </tr>\n    <tr>\n      <th>4</th>\n      <td>Crime</td>\n      <td>747</td>\n      <td>6.335402</td>\n      <td>6.205865</td>\n      <td>1. The Shawshank Redemption 2. The Godfather 3...</td>\n    </tr>\n  </tbody>\n</table>\n</div>"
     },
     "execution_count": 488,
     "metadata": {},
     "output_type": "execute_result"
    }
   ],
   "source": [
    "movies_metadata_credits['genres'] = (\n",
    "    movies_metadata_credits['genres']\n",
    "    .fillna('[]')\n",
    "    .apply(literal_eval)\n",
    "    .apply(lambda x: [i['name'] for i in x] if isinstance(x, list) else [])\n",
    ")\n",
    "genres = movies_metadata_credits.explode('genres')\n",
    "genres = genres.groupby('genres').size().reset_index(name='count')\n",
    "genres['score'] = genres['genres'].apply(\n",
    "    lambda x: movies_metadata_credits[\n",
    "        movies_metadata_credits['genres'].apply(lambda y: x in y)\n",
    "    ]['score'].mean()\n",
    ")\n",
    "genres['percentage'] = genres['count'] / genres['count'].sum() * 100\n",
    "genres['top_movies'] = genres['genres'].apply(\n",
    "    lambda x: ' '.join(\n",
    "        f\"{i + 1}. {title}\"\n",
    "        for i, title in enumerate(\n",
    "            movies_metadata_credits[\n",
    "                movies_metadata_credits['genres'].apply(lambda y: x in y)\n",
    "            ]\n",
    "            .sort_values('score', ascending=False)['title']\n",
    "            .head(10)\n",
    "        )\n",
    "    )\n",
    ")\n",
    "genres.head()"
   ]
  },
  {
   "cell_type": "code",
   "execution_count": 489,
   "outputs": [],
   "source": [
    "# Remove the records with the wrong genres values\n",
    "genres = genres[~genres['genres'].isin(wrong_genres)]"
   ],
   "metadata": {
    "collapsed": false
   }
  },
  {
   "cell_type": "code",
   "execution_count": 490,
   "outputs": [
    {
     "data": {
      "text/plain": "       genres  count     score  percentage  \\\n1   Adventure    885  6.242496    7.352330   \n0      Action   1176  6.140327    9.769876   \n16   Thriller   1407  6.174367   11.688959   \n3      Comedy   1591  6.124103   13.217579   \n6       Drama   1992  6.490417   16.548974   \n\n                                           top_movies  \n1   1. Spirited Away 2. The Empire Strikes Back 3....  \n0   1. The Dark Knight 2. The Empire Strikes Back ...  \n16  1. The Dark Knight 2. Pulp Fiction 3. Psycho 4...  \n3   1. Dilwale Dulhania Le Jayenge 2. Life Is Beau...  \n6   1. The Shawshank Redemption 2. The Godfather 3...  ",
      "text/html": "<div>\n<style scoped>\n    .dataframe tbody tr th:only-of-type {\n        vertical-align: middle;\n    }\n\n    .dataframe tbody tr th {\n        vertical-align: top;\n    }\n\n    .dataframe thead th {\n        text-align: right;\n    }\n</style>\n<table border=\"1\" class=\"dataframe\">\n  <thead>\n    <tr style=\"text-align: right;\">\n      <th></th>\n      <th>genres</th>\n      <th>count</th>\n      <th>score</th>\n      <th>percentage</th>\n      <th>top_movies</th>\n    </tr>\n  </thead>\n  <tbody>\n    <tr>\n      <th>1</th>\n      <td>Adventure</td>\n      <td>885</td>\n      <td>6.242496</td>\n      <td>7.352330</td>\n      <td>1. Spirited Away 2. The Empire Strikes Back 3....</td>\n    </tr>\n    <tr>\n      <th>0</th>\n      <td>Action</td>\n      <td>1176</td>\n      <td>6.140327</td>\n      <td>9.769876</td>\n      <td>1. The Dark Knight 2. The Empire Strikes Back ...</td>\n    </tr>\n    <tr>\n      <th>16</th>\n      <td>Thriller</td>\n      <td>1407</td>\n      <td>6.174367</td>\n      <td>11.688959</td>\n      <td>1. The Dark Knight 2. Pulp Fiction 3. Psycho 4...</td>\n    </tr>\n    <tr>\n      <th>3</th>\n      <td>Comedy</td>\n      <td>1591</td>\n      <td>6.124103</td>\n      <td>13.217579</td>\n      <td>1. Dilwale Dulhania Le Jayenge 2. Life Is Beau...</td>\n    </tr>\n    <tr>\n      <th>6</th>\n      <td>Drama</td>\n      <td>1992</td>\n      <td>6.490417</td>\n      <td>16.548974</td>\n      <td>1. The Shawshank Redemption 2. The Godfather 3...</td>\n    </tr>\n  </tbody>\n</table>\n</div>"
     },
     "execution_count": 490,
     "metadata": {},
     "output_type": "execute_result"
    }
   ],
   "source": [
    "# Remove the records with less than 2% of the total count\n",
    "genres = genres[genres['percentage'] >= threshold]\n",
    "genres = genres.sort_values('count')\n",
    "genres.tail()"
   ],
   "metadata": {
    "collapsed": false
   }
  },
  {
   "cell_type": "code",
   "execution_count": 491,
   "id": "6f24937c",
   "metadata": {},
   "outputs": [
    {
     "data": {
      "text/html": "\n<style>\n  #altair-viz-ecc19515f20c493eb06df4ba9af8dfc2.vega-embed {\n    width: 100%;\n    display: flex;\n  }\n\n  #altair-viz-ecc19515f20c493eb06df4ba9af8dfc2.vega-embed details,\n  #altair-viz-ecc19515f20c493eb06df4ba9af8dfc2.vega-embed details summary {\n    position: relative;\n  }\n</style>\n<div id=\"altair-viz-ecc19515f20c493eb06df4ba9af8dfc2\"></div>\n<script type=\"text/javascript\">\n  var VEGA_DEBUG = (typeof VEGA_DEBUG == \"undefined\") ? {} : VEGA_DEBUG;\n  (function(spec, embedOpt){\n    let outputDiv = document.currentScript.previousElementSibling;\n    if (outputDiv.id !== \"altair-viz-ecc19515f20c493eb06df4ba9af8dfc2\") {\n      outputDiv = document.getElementById(\"altair-viz-ecc19515f20c493eb06df4ba9af8dfc2\");\n    }\n    const paths = {\n      \"vega\": \"https://cdn.jsdelivr.net/npm/vega@5?noext\",\n      \"vega-lib\": \"https://cdn.jsdelivr.net/npm/vega-lib?noext\",\n      \"vega-lite\": \"https://cdn.jsdelivr.net/npm/vega-lite@5.17.0?noext\",\n      \"vega-embed\": \"https://cdn.jsdelivr.net/npm/vega-embed@6?noext\",\n    };\n\n    function maybeLoadScript(lib, version) {\n      var key = `${lib.replace(\"-\", \"\")}_version`;\n      return (VEGA_DEBUG[key] == version) ?\n        Promise.resolve(paths[lib]) :\n        new Promise(function(resolve, reject) {\n          var s = document.createElement('script');\n          document.getElementsByTagName(\"head\")[0].appendChild(s);\n          s.async = true;\n          s.onload = () => {\n            VEGA_DEBUG[key] = version;\n            return resolve(paths[lib]);\n          };\n          s.onerror = () => reject(`Error loading script: ${paths[lib]}`);\n          s.src = paths[lib];\n        });\n    }\n\n    function showError(err) {\n      outputDiv.innerHTML = `<div class=\"error\" style=\"color:red;\">${err}</div>`;\n      throw err;\n    }\n\n    function displayChart(vegaEmbed) {\n      vegaEmbed(outputDiv, spec, embedOpt)\n        .catch(err => showError(`Javascript Error: ${err.message}<br>This usually means there's a typo in your chart specification. See the javascript console for the full traceback.`));\n    }\n\n    if(typeof define === \"function\" && define.amd) {\n      requirejs.config({paths});\n      require([\"vega-embed\"], displayChart, err => showError(`Error loading script: ${err.message}`));\n    } else {\n      maybeLoadScript(\"vega\", \"5\")\n        .then(() => maybeLoadScript(\"vega-lite\", \"5.17.0\"))\n        .then(() => maybeLoadScript(\"vega-embed\", \"6\"))\n        .catch(showError)\n        .then(() => displayChart(vegaEmbed));\n    }\n  })({\"config\": {\"view\": {\"continuousWidth\": 300, \"continuousHeight\": 300}}, \"data\": {\"name\": \"data-4f4bfe053956dba98075f9f7c773a1b8\"}, \"mark\": {\"type\": \"arc\"}, \"encoding\": {\"color\": {\"field\": \"genres\", \"type\": \"nominal\"}, \"order\": {\"field\": \"count\", \"sort\": \"descending\", \"type\": \"quantitative\"}, \"theta\": {\"field\": \"percentage\", \"stack\": true, \"type\": \"quantitative\"}, \"tooltip\": [{\"field\": \"genres\", \"title\": \"Genre\", \"type\": \"nominal\"}, {\"field\": \"percentage\", \"format\": \".2f\", \"title\": \"Percentage\", \"type\": \"quantitative\"}, {\"field\": \"top_movies\", \"title\": \"Top Movies\", \"type\": \"nominal\"}]}, \"params\": [{\"name\": \"param_183\", \"select\": {\"type\": \"interval\", \"encodings\": [\"x\", \"y\"]}, \"bind\": \"scales\"}], \"title\": \"Genres Distribution and Top Movies\", \"$schema\": \"https://vega.github.io/schema/vega-lite/v5.17.0.json\", \"datasets\": {\"data-4f4bfe053956dba98075f9f7c773a1b8\": [{\"genres\": \"Animation\", \"count\": 370, \"score\": 6.48212339550624, \"percentage\": 3.073855611863421, \"top_movies\": \"1. Spirited Away 2. Your Name. 3. Howl's Moving Castle 4. Princess Mononoke 5. The Lion King 6. Inside Out 7. Grave of the Fireflies 8. My Neighbor Totoro 9. Up 10. WALL\\u00b7E\"}, {\"genres\": \"Mystery\", \"count\": 401, \"score\": 6.326470556321798, \"percentage\": 3.3313948658303567, \"top_movies\": \"1. Inception 2. Se7en 3. Memento 4. Rear Window 5. The Prestige 6. Gone Girl 7. Oldboy 8. 2001: A Space Odyssey 9. Shutter Island 10. Citizen Kane\"}, {\"genres\": \"Fantasy\", \"count\": 516, \"score\": 6.225767863757777, \"percentage\": 4.286782420868987, \"top_movies\": \"1. Spirited Away 2. The Green Mile 3. The Lord of the Rings: The Return of the King 4. Howl's Moving Castle 5. Princess Mononoke 6. The Lord of the Rings: The Fellowship of the Ring 7. The Lord of the Rings: The Two Towers 8. Harry Potter and the Deathly Hallows: Part 2 9. My Neighbor Totoro 10. It's a Wonderful Life\"}, {\"genres\": \"Family\", \"count\": 541, \"score\": 6.245337421301623, \"percentage\": 4.4944753676165154, \"top_movies\": \"1. Spirited Away 2. Back to the Future 3. The Lion King 4. Inside Out 5. Harry Potter and the Deathly Hallows: Part 2 6. My Neighbor Totoro 7. Up 8. WALL\\u00b7E 9. Big Hero 6 10. It's a Wonderful Life\"}, {\"genres\": \"Horror\", \"count\": 572, \"score\": 5.939149434133186, \"percentage\": 4.752014621583451, \"top_movies\": \"1. Psycho 2. The Shining 3. Alien 4. The Thing 5. Aliens 6. Train to Busan 7. Jaws 8. Shaun of the Dead 9. The Exorcist 10. The Conjuring\"}, {\"genres\": \"Science Fiction\", \"count\": 588, \"score\": 6.193821775540929, \"percentage\": 4.884938107501869, \"top_movies\": \"1. The Empire Strikes Back 2. Inception 3. Interstellar 4. Star Wars 5. Back to the Future 6. A Clockwork Orange 7. Guardians of the Galaxy 8. The Matrix 9. Return of the Jedi 10. Alien\"}, {\"genres\": \"Romance\", \"count\": 704, \"score\": 6.320627696052669, \"percentage\": 5.848633380410401, \"top_movies\": \"1. Dilwale Dulhania Le Jayenge 2. Forrest Gump 3. Your Name. 4. La La Land 5. Her 6. Eternal Sunshine of the Spotless Mind 7. Cinema Paradiso 8. Vertigo 9. Am\\u00e9lie 10. The Theory of Everything\"}, {\"genres\": \"Crime\", \"count\": 747, \"score\": 6.335401829372328, \"percentage\": 6.20586524881615, \"top_movies\": \"1. The Shawshank Redemption 2. The Godfather 3. The Dark Knight 4. Pulp Fiction 5. The Godfather: Part II 6. Leon: The Professional 7. The Green Mile 8. GoodFellas 9. Se7en 10. The Silence of the Lambs\"}, {\"genres\": \"Adventure\", \"count\": 885, \"score\": 6.24249574681646, \"percentage\": 7.352330314862507, \"top_movies\": \"1. Spirited Away 2. The Empire Strikes Back 3. Inception 4. Interstellar 5. The Lord of the Rings: The Return of the King 6. Star Wars 7. Howl's Moving Castle 8. Princess Mononoke 9. The Lord of the Rings: The Fellowship of the Ring 10. The Lord of the Rings: The Two Towers\"}, {\"genres\": \"Action\", \"count\": 1176, \"score\": 6.14032683671411, \"percentage\": 9.769876215003737, \"top_movies\": \"1. The Dark Knight 2. The Empire Strikes Back 3. Inception 4. The Lord of the Rings: The Return of the King 5. Star Wars 6. The Lord of the Rings: The Fellowship of the Ring 7. The Lord of the Rings: The Two Towers 8. Scarface 9. Guardians of the Galaxy 10. The Matrix\"}, {\"genres\": \"Thriller\", \"count\": 1407, \"score\": 6.174366611282802, \"percentage\": 11.688959042950902, \"top_movies\": \"1. The Dark Knight 2. Pulp Fiction 3. Psycho 4. Leon: The Professional 5. Inception 6. Se7en 7. The Silence of the Lambs 8. Memento 9. The Shining 10. Reservoir Dogs\"}, {\"genres\": \"Comedy\", \"count\": 1591, \"score\": 6.124103331478091, \"percentage\": 13.21757913101271, \"top_movies\": \"1. Dilwale Dulhania Le Jayenge 2. Life Is Beautiful 3. Forrest Gump 4. The Intouchables 5. Back to the Future 6. The Grand Budapest Hotel 7. The Wolf of Wall Street 8. Inside Out 9. La La Land 10. Dr. Strangelove or: How I Learned to Stop Worrying and Love the Bomb\"}, {\"genres\": \"Drama\", \"count\": 1992, \"score\": 6.4904170201383105, \"percentage\": 16.548973996843067, \"top_movies\": \"1. The Shawshank Redemption 2. The Godfather 3. Dilwale Dulhania Le Jayenge 4. The Dark Knight 5. Fight Club 6. Schindler's List 7. Whiplash 8. Life Is Beautiful 9. The Godfather: Part II 10. One Flew Over the Cuckoo's Nest\"}]}}, {\"mode\": \"vega-lite\"});\n</script>",
      "text/plain": "alt.Chart(...)"
     },
     "execution_count": 491,
     "metadata": {},
     "output_type": "execute_result"
    }
   ],
   "source": [
    "# plot the genres distribution and show top 10 movies as a tooltip\n",
    "alt.Chart(genres).mark_arc().encode(\n",
    "    theta=alt.Theta(field='percentage', type='quantitative', stack=True),\n",
    "    color=alt.Color(field='genres', type='nominal'),\n",
    "    tooltip=[alt.Tooltip('genres', title='Genre'), alt.Tooltip('percentage', format='.2f', title='Percentage'), alt.Tooltip('top_movies', title='Top Movies')],\n",
    "    order=alt.Order('count', sort='descending')\n",
    ").properties(\n",
    "    title='Genres Distribution and Top Movies'\n",
    ").interactive()"
   ]
  },
  {
   "cell_type": "markdown",
   "id": "cb7baabd",
   "metadata": {},
   "source": [
    "### Visualition #3: Recommendation System"
   ]
  },
  {
   "cell_type": "code",
   "execution_count": 492,
   "id": "e9d6e4b1",
   "metadata": {},
   "outputs": [],
   "source": [
    "import os\n",
    "from sentence_transformers import SentenceTransformer\n",
    "\n",
    "model_name = 'all-MiniLM-L6-v2'\n",
    "model_directory = './models'\n",
    "\n",
    "# Create the models directory if it doesn't exist\n",
    "os.makedirs(model_directory, exist_ok=True)\n",
    "\n",
    "model_path = os.path.join(model_directory, model_name)\n",
    "\n",
    "# Check if the model is already saved on disk\n",
    "if os.path.exists(model_path):\n",
    "    # Load the model from disk\n",
    "    model = SentenceTransformer(model_path)\n",
    "else:\n",
    "    # Download the model and save it to disk\n",
    "    model = SentenceTransformer(model_name)\n",
    "    model.save(model_path)"
   ]
  },
  {
   "cell_type": "code",
   "execution_count": 493,
   "id": "b987e5fc",
   "metadata": {},
   "outputs": [],
   "source": [
    "import numpy as np\n",
    "from sklearn.metrics.pairwise import cosine_similarity\n",
    "\n",
    "movies_metadata_overview = movies_metadata[['id', 'title', 'overview', 'popularity', 'vote_average']].copy()\n",
    "# cache the embeddings in a folder\n",
    "embeddings_directory = './embeddings'\n",
    "os.makedirs(embeddings_directory, exist_ok=True)\n",
    "if os.path.exists(os.path.join(embeddings_directory, 'movies_metadata_overview_embeddings.npy')):\n",
    "    embeddings = np.load(os.path.join(embeddings_directory, 'movies_metadata_overview_embeddings.npy'))\n",
    "else:\n",
    "    # Generate the embeddings\n",
    "    embeddings = model.encode(movies_metadata_overview['overview'].astype(str).tolist())\n",
    "    # Save the embeddings to disk\n",
    "    np.save(os.path.join(embeddings_directory, 'movies_metadata_overview_embeddings.npy'), embeddings)"
   ]
  },
  {
   "cell_type": "code",
   "execution_count": 494,
   "outputs": [
    {
     "data": {
      "text/plain": "             id                                  title  \\\n167     10428.0                                Hackers   \n22785  157834.0                       The Zero Theorem   \n10948    1557.0                                     23   \n20707  136698.0  Underground: The Julian Assange Story   \n35058  197599.0                       Fateful Findings   \n\n                                                overview  popularity  \\\n167    Along with his new friends, a teenager who was...       14.81   \n22785  A computer hacker's goal to discover the reaso...       10.99   \n10948  The movie's plot is based on the true story of...        8.27   \n20707  Julian Assange is one of the most significant ...        2.13   \n35058  A small boy discovers a mystical power as a ch...        0.66   \n\n       vote_average query_title  \n167             6.2     Hackers  \n22785           5.9     Hackers  \n10948           7.1     Hackers  \n20707           5.8     Hackers  \n35058           4.0     Hackers  ",
      "text/html": "<div>\n<style scoped>\n    .dataframe tbody tr th:only-of-type {\n        vertical-align: middle;\n    }\n\n    .dataframe tbody tr th {\n        vertical-align: top;\n    }\n\n    .dataframe thead th {\n        text-align: right;\n    }\n</style>\n<table border=\"1\" class=\"dataframe\">\n  <thead>\n    <tr style=\"text-align: right;\">\n      <th></th>\n      <th>id</th>\n      <th>title</th>\n      <th>overview</th>\n      <th>popularity</th>\n      <th>vote_average</th>\n      <th>query_title</th>\n    </tr>\n  </thead>\n  <tbody>\n    <tr>\n      <th>167</th>\n      <td>10428.0</td>\n      <td>Hackers</td>\n      <td>Along with his new friends, a teenager who was...</td>\n      <td>14.81</td>\n      <td>6.2</td>\n      <td>Hackers</td>\n    </tr>\n    <tr>\n      <th>22785</th>\n      <td>157834.0</td>\n      <td>The Zero Theorem</td>\n      <td>A computer hacker's goal to discover the reaso...</td>\n      <td>10.99</td>\n      <td>5.9</td>\n      <td>Hackers</td>\n    </tr>\n    <tr>\n      <th>10948</th>\n      <td>1557.0</td>\n      <td>23</td>\n      <td>The movie's plot is based on the true story of...</td>\n      <td>8.27</td>\n      <td>7.1</td>\n      <td>Hackers</td>\n    </tr>\n    <tr>\n      <th>20707</th>\n      <td>136698.0</td>\n      <td>Underground: The Julian Assange Story</td>\n      <td>Julian Assange is one of the most significant ...</td>\n      <td>2.13</td>\n      <td>5.8</td>\n      <td>Hackers</td>\n    </tr>\n    <tr>\n      <th>35058</th>\n      <td>197599.0</td>\n      <td>Fateful Findings</td>\n      <td>A small boy discovers a mystical power as a ch...</td>\n      <td>0.66</td>\n      <td>4.0</td>\n      <td>Hackers</td>\n    </tr>\n  </tbody>\n</table>\n</div>"
     },
     "execution_count": 494,
     "metadata": {},
     "output_type": "execute_result"
    }
   ],
   "source": [
    "# Function to find similar movies\n",
    "def find_similar_movies(movie_title, top_n=10):\n",
    "    idx = movies_metadata_overview[movies_metadata_overview['title'] == movie_title].index[0]\n",
    "    query_embedding = embeddings[idx].reshape(1, -1)\n",
    "\n",
    "    # Calculate cosine similarity between the query and all movie embeddings\n",
    "    similarities = cosine_similarity(query_embedding, embeddings).flatten()\n",
    "\n",
    "    # Get the top N similar movies\n",
    "    similar_indices = similarities.argsort()[::-1][1:top_n+1]\n",
    "    similar_indices = np.append(idx, similar_indices)\n",
    "    similar_movies = movies_metadata_overview.iloc[similar_indices]\n",
    "\n",
    "    return similar_movies\n",
    "\n",
    "# pick 5 movies from the top 100 movies\n",
    "filtered_movies = movies_metadata_credits.head(100).sample(5)\n",
    "similar_movies = pd.concat([find_similar_movies(movie_title).assign(query_title=movie_title) for movie_title in filtered_movies['title']])\n",
    "similar_movies = similar_movies.copy()\n",
    "similar_movies['popularity'] = similar_movies['popularity'].astype(float).round(2)\n",
    "similar_movies.head()"
   ],
   "metadata": {
    "collapsed": false
   }
  },
  {
   "cell_type": "code",
   "execution_count": 495,
   "outputs": [
    {
     "data": {
      "text/html": "\n<style>\n  #altair-viz-03aa48e0b3c04b4499a2e0ec8413af6b.vega-embed {\n    width: 100%;\n    display: flex;\n  }\n\n  #altair-viz-03aa48e0b3c04b4499a2e0ec8413af6b.vega-embed details,\n  #altair-viz-03aa48e0b3c04b4499a2e0ec8413af6b.vega-embed details summary {\n    position: relative;\n  }\n</style>\n<div id=\"altair-viz-03aa48e0b3c04b4499a2e0ec8413af6b\"></div>\n<script type=\"text/javascript\">\n  var VEGA_DEBUG = (typeof VEGA_DEBUG == \"undefined\") ? {} : VEGA_DEBUG;\n  (function(spec, embedOpt){\n    let outputDiv = document.currentScript.previousElementSibling;\n    if (outputDiv.id !== \"altair-viz-03aa48e0b3c04b4499a2e0ec8413af6b\") {\n      outputDiv = document.getElementById(\"altair-viz-03aa48e0b3c04b4499a2e0ec8413af6b\");\n    }\n    const paths = {\n      \"vega\": \"https://cdn.jsdelivr.net/npm/vega@5?noext\",\n      \"vega-lib\": \"https://cdn.jsdelivr.net/npm/vega-lib?noext\",\n      \"vega-lite\": \"https://cdn.jsdelivr.net/npm/vega-lite@5.17.0?noext\",\n      \"vega-embed\": \"https://cdn.jsdelivr.net/npm/vega-embed@6?noext\",\n    };\n\n    function maybeLoadScript(lib, version) {\n      var key = `${lib.replace(\"-\", \"\")}_version`;\n      return (VEGA_DEBUG[key] == version) ?\n        Promise.resolve(paths[lib]) :\n        new Promise(function(resolve, reject) {\n          var s = document.createElement('script');\n          document.getElementsByTagName(\"head\")[0].appendChild(s);\n          s.async = true;\n          s.onload = () => {\n            VEGA_DEBUG[key] = version;\n            return resolve(paths[lib]);\n          };\n          s.onerror = () => reject(`Error loading script: ${paths[lib]}`);\n          s.src = paths[lib];\n        });\n    }\n\n    function showError(err) {\n      outputDiv.innerHTML = `<div class=\"error\" style=\"color:red;\">${err}</div>`;\n      throw err;\n    }\n\n    function displayChart(vegaEmbed) {\n      vegaEmbed(outputDiv, spec, embedOpt)\n        .catch(err => showError(`Javascript Error: ${err.message}<br>This usually means there's a typo in your chart specification. See the javascript console for the full traceback.`));\n    }\n\n    if(typeof define === \"function\" && define.amd) {\n      requirejs.config({paths});\n      require([\"vega-embed\"], displayChart, err => showError(`Error loading script: ${err.message}`));\n    } else {\n      maybeLoadScript(\"vega\", \"5\")\n        .then(() => maybeLoadScript(\"vega-lite\", \"5.17.0\"))\n        .then(() => maybeLoadScript(\"vega-embed\", \"6\"))\n        .catch(showError)\n        .then(() => displayChart(vegaEmbed));\n    }\n  })({\"config\": {\"view\": {\"continuousWidth\": 300, \"continuousHeight\": 300}}, \"data\": {\"name\": \"data-020ba4fc7211afb3157fe4644e2257c8\"}, \"mark\": {\"type\": \"point\"}, \"encoding\": {\"color\": {\"field\": \"title\", \"title\": \"Title\", \"type\": \"nominal\"}, \"tooltip\": [{\"field\": \"title\", \"type\": \"nominal\"}, {\"field\": \"overview\", \"type\": \"nominal\"}], \"x\": {\"field\": \"popularity\", \"title\": \"Popularity\", \"type\": \"quantitative\"}, \"y\": {\"field\": \"vote_average\", \"title\": \"Vote Average\", \"type\": \"quantitative\"}}, \"height\": 400, \"params\": [{\"name\": \"param_184\", \"select\": {\"type\": \"point\", \"fields\": [\"query_title\"]}, \"bind\": {\"input\": \"select\", \"options\": [\"Hackers\", \"The American President\", \"Dracula: Dead and Loving It\", \"Ed Wood\", \"Billy Madison\"], \"name\": \" \"}, \"value\": \"Hackers\"}, {\"name\": \"param_185\", \"select\": {\"type\": \"interval\", \"encodings\": [\"x\", \"y\"]}, \"bind\": \"scales\"}], \"title\": \"Similar Movies to Selected Movie\", \"transform\": [{\"filter\": {\"param\": \"param_184\"}}], \"width\": 600, \"$schema\": \"https://vega.github.io/schema/vega-lite/v5.17.0.json\", \"datasets\": {\"data-020ba4fc7211afb3157fe4644e2257c8\": [{\"id\": 10428.0, \"title\": \"Hackers\", \"overview\": \"Along with his new friends, a teenager who was arrested by the US Secret Service and banned from using a computer for writing a computer virus discovers a plot by a nefarious hacker, but they must use their computer skills to find the evidence while being pursued by the Secret Service and the evil computer genius behind the virus.\", \"popularity\": 14.81, \"vote_average\": 6.2, \"query_title\": \"Hackers\"}, {\"id\": 157834.0, \"title\": \"The Zero Theorem\", \"overview\": \"A computer hacker's goal to discover the reason for human existence continually finds his work interrupted thanks to the Management; this time, they send a teenager and lusty love interest to distract him.\", \"popularity\": 10.99, \"vote_average\": 5.9, \"query_title\": \"Hackers\"}, {\"id\": 1557.0, \"title\": \"23\", \"overview\": \"The movie's plot is based on the true story of a group of young computer hackers from Hannover, Germany. In the late 1980s the orphaned Karl Koch invests his heritage in a flat and a home computer. At first he dials up to bulletin boards to discuss conspiracy theories inspired by his favorite novel, R.A. Wilson's \\\"Illuminatus\\\", but soon he and his friend David start breaking into government and military computers. Pepe, one of Karl's rather criminal acquaintances senses that there is money in computer cracking - he travels to east Berlin and tries to contact the KGB.\", \"popularity\": 8.27, \"vote_average\": 7.1, \"query_title\": \"Hackers\"}, {\"id\": 136698.0, \"title\": \"Underground: The Julian Assange Story\", \"overview\": \"Julian Assange is one of the most significant figures of the twenty first century. But before he was famous, before WikiLeaks, before the internet even existed, he was a teenage computer hacker in Melbourne. This is his story.  In 1989, known as \\u2018Mendax\\u2019, Assange and two friends formed a group called the \\u2018International Subversives\\u2019. Using early home computers and defining themselves as \\u2018white hat hackers\\u2019 - those who look but don\\u2019t steal \\u2013 they broke into some of the world\\u2019s most powerful and secretive organisations. They were young, brilliant, and in the eyes of the US Government, a major threat to national security.\", \"popularity\": 2.13, \"vote_average\": 5.8, \"query_title\": \"Hackers\"}, {\"id\": 197599.0, \"title\": \"Fateful Findings\", \"overview\": \"A small boy discovers a mystical power as a child. He is then separated from his childhood girlfriend. He grows up to be a computer scientist who is hacking into the most secret national and international secrets, as well as being an acclaimed novel writer. His childhood 'finding' gives him amazing paranormal powers. He is reunited with the childhood girlfriend, mystically, on his hospital deathbed... as his relationship with his current drug addict girlfriend is deteriorating. The passions build between the threesome. Mystical, psychiatric and worldly forces rise to prevent him from revealing the hacked secrets. He attempts to reveal all in a Washington DC large press conference, with 'fateful' and dangerous consequences.\", \"popularity\": 0.66, \"vote_average\": 4.0, \"query_title\": \"Hackers\"}, {\"id\": 2322.0, \"title\": \"Sneakers\", \"overview\": \"When shadowy U.S. intelligence agents blackmail a reformed computer hacker and his eccentric team of security experts into stealing a code-breaking 'black box' from a Soviet-funded genius, they uncover a bigger conspiracy. Now, he and his 'sneakers' must save themselves and the world economy by retrieving the box from their blackmailers.\", \"popularity\": 7.21, \"vote_average\": 6.7, \"query_title\": \"Hackers\"}, {\"id\": 334894.0, \"title\": \"Nightmare Code\", \"overview\": \"After a programmer working on a top secret surveillance program snaps in a murderous rage, a notorious code wizard with problems of his own moves into the startup offices to figure out what went wrong and deliver the final product. But the deeper he delves into the code, the more the code takes on a malevolent life of its own.\", \"popularity\": 0.24, \"vote_average\": 5.1, \"query_title\": \"Hackers\"}, {\"id\": 281826.0, \"title\": \"Algorithm\", \"overview\": \"A freelance computer hacker discovers a mysterious government computer program. He breaks into the program and is thrust into a revolution.\", \"popularity\": 1.22, \"vote_average\": 5.4, \"query_title\": \"Hackers\"}, {\"id\": 350931.0, \"title\": \"The Bride He Bought Online\", \"overview\": \"An unstable computer programmer seeks revenge when he learns he has been duped by three teen girls who created a fictitious mail-order bride that he bought.\", \"popularity\": 0.33, \"vote_average\": 5.3, \"query_title\": \"Hackers\"}, {\"id\": 70418.0, \"title\": \"Wasted on the Young\", \"overview\": \"When a high school party goes dangerously off the rails, one teenager finds that revenge is just a computer click away.\", \"popularity\": 1.95, \"vote_average\": 5.3, \"query_title\": \"Hackers\"}, {\"id\": 207703.0, \"title\": \"Kingsman: The Secret Service\", \"overview\": \"The story of a super-secret spy organization that recruits an unrefined but promising street kid into the agency's ultra-competitive training program just as a global threat emerges from a twisted tech genius.\", \"popularity\": 28.22, \"vote_average\": 7.6, \"query_title\": \"Hackers\"}, {\"id\": 9087.0, \"title\": \"The American President\", \"overview\": \"Widowed U.S. president Andrew Shepherd, one of the world's most powerful men, can have anything he wants -- and what he covets most is Sydney Ellen Wade, a Washington lobbyist. But Shepherd's attempts at courting her spark wild rumors and decimate his approval ratings.\", \"popularity\": 6.32, \"vote_average\": 6.5, \"query_title\": \"The American President\"}, {\"id\": 418969.0, \"title\": \"The Irresistible Blueberry Farm\", \"overview\": \"Ellen Branford, a high-powered attorney, finds love, purpose, and the promise of a simpler life when she sets off on a journey to fulfill her grandmother\\u2019s dying wish \\u2013 to find the hometown boy she once loved and give him her last letter. Based on a book by Mary Simses.\", \"popularity\": 0.59, \"vote_average\": 6.5, \"query_title\": \"The American President\"}, {\"id\": 63809.0, \"title\": \"Three Days\", \"overview\": \"Ten years ago, Andrew married his childhood sweetheart, Beth. Now Andrew's a high-powered literary agent, but his relationship with his wife has not fared as well. When Beth is tragically killed just days before Christmas, an angel gives Andrew the chance to relive the last three days his wife was alive. But he can't change fate and Beth will still lose her life. However, Andrew can still discover the gift Beth needs most from him.\", \"popularity\": 0.43, \"vote_average\": 5.9, \"query_title\": \"The American President\"}, {\"id\": 118536.0, \"title\": \"The Private Affairs of Bel Ami\", \"overview\": \"A self-serving journalist (George Sanders) uses influential women in late-1800s Paris and denies the one (Angela Lansbury) who truly loves him.\", \"popularity\": 0.4, \"vote_average\": 6.8, \"query_title\": \"The American President\"}, {\"id\": 18398.0, \"title\": \"Suddenly\", \"overview\": \"The tranquility of a small town is marred only by sheriff Tod Shaw's unsuccessful courtship of widow Ellen Benson, a pacifist who can't abide guns and those who use them. But violence descends on Ellen's household willy-nilly when the U.S. President passes through town... and slightly psycho hired assassin John Baron finds the Benson home ideal for an ambush.\", \"popularity\": 1.86, \"vote_average\": 6.4, \"query_title\": \"The American President\"}, {\"id\": 89158.0, \"title\": \"The President's Lady\", \"overview\": \"The story of president Andrew Jackson from his early years, through his meeting with and subsequent marriage to Rachel Donelson Robards. The plot concentrates on the later scandal concerning the legality of their marriage and how they overcame the difficulties.\", \"popularity\": 0.16, \"vote_average\": 7.8, \"query_title\": \"The American President\"}, {\"id\": 96828.0, \"title\": \"A Touch of Larceny\", \"overview\": \"After falling in love with an American woman, Virginia Killain, who is engaged to another man, British Naval Commander Max Easton, hatches a plan that will get him enough money to support Virginia in the lifestyle she is accustomed to. Easton's plan is to disappear for a time making it seem that he has defected to the Soviets taking important Naval secrets from his job at the Admiralty and to return and sue the newspapers for slander. Not everything goes as planned for Commander Easton.\", \"popularity\": 0.12, \"vote_average\": 6.2, \"query_title\": \"The American President\"}, {\"id\": 42541.0, \"title\": \"From the Terrace\", \"overview\": \"Alfred Eaton, an ambitious young executive, climbs to the top of New York's financial world as his marriage crumbles. At the brink of attaining his career goals, he is forced to choose between business success, married to the beautiful, but unfaithful Mary and starting over with his true love, the much younger Natalie.\", \"popularity\": 0.58, \"vote_average\": 5.8, \"query_title\": \"The American President\"}, {\"id\": 57578.0, \"title\": \"The Greek Tycoon\", \"overview\": \"A lusty Greek shipping magnate courts the widow of an assassinated U.S. president.\", \"popularity\": 1.53, \"vote_average\": 6.7, \"query_title\": \"The American President\"}, {\"id\": 92269.0, \"title\": \"Loving\", \"overview\": \"Brooks Wilson is in crisis. He is torn between his wife Selma and two daughters and his mistress Grace, and also between his career as a successful illustrator and his feeling that he might still produce something worthwhile.\", \"popularity\": 0.69, \"vote_average\": 7.8, \"query_title\": \"The American President\"}, {\"id\": 101281.0, \"title\": \"Bachelor Flat\", \"overview\": \"Anthropology Professor Bruce Patterson (Terry Thomas) has the natural British charm that allures women automaticaly. When his fianc\\u00e9e Helen Bushmill (Celeste Holm) is abroad for an extended time, he has to fight the neighborhood ladies and his students away. Helen has failed to tell him that she has a seventeen year old daughter Libby (Tuesday Weld) who shows up at her mothers home unaware that she in engaged.\", \"popularity\": 0.0, \"vote_average\": 0.0, \"query_title\": \"The American President\"}, {\"id\": 12110.0, \"title\": \"Dracula: Dead and Loving It\", \"overview\": \"When a lawyer shows up at the vampire's doorstep, he falls prey to his charms and joins him in his search for fresh blood. Enter Dr. van Helsing, who may be the only one able to vanquish the count.\", \"popularity\": 5.43, \"vote_average\": 5.7, \"query_title\": \"Dracula: Dead and Loving It\"}, {\"id\": 11868.0, \"title\": \"Horror of Dracula\", \"overview\": \"After Jonathan Harker attacks Dracula at his castle (apparently somewhere in Germany), the vampire travels to a nearby city, where he preys on the family of Harker's fianc\\u00e9e. The only one who may be able to protect them is Dr. van Helsing, Harker's friend and fellow-student of vampires, who is determined to destroy Dracula, whatever the cost.\", \"popularity\": 8.36, \"vote_average\": 7.2, \"query_title\": \"Dracula: Dead and Loving It\"}, {\"id\": 16159.0, \"title\": \"Sundown: The Vampire in Retreat\", \"overview\": \"Reclusive vampires lounge in a lonely American town. They wear sun cream to protect themselves. A descendant of Van Helsing arrives with hilarious consequences.\", \"popularity\": 1.58, \"vote_average\": 6.0, \"query_title\": \"Dracula: Dead and Loving It\"}, {\"id\": 135812.0, \"title\": \"Dracula 3D\", \"overview\": \"When Englishman Jonathan Harker visits the exotic castle of Count Dracula, he is entranced by the mysterious aristocrat. But upon learning that the count has sinister designs on his wife, Mina, Harker seeks help from vampire slayer Van Helsing.\", \"popularity\": 4.04, \"vote_average\": 3.4, \"query_title\": \"Dracula: Dead and Loving It\"}, {\"id\": 7131.0, \"title\": \"Van Helsing\", \"overview\": \"Famed monster slayer Gabriel Van Helsing is dispatched to Transylvania to assist the last of the Valerious bloodline in defeating Count Dracula. Anna Valerious reveals that Dracula has formed an unholy alliance with Dr. Frankenstein's monster and is hell-bent on exacting a centuries-old curse on her family.\", \"popularity\": 12.64, \"vote_average\": 6.0, \"query_title\": \"Dracula: Dead and Loving It\"}, {\"id\": 35669.0, \"title\": \"The Satanic Rites of Dracula\", \"overview\": \"The police and British security forces call in Professor Van Helsing to help them investigate Satanic ritual which has been occurring in a large country house, and which has been attended by a government minister, an eminent scientist and secret service chief. The owner of the house is a mysterious property tycoon who is found to be behind a sinister plot involving a deadly plague. It is in fact Dracula who, sick of his interminable existence, has decided that he must end it all in the only possible way- by destroying every last potential victim.\", \"popularity\": 2.07, \"vote_average\": 5.1, \"query_title\": \"Dracula: Dead and Loving It\"}, {\"id\": 6114.0, \"title\": \"Dracula\", \"overview\": \"When Dracula leaves the captive Jonathan Harker and Transylvania for London in search of Mina Harker -- the spitting image of Dracula's long-dead wife, Elisabeta -- obsessed vampire hunter Dr. Van Helsing sets out to end the madness.\", \"popularity\": 16.78, \"vote_average\": 7.1, \"query_title\": \"Dracula: Dead and Loving It\"}, {\"id\": 10577.0, \"title\": \"Dracula 2000\", \"overview\": \"In the millenium version of this classic Gothic horror we find Abraham Van Helsing (Plummer), who has tangled with Count Dracula (Butler) in the past, working as an English antiques dealer. Simon (Miller) is a vampire hunter in training under his apprenticeship.\", \"popularity\": 6.0, \"vote_average\": 4.6, \"query_title\": \"Dracula: Dead and Loving It\"}, {\"id\": 34574.0, \"title\": \"Nadja\", \"overview\": \"This ultra-hip, post-modern vampire tale is set in contemporary New York City. Members of a dysfunctional family of vampires are trying to come to terms with each other, in the wake of their father's death. Meanwhile, they are being hunted by Dr. Van Helsing and his hapless nephew. As in all good vampire movies, forces of love are pitted against forces of destruction.\", \"popularity\": 7.72, \"vote_average\": 5.9, \"query_title\": \"Dracula: Dead and Loving It\"}, {\"id\": 26480.0, \"title\": \"The Legend of the 7 Golden Vampires\", \"overview\": \"Professor Van Helsing had been asked to help against the tyranny of skeletal creatures that are responsible for terror and death amongst the peasants in rural China. He is the only person qualified to deal with the cause of these phenomena, for the undead are controlled by the most diabolical force of all.... Count Dracula. But he is not alone- to aid him comes a mystical brotherhood of seven martial arts warriors.\", \"popularity\": 1.85, \"vote_average\": 5.8, \"query_title\": \"Dracula: Dead and Loving It\"}, {\"id\": 33020.0, \"title\": \"Dracula A.D. 1972\", \"overview\": \"Set in London in the early 1970's, supposedly for teen thrills, Johnny organises a black magic ceremony in a desolate churchyard. The culmination of the ritual, however, is the rejuvenation of Dracula from shrivelled remains. Johnny, Dracula' s disciple, lures victims to the deserted graveyard for his master's pleasure and one of the victims delivered is Jessica Van Helsing. Descended from the Van Helsing line of vampire hunters her grandfather, equipped with all the devices to snare and destroy the Count, confronts his arch enemy in the age-old battle between good and evil.\", \"popularity\": 11.17, \"vote_average\": 6.0, \"query_title\": \"Dracula: Dead and Loving It\"}, {\"id\": 522.0, \"title\": \"Ed Wood\", \"overview\": \"The mostly true story of the legendary \\\"worst director of all time\\\", who, with the help of his strange friends, filmed countless B-movies without ever becoming famous or successful.\", \"popularity\": 11.72, \"vote_average\": 7.3, \"query_title\": \"Ed Wood\"}, {\"id\": 288424.0, \"title\": \"Shock Value\", \"overview\": \"Struggling 'B' movie Director blackmails a serial killer to be the star of his next film.\", \"popularity\": 0.7, \"vote_average\": 5.9, \"query_title\": \"Ed Wood\"}, {\"id\": 95758.0, \"title\": \"The Sci-Fi Boys\", \"overview\": \"Legendary all-stars of cinema bring to life the evolution of science-fiction and special effects films from the wild and funny days of B-movies to blockbusters that have captured the world's imagination. This is the story of the Sci-Fi Boys, who started out as kids making amateur movies inspired by Forrest J Ackerman's FAMOUS MONSTERS magazine and grew up to take Hollywood by storm, inventing the art and technology for filming anything the mind can dream.\", \"popularity\": 0.22, \"vote_average\": 8.0, \"query_title\": \"Ed Wood\"}, {\"id\": 93115.0, \"title\": \"The 50 Worst Movies Ever Made\", \"overview\": \"There are some movies that are so bad they're good. And there are some movies that are so bad- that they're just bad...\", \"popularity\": 0.65, \"vote_average\": 5.6, \"query_title\": \"Ed Wood\"}, {\"id\": 30168.0, \"title\": \"It Came from Hollywood\", \"overview\": \"Dan Ackroyd, John Candy, Gilda Radner and Cheech and Chong present this compilation of classic bad films from the 50's, 60's and 70's. Special features on gorilla pictures, anti-marijuana films and a special tribute to the worst film maker of all-time, Ed Wood.\", \"popularity\": 1.63, \"vote_average\": 6.0, \"query_title\": \"Ed Wood\"}, {\"id\": 32069.0, \"title\": \"Inserts\", \"overview\": \"A young, once-great Hollywood film director refuses to accept changing times during the early 1930s, and confines himself to his decaying mansion to make silent porn flicks.\", \"popularity\": 1.53, \"vote_average\": 6.0, \"query_title\": \"Ed Wood\"}, {\"id\": 28761.0, \"title\": \"White Hunter Black Heart\", \"overview\": \"A thinly fictionalized account of a legendary movie director, whose desire to hunt down an animal turns into a grim situation with his movie crew in Africa\", \"popularity\": 3.82, \"vote_average\": 6.5, \"query_title\": \"Ed Wood\"}, {\"id\": 46196.0, \"title\": \"Hollywood Story\", \"overview\": \"A producer takes over a small film studio and - sensing that it'll be a good movie- begins investigating an old murder of a silent film star shot in his office years ago. He finds that his life is threatened as he digs deeper into the mystery.\", \"popularity\": 0.11, \"vote_average\": 5.8, \"query_title\": \"Ed Wood\"}, {\"id\": 28136.0, \"title\": \"Popatopolis\", \"overview\": \"In 20 years, he's directed more films than Martin Scorsese, He's produced more profitable movies than Jerry Bruckheimer, And he's infuriated more actors than Alfred Hitchcock. The ultimate B Movie Documentary, focusing on B Movie Giant Jim Wynorski (and B Movie Celebration Mentor) and his attempt to make a feature film in 3 days. He's directed seventy feature films, but he's never made one... in THREE DAYS. Jim cuts the shooting schedule, has the actors cook their own food. A documentary featuring B-Movie legends Roger Corman, Andy Sidaris, Julie Strain, Julie K. Smith and Stormy Daniels, Popatopolis follows Jim Wynorski as he begins to film one of his many opuses \\\"Witches of Breastwick\\\" Jim's frenetic pace demands 100 setups per day (the Hollywood standard is 20), and he reduces his electric package to just two lights so he can concentrate on the task at hand.A great overview of a true master at work and in many ways a laser sharp dialectic on the state of B filmmaking today.\", \"popularity\": 0.81, \"vote_average\": 6.9, \"query_title\": \"Ed Wood\"}, {\"id\": 85963.0, \"title\": \"Great Directors\", \"overview\": \"Features conversations with ten of the world's greatest living directors: Bernardo Bertolucci, David Lynch, Liliana Cavani, Stephen Frears, Agnes Varda, Ken Loach, Todd Haynes, Catherine Breillat, Richard Linklater and John Sayles. The film documents Ismailos' voyage of discovering the creative personalities behind the camera.\", \"popularity\": 0.22, \"vote_average\": 6.2, \"query_title\": \"Ed Wood\"}, {\"id\": 81167.0, \"title\": \"Woody Allen: A Documentary\", \"overview\": \"Iconic writer, director, actor, comedian and musician Woody Allen allowed his life and creative process to be documented on-camera for the first time. With this unprecedented access, Emmy-winning, Oscar-nominated filmmaker Robert B. Weide followed the notoriously private film legend over a year and a half to create the ultimate film biography. \\\"Woody Allen: A Documentary\\\" chronicles Allen's career - from teen writer to Sid Caesar's TV scribe, from stand-up comedian to award-winning writer-director averaging one film-per-year for more than 40 years. Exploring Allen's writing habits, casting, directing, and relationship with his actors first-hand, new interviews with A-listers, writing partners, family and friends provide insight and backstory to the usually inscrutable filmmaker.\", \"popularity\": 2.95, \"vote_average\": 7.5, \"query_title\": \"Ed Wood\"}, {\"id\": 11017.0, \"title\": \"Billy Madison\", \"overview\": \"Billy Madison is the 27 year-old son of Bryan Madison, a very rich man who has made his living in the hotel industry. Billy stands to inherit his father's empire but only if he can make it through all 12 grades, 2 weeks per grade, to prove that he has what it takes to run the family business.\", \"popularity\": 6.64, \"vote_average\": 6.2, \"query_title\": \"Billy Madison\"}, {\"id\": 208134.0, \"title\": \"Bad Grandpa\", \"overview\": \"86-year-old Irving Zisman is on a journey across America with the most unlikely companion: his 8 year-old grandson, Billy.\", \"popularity\": 8.0, \"vote_average\": 6.0, \"query_title\": \"Billy Madison\"}, {\"id\": 83078.0, \"title\": \"Blue City\", \"overview\": \"Returning to the small Florida town where he grew up, Billy Turner (Nelson) learns that his father has been killed. With little help from the police, Billy will take matters into his own hands and go up against a ruthless local mob boss in a desperate search to find the killer.\", \"popularity\": 0.31, \"vote_average\": 5.3, \"query_title\": \"Billy Madison\"}, {\"id\": 37721.0, \"title\": \"Accidents Happen\", \"overview\": \"There are dysfunctional families... and then there are the Conways. After a family tragedy, 15-year-old Billy Conway has become the de facto glue between his bitter mom, distant brother, and stoic dad. But when Billy starts to act out, everything changes for him and his family\", \"popularity\": 6.76, \"vote_average\": 6.2, \"query_title\": \"Billy Madison\"}, {\"id\": 18394.0, \"title\": \"Essex Boys\", \"overview\": \"Billy has just scored an entry-level position with the local crime cartel. His first job is to mind Jason, a newly released thug with a vicious temper. Jason thinks it's his job to teach Billy about crime, drugs and women. Little does he know that Billy has his eyes on Jason's own wife, Lisa. When an ecstasy deal goes bad, Jason vows revenge on the boss, while Billy looks to take out Jason. Before long, bodies start turning up\", \"popularity\": 6.51, \"vote_average\": 5.7, \"query_title\": \"Billy Madison\"}, {\"id\": 183832.0, \"title\": \"Billy the Kid\", \"overview\": \"Billy, after shooting down land baron William Donovan's henchmen for killing Billy's boss, is hunted down and captured by his friend, Sheriff Pat Garrett. He escapes and is on his way to Mexico when Garrett, recapturing him, must decide whether to bring him in or to let him go.\", \"popularity\": 0.88, \"vote_average\": 0.0, \"query_title\": \"Billy Madison\"}, {\"id\": 54752.0, \"title\": \"Firstborn\", \"overview\": \"Because he's the oldest, Jake has been the man of the house, since his parents divorce. When Mom starts seeing Sam, who always seems to be trying some new way to get rich quick, and declares he's the man of the house now, Jake puts up with it. Until he discovers Sam's illegal activities.\", \"popularity\": 1.91, \"vote_average\": 6.3, \"query_title\": \"Billy Madison\"}, {\"id\": 104602.0, \"title\": \"High Time\", \"overview\": \"Despite the dissapproval of his grown son and daughter, 51 year old widdower and wealthy restauranteur Harvey Howard (Bing Crosby) decides it's 'high time' to he gets his college degree.  And he's in for the full ride: living in the dorms, joing a fraternity, falling in love, and even getting some studying in.\", \"popularity\": 0.73, \"vote_average\": 5.8, \"query_title\": \"Billy Madison\"}, {\"id\": 298751.0, \"title\": \"Growing Up and Other Lies\", \"overview\": \"After living for years as a struggling artist in New York City, Jake is calling it quits and returning home to Ohio. On his last day in the city, he persuades his three oldest friends \\u2013 Billy, Rocks and Gunderson \\u2013 to help him retrace their greatest adventure together: a walk down the entire length of Manhattan.\", \"popularity\": 0.52, \"vote_average\": 4.0, \"query_title\": \"Billy Madison\"}, {\"id\": 39451.0, \"title\": \"Little Fockers\", \"overview\": \"It has taken 10 years, two little Fockers with wife Pam and countless hurdles for Greg to finally get in with his tightly wound father-in-law, Jack. After the cash-strapped dad takes a job moonlighting for a drug company, Jack's suspicions about his favorite male nurse come roaring back. When Greg and Pam's entire clan descends for the twins' birthday party, Greg must prove to the skeptical Jack that he's fully capable as the man of the house.\", \"popularity\": 9.74, \"vote_average\": 5.5, \"query_title\": \"Billy Madison\"}, {\"id\": 21252.0, \"title\": \"Nil by Mouth\", \"overview\": \"The family of Raymond, his wife Val and her brother Billy live in working-class London district. Also in their family is Val and Billy's mother Janet and grandmother Kath. Billy is a drug addict and Raymond kicks him out of the house, making him live on his own. Raymond is generally a rough and even violent person, and that leads to problems in the life of the family.\", \"popularity\": 3.04, \"vote_average\": 7.1, \"query_title\": \"Billy Madison\"}]}}, {\"mode\": \"vega-lite\"});\n</script>",
      "text/plain": "alt.Chart(...)"
     },
     "execution_count": 495,
     "metadata": {},
     "output_type": "execute_result"
    }
   ],
   "source": [
    "dropdown_symbol = alt.binding_select(options=list(similar_movies[\"query_title\"].unique()), name=\" \")\n",
    "selection_symbol = alt.selection_point(fields=[\"query_title\"], bind=dropdown_symbol, value=filtered_movies['title'].values[0])\n",
    "\n",
    "# display the similar movies on a chart\n",
    "alt.Chart(similar_movies).mark_point().encode(\n",
    "    alt.X('popularity', title='Popularity'),\n",
    "    alt.Y('vote_average', title='Vote Average'),\n",
    "    alt.Color('title', title='Title'),\n",
    "    tooltip=['title', 'overview']\n",
    ").add_params(\n",
    "    selection_symbol\n",
    ").transform_filter(\n",
    "    selection_symbol\n",
    ").properties(\n",
    "    title='Similar Movies to Selected Movie',\n",
    "    width=600,\n",
    "    height=400,\n",
    ").interactive()"
   ],
   "metadata": {
    "collapsed": false
   }
  },
  {
   "cell_type": "markdown",
   "id": "e643ae62",
   "metadata": {},
   "source": [
    "### Visualition #4: Genres Distribution by Decade"
   ]
  },
  {
   "cell_type": "code",
   "execution_count": 476,
   "id": "9ea9e2a8",
   "metadata": {},
   "outputs": [
    {
     "data": {
      "text/html": "\n<style>\n  #altair-viz-7d38406bb8f647e7a0e76059ced54ec8.vega-embed {\n    width: 100%;\n    display: flex;\n  }\n\n  #altair-viz-7d38406bb8f647e7a0e76059ced54ec8.vega-embed details,\n  #altair-viz-7d38406bb8f647e7a0e76059ced54ec8.vega-embed details summary {\n    position: relative;\n  }\n</style>\n<div id=\"altair-viz-7d38406bb8f647e7a0e76059ced54ec8\"></div>\n<script type=\"text/javascript\">\n  var VEGA_DEBUG = (typeof VEGA_DEBUG == \"undefined\") ? {} : VEGA_DEBUG;\n  (function(spec, embedOpt){\n    let outputDiv = document.currentScript.previousElementSibling;\n    if (outputDiv.id !== \"altair-viz-7d38406bb8f647e7a0e76059ced54ec8\") {\n      outputDiv = document.getElementById(\"altair-viz-7d38406bb8f647e7a0e76059ced54ec8\");\n    }\n    const paths = {\n      \"vega\": \"https://cdn.jsdelivr.net/npm/vega@5?noext\",\n      \"vega-lib\": \"https://cdn.jsdelivr.net/npm/vega-lib?noext\",\n      \"vega-lite\": \"https://cdn.jsdelivr.net/npm/vega-lite@5.17.0?noext\",\n      \"vega-embed\": \"https://cdn.jsdelivr.net/npm/vega-embed@6?noext\",\n    };\n\n    function maybeLoadScript(lib, version) {\n      var key = `${lib.replace(\"-\", \"\")}_version`;\n      return (VEGA_DEBUG[key] == version) ?\n        Promise.resolve(paths[lib]) :\n        new Promise(function(resolve, reject) {\n          var s = document.createElement('script');\n          document.getElementsByTagName(\"head\")[0].appendChild(s);\n          s.async = true;\n          s.onload = () => {\n            VEGA_DEBUG[key] = version;\n            return resolve(paths[lib]);\n          };\n          s.onerror = () => reject(`Error loading script: ${paths[lib]}`);\n          s.src = paths[lib];\n        });\n    }\n\n    function showError(err) {\n      outputDiv.innerHTML = `<div class=\"error\" style=\"color:red;\">${err}</div>`;\n      throw err;\n    }\n\n    function displayChart(vegaEmbed) {\n      vegaEmbed(outputDiv, spec, embedOpt)\n        .catch(err => showError(`Javascript Error: ${err.message}<br>This usually means there's a typo in your chart specification. See the javascript console for the full traceback.`));\n    }\n\n    if(typeof define === \"function\" && define.amd) {\n      requirejs.config({paths});\n      require([\"vega-embed\"], displayChart, err => showError(`Error loading script: ${err.message}`));\n    } else {\n      maybeLoadScript(\"vega\", \"5\")\n        .then(() => maybeLoadScript(\"vega-lite\", \"5.17.0\"))\n        .then(() => maybeLoadScript(\"vega-embed\", \"6\"))\n        .catch(showError)\n        .then(() => displayChart(vegaEmbed));\n    }\n  })({\"config\": {\"view\": {\"continuousWidth\": 300, \"continuousHeight\": 300}}, \"data\": {\"name\": \"data-9d3889547a3350a8c84b838f082c8804\"}, \"mark\": {\"type\": \"bar\"}, \"encoding\": {\"color\": {\"field\": \"genres\", \"title\": \"Genre\", \"type\": \"nominal\"}, \"tooltip\": [{\"field\": \"genres\", \"title\": \"Genre\", \"type\": \"nominal\"}, {\"field\": \"count\", \"format\": \".2f\", \"title\": \"Count\", \"type\": \"quantitative\"}], \"x\": {\"field\": \"genres\", \"sort\": \"-y\", \"title\": \"Genre\", \"type\": \"nominal\"}, \"y\": {\"field\": \"count\", \"title\": \"Count\", \"type\": \"quantitative\"}}, \"height\": 400, \"params\": [{\"name\": \"param_179\", \"select\": {\"type\": \"point\", \"fields\": [\"year\"]}, \"bind\": {\"input\": \"range\", \"max\": 2010, \"min\": 1900, \"name\": \"Year:\", \"step\": 10}, \"value\": {\"year\": 1900}}, {\"name\": \"param_180\", \"select\": {\"type\": \"interval\", \"encodings\": [\"x\", \"y\"]}, \"bind\": \"scales\"}], \"title\": \"Genres Distribution\", \"transform\": [{\"filter\": {\"param\": \"param_179\"}}], \"width\": 600, \"$schema\": \"https://vega.github.io/schema/vega-lite/v5.17.0.json\", \"datasets\": {\"data-9d3889547a3350a8c84b838f082c8804\": [{\"genres\": \"Drama\", \"year\": 2000, \"count\": 5282, \"percentage\": 5.802100268025836}, {\"genres\": \"Drama\", \"year\": 2010, \"count\": 5183, \"percentage\": 5.693352080495629}, {\"genres\": \"Comedy\", \"year\": 2010, \"count\": 3537, \"percentage\": 3.885276154488334}, {\"genres\": \"Comedy\", \"year\": 2000, \"count\": 3380, \"percentage\": 3.712816907596995}, {\"genres\": \"Drama\", \"year\": 1990, \"count\": 2613, \"percentage\": 2.870293070873061}, {\"genres\": \"Thriller\", \"year\": 2010, \"count\": 2363, \"percentage\": 2.5956764356957684}, {\"genres\": \"Thriller\", \"year\": 2000, \"count\": 2169, \"percentage\": 2.3825739267981896}, {\"genres\": \"Documentary\", \"year\": 2010, \"count\": 1883, \"percentage\": 2.0684124961553674}, {\"genres\": \"Comedy\", \"year\": 1990, \"count\": 1853, \"percentage\": 2.035458499934092}, {\"genres\": \"Romance\", \"year\": 2000, \"count\": 1767, \"percentage\": 1.9409903774331032}, {\"genres\": \"Action\", \"year\": 2000, \"count\": 1720, \"percentage\": 1.8893624500197725}, {\"genres\": \"Action\", \"year\": 2010, \"count\": 1616, \"percentage\": 1.7751219297860186}, {\"genres\": \"Drama\", \"year\": 1980, \"count\": 1553, \"percentage\": 1.705918537721341}, {\"genres\": \"Drama\", \"year\": 1970, \"count\": 1508, \"percentage\": 1.6564875433894284}, {\"genres\": \"Romance\", \"year\": 2010, \"count\": 1448, \"percentage\": 1.590579550946878}, {\"genres\": \"Horror\", \"year\": 2010, \"count\": 1370, \"percentage\": 1.504899160771563}, {\"genres\": \"Comedy\", \"year\": 1980, \"count\": 1297, \"percentage\": 1.4247111032997934}, {\"genres\": \"Drama\", \"year\": 1960, \"count\": 1212, \"percentage\": 1.331341447339514}, {\"genres\": \"Documentary\", \"year\": 2000, \"count\": 1197, \"percentage\": 1.3148644492288764}, {\"genres\": \"Horror\", \"year\": 2000, \"count\": 1161, \"percentage\": 1.2753196537633464}, {\"genres\": \"Drama\", \"year\": 1950, \"count\": 1065, \"percentage\": 1.169866865855266}, {\"genres\": \"Thriller\", \"year\": 1990, \"count\": 1049, \"percentage\": 1.1522914012039194}, {\"genres\": \"Crime\", \"year\": 2000, \"count\": 1004, \"percentage\": 1.1028604068720067}, {\"genres\": \"Action\", \"year\": 1990, \"count\": 995, \"percentage\": 1.0929742080056242}, {\"genres\": \"Romance\", \"year\": 1990, \"count\": 995, \"percentage\": 1.0929742080056242}, {\"genres\": \"Crime\", \"year\": 2010, \"count\": 929, \"percentage\": 1.0204754163188188}, {\"genres\": \"Comedy\", \"year\": 1970, \"count\": 839, \"percentage\": 0.9216134276549937}, {\"genres\": \"Adventure\", \"year\": 2000, \"count\": 828, \"percentage\": 0.9095302957071928}, {\"genres\": \"Science Fiction\", \"year\": 2010, \"count\": 798, \"percentage\": 0.8765762994859175}, {\"genres\": \"Family\", \"year\": 2000, \"count\": 798, \"percentage\": 0.8765762994859175}, {\"genres\": \"Foreign\", \"year\": 2000, \"count\": 786, \"percentage\": 0.8633947009974077}, {\"genres\": \"Adventure\", \"year\": 2010, \"count\": 784, \"percentage\": 0.8611977679159893}, {\"genres\": \"Drama\", \"year\": 1940, \"count\": 781, \"percentage\": 0.8579023682938617}, {\"genres\": \"Science Fiction\", \"year\": 2000, \"count\": 740, \"percentage\": 0.8128652401247858}, {\"genres\": \"Comedy\", \"year\": 1960, \"count\": 723, \"percentage\": 0.7941913089327299}, {\"genres\": \"Family\", \"year\": 2010, \"count\": 723, \"percentage\": 0.7941913089327299}, {\"genres\": \"Action\", \"year\": 1980, \"count\": 713, \"percentage\": 0.7832066435256382}, {\"genres\": \"Drama\", \"year\": 1930, \"count\": 707, \"percentage\": 0.7766158442813832}, {\"genres\": \"Action\", \"year\": 1970, \"count\": 651, \"percentage\": 0.7151017180016697}, {\"genres\": \"Horror\", \"year\": 1980, \"count\": 643, \"percentage\": 0.7063139856759962}, {\"genres\": \"Mystery\", \"year\": 2010, \"count\": 612, \"percentage\": 0.6722615229140121}, {\"genres\": \"Mystery\", \"year\": 2000, \"count\": 606, \"percentage\": 0.665670723669757}, {\"genres\": \"Animation\", \"year\": 2010, \"count\": 604, \"percentage\": 0.6634737905883387}, {\"genres\": \"Thriller\", \"year\": 1980, \"count\": 600, \"percentage\": 0.659079924425502}, {\"genres\": \"Thriller\", \"year\": 1970, \"count\": 596, \"percentage\": 0.6546860582626653}, {\"genres\": \"Crime\", \"year\": 1990, \"count\": 585, \"percentage\": 0.6426029263148644}, {\"genres\": \"Animation\", \"year\": 2000, \"count\": 579, \"percentage\": 0.6360121270706095}, {\"genres\": \"Fantasy\", \"year\": 2000, \"count\": 569, \"percentage\": 0.6250274616635177}, {\"genres\": \"Fantasy\", \"year\": 2010, \"count\": 561, \"percentage\": 0.6162397293378444}, {\"genres\": \"Romance\", \"year\": 1980, \"count\": 542, \"percentage\": 0.5953688650643701}, {\"genres\": \"Horror\", \"year\": 1970, \"count\": 499, \"percentage\": 0.5481348038138758}, {\"genres\": \"Family\", \"year\": 1990, \"count\": 485, \"percentage\": 0.5327562722439475}, {\"genres\": \"Adventure\", \"year\": 1990, \"count\": 485, \"percentage\": 0.5327562722439475}, {\"genres\": \"Science Fiction\", \"year\": 1990, \"count\": 482, \"percentage\": 0.52946087262182}, {\"genres\": \"Horror\", \"year\": 1990, \"count\": 465, \"percentage\": 0.5107869414297641}, {\"genres\": \"Comedy\", \"year\": 1950, \"count\": 463, \"percentage\": 0.5085900083483457}, {\"genres\": \"Crime\", \"year\": 1970, \"count\": 451, \"percentage\": 0.4954084098598357}, {\"genres\": \"Comedy\", \"year\": 1930, \"count\": 446, \"percentage\": 0.4899160771562898}, {\"genres\": \"Comedy\", \"year\": 1940, \"count\": 409, \"percentage\": 0.4492728151500505}, {\"genres\": \"Romance\", \"year\": 1930, \"count\": 406, \"percentage\": 0.445977415527923}, {\"genres\": \"Science Fiction\", \"year\": 1980, \"count\": 404, \"percentage\": 0.44378048244650464}, {\"genres\": \"Romance\", \"year\": 1950, \"count\": 399, \"percentage\": 0.43828814974295877}, {\"genres\": \"Adventure\", \"year\": 1980, \"count\": 390, \"percentage\": 0.4284019508765763}, {\"genres\": \"Crime\", \"year\": 1980, \"count\": 389, \"percentage\": 0.4273034843358671}, {\"genres\": \"Romance\", \"year\": 1960, \"count\": 379, \"percentage\": 0.4163188189287755}, {\"genres\": \"History\", \"year\": 2010, \"count\": 378, \"percentage\": 0.4152203523880663}, {\"genres\": \"Romance\", \"year\": 1940, \"count\": 378, \"percentage\": 0.4152203523880663}, {\"genres\": \"Action\", \"year\": 1960, \"count\": 372, \"percentage\": 0.4086295531438112}, {\"genres\": \"Fantasy\", \"year\": 1990, \"count\": 362, \"percentage\": 0.3976448877367195}, {\"genres\": \"Music\", \"year\": 2000, \"count\": 357, \"percentage\": 0.3921525550331737}, {\"genres\": \"Music\", \"year\": 2010, \"count\": 351, \"percentage\": 0.38556175578891866}, {\"genres\": \"History\", \"year\": 2000, \"count\": 316, \"percentage\": 0.34711542686409774}, {\"genres\": \"Fantasy\", \"year\": 1980, \"count\": 307, \"percentage\": 0.3372292279977152}, {\"genres\": \"TV Movie\", \"year\": 2010, \"count\": 303, \"percentage\": 0.3328353618348785}, {\"genres\": \"Romance\", \"year\": 1970, \"count\": 302, \"percentage\": 0.33173689529416933}, {\"genres\": \"Documentary\", \"year\": 1990, \"count\": 292, \"percentage\": 0.32075222988707763}, {\"genres\": \"Adventure\", \"year\": 1960, \"count\": 289, \"percentage\": 0.31745683026495014}, {\"genres\": \"Mystery\", \"year\": 1990, \"count\": 284, \"percentage\": 0.31196449756140426}, {\"genres\": \"Adventure\", \"year\": 1970, \"count\": 270, \"percentage\": 0.2965859659914759}, {\"genres\": \"Crime\", \"year\": 1950, \"count\": 266, \"percentage\": 0.2921920998286392}, {\"genres\": \"Thriller\", \"year\": 1960, \"count\": 266, \"percentage\": 0.2921920998286392}, {\"genres\": \"Drama\", \"year\": 1920, \"count\": 257, \"percentage\": 0.28230590096225666}, {\"genres\": \"Crime\", \"year\": 1960, \"count\": 256, \"percentage\": 0.2812074344215475}, {\"genres\": \"Animation\", \"year\": 1990, \"count\": 256, \"percentage\": 0.2812074344215475}, {\"genres\": \"Family\", \"year\": 1980, \"count\": 254, \"percentage\": 0.2790105013401292}, {\"genres\": \"Action\", \"year\": 1950, \"count\": 248, \"percentage\": 0.27241970209587413}, {\"genres\": \"War\", \"year\": 2010, \"count\": 235, \"percentage\": 0.258139637066655}, {\"genres\": \"Mystery\", \"year\": 1970, \"count\": 233, \"percentage\": 0.2559427039852366}, {\"genres\": \"Thriller\", \"year\": 1940, \"count\": 233, \"percentage\": 0.2559427039852366}, {\"genres\": \"Foreign\", \"year\": 1990, \"count\": 230, \"percentage\": 0.2526473043631091}, {\"genres\": \"Thriller\", \"year\": 1950, \"count\": 229, \"percentage\": 0.2515488378223999}, {\"genres\": \"Horror\", \"year\": 1960, \"count\": 225, \"percentage\": 0.24715497165956327}, {\"genres\": \"Western\", \"year\": 1950, \"count\": 225, \"percentage\": 0.24715497165956327}, {\"genres\": \"Foreign\", \"year\": 2010, \"count\": 224, \"percentage\": 0.24605650511885407}, {\"genres\": \"Crime\", \"year\": 1940, \"count\": 220, \"percentage\": 0.2416626389560174}, {\"genres\": \"War\", \"year\": 2000, \"count\": 215, \"percentage\": 0.23617030625247157}, {\"genres\": \"Science Fiction\", \"year\": 1970, \"count\": 210, \"percentage\": 0.2306779735489257}, {\"genres\": \"Mystery\", \"year\": 1980, \"count\": 208, \"percentage\": 0.2284810404675074}, {\"genres\": \"Adventure\", \"year\": 1950, \"count\": 203, \"percentage\": 0.2229887077639615}, {\"genres\": \"Western\", \"year\": 1960, \"count\": 199, \"percentage\": 0.21859484160112486}, {\"genres\": \"TV Movie\", \"year\": 2000, \"count\": 197, \"percentage\": 0.2163979085197065}, {\"genres\": \"Animation\", \"year\": 1980, \"count\": 189, \"percentage\": 0.20761017619403316}, {\"genres\": \"Science Fiction\", \"year\": 1960, \"count\": 187, \"percentage\": 0.2054132431126148}, {\"genres\": \"Family\", \"year\": 1970, \"count\": 185, \"percentage\": 0.20321631003119645}, {\"genres\": \"Western\", \"year\": 1970, \"count\": 179, \"percentage\": 0.19662551078694143}, {\"genres\": \"Foreign\", \"year\": 1970, \"count\": 170, \"percentage\": 0.1867393119205589}, {\"genres\": \"Mystery\", \"year\": 1940, \"count\": 170, \"percentage\": 0.1867393119205589}, {\"genres\": \"War\", \"year\": 1960, \"count\": 169, \"percentage\": 0.1856408453798497}, {\"genres\": \"Crime\", \"year\": 1930, \"count\": 166, \"percentage\": 0.1823454457577222}, {\"genres\": \"Documentary\", \"year\": 1970, \"count\": 162, \"percentage\": 0.17795157959488553}, {\"genres\": \"Music\", \"year\": 1980, \"count\": 158, \"percentage\": 0.17355771343204887}, {\"genres\": \"Science Fiction\", \"year\": 1950, \"count\": 154, \"percentage\": 0.1691638472692122}, {\"genres\": \"Documentary\", \"year\": 1980, \"count\": 154, \"percentage\": 0.1691638472692122}, {\"genres\": \"History\", \"year\": 1990, \"count\": 153, \"percentage\": 0.16806538072850302}, {\"genres\": \"Music\", \"year\": 1990, \"count\": 150, \"percentage\": 0.1647699811063755}, {\"genres\": \"War\", \"year\": 1950, \"count\": 150, \"percentage\": 0.1647699811063755}, {\"genres\": \"War\", \"year\": 1940, \"count\": 148, \"percentage\": 0.16257304802495715}, {\"genres\": \"Fantasy\", \"year\": 1970, \"count\": 147, \"percentage\": 0.16147458148424798}, {\"genres\": \"Horror\", \"year\": 1950, \"count\": 134, \"percentage\": 0.1471945164550288}, {\"genres\": \"Family\", \"year\": 1960, \"count\": 134, \"percentage\": 0.1471945164550288}, {\"genres\": \"Mystery\", \"year\": 1960, \"count\": 132, \"percentage\": 0.14499758337361043}, {\"genres\": \"Comedy\", \"year\": 1920, \"count\": 129, \"percentage\": 0.1417021837514829}, {\"genres\": \"TV Movie\", \"year\": 1990, \"count\": 128, \"percentage\": 0.14060371721077375}, {\"genres\": \"Action\", \"year\": 1940, \"count\": 124, \"percentage\": 0.13620985104793706}, {\"genres\": \"Mystery\", \"year\": 1930, \"count\": 122, \"percentage\": 0.13401291796651874}, {\"genres\": \"Music\", \"year\": 1970, \"count\": 121, \"percentage\": 0.13291445142580957}, {\"genres\": \"History\", \"year\": 1960, \"count\": 120, \"percentage\": 0.1318159848851004}, {\"genres\": \"Music\", \"year\": 1950, \"count\": 119, \"percentage\": 0.13071751834439121}, {\"genres\": \"Music\", \"year\": 1940, \"count\": 118, \"percentage\": 0.12961905180368208}, {\"genres\": \"War\", \"year\": 1970, \"count\": 117, \"percentage\": 0.1285205852629729}, {\"genres\": \"Fantasy\", \"year\": 1960, \"count\": 116, \"percentage\": 0.12742211872226372}, {\"genres\": \"History\", \"year\": 1970, \"count\": 116, \"percentage\": 0.12742211872226372}, {\"genres\": \"Foreign\", \"year\": 1980, \"count\": 115, \"percentage\": 0.12632365218155456}, {\"genres\": \"Action\", \"year\": 1930, \"count\": 112, \"percentage\": 0.12302825255942704}, {\"genres\": \"War\", \"year\": 1980, \"count\": 111, \"percentage\": 0.12192978601871787}, {\"genres\": \"Music\", \"year\": 1960, \"count\": 108, \"percentage\": 0.11863438639659037}, {\"genres\": \"Adventure\", \"year\": 1930, \"count\": 106, \"percentage\": 0.11643745331517202}, {\"genres\": \"Music\", \"year\": 1930, \"count\": 106, \"percentage\": 0.11643745331517202}, {\"genres\": \"War\", \"year\": 1990, \"count\": 104, \"percentage\": 0.1142405202337537}, {\"genres\": \"History\", \"year\": 1980, \"count\": 103, \"percentage\": 0.11314205369304452}, {\"genres\": \"Romance\", \"year\": 1920, \"count\": 101, \"percentage\": 0.11094512061162616}, {\"genres\": \"Western\", \"year\": 1940, \"count\": 95, \"percentage\": 0.10435432136737113}, {\"genres\": \"Foreign\", \"year\": 1960, \"count\": 94, \"percentage\": 0.10325585482666198}, {\"genres\": \"Thriller\", \"year\": 1930, \"count\": 94, \"percentage\": 0.10325585482666198}, {\"genres\": \"Animation\", \"year\": 1970, \"count\": 92, \"percentage\": 0.10105892174524364}, {\"genres\": \"Adventure\", \"year\": 1940, \"count\": 89, \"percentage\": 0.09776352212311613}, {\"genres\": \"Documentary\", \"year\": 1960, \"count\": 85, \"percentage\": 0.09336965596027945}, {\"genres\": \"Mystery\", \"year\": 1950, \"count\": 84, \"percentage\": 0.09227118941957028}, {\"genres\": \"Western\", \"year\": 2010, \"count\": 82, \"percentage\": 0.09007425633815194}, {\"genres\": \"Drama\", \"year\": 1910, \"count\": 81, \"percentage\": 0.08897578979744276}, {\"genres\": \"Family\", \"year\": 1950, \"count\": 78, \"percentage\": 0.08568039017531526}, {\"genres\": \"History\", \"year\": 1950, \"count\": 76, \"percentage\": 0.08348345709389692}, {\"genres\": \"Fantasy\", \"year\": 1950, \"count\": 72, \"percentage\": 0.07908959093106024}, {\"genres\": \"TV Movie\", \"year\": 1970, \"count\": 70, \"percentage\": 0.0768926578496419}, {\"genres\": \"Western\", \"year\": 1930, \"count\": 69, \"percentage\": 0.07579419130893272}, {\"genres\": \"Horror\", \"year\": 1940, \"count\": 68, \"percentage\": 0.07469572476822356}, {\"genres\": \"Western\", \"year\": 1990, \"count\": 67, \"percentage\": 0.0735972582275144}, {\"genres\": \"Fantasy\", \"year\": 1940, \"count\": 65, \"percentage\": 0.07140032514609605}, {\"genres\": \"Comedy\", \"year\": 1910, \"count\": 65, \"percentage\": 0.07140032514609605}, {\"genres\": \"Western\", \"year\": 2000, \"count\": 62, \"percentage\": 0.06810492552396853}, {\"genres\": \"History\", \"year\": 1930, \"count\": 59, \"percentage\": 0.06480952590184104}, {\"genres\": \"Family\", \"year\": 1940, \"count\": 58, \"percentage\": 0.06371105936113186}, {\"genres\": \"Horror\", \"year\": 1930, \"count\": 57, \"percentage\": 0.06261259282042268}, {\"genres\": \"Animation\", \"year\": 1960, \"count\": 57, \"percentage\": 0.06261259282042268}, {\"genres\": \"TV Movie\", \"year\": 1980, \"count\": 54, \"percentage\": 0.05931719319829518}, {\"genres\": \"War\", \"year\": 1930, \"count\": 53, \"percentage\": 0.05821872665758601}, {\"genres\": \"History\", \"year\": 1940, \"count\": 50, \"percentage\": 0.0549233270354585}, {\"genres\": \"Animation\", \"year\": 1930, \"count\": 49, \"percentage\": 0.053824860494749334}, {\"genres\": \"Animation\", \"year\": 1940, \"count\": 48, \"percentage\": 0.052726393954040156}, {\"genres\": \"Family\", \"year\": 1930, \"count\": 43, \"percentage\": 0.047234061250494314}, {\"genres\": \"Western\", \"year\": 1980, \"count\": 40, \"percentage\": 0.0439386616283668}, {\"genres\": \"Animation\", \"year\": 1950, \"count\": 36, \"percentage\": 0.03954479546553012}, {\"genres\": \"Adventure\", \"year\": 1920, \"count\": 35, \"percentage\": 0.03844632892482095}, {\"genres\": \"Fantasy\", \"year\": 1930, \"count\": 35, \"percentage\": 0.03844632892482095}, {\"genres\": \"Documentary\", \"year\": 1950, \"count\": 35, \"percentage\": 0.03844632892482095}, {\"genres\": \"Comedy\", \"year\": 1900, \"count\": 30, \"percentage\": 0.0329539962212751}, {\"genres\": \"Fantasy\", \"year\": 1900, \"count\": 30, \"percentage\": 0.0329539962212751}, {\"genres\": \"Documentary\", \"year\": 1890, \"count\": 28, \"percentage\": 0.03075706313985676}, {\"genres\": \"Documentary\", \"year\": 1940, \"count\": 28, \"percentage\": 0.03075706313985676}, {\"genres\": \"Horror\", \"year\": 1920, \"count\": 28, \"percentage\": 0.03075706313985676}, {\"genres\": \"Action\", \"year\": 1920, \"count\": 27, \"percentage\": 0.02965859659914759}, {\"genres\": \"Crime\", \"year\": 1920, \"count\": 25, \"percentage\": 0.02746166351772925}, {\"genres\": \"Fantasy\", \"year\": 1920, \"count\": 24, \"percentage\": 0.026363196977020078}, {\"genres\": \"Science Fiction\", \"year\": 1940, \"count\": 24, \"percentage\": 0.026363196977020078}, {\"genres\": \"Science Fiction\", \"year\": 1930, \"count\": 24, \"percentage\": 0.026363196977020078}, {\"genres\": \"Documentary\", \"year\": 1920, \"count\": 21, \"percentage\": 0.02306779735489257}, {\"genres\": \"Thriller\", \"year\": 1920, \"count\": 18, \"percentage\": 0.01977239773276506}, {\"genres\": \"Documentary\", \"year\": 1930, \"count\": 16, \"percentage\": 0.01757546465134672}, {\"genres\": \"Western\", \"year\": 1920, \"count\": 16, \"percentage\": 0.01757546465134672}, {\"genres\": \"History\", \"year\": 1920, \"count\": 16, \"percentage\": 0.01757546465134672}, {\"genres\": \"TV Movie\", \"year\": 1960, \"count\": 14, \"percentage\": 0.01537853156992838}, {\"genres\": \"Romance\", \"year\": 1910, \"count\": 13, \"percentage\": 0.014280065029219212}, {\"genres\": \"War\", \"year\": 1920, \"count\": 13, \"percentage\": 0.014280065029219212}, {\"genres\": \"Documentary\", \"year\": 1900, \"count\": 12, \"percentage\": 0.013181598488510039}, {\"genres\": \"Fantasy\", \"year\": 1910, \"count\": 12, \"percentage\": 0.013181598488510039}, {\"genres\": \"Animation\", \"year\": 1920, \"count\": 12, \"percentage\": 0.013181598488510039}, {\"genres\": \"Fantasy\", \"year\": 1890, \"count\": 12, \"percentage\": 0.013181598488510039}, {\"genres\": \"Comedy\", \"year\": 1890, \"count\": 10, \"percentage\": 0.0109846654070917}, {\"genres\": \"Crime\", \"year\": 1910, \"count\": 10, \"percentage\": 0.0109846654070917}, {\"genres\": \"Adventure\", \"year\": 1910, \"count\": 9, \"percentage\": 0.00988619886638253}, {\"genres\": \"Horror\", \"year\": 1900, \"count\": 9, \"percentage\": 0.00988619886638253}, {\"genres\": \"Mystery\", \"year\": 1920, \"count\": 9, \"percentage\": 0.00988619886638253}, {\"genres\": \"Drama\", \"year\": 1900, \"count\": 9, \"percentage\": 0.00988619886638253}, {\"genres\": \"Science Fiction\", \"year\": 1920, \"count\": 9, \"percentage\": 0.00988619886638253}, {\"genres\": \"Music\", \"year\": 1920, \"count\": 8, \"percentage\": 0.00878773232567336}, {\"genres\": \"History\", \"year\": 1910, \"count\": 7, \"percentage\": 0.00768926578496419}, {\"genres\": \"War\", \"year\": 1910, \"count\": 7, \"percentage\": 0.00768926578496419}, {\"genres\": \"Western\", \"year\": 1910, \"count\": 7, \"percentage\": 0.00768926578496419}, {\"genres\": \"Family\", \"year\": 1920, \"count\": 6, \"percentage\": 0.0065907992442550195}, {\"genres\": \"Animation\", \"year\": 1910, \"count\": 6, \"percentage\": 0.0065907992442550195}, {\"genres\": \"Horror\", \"year\": 1890, \"count\": 6, \"percentage\": 0.0065907992442550195}, {\"genres\": \"Action\", \"year\": 1910, \"count\": 6, \"percentage\": 0.0065907992442550195}, {\"genres\": \"Horror\", \"year\": 1910, \"count\": 5, \"percentage\": 0.00549233270354585}, {\"genres\": \"Action\", \"year\": 1900, \"count\": 5, \"percentage\": 0.00549233270354585}, {\"genres\": \"Science Fiction\", \"year\": 1900, \"count\": 5, \"percentage\": 0.00549233270354585}, {\"genres\": \"Adventure\", \"year\": 1900, \"count\": 5, \"percentage\": 0.00549233270354585}, {\"genres\": \"Crime\", \"year\": 1900, \"count\": 4, \"percentage\": 0.00439386616283668}, {\"genres\": \"Mystery\", \"year\": 1910, \"count\": 4, \"percentage\": 0.00439386616283668}, {\"genres\": \"Documentary\", \"year\": 1880, \"count\": 4, \"percentage\": 0.00439386616283668}, {\"genres\": \"Drama\", \"year\": 1890, \"count\": 4, \"percentage\": 0.00439386616283668}, {\"genres\": \"Animation\", \"year\": 1900, \"count\": 3, \"percentage\": 0.0032953996221275097}, {\"genres\": \"Science Fiction\", \"year\": 1910, \"count\": 3, \"percentage\": 0.0032953996221275097}, {\"genres\": \"Music\", \"year\": 1900, \"count\": 2, \"percentage\": 0.00219693308141834}, {\"genres\": \"Romance\", \"year\": 1900, \"count\": 2, \"percentage\": 0.00219693308141834}, {\"genres\": \"Documentary\", \"year\": 1910, \"count\": 2, \"percentage\": 0.00219693308141834}, {\"genres\": \"Action\", \"year\": 1890, \"count\": 2, \"percentage\": 0.00219693308141834}, {\"genres\": \"History\", \"year\": 1890, \"count\": 2, \"percentage\": 0.00219693308141834}, {\"genres\": \"Family\", \"year\": 1890, \"count\": 2, \"percentage\": 0.00219693308141834}, {\"genres\": \"Foreign\", \"year\": 1950, \"count\": 2, \"percentage\": 0.00219693308141834}, {\"genres\": \"Documentary\", \"year\": 1870, \"count\": 2, \"percentage\": 0.00219693308141834}, {\"genres\": \"Thriller\", \"year\": 1900, \"count\": 2, \"percentage\": 0.00219693308141834}, {\"genres\": \"Science Fiction\", \"year\": 1890, \"count\": 1, \"percentage\": 0.00109846654070917}, {\"genres\": \"Science Fiction\", \"year\": 2020, \"count\": 1, \"percentage\": 0.00109846654070917}, {\"genres\": \"Fantasy\", \"year\": 2020, \"count\": 1, \"percentage\": 0.00109846654070917}, {\"genres\": \"Action\", \"year\": 2020, \"count\": 1, \"percentage\": 0.00109846654070917}, {\"genres\": \"Family\", \"year\": 1900, \"count\": 1, \"percentage\": 0.00109846654070917}, {\"genres\": \"Animation\", \"year\": 1890, \"count\": 1, \"percentage\": 0.00109846654070917}, {\"genres\": \"Family\", \"year\": 1910, \"count\": 1, \"percentage\": 0.00109846654070917}, {\"genres\": \"History\", \"year\": 1900, \"count\": 1, \"percentage\": 0.00109846654070917}, {\"genres\": \"Western\", \"year\": 1900, \"count\": 1, \"percentage\": 0.00109846654070917}, {\"genres\": \"War\", \"year\": 1890, \"count\": 1, \"percentage\": 0.00109846654070917}, {\"genres\": \"Adventure\", \"year\": 2020, \"count\": 1, \"percentage\": 0.00109846654070917}, {\"genres\": \"Romance\", \"year\": 1890, \"count\": 1, \"percentage\": 0.00109846654070917}]}}, {\"mode\": \"vega-lite\"});\n</script>",
      "text/plain": "alt.Chart(...)"
     },
     "execution_count": 476,
     "metadata": {},
     "output_type": "execute_result"
    }
   ],
   "source": [
    "movies_metadata_genres = movies_metadata[['id', 'title', 'genres', 'release_date']].copy()\n",
    "\n",
    "# convert the genres column to a list\n",
    "movies_metadata_genres['genres'] = (\n",
    "    movies_metadata_genres['genres']\n",
    "    .fillna('[]')\n",
    "    .apply(literal_eval)\n",
    "    .apply(lambda x: [i['name'] for i in x] if isinstance(x, list) else [])\n",
    ")\n",
    "\n",
    "movies_metadata_genres['release_date'] = pd.to_datetime(movies_metadata_genres['release_date'], errors='coerce')\n",
    "movies_metadata_genres = movies_metadata_genres[~movies_metadata_genres['release_date'].isna()]\n",
    "# convert year to decade\n",
    "movies_metadata_genres['year'] = (movies_metadata_genres['release_date'].dt.year // 10 * 10).astype(int)\n",
    "\n",
    "genres = movies_metadata_genres.explode('genres')\n",
    "genres = genres.groupby(['genres', 'year']).size().reset_index(name='count')\n",
    "genres = genres.sort_values('count', ascending=False)\n",
    "\n",
    "# Create a selection object for the slider\n",
    "year_slider = alt.binding_range(min=1900, max=2010, step=10, name='Year:')\n",
    "year_select = alt.selection_point(fields=['year'], bind=year_slider, value={'year': 1900})\n",
    "\n",
    "# calculate the percentage\n",
    "genres['percentage'] = genres['count'] / genres['count'].sum() * 100\n",
    "# plot the genres distribution\n",
    "chart = alt.Chart(genres).mark_bar().encode(\n",
    "    x=alt.X('genres', title='Genre', sort='-y'),\n",
    "    y=alt.Y('count', title='Count'),\n",
    "    color=alt.Color('genres', title='Genre'),\n",
    "    tooltip=[alt.Tooltip('genres', title='Genre'), alt.Tooltip('count', format='.2f', title='Count')]\n",
    ").add_params(\n",
    "    year_select\n",
    ").transform_filter(\n",
    "    year_select\n",
    ").properties(\n",
    "    title='Genres Distribution',\n",
    "    width=600,\n",
    "    height=400,\n",
    ").interactive()\n",
    "\n",
    "chart"
   ]
  },
  {
   "cell_type": "markdown",
   "id": "21163d34",
   "metadata": {},
   "source": [
    "### Visualition #5: Countries Distribution\n",
    "\n",
    "The last visualization tries to analyze the distribution of countries in the movies dataset."
   ]
  },
  {
   "cell_type": "code",
   "execution_count": 477,
   "id": "42777279",
   "metadata": {},
   "outputs": [
    {
     "data": {
      "text/plain": "         production_countries  count         lat         long\n153  United States of America  21153  39.7837304  -100.445882\n151            United Kingdom   4094  54.7023545   -3.2765753\n50                     France   3940   46.603354    1.8883335\n54                    Germany   2254  51.1638175   10.4478313\n70                      Italy   2169  42.6384261    12.674297",
      "text/html": "<div>\n<style scoped>\n    .dataframe tbody tr th:only-of-type {\n        vertical-align: middle;\n    }\n\n    .dataframe tbody tr th {\n        vertical-align: top;\n    }\n\n    .dataframe thead th {\n        text-align: right;\n    }\n</style>\n<table border=\"1\" class=\"dataframe\">\n  <thead>\n    <tr style=\"text-align: right;\">\n      <th></th>\n      <th>production_countries</th>\n      <th>count</th>\n      <th>lat</th>\n      <th>long</th>\n    </tr>\n  </thead>\n  <tbody>\n    <tr>\n      <th>153</th>\n      <td>United States of America</td>\n      <td>21153</td>\n      <td>39.7837304</td>\n      <td>-100.445882</td>\n    </tr>\n    <tr>\n      <th>151</th>\n      <td>United Kingdom</td>\n      <td>4094</td>\n      <td>54.7023545</td>\n      <td>-3.2765753</td>\n    </tr>\n    <tr>\n      <th>50</th>\n      <td>France</td>\n      <td>3940</td>\n      <td>46.603354</td>\n      <td>1.8883335</td>\n    </tr>\n    <tr>\n      <th>54</th>\n      <td>Germany</td>\n      <td>2254</td>\n      <td>51.1638175</td>\n      <td>10.4478313</td>\n    </tr>\n    <tr>\n      <th>70</th>\n      <td>Italy</td>\n      <td>2169</td>\n      <td>42.6384261</td>\n      <td>12.674297</td>\n    </tr>\n  </tbody>\n</table>\n</div>"
     },
     "execution_count": 477,
     "metadata": {},
     "output_type": "execute_result"
    }
   ],
   "source": [
    "import time\n",
    "import json\n",
    "from ast import literal_eval\n",
    "import requests\n",
    "\n",
    "# Extract the production_countries from the movies_metadata\n",
    "movies_metadata_countries = movies_metadata[['id', 'title', 'production_countries']].copy()\n",
    "# Convert the production_countries column to a list, similar to the genres column in the previous visualizations\n",
    "movies_metadata_countries['production_countries'] = (\n",
    "    movies_metadata_countries['production_countries']\n",
    "    .fillna('[]')\n",
    "    .apply(literal_eval)\n",
    "    .apply(lambda x: [i['name'] for i in x] if isinstance(x, list) else [])\n",
    ")\n",
    "# Explode the production_countries column and group by production_countries\n",
    "movies_metadata_countries = movies_metadata_countries.explode('production_countries')\n",
    "movies_metadata_countries = movies_metadata_countries.groupby('production_countries').size().reset_index(name='count')\n",
    "movies_metadata_countries = movies_metadata_countries.sort_values('count', ascending=False)\n",
    "\n",
    "def fetch_lat_long_data(country):\n",
    "    country_param = country.replace(' ', '%20')\n",
    "    country_filename = country.replace(' ', '_').lower() + '.json'\n",
    "    data_directory = './data'\n",
    "    if os.path.exists(os.path.join(data_directory, country_filename)):\n",
    "        with open(os.path.join(data_directory, country_filename), 'r') as f:\n",
    "            return json.load(f)\n",
    "    else:\n",
    "        lat_long_url = f\"https://geocode.maps.co/search?q={country_param}&api_key=6668f5eb3d464108527128ndi77d74c\"\n",
    "        print('Fetching data for:', country)\n",
    "        response = requests.get(lat_long_url)\n",
    "        if response.status_code == 200:\n",
    "            data = response.json()\n",
    "            with open(os.path.join(data_directory, country_filename), 'w') as f:\n",
    "                json.dump(data, f)\n",
    "            print('Waiting for 5 seconds...')\n",
    "            time.sleep(5)\n",
    "            return data\n",
    "        else:\n",
    "            return None\n",
    "\n",
    "def get_lat_long(country):\n",
    "    data = fetch_lat_long_data(country)\n",
    "    if data:\n",
    "        return data[0]['lat'] + ',' + data[0]['lon']\n",
    "    else:\n",
    "        return None\n",
    "\n",
    "movies_metadata_countries['lat_long'] = movies_metadata_countries.apply(lambda x: get_lat_long(x['production_countries']), axis=1)\n",
    "movies_metadata_countries[['lat', 'long']] = movies_metadata_countries['lat_long'].str.split(',', expand=True)\n",
    "movies_metadata_countries = movies_metadata_countries.drop(columns=['lat_long'])\n",
    "movies_metadata_countries.head()"
   ]
  },
  {
   "cell_type": "code",
   "execution_count": 478,
   "id": "e952d7f4",
   "metadata": {},
   "outputs": [
    {
     "data": {
      "text/html": "\n<style>\n  #altair-viz-2cf3137035c64f5bb4b18675a69aa2e2.vega-embed {\n    width: 100%;\n    display: flex;\n  }\n\n  #altair-viz-2cf3137035c64f5bb4b18675a69aa2e2.vega-embed details,\n  #altair-viz-2cf3137035c64f5bb4b18675a69aa2e2.vega-embed details summary {\n    position: relative;\n  }\n</style>\n<div id=\"altair-viz-2cf3137035c64f5bb4b18675a69aa2e2\"></div>\n<script type=\"text/javascript\">\n  var VEGA_DEBUG = (typeof VEGA_DEBUG == \"undefined\") ? {} : VEGA_DEBUG;\n  (function(spec, embedOpt){\n    let outputDiv = document.currentScript.previousElementSibling;\n    if (outputDiv.id !== \"altair-viz-2cf3137035c64f5bb4b18675a69aa2e2\") {\n      outputDiv = document.getElementById(\"altair-viz-2cf3137035c64f5bb4b18675a69aa2e2\");\n    }\n    const paths = {\n      \"vega\": \"https://cdn.jsdelivr.net/npm/vega@5?noext\",\n      \"vega-lib\": \"https://cdn.jsdelivr.net/npm/vega-lib?noext\",\n      \"vega-lite\": \"https://cdn.jsdelivr.net/npm/vega-lite@5.17.0?noext\",\n      \"vega-embed\": \"https://cdn.jsdelivr.net/npm/vega-embed@6?noext\",\n    };\n\n    function maybeLoadScript(lib, version) {\n      var key = `${lib.replace(\"-\", \"\")}_version`;\n      return (VEGA_DEBUG[key] == version) ?\n        Promise.resolve(paths[lib]) :\n        new Promise(function(resolve, reject) {\n          var s = document.createElement('script');\n          document.getElementsByTagName(\"head\")[0].appendChild(s);\n          s.async = true;\n          s.onload = () => {\n            VEGA_DEBUG[key] = version;\n            return resolve(paths[lib]);\n          };\n          s.onerror = () => reject(`Error loading script: ${paths[lib]}`);\n          s.src = paths[lib];\n        });\n    }\n\n    function showError(err) {\n      outputDiv.innerHTML = `<div class=\"error\" style=\"color:red;\">${err}</div>`;\n      throw err;\n    }\n\n    function displayChart(vegaEmbed) {\n      vegaEmbed(outputDiv, spec, embedOpt)\n        .catch(err => showError(`Javascript Error: ${err.message}<br>This usually means there's a typo in your chart specification. See the javascript console for the full traceback.`));\n    }\n\n    if(typeof define === \"function\" && define.amd) {\n      requirejs.config({paths});\n      require([\"vega-embed\"], displayChart, err => showError(`Error loading script: ${err.message}`));\n    } else {\n      maybeLoadScript(\"vega\", \"5\")\n        .then(() => maybeLoadScript(\"vega-lite\", \"5.17.0\"))\n        .then(() => maybeLoadScript(\"vega-embed\", \"6\"))\n        .catch(showError)\n        .then(() => displayChart(vegaEmbed));\n    }\n  })({\"config\": {\"view\": {\"continuousWidth\": 300, \"continuousHeight\": 300}}, \"layer\": [{\"data\": {\"url\": \"https://cdn.jsdelivr.net/npm/vega-datasets@v1.29.0/data/world-110m.json\", \"format\": {\"feature\": \"countries\", \"type\": \"topojson\"}}, \"mark\": {\"type\": \"geoshape\", \"fill\": \"rgb(173,216,230)\", \"stroke\": \"white\"}, \"name\": \"view_25\", \"projection\": {\"type\": \"equirectangular\"}}, {\"data\": {\"name\": \"data-301a4231fcae8234ef89c487987b088b\"}, \"mark\": {\"type\": \"circle\"}, \"encoding\": {\"color\": {\"field\": \"count\", \"scale\": {\"range\": [\"rgb(255,102,102)\", \"rgb(204,0,0)\"]}, \"title\": \"Count\", \"type\": \"quantitative\"}, \"latitude\": {\"field\": \"lat\", \"type\": \"quantitative\"}, \"longitude\": {\"field\": \"long\", \"type\": \"quantitative\"}, \"size\": {\"field\": \"count\", \"scale\": {\"range\": [50, 250]}, \"title\": \"Count\", \"type\": \"quantitative\"}, \"tooltip\": [{\"field\": \"production_countries\", \"title\": \"Country\", \"type\": \"nominal\"}, {\"field\": \"count\", \"format\": \".2f\", \"title\": \"Count\", \"type\": \"quantitative\"}]}, \"projection\": {\"type\": \"equirectangular\"}}], \"height\": 750, \"params\": [{\"name\": \"param_181\", \"select\": {\"type\": \"interval\", \"encodings\": [\"x\", \"y\"]}, \"bind\": \"scales\", \"views\": [\"view_25\"]}], \"title\": \"Countries Distribution\", \"width\": 900, \"$schema\": \"https://vega.github.io/schema/vega-lite/v5.17.0.json\", \"datasets\": {\"data-301a4231fcae8234ef89c487987b088b\": [{\"production_countries\": \"United States of America\", \"count\": 21153, \"lat\": \"39.7837304\", \"long\": \"-100.445882\"}, {\"production_countries\": \"United Kingdom\", \"count\": 4094, \"lat\": \"54.7023545\", \"long\": \"-3.2765753\"}, {\"production_countries\": \"France\", \"count\": 3940, \"lat\": \"46.603354\", \"long\": \"1.8883335\"}, {\"production_countries\": \"Germany\", \"count\": 2254, \"lat\": \"51.1638175\", \"long\": \"10.4478313\"}, {\"production_countries\": \"Italy\", \"count\": 2169, \"lat\": \"42.6384261\", \"long\": \"12.674297\"}, {\"production_countries\": \"Canada\", \"count\": 1765, \"lat\": \"61.0666922\", \"long\": \"-107.991707\"}, {\"production_countries\": \"Japan\", \"count\": 1648, \"lat\": \"36.5748441\", \"long\": \"139.2394179\"}, {\"production_countries\": \"Spain\", \"count\": 964, \"lat\": \"39.3260685\", \"long\": \"-4.8379791\"}, {\"production_countries\": \"Russia\", \"count\": 912, \"lat\": \"64.6863136\", \"long\": \"97.7453061\"}, {\"production_countries\": \"India\", \"count\": 828, \"lat\": \"22.3511148\", \"long\": \"78.6677428\"}, {\"production_countries\": \"Hong Kong\", \"count\": 596, \"lat\": \"22.2793278\", \"long\": \"114.1628131\"}, {\"production_countries\": \"Sweden\", \"count\": 588, \"lat\": \"59.6749712\", \"long\": \"14.5208584\"}, {\"production_countries\": \"Australia\", \"count\": 570, \"lat\": \"-24.7761086\", \"long\": \"134.755\"}, {\"production_countries\": \"South Korea\", \"count\": 495, \"lat\": \"36.638392\", \"long\": \"127.6961188\"}, {\"production_countries\": \"Belgium\", \"count\": 447, \"lat\": \"50.6402809\", \"long\": \"4.6667145\"}, {\"production_countries\": \"Denmark\", \"count\": 386, \"lat\": \"55.670249\", \"long\": \"10.3333283\"}, {\"production_countries\": \"Finland\", \"count\": 383, \"lat\": \"63.2467777\", \"long\": \"25.9209164\"}, {\"production_countries\": \"Netherlands\", \"count\": 375, \"lat\": \"52.2434979\", \"long\": \"5.6343227\"}, {\"production_countries\": \"China\", \"count\": 372, \"lat\": \"35.000074\", \"long\": \"104.999927\"}, {\"production_countries\": \"Mexico\", \"count\": 329, \"lat\": \"19.4326296\", \"long\": \"-99.1331785\"}, {\"production_countries\": \"Poland\", \"count\": 319, \"lat\": \"52.215933\", \"long\": \"19.134422\"}, {\"production_countries\": \"Brazil\", \"count\": 291, \"lat\": \"-10.3333333\", \"long\": \"-53.2\"}, {\"production_countries\": \"Switzerland\", \"count\": 254, \"lat\": \"46.7985624\", \"long\": \"8.2319736\"}, {\"production_countries\": \"Argentina\", \"count\": 254, \"lat\": \"-34.9964963\", \"long\": \"-64.9672817\"}, {\"production_countries\": \"Ireland\", \"count\": 225, \"lat\": \"52.865196\", \"long\": \"-7.9794599\"}, {\"production_countries\": \"Austria\", \"count\": 209, \"lat\": \"47.59397\", \"long\": \"14.12456\"}, {\"production_countries\": \"Czech Republic\", \"count\": 209, \"lat\": \"49.7439047\", \"long\": \"15.3381061\"}, {\"production_countries\": \"Norway\", \"count\": 203, \"lat\": \"61.1529386\", \"long\": \"8.7876653\"}, {\"production_countries\": \"Hungary\", \"count\": 175, \"lat\": \"47.1817585\", \"long\": \"19.5060937\"}, {\"production_countries\": \"Greece\", \"count\": 169, \"lat\": \"38.9953683\", \"long\": \"21.9877132\"}, {\"production_countries\": \"Turkey\", \"count\": 165, \"lat\": \"38.9597594\", \"long\": \"34.9249653\"}, {\"production_countries\": \"Israel\", \"count\": 147, \"lat\": \"30.8124247\", \"long\": \"34.8594762\"}, {\"production_countries\": \"Romania\", \"count\": 142, \"lat\": \"45.9852129\", \"long\": \"24.6859225\"}, {\"production_countries\": \"Taiwan\", \"count\": 129, \"lat\": \"23.9739374\", \"long\": \"120.9820179\"}, {\"production_countries\": \"Portugal\", \"count\": 128, \"lat\": \"39.6621648\", \"long\": \"-8.1353519\"}, {\"production_countries\": \"South Africa\", \"count\": 125, \"lat\": \"-28.8166236\", \"long\": \"24.991639\"}, {\"production_countries\": \"New Zealand\", \"count\": 123, \"lat\": \"-41.5000831\", \"long\": \"172.8344077\"}, {\"production_countries\": \"Thailand\", \"count\": 116, \"lat\": \"14.8971921\", \"long\": \"100.83273\"}, {\"production_countries\": \"Iran\", \"count\": 106, \"lat\": \"32.6475314\", \"long\": \"54.5643516\"}, {\"production_countries\": \"Serbia\", \"count\": 106, \"lat\": \"44.1534121\", \"long\": \"20.55144\"}, {\"production_countries\": \"Luxembourg\", \"count\": 90, \"lat\": \"49.8158683\", \"long\": \"6.1296751\"}, {\"production_countries\": \"Philippines\", \"count\": 83, \"lat\": \"12.7503486\", \"long\": \"122.7312101\"}, {\"production_countries\": \"Croatia\", \"count\": 78, \"lat\": \"45.3658443\", \"long\": \"15.6575209\"}, {\"production_countries\": \"Iceland\", \"count\": 68, \"lat\": \"64.9841821\", \"long\": \"-18.1059013\"}, {\"production_countries\": \"Chile\", \"count\": 68, \"lat\": \"-31.7613365\", \"long\": \"-71.3187697\"}, {\"production_countries\": \"Estonia\", \"count\": 59, \"lat\": \"58.7523778\", \"long\": \"25.3319078\"}, {\"production_countries\": \"Bulgaria\", \"count\": 56, \"lat\": \"42.6073975\", \"long\": \"25.4856617\"}, {\"production_countries\": \"Ukraine\", \"count\": 55, \"lat\": \"49.4871968\", \"long\": \"31.2718321\"}, {\"production_countries\": \"Singapore\", \"count\": 41, \"lat\": \"1.357107\", \"long\": \"103.8194992\"}, {\"production_countries\": \"Lithuania\", \"count\": 36, \"lat\": \"55.3500003\", \"long\": \"23.7499997\"}, {\"production_countries\": \"Bosnia and Herzegovina\", \"count\": 35, \"lat\": \"44.3053476\", \"long\": \"17.5961467\"}, {\"production_countries\": \"Colombia\", \"count\": 34, \"lat\": \"4.099917\", \"long\": \"-72.9088133\"}, {\"production_countries\": \"Indonesia\", \"count\": 33, \"lat\": \"-2.4833826\", \"long\": \"117.8902853\"}, {\"production_countries\": \"Morocco\", \"count\": 33, \"lat\": \"31.1728205\", \"long\": \"-7.3362482\"}, {\"production_countries\": \"Slovenia\", \"count\": 32, \"lat\": \"46.1199444\", \"long\": \"14.8153333\"}, {\"production_countries\": \"Peru\", \"count\": 30, \"lat\": \"-6.8699697\", \"long\": \"-75.0458515\"}, {\"production_countries\": \"Georgia\", \"count\": 30, \"lat\": \"41.6808672\", \"long\": \"44.0287806\"}, {\"production_countries\": \"Slovakia\", \"count\": 30, \"lat\": \"48.7411522\", \"long\": \"19.4528646\"}, {\"production_countries\": \"Latvia\", \"count\": 29, \"lat\": \"56.8406494\", \"long\": \"24.7537645\"}, {\"production_countries\": \"United Arab Emirates\", \"count\": 27, \"lat\": \"24.0002488\", \"long\": \"53.9994829\"}, {\"production_countries\": \"Cuba\", \"count\": 25, \"lat\": \"23.0131338\", \"long\": \"-80.8328748\"}, {\"production_countries\": \"Egypt\", \"count\": 25, \"lat\": \"26.2540493\", \"long\": \"29.2675469\"}, {\"production_countries\": \"Kazakhstan\", \"count\": 23, \"lat\": \"48.1012954\", \"long\": \"66.7780818\"}, {\"production_countries\": \"Soviet Union\", \"count\": 20, \"lat\": \"44.566633350000004\", \"long\": \"27.359792969682104\"}, {\"production_countries\": \"Venezuela\", \"count\": 19, \"lat\": \"8.0018709\", \"long\": \"-66.1109318\"}, {\"production_countries\": \"Uruguay\", \"count\": 18, \"lat\": \"-32.8755548\", \"long\": \"-56.0201525\"}, {\"production_countries\": \"Pakistan\", \"count\": 18, \"lat\": \"30.3308401\", \"long\": \"71.247499\"}, {\"production_countries\": \"Tunisia\", \"count\": 18, \"lat\": \"33.8439408\", \"long\": \"9.400138\"}, {\"production_countries\": \"Macedonia\", \"count\": 15, \"lat\": \"41.6171214\", \"long\": \"21.7168387\"}, {\"production_countries\": \"Lebanon\", \"count\": 15, \"lat\": \"33.8750629\", \"long\": \"35.843409\"}, {\"production_countries\": \"Senegal\", \"count\": 14, \"lat\": \"14.4750607\", \"long\": \"-14.4529612\"}, {\"production_countries\": \"Qatar\", \"count\": 14, \"lat\": \"25.3336984\", \"long\": \"51.2295295\"}, {\"production_countries\": \"Algeria\", \"count\": 13, \"lat\": \"28.0000272\", \"long\": \"2.9999825\"}, {\"production_countries\": \"Puerto Rico\", \"count\": 13, \"lat\": \"18.2247706\", \"long\": \"-66.4858295\"}, {\"production_countries\": \"Malaysia\", \"count\": 13, \"lat\": \"4.5693754\", \"long\": \"102.2656823\"}, {\"production_countries\": \"Palestinian Territory\", \"count\": 11, \"lat\": null, \"long\": null}, {\"production_countries\": \"Ecuador\", \"count\": 10, \"lat\": \"-1.3397668\", \"long\": \"-79.3666965\"}, {\"production_countries\": \"Burkina Faso\", \"count\": 10, \"lat\": \"12.0753083\", \"long\": \"-1.6880314\"}, {\"production_countries\": \"Vietnam\", \"count\": 10, \"lat\": \"15.9266657\", \"long\": \"107.9650855\"}, {\"production_countries\": \"Bolivia\", \"count\": 10, \"lat\": \"-17.0568696\", \"long\": \"-64.9912286\"}, {\"production_countries\": \"Belarus\", \"count\": 9, \"lat\": \"53.4250605\", \"long\": \"27.6971358\"}, {\"production_countries\": \"Jordan\", \"count\": 9, \"lat\": \"31.1667049\", \"long\": \"36.941628\"}, {\"production_countries\": \"Cambodia\", \"count\": 9, \"lat\": \"12.5433216\", \"long\": \"104.8144914\"}, {\"production_countries\": \"Malta\", \"count\": 9, \"lat\": \"35.8885993\", \"long\": \"14.4476911\"}, {\"production_countries\": \"Afghanistan\", \"count\": 8, \"lat\": \"33.7680065\", \"long\": \"66.2385139\"}, {\"production_countries\": \"Liechtenstein\", \"count\": 8, \"lat\": \"47.1416307\", \"long\": \"9.5531527\"}, {\"production_countries\": \"Dominican Republic\", \"count\": 8, \"lat\": \"19.0974031\", \"long\": \"-70.3028026\"}, {\"production_countries\": \"Armenia\", \"count\": 8, \"lat\": \"40.7696272\", \"long\": \"44.6736646\"}, {\"production_countries\": \"Iraq\", \"count\": 8, \"lat\": \"33.0955793\", \"long\": \"44.1749775\"}, {\"production_countries\": \"Montenegro\", \"count\": 7, \"lat\": \"42.9868853\", \"long\": \"19.5180992\"}, {\"production_countries\": \"Panama\", \"count\": 7, \"lat\": \"8.559559\", \"long\": \"-81.1308434\"}, {\"production_countries\": \"Cyprus\", \"count\": 7, \"lat\": \"34.9823018\", \"long\": \"33.1451285\"}, {\"production_countries\": \"East Germany\", \"count\": 6, \"lat\": \"51.3152252\", \"long\": \"9.4785397\"}, {\"production_countries\": \"Guatemala\", \"count\": 6, \"lat\": \"15.5855545\", \"long\": \"-90.345759\"}, {\"production_countries\": \"Costa Rica\", \"count\": 6, \"lat\": \"10.2735633\", \"long\": \"-84.0739102\"}, {\"production_countries\": \"Nigeria\", \"count\": 6, \"lat\": \"9.6000359\", \"long\": \"7.9999721\"}, {\"production_countries\": \"Kyrgyz Republic\", \"count\": 6, \"lat\": \"41.5089324\", \"long\": \"74.724091\"}, {\"production_countries\": \"Nepal\", \"count\": 6, \"lat\": \"28.3780464\", \"long\": \"83.9999901\"}, {\"production_countries\": \"Aruba\", \"count\": 6, \"lat\": \"12.5013629\", \"long\": \"-69.9618475\"}, {\"production_countries\": \"Uzbekistan\", \"count\": 6, \"lat\": \"41.32373\", \"long\": \"63.9528098\"}, {\"production_countries\": \"Syrian Arab Republic\", \"count\": 5, \"lat\": \"34.6401861\", \"long\": \"39.0494106\"}, {\"production_countries\": \"Ethiopia\", \"count\": 5, \"lat\": \"10.2116702\", \"long\": \"38.6521203\"}, {\"production_countries\": \"Cameroon\", \"count\": 5, \"lat\": \"4.6125522\", \"long\": \"13.1535811\"}, {\"production_countries\": \"Congo\", \"count\": 5, \"lat\": \"-2.9814344\", \"long\": \"23.8222636\"}, {\"production_countries\": \"Bahamas\", \"count\": 5, \"lat\": \"24.7736546\", \"long\": \"-78.0000547\"}, {\"production_countries\": \"Albania\", \"count\": 5, \"lat\": \"41.000028\", \"long\": \"19.9999619\"}, {\"production_countries\": \"Mauritania\", \"count\": 5, \"lat\": \"20.2540382\", \"long\": \"-9.2399263\"}, {\"production_countries\": \"Jamaica\", \"count\": 4, \"lat\": \"18.1850507\", \"long\": \"-77.3947693\"}, {\"production_countries\": \"Ghana\", \"count\": 4, \"lat\": \"8.0300284\", \"long\": \"-1.0800271\"}, {\"production_countries\": \"Yugoslavia\", \"count\": 4, \"lat\": \"23.04123655\", \"long\": \"-81.52614194734898\"}, {\"production_countries\": \"Czechoslovakia\", \"count\": 4, \"lat\": \"48.257918\", \"long\": \"14.5007688\"}, {\"production_countries\": \"Rwanda\", \"count\": 4, \"lat\": \"-1.9646631\", \"long\": \"30.0644358\"}, {\"production_countries\": \"Monaco\", \"count\": 4, \"lat\": \"43.7323492\", \"long\": \"7.4276832\"}, {\"production_countries\": \"Bhutan\", \"count\": 4, \"lat\": \"27.549511\", \"long\": \"90.5119273\"}, {\"production_countries\": \"Chad\", \"count\": 4, \"lat\": \"15.6134137\", \"long\": \"19.0156172\"}, {\"production_countries\": \"Serbia and Montenegro\", \"count\": 3, \"lat\": null, \"long\": null}, {\"production_countries\": \"Angola\", \"count\": 3, \"lat\": \"-11.8775768\", \"long\": \"17.5691241\"}, {\"production_countries\": \"Sri Lanka\", \"count\": 3, \"lat\": \"7.5554942\", \"long\": \"80.7137847\"}, {\"production_countries\": \"Botswana\", \"count\": 3, \"lat\": \"-23.1681782\", \"long\": \"24.5928742\"}, {\"production_countries\": \"Tajikistan\", \"count\": 3, \"lat\": \"38.6281733\", \"long\": \"70.8156541\"}, {\"production_countries\": \"El Salvador\", \"count\": 3, \"lat\": \"13.8000382\", \"long\": \"-88.9140683\"}, {\"production_countries\": \"Namibia\", \"count\": 3, \"lat\": \"-23.2335499\", \"long\": \"17.3231107\"}, {\"production_countries\": \"North Korea\", \"count\": 3, \"lat\": \"40.3736611\", \"long\": \"127.0870417\"}, {\"production_countries\": \"Libyan Arab Jamahiriya\", \"count\": 3, \"lat\": \"26.8234472\", \"long\": \"18.1236723\"}, {\"production_countries\": \"Liberia\", \"count\": 3, \"lat\": \"5.7499721\", \"long\": \"-9.3658524\"}, {\"production_countries\": \"Lao People's Democratic Republic\", \"count\": 3, \"lat\": \"20.0171109\", \"long\": \"103.378253\"}, {\"production_countries\": \"Mongolia\", \"count\": 3, \"lat\": \"46.8250388\", \"long\": \"103.8499736\"}, {\"production_countries\": \"Kenya\", \"count\": 3, \"lat\": \"1.4419683\", \"long\": \"38.4313975\"}, {\"production_countries\": \"Nicaragua\", \"count\": 3, \"lat\": \"12.6090157\", \"long\": \"-85.2936911\"}, {\"production_countries\": \"Zimbabwe\", \"count\": 3, \"lat\": \"-18.4554963\", \"long\": \"29.7468414\"}, {\"production_countries\": \"Paraguay\", \"count\": 3, \"lat\": \"-23.3165935\", \"long\": \"-58.1693445\"}, {\"production_countries\": \"Trinidad and Tobago\", \"count\": 2, \"lat\": \"10.7466905\", \"long\": \"-61.0840075\"}, {\"production_countries\": \"Uganda\", \"count\": 2, \"lat\": \"1.5333554\", \"long\": \"32.2166578\"}, {\"production_countries\": \"Cote D'Ivoire\", \"count\": 2, \"lat\": \"7.9897371\", \"long\": \"-5.5679458\"}, {\"production_countries\": \"Saudi Arabia\", \"count\": 2, \"lat\": \"25.6242618\", \"long\": \"42.3528328\"}, {\"production_countries\": \"Tanzania\", \"count\": 2, \"lat\": \"-6.5247123\", \"long\": \"35.7878438\"}, {\"production_countries\": \"Azerbaijan\", \"count\": 2, \"lat\": \"40.3936294\", \"long\": \"47.7872508\"}, {\"production_countries\": \"Macao\", \"count\": 2, \"lat\": \"22.1899448\", \"long\": \"113.5380454\"}, {\"production_countries\": \"Mali\", \"count\": 2, \"lat\": \"16.3700359\", \"long\": \"-2.2900239\"}, {\"production_countries\": \"Papua New Guinea\", \"count\": 2, \"lat\": \"-5.6816069\", \"long\": \"144.2489081\"}, {\"production_countries\": \"Bangladesh\", \"count\": 2, \"lat\": \"24.4769288\", \"long\": \"90.2934413\"}, {\"production_countries\": \"Martinique\", \"count\": 1, \"lat\": \"14.6367927\", \"long\": \"-61.01582685063731\"}, {\"production_countries\": \"Samoa\", \"count\": 1, \"lat\": \"-13.7693895\", \"long\": \"-172.12005\"}, {\"production_countries\": \"United States Minor Outlying Islands\", \"count\": 1, \"lat\": \"16.7288207\", \"long\": \"-169.5333824\"}, {\"production_countries\": \"Antarctica\", \"count\": 1, \"lat\": \"-79.4063075\", \"long\": \"0.3149312\"}, {\"production_countries\": \"Madagascar\", \"count\": 1, \"lat\": \"-18.9249604\", \"long\": \"46.4416422\"}, {\"production_countries\": \"French Southern Territories\", \"count\": 1, \"lat\": \"-49.237441950000004\", \"long\": \"69.62275903679347\"}, {\"production_countries\": \"Honduras\", \"count\": 1, \"lat\": \"15.2572432\", \"long\": \"-86.0755145\"}, {\"production_countries\": \"Barbados\", \"count\": 1, \"lat\": \"13.1500331\", \"long\": \"-59.5250305\"}, {\"production_countries\": \"Bermuda\", \"count\": 1, \"lat\": \"32.3040273\", \"long\": \"-64.7563086\"}, {\"production_countries\": \"Moldova\", \"count\": 1, \"lat\": \"47.2879608\", \"long\": \"28.5670941\"}, {\"production_countries\": \"Gibraltar\", \"count\": 1, \"lat\": \"36.1285933\", \"long\": \"-5.3474761\"}, {\"production_countries\": \"Myanmar\", \"count\": 1, \"lat\": \"17.1750495\", \"long\": \"95.9999652\"}, {\"production_countries\": \"Brunei Darussalam\", \"count\": 1, \"lat\": \"4.4137155\", \"long\": \"114.5653908\"}, {\"production_countries\": \"Kuwait\", \"count\": 1, \"lat\": \"29.2733964\", \"long\": \"47.4979476\"}, {\"production_countries\": \"Netherlands Antilles\", \"count\": 1, \"lat\": \"12.1845\", \"long\": \"-68.6607922625\"}, {\"production_countries\": \"Cayman Islands\", \"count\": 1, \"lat\": \"19.703182249999998\", \"long\": \"-79.9174627243246\"}, {\"production_countries\": \"Guinea\", \"count\": 1, \"lat\": \"10.7226226\", \"long\": \"-10.7083587\"}, {\"production_countries\": \"Somalia\", \"count\": 1, \"lat\": \"8.3676771\", \"long\": \"49.083416\"}, {\"production_countries\": \"French Polynesia\", \"count\": 1, \"lat\": \"-17.0243749\", \"long\": \"-144.6434898\"}]}}, {\"mode\": \"vega-lite\"});\n</script>",
      "text/plain": "alt.LayerChart(...)"
     },
     "execution_count": 478,
     "metadata": {},
     "output_type": "execute_result"
    }
   ],
   "source": [
    "import altair as alt\n",
    "from vega_datasets import data\n",
    "\n",
    "# Load a GeoJSON source that contains features for drawing\n",
    "base = alt.topo_feature(data.world_110m.url, 'countries')\n",
    "\n",
    "# Create a base map\n",
    "base_map = alt.Chart(base).mark_geoshape(\n",
    "    fill='rgb(173,216,230)',\n",
    "    stroke='white'\n",
    ").project('equirectangular')\n",
    "\n",
    "# Create a scatter plot layer\n",
    "points = alt.Chart(movies_metadata_countries).mark_circle().encode(\n",
    "    longitude='long:Q',\n",
    "    latitude='lat:Q',\n",
    "    size=alt.Size('count:Q', title='Count', scale=alt.Scale(range=[50, 250])),\n",
    "    # color=alt.Color('count:Q', title='Count'),\n",
    "    color=alt.Color('count:Q', title='Count', scale=alt.Scale(range=['rgb(255,102,102)', 'rgb(204,0,0)'])),\n",
    "    tooltip=[alt.Tooltip('production_countries', title='Country'), alt.Tooltip('count', format='.2f', title='Count')]\n",
    ").project('equirectangular')\n",
    "\n",
    "# Combine the base map and scatter plot\n",
    "chart = base_map + points\n",
    "\n",
    "# Set the chart properties\n",
    "chart = chart.properties(\n",
    "    title='Countries Distribution',\n",
    "    width=900,\n",
    "    height=750\n",
    ").interactive()\n",
    "\n",
    "chart"
   ]
  },
  {
   "cell_type": "code",
   "execution_count": 478,
   "id": "b7382dab",
   "metadata": {},
   "outputs": [],
   "source": []
  }
 ],
 "metadata": {
  "kernelspec": {
   "display_name": "Python 3 (ipykernel)",
   "language": "python",
   "name": "python3"
  },
  "language_info": {
   "codemirror_mode": {
    "name": "ipython",
    "version": 3
   },
   "file_extension": ".py",
   "mimetype": "text/x-python",
   "name": "python",
   "nbconvert_exporter": "python",
   "pygments_lexer": "ipython3",
   "version": "3.9.13"
  }
 },
 "nbformat": 4,
 "nbformat_minor": 5
}
