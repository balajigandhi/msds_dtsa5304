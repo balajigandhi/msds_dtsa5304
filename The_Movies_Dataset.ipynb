{
 "cells": [
  {
   "cell_type": "code",
   "execution_count": 31,
   "id": "2bc927cd",
   "metadata": {},
   "outputs": [],
   "source": [
    "#%pip install altair vega vega_datasets pandas scikit-learn sentence-transformers streamlit"
   ]
  },
  {
   "cell_type": "markdown",
   "id": "919b5e3de353407b",
   "metadata": {},
   "source": [
    "## Visualization Project: Movie Recommendation System\n",
    "\n",
    "#### Dataset: The Movies Dataset\n",
    "This system uses the movies dataset (https://www.kaggle.com/datasets/rounakbanik/the-movies-dataset). It has metadata on over 45,000 movies. 26 million ratings from over 270,000 users.\n",
    "\n",
    "#### Objective\n",
    "The objective of this project is to build a movie recommendation system using the metadata of the movies dataset. The system will recommend movies with the appropriate visualizations based on the user's preferences."
   ]
  },
  {
   "cell_type": "code",
   "execution_count": 32,
   "id": "8aa13330ffa9841d",
   "metadata": {
    "ExecuteTime": {
     "end_time": "2024-06-01T00:20:41.844547Z",
     "start_time": "2024-06-01T00:20:40.948957Z"
    }
   },
   "outputs": [],
   "source": [
    "import pandas as pd\n",
    "import altair as alt\n",
    "from ast import literal_eval\n",
    "movies_metadata = pd.read_csv('./The_Movies_Dataset/movies_metadata.csv', low_memory=False)"
   ]
  },
  {
   "cell_type": "code",
   "execution_count": 33,
   "id": "7631073a766e3bb",
   "metadata": {
    "ExecuteTime": {
     "end_time": "2024-06-01T00:20:42.585930Z",
     "start_time": "2024-06-01T00:20:41.845547Z"
    }
   },
   "outputs": [],
   "source": [
    "movies_metadata_genres = movies_metadata[['id', 'title', 'genres']].copy()\n",
    "\n",
    "# convert the genres column to a list\n",
    "movies_metadata_genres['genres'] = (\n",
    "    movies_metadata_genres['genres']\n",
    "    .fillna('[]')\n",
    "    .apply(literal_eval)\n",
    "    .apply(lambda x: [i['name'] for i in x] if isinstance(x, list) else [])\n",
    ")"
   ]
  },
  {
   "cell_type": "code",
   "execution_count": 34,
   "id": "b3a6a36d567172b",
   "metadata": {
    "ExecuteTime": {
     "end_time": "2024-06-01T00:20:43.679747Z",
     "start_time": "2024-06-01T00:20:43.635922Z"
    }
   },
   "outputs": [],
   "source": [
    "# Grouping by genres\n",
    "genres = movies_metadata_genres.explode('genres')\n",
    "genres = genres.groupby('genres').size().reset_index(name='count')\n",
    "genres = genres.sort_values('count', ascending=False)\n",
    "\n",
    "# calculate the percentage\n",
    "genres['percentage'] = genres['count'] / genres['count'].sum() * 100"
   ]
  },
  {
   "cell_type": "code",
   "execution_count": 35,
   "id": "775e62828dbf1b9d",
   "metadata": {
    "ExecuteTime": {
     "end_time": "2024-06-01T00:20:46.379829Z",
     "start_time": "2024-06-01T00:20:46.347851Z"
    }
   },
   "outputs": [
    {
     "data": {
      "text/html": "\n<style>\n  #altair-viz-d6a516fcfff240ab87946035bae64cd4.vega-embed {\n    width: 100%;\n    display: flex;\n  }\n\n  #altair-viz-d6a516fcfff240ab87946035bae64cd4.vega-embed details,\n  #altair-viz-d6a516fcfff240ab87946035bae64cd4.vega-embed details summary {\n    position: relative;\n  }\n</style>\n<div id=\"altair-viz-d6a516fcfff240ab87946035bae64cd4\"></div>\n<script type=\"text/javascript\">\n  var VEGA_DEBUG = (typeof VEGA_DEBUG == \"undefined\") ? {} : VEGA_DEBUG;\n  (function(spec, embedOpt){\n    let outputDiv = document.currentScript.previousElementSibling;\n    if (outputDiv.id !== \"altair-viz-d6a516fcfff240ab87946035bae64cd4\") {\n      outputDiv = document.getElementById(\"altair-viz-d6a516fcfff240ab87946035bae64cd4\");\n    }\n    const paths = {\n      \"vega\": \"https://cdn.jsdelivr.net/npm/vega@5?noext\",\n      \"vega-lib\": \"https://cdn.jsdelivr.net/npm/vega-lib?noext\",\n      \"vega-lite\": \"https://cdn.jsdelivr.net/npm/vega-lite@5.17.0?noext\",\n      \"vega-embed\": \"https://cdn.jsdelivr.net/npm/vega-embed@6?noext\",\n    };\n\n    function maybeLoadScript(lib, version) {\n      var key = `${lib.replace(\"-\", \"\")}_version`;\n      return (VEGA_DEBUG[key] == version) ?\n        Promise.resolve(paths[lib]) :\n        new Promise(function(resolve, reject) {\n          var s = document.createElement('script');\n          document.getElementsByTagName(\"head\")[0].appendChild(s);\n          s.async = true;\n          s.onload = () => {\n            VEGA_DEBUG[key] = version;\n            return resolve(paths[lib]);\n          };\n          s.onerror = () => reject(`Error loading script: ${paths[lib]}`);\n          s.src = paths[lib];\n        });\n    }\n\n    function showError(err) {\n      outputDiv.innerHTML = `<div class=\"error\" style=\"color:red;\">${err}</div>`;\n      throw err;\n    }\n\n    function displayChart(vegaEmbed) {\n      vegaEmbed(outputDiv, spec, embedOpt)\n        .catch(err => showError(`Javascript Error: ${err.message}<br>This usually means there's a typo in your chart specification. See the javascript console for the full traceback.`));\n    }\n\n    if(typeof define === \"function\" && define.amd) {\n      requirejs.config({paths});\n      require([\"vega-embed\"], displayChart, err => showError(`Error loading script: ${err.message}`));\n    } else {\n      maybeLoadScript(\"vega\", \"5\")\n        .then(() => maybeLoadScript(\"vega-lite\", \"5.17.0\"))\n        .then(() => maybeLoadScript(\"vega-embed\", \"6\"))\n        .catch(showError)\n        .then(() => displayChart(vegaEmbed));\n    }\n  })({\"config\": {\"view\": {\"continuousWidth\": 300, \"continuousHeight\": 300}}, \"data\": {\"name\": \"data-7a5acd705897b16d5b322c2d9ff4d5c4\"}, \"mark\": {\"type\": \"arc\"}, \"encoding\": {\"color\": {\"field\": \"genres\", \"type\": \"nominal\"}, \"theta\": {\"field\": \"percentage\", \"stack\": true, \"type\": \"quantitative\"}, \"tooltip\": [{\"field\": \"genres\", \"title\": \"Genre\", \"type\": \"nominal\"}, {\"field\": \"percentage\", \"format\": \".2f\", \"title\": \"Percentage\", \"type\": \"quantitative\"}]}, \"params\": [{\"name\": \"param_12\", \"select\": {\"type\": \"interval\", \"encodings\": [\"x\", \"y\"]}, \"bind\": \"scales\"}], \"title\": \"Genres Distribution\", \"$schema\": \"https://vega.github.io/schema/vega-lite/v5.17.0.json\", \"datasets\": {\"data-7a5acd705897b16d5b322c2d9ff4d5c4\": [{\"genres\": \"Drama\", \"count\": 20265, \"percentage\": 22.243320966785944}, {\"genres\": \"Comedy\", \"count\": 13182, \"percentage\": 14.46886044826905}, {\"genres\": \"Thriller\", \"count\": 7624, \"percentage\": 8.368274317827586}, {\"genres\": \"Romance\", \"count\": 6735, \"percentage\": 7.392487871270828}, {\"genres\": \"Action\", \"count\": 6596, \"percentage\": 7.2399183368823135}, {\"genres\": \"Horror\", \"count\": 4673, \"percentage\": 5.129190174082936}, {\"genres\": \"Crime\", \"count\": 4307, \"percentage\": 4.727460320944833}, {\"genres\": \"Documentary\", \"count\": 3932, \"percentage\": 4.315851864860712}, {\"genres\": \"Adventure\", \"count\": 3496, \"percentage\": 3.837288433253573}, {\"genres\": \"Science Fiction\", \"count\": 3049, \"percentage\": 3.3466511536012997}, {\"genres\": \"Family\", \"count\": 2770, \"percentage\": 3.040414462274713}, {\"genres\": \"Mystery\", \"count\": 2467, \"percentage\": 2.7078348297587427}, {\"genres\": \"Fantasy\", \"count\": 2313, \"percentage\": 2.5388009571268633}, {\"genres\": \"Animation\", \"count\": 1935, \"percentage\": 2.1238996333940685}, {\"genres\": \"Foreign\", \"count\": 1622, \"percentage\": 1.7803437753825215}, {\"genres\": \"Music\", \"count\": 1598, \"percentage\": 1.754000834193138}, {\"genres\": \"History\", \"count\": 1398, \"percentage\": 1.534476324281606}, {\"genres\": \"War\", \"count\": 1323, \"percentage\": 1.4521546330647817}, {\"genres\": \"Western\", \"count\": 1042, \"percentage\": 1.1437226966390797}, {\"genres\": \"TV Movie\", \"count\": 767, \"percentage\": 0.8418764955107239}, {\"genres\": \"Odyssey Media\", \"count\": 1, \"percentage\": 0.001097622549557658}, {\"genres\": \"Pulser Productions\", \"count\": 1, \"percentage\": 0.001097622549557658}, {\"genres\": \"Rogue State\", \"count\": 1, \"percentage\": 0.001097622549557658}, {\"genres\": \"GoHands\", \"count\": 1, \"percentage\": 0.001097622549557658}, {\"genres\": \"Carousel Productions\", \"count\": 1, \"percentage\": 0.001097622549557658}, {\"genres\": \"Sentai Filmworks\", \"count\": 1, \"percentage\": 0.001097622549557658}, {\"genres\": \"Telescene Film Group Productions\", \"count\": 1, \"percentage\": 0.001097622549557658}, {\"genres\": \"The Cartel\", \"count\": 1, \"percentage\": 0.001097622549557658}, {\"genres\": \"BROSTA TV\", \"count\": 1, \"percentage\": 0.001097622549557658}, {\"genres\": \"Vision View Entertainment\", \"count\": 1, \"percentage\": 0.001097622549557658}, {\"genres\": \"Aniplex\", \"count\": 1, \"percentage\": 0.001097622549557658}, {\"genres\": \"Mardock Scramble Production Committee\", \"count\": 1, \"percentage\": 0.001097622549557658}]}}, {\"mode\": \"vega-lite\"});\n</script>",
      "text/plain": "alt.Chart(...)"
     },
     "execution_count": 35,
     "metadata": {},
     "output_type": "execute_result"
    }
   ],
   "source": [
    "# plot the genres distribution\n",
    "alt.Chart(genres).mark_arc().encode(\n",
    "    theta=alt.Theta(field='percentage', type='quantitative', stack=True),\n",
    "    color=alt.Color(field='genres', type='nominal'),\n",
    "    tooltip=[alt.Tooltip('genres', title='Genre'), alt.Tooltip('percentage', format='.2f', title='Percentage')]\n",
    ").properties(\n",
    "    title='Genres Distribution'\n",
    ").interactive()"
   ]
  },
  {
   "cell_type": "code",
   "execution_count": 36,
   "id": "13cc046d4ba23152",
   "metadata": {},
   "outputs": [],
   "source": [
    "credits = pd.read_csv('./The_Movies_Dataset/credits.csv', low_memory=False)"
   ]
  },
  {
   "cell_type": "code",
   "execution_count": 37,
   "id": "a700cdbe",
   "metadata": {
    "jupyter": {
     "outputs_hidden": false
    }
   },
   "outputs": [],
   "source": [
    "movies_metadata['id'] = pd.to_numeric(movies_metadata['id'], errors='coerce')\n",
    "credits['id'] = pd.to_numeric(credits['id'], errors='coerce')\n",
    "movies_metadata_credits = movies_metadata.merge(credits, on='id')"
   ]
  },
  {
   "cell_type": "code",
   "execution_count": 38,
   "id": "8ecf20de",
   "metadata": {
    "jupyter": {
     "outputs_hidden": false
    }
   },
   "outputs": [],
   "source": [
    "# Calculating the average rating for each movie is not enough. We need to calculate the weighted rating for each movie.\n",
    "# https://math.stackexchange.com/questions/169032/understanding-the-imdb-weighted-rating-function-for-usage-on-my-own-website\n",
    "# Weighted Rating (WR) = (v ÷ (v+m)) × R + (m ÷ (v+m)) × C\n",
    "\n",
    "# v = number of votes for the movie\n",
    "# m = minimum votes required to be listed in the chart\n",
    "# R = average rating of the movie\n",
    "# C = mean vote across the whole report\n",
    "\n",
    "C = movies_metadata_credits['vote_average'].mean()\n",
    "m = movies_metadata_credits['vote_count'].quantile(0.90)\n",
    "\n",
    "# filter out movies that have less than m votes\n",
    "movies_metadata_credits = movies_metadata_credits[movies_metadata_credits['vote_count'] >= m]\n",
    "\n",
    "# calculate the score\n",
    "movies_metadata_credits['score'] = (\n",
    "    (movies_metadata_credits['vote_count'] / (movies_metadata_credits['vote_count'] + m)) * movies_metadata_credits['vote_average'] +\n",
    "    (m / (movies_metadata_credits['vote_count'] + m)) * C\n",
    ")\n",
    "movies_metadata_credits = movies_metadata_credits.sort_values('score', ascending=False)"
   ]
  },
  {
   "cell_type": "code",
   "execution_count": 39,
   "id": "e8d3feb3",
   "metadata": {
    "jupyter": {
     "outputs_hidden": false
    }
   },
   "outputs": [],
   "source": [
    "# Grouping by genres\n",
    "genres = movies_metadata_genres.explode('genres')\n",
    "genres = genres.groupby('genres').size().reset_index(name='count')\n",
    "genres = genres.sort_values('count', ascending=False)\n",
    "# calculate the percentage\n",
    "genres['percentage'] = genres['count'] / genres['count'].sum() * 100\n",
    "genres['top_movies'] = genres['genres'].apply(lambda x: ' '.join(f\"{i+1}. {title}\" for i, title in enumerate(movies_metadata_genres[movies_metadata_genres['genres'].apply(lambda y: x in y)]['title'].astype(str).head(10))))"
   ]
  },
  {
   "cell_type": "code",
   "execution_count": 40,
   "id": "071c9d48",
   "metadata": {
    "jupyter": {
     "outputs_hidden": false
    }
   },
   "outputs": [
    {
     "data": {
      "text/html": "\n<style>\n  #altair-viz-98238fa58a5148a59d7c21402bcb497e.vega-embed {\n    width: 100%;\n    display: flex;\n  }\n\n  #altair-viz-98238fa58a5148a59d7c21402bcb497e.vega-embed details,\n  #altair-viz-98238fa58a5148a59d7c21402bcb497e.vega-embed details summary {\n    position: relative;\n  }\n</style>\n<div id=\"altair-viz-98238fa58a5148a59d7c21402bcb497e\"></div>\n<script type=\"text/javascript\">\n  var VEGA_DEBUG = (typeof VEGA_DEBUG == \"undefined\") ? {} : VEGA_DEBUG;\n  (function(spec, embedOpt){\n    let outputDiv = document.currentScript.previousElementSibling;\n    if (outputDiv.id !== \"altair-viz-98238fa58a5148a59d7c21402bcb497e\") {\n      outputDiv = document.getElementById(\"altair-viz-98238fa58a5148a59d7c21402bcb497e\");\n    }\n    const paths = {\n      \"vega\": \"https://cdn.jsdelivr.net/npm/vega@5?noext\",\n      \"vega-lib\": \"https://cdn.jsdelivr.net/npm/vega-lib?noext\",\n      \"vega-lite\": \"https://cdn.jsdelivr.net/npm/vega-lite@5.17.0?noext\",\n      \"vega-embed\": \"https://cdn.jsdelivr.net/npm/vega-embed@6?noext\",\n    };\n\n    function maybeLoadScript(lib, version) {\n      var key = `${lib.replace(\"-\", \"\")}_version`;\n      return (VEGA_DEBUG[key] == version) ?\n        Promise.resolve(paths[lib]) :\n        new Promise(function(resolve, reject) {\n          var s = document.createElement('script');\n          document.getElementsByTagName(\"head\")[0].appendChild(s);\n          s.async = true;\n          s.onload = () => {\n            VEGA_DEBUG[key] = version;\n            return resolve(paths[lib]);\n          };\n          s.onerror = () => reject(`Error loading script: ${paths[lib]}`);\n          s.src = paths[lib];\n        });\n    }\n\n    function showError(err) {\n      outputDiv.innerHTML = `<div class=\"error\" style=\"color:red;\">${err}</div>`;\n      throw err;\n    }\n\n    function displayChart(vegaEmbed) {\n      vegaEmbed(outputDiv, spec, embedOpt)\n        .catch(err => showError(`Javascript Error: ${err.message}<br>This usually means there's a typo in your chart specification. See the javascript console for the full traceback.`));\n    }\n\n    if(typeof define === \"function\" && define.amd) {\n      requirejs.config({paths});\n      require([\"vega-embed\"], displayChart, err => showError(`Error loading script: ${err.message}`));\n    } else {\n      maybeLoadScript(\"vega\", \"5\")\n        .then(() => maybeLoadScript(\"vega-lite\", \"5.17.0\"))\n        .then(() => maybeLoadScript(\"vega-embed\", \"6\"))\n        .catch(showError)\n        .then(() => displayChart(vegaEmbed));\n    }\n  })({\"config\": {\"view\": {\"continuousWidth\": 300, \"continuousHeight\": 300}}, \"data\": {\"name\": \"data-5664ff56d714cfb44149ec537a1fdb34\"}, \"mark\": {\"type\": \"arc\"}, \"encoding\": {\"color\": {\"field\": \"genres\", \"type\": \"nominal\"}, \"order\": {\"field\": \"count\", \"sort\": \"descending\", \"type\": \"quantitative\"}, \"theta\": {\"field\": \"percentage\", \"stack\": true, \"type\": \"quantitative\"}, \"tooltip\": [{\"field\": \"genres\", \"title\": \"Genre\", \"type\": \"nominal\"}, {\"field\": \"percentage\", \"format\": \".2f\", \"title\": \"Percentage\", \"type\": \"quantitative\"}, {\"field\": \"top_movies\", \"title\": \"Top Movies\", \"type\": \"nominal\"}]}, \"params\": [{\"name\": \"param_13\", \"select\": {\"type\": \"interval\", \"encodings\": [\"x\", \"y\"]}, \"bind\": \"scales\"}], \"title\": \"Genres Distribution and Top Movies\", \"$schema\": \"https://vega.github.io/schema/vega-lite/v5.17.0.json\", \"datasets\": {\"data-5664ff56d714cfb44149ec537a1fdb34\": [{\"genres\": \"Drama\", \"count\": 20265, \"percentage\": 22.243320966785944, \"top_movies\": \"1. Waiting to Exhale 2. Heat 3. Tom and Huck 4. The American President 5. Nixon 6. Casino 7. Sense and Sensibility 8. Copycat 9. Powder 10. Leaving Las Vegas\"}, {\"genres\": \"Comedy\", \"count\": 13182, \"percentage\": 14.46886044826905, \"top_movies\": \"1. Toy Story 2. Grumpier Old Men 3. Waiting to Exhale 4. Father of the Bride Part II 5. Sabrina 6. The American President 7. Dracula: Dead and Loving It 8. Four Rooms 9. Ace Ventura: When Nature Calls 10. Money Train\"}, {\"genres\": \"Thriller\", \"count\": 7624, \"percentage\": 8.368274317827586, \"top_movies\": \"1. Heat 2. Sudden Death 3. GoldenEye 4. Get Shorty 5. Copycat 6. Assassins 7. Powder 8. Twelve Monkeys 9. To Die For 10. Se7en\"}, {\"genres\": \"Romance\", \"count\": 6735, \"percentage\": 7.392487871270828, \"top_movies\": \"1. Grumpier Old Men 2. Waiting to Exhale 3. Sabrina 4. The American President 5. Sense and Sensibility 6. Leaving Las Vegas 7. Persuasion 8. Wings of Courage 9. Carrington 10. It Takes Two\"}, {\"genres\": \"Action\", \"count\": 6596, \"percentage\": 7.2399183368823135, \"top_movies\": \"1. Heat 2. Tom and Huck 3. Sudden Death 4. GoldenEye 5. Cutthroat Island 6. Money Train 7. Assassins 8. Dead Presidents 9. Mortal Kombat 10. Guardian Angel\"}, {\"genres\": \"Horror\", \"count\": 4673, \"percentage\": 5.129190174082936, \"top_movies\": \"1. Dracula: Dead and Loving It 2. From Dusk Till Dawn 3. Screamers 4. Mary Reilly 5. Vampire in Brooklyn 6. The Addiction 7. Lord of Illusions 8. Nadja 9. The Prophecy 10. Species\"}, {\"genres\": \"Crime\", \"count\": 4307, \"percentage\": 4.727460320944833, \"top_movies\": \"1. Heat 2. Casino 3. Four Rooms 4. Ace Ventura: When Nature Calls 5. Money Train 6. Get Shorty 7. Assassins 8. Shanghai Triad 9. Dangerous Minds 10. Dead Presidents\"}, {\"genres\": \"Documentary\", \"count\": 3932, \"percentage\": 4.315851864860712, \"top_movies\": \"1. Nico Icon 2. Heidi Fleiss: Hollywood Madam 3. Catwalk 4. Anne Frank Remembered 5. Sonic Outlaws 6. From the Journals of Jean Seberg 7. Crumb 8. The Show 9. Unzipped 10. Hoop Dreams\"}, {\"genres\": \"Adventure\", \"count\": 3496, \"percentage\": 3.837288433253573, \"top_movies\": \"1. Jumanji 2. Tom and Huck 3. Sudden Death 4. GoldenEye 5. Balto 6. Cutthroat Island 7. Ace Ventura: When Nature Calls 8. Assassins 9. The City of Lost Children 10. Wings of Courage\"}, {\"genres\": \"Science Fiction\", \"count\": 3049, \"percentage\": 3.3466511536012997, \"top_movies\": \"1. Powder 2. The City of Lost Children 3. Twelve Monkeys 4. Lawnmower Man 2: Beyond Cyberspace 5. Screamers 6. Shopping 7. Unforgettable 8. Congo 9. Johnny Mnemonic 10. Judge Dredd\"}, {\"genres\": \"Family\", \"count\": 2770, \"percentage\": 3.040414462274713, \"top_movies\": \"1. Toy Story 2. Jumanji 3. Tom and Huck 4. Balto 5. Now and Then 6. Babe 7. Across the Sea of Time 8. It Takes Two 9. Pocahontas 10. The Big Green\"}, {\"genres\": \"Mystery\", \"count\": 2467, \"percentage\": 2.7078348297587427, \"top_movies\": \"1. Twelve Monkeys 2. Se7en 3. The Confessional 4. Unforgettable 5. Jade 6. Clockers 7. Congo 8. Devil in a Blue Dress 9. Lord of Illusions 10. The Net\"}, {\"genres\": \"Fantasy\", \"count\": 2313, \"percentage\": 2.5388009571268633, \"top_movies\": \"1. Jumanji 2. Powder 3. The City of Lost Children 4. Babe 5. Mortal Kombat 6. To Die For 7. The Indian in the Cupboard 8. The Neverending Story III: Escape from Fantasia 9. Batman Forever 10. Casper\"}, {\"genres\": \"Animation\", \"count\": 1935, \"percentage\": 2.1238996333940685, \"top_movies\": \"1. Toy Story 2. Balto 3. Pocahontas 4. A Goofy Movie 5. Gumby: The Movie 6. The Swan Princess 7. The Lion King 8. The Secret Adventures of Tom Thumb 9. The Nightmare Before Christmas 10. The Pagemaster\"}, {\"genres\": \"Foreign\", \"count\": 1622, \"percentage\": 1.7803437753825215, \"top_movies\": \"1. Lamerica 2. Anne Frank Remembered 3. Mute Witness 4. The Wonderful, Horrible Life of Leni Riefenstahl 5. Widows' Peak 6. Ciao, Professore! 7. Caf\\u00e9 au Lait 8. The Wooden Man's Bride 9. Bread and Chocolate 10. Tigrero: A Film That Was Never Made\"}, {\"genres\": \"Music\", \"count\": 1598, \"percentage\": 1.754000834193138, \"top_movies\": \"1. Mr. Holland's Opus 2. Muppet Treasure Island 3. Sonic Outlaws 4. Immortal Beloved 5. Three Colors: Blue 6. Backbeat 7. Airheads 8. What's Love Got to Do with It 9. Radioland Murders 10. Thirty Two Short Films About Glenn Gould\"}, {\"genres\": \"History\", \"count\": 1398, \"percentage\": 1.534476324281606, \"top_movies\": \"1. Nixon 2. Carrington 3. Across the Sea of Time 4. Dead Presidents 5. Les Miserables 6. Braveheart 7. The Scarlet Letter 8. Ed Wood 9. Farinelli 10. The Madness of King George\"}, {\"genres\": \"War\", \"count\": 1323, \"percentage\": 1.4521546330647817, \"top_movies\": \"1. Richard III 2. Braveheart 3. Frankie Starlight 4. Before the Rain 5. Legends of the Fall 6. To Live 7. The Walking Dead 8. Heaven & Earth 9. Hot Shots! Part Deux 10. Renaissance Man\"}, {\"genres\": \"Western\", \"count\": 1042, \"percentage\": 1.1437226966390797, \"top_movies\": \"1. Wild Bill 2. The Quick and the Dead 3. Maverick 4. Wyatt Earp 5. Bad Girls 6. City Slickers II: The Legend of Curly's Gold 7. The Cowboy Way 8. Even Cowgirls Get the Blues 9. Geronimo: An American Legend 10. Lightning Jack\"}, {\"genres\": \"TV Movie\", \"count\": 767, \"percentage\": 0.8418764955107239, \"top_movies\": \"1. Rent-a-Kid 2. Wide Eyed and Legless 3. Inside 4. Go Now 5. Love Is the Devil: Study for a Portrait of Francis Bacon 6. Photographer 7. Babymother 8. Hysterical Blindness 9. Wit 10. Skokie\"}, {\"genres\": \"Odyssey Media\", \"count\": 1, \"percentage\": 0.001097622549557658, \"top_movies\": \"1. nan\"}, {\"genres\": \"Pulser Productions\", \"count\": 1, \"percentage\": 0.001097622549557658, \"top_movies\": \"1. nan\"}, {\"genres\": \"Rogue State\", \"count\": 1, \"percentage\": 0.001097622549557658, \"top_movies\": \"1. nan\"}, {\"genres\": \"GoHands\", \"count\": 1, \"percentage\": 0.001097622549557658, \"top_movies\": \"1. nan\"}, {\"genres\": \"Carousel Productions\", \"count\": 1, \"percentage\": 0.001097622549557658, \"top_movies\": \"1. nan\"}, {\"genres\": \"Sentai Filmworks\", \"count\": 1, \"percentage\": 0.001097622549557658, \"top_movies\": \"1. nan\"}, {\"genres\": \"Telescene Film Group Productions\", \"count\": 1, \"percentage\": 0.001097622549557658, \"top_movies\": \"1. nan\"}, {\"genres\": \"The Cartel\", \"count\": 1, \"percentage\": 0.001097622549557658, \"top_movies\": \"1. nan\"}, {\"genres\": \"BROSTA TV\", \"count\": 1, \"percentage\": 0.001097622549557658, \"top_movies\": \"1. nan\"}, {\"genres\": \"Vision View Entertainment\", \"count\": 1, \"percentage\": 0.001097622549557658, \"top_movies\": \"1. nan\"}, {\"genres\": \"Aniplex\", \"count\": 1, \"percentage\": 0.001097622549557658, \"top_movies\": \"1. nan\"}, {\"genres\": \"Mardock Scramble Production Committee\", \"count\": 1, \"percentage\": 0.001097622549557658, \"top_movies\": \"1. nan\"}]}}, {\"mode\": \"vega-lite\"});\n</script>",
      "text/plain": "alt.Chart(...)"
     },
     "execution_count": 40,
     "metadata": {},
     "output_type": "execute_result"
    }
   ],
   "source": [
    "# plot the genres distribution and show top 10 movies as a tooltip\n",
    "alt.Chart(genres).mark_arc().encode(\n",
    "    theta=alt.Theta(field='percentage', type='quantitative', stack=True),\n",
    "    color=alt.Color(field='genres', type='nominal'),\n",
    "    tooltip=[alt.Tooltip('genres', title='Genre'), alt.Tooltip('percentage', format='.2f', title='Percentage'), alt.Tooltip('top_movies', title='Top Movies')],\n",
    "    order=alt.Order('count', sort='descending')\n",
    ").properties(\n",
    "    title='Genres Distribution and Top Movies'\n",
    ").interactive()"
   ]
  },
  {
   "cell_type": "code",
   "execution_count": 41,
   "id": "e9d6e4b1",
   "metadata": {},
   "outputs": [],
   "source": [
    "import os\n",
    "from sentence_transformers import SentenceTransformer\n",
    "\n",
    "model_name = 'all-MiniLM-L6-v2'\n",
    "model_directory = './models'\n",
    "\n",
    "# Create the models directory if it doesn't exist\n",
    "os.makedirs(model_directory, exist_ok=True)\n",
    "\n",
    "model_path = os.path.join(model_directory, model_name)\n",
    "\n",
    "# Check if the model is already saved on disk\n",
    "if os.path.exists(model_path):\n",
    "    # Load the model from disk\n",
    "    model = SentenceTransformer(model_path)\n",
    "else:\n",
    "    # Download the model and save it to disk\n",
    "    model = SentenceTransformer(model_name)\n",
    "    model.save(model_path)"
   ]
  },
  {
   "cell_type": "code",
   "execution_count": 42,
   "id": "b987e5fc",
   "metadata": {},
   "outputs": [],
   "source": [
    "import numpy as np\n",
    "from sklearn.metrics.pairwise import cosine_similarity\n",
    "\n",
    "movies_metadata_overview = movies_metadata[['id', 'title', 'overview', 'popularity', 'vote_average']].copy()\n",
    "# cache the embeddings in a folder\n",
    "embeddings_directory = './embeddings'\n",
    "os.makedirs(embeddings_directory, exist_ok=True)\n",
    "if os.path.exists(os.path.join(embeddings_directory, 'movies_metadata_overview_embeddings.npy')):\n",
    "    embeddings = np.load(os.path.join(embeddings_directory, 'movies_metadata_overview_embeddings.npy'))\n",
    "else:\n",
    "    # Generate the embeddings\n",
    "    embeddings = model.encode(movies_metadata_overview['overview'].astype(str).tolist())\n",
    "    # Save the embeddings to disk\n",
    "    np.save(os.path.join(embeddings_directory, 'movies_metadata_overview_embeddings.npy'), embeddings)"
   ]
  },
  {
   "cell_type": "code",
   "execution_count": 43,
   "id": "16c0e12a",
   "metadata": {},
   "outputs": [
    {
     "data": {
      "text/html": "\n<style>\n  #altair-viz-c5307fb9bb414c91b2a4009183db2054.vega-embed {\n    width: 100%;\n    display: flex;\n  }\n\n  #altair-viz-c5307fb9bb414c91b2a4009183db2054.vega-embed details,\n  #altair-viz-c5307fb9bb414c91b2a4009183db2054.vega-embed details summary {\n    position: relative;\n  }\n</style>\n<div id=\"altair-viz-c5307fb9bb414c91b2a4009183db2054\"></div>\n<script type=\"text/javascript\">\n  var VEGA_DEBUG = (typeof VEGA_DEBUG == \"undefined\") ? {} : VEGA_DEBUG;\n  (function(spec, embedOpt){\n    let outputDiv = document.currentScript.previousElementSibling;\n    if (outputDiv.id !== \"altair-viz-c5307fb9bb414c91b2a4009183db2054\") {\n      outputDiv = document.getElementById(\"altair-viz-c5307fb9bb414c91b2a4009183db2054\");\n    }\n    const paths = {\n      \"vega\": \"https://cdn.jsdelivr.net/npm/vega@5?noext\",\n      \"vega-lib\": \"https://cdn.jsdelivr.net/npm/vega-lib?noext\",\n      \"vega-lite\": \"https://cdn.jsdelivr.net/npm/vega-lite@5.17.0?noext\",\n      \"vega-embed\": \"https://cdn.jsdelivr.net/npm/vega-embed@6?noext\",\n    };\n\n    function maybeLoadScript(lib, version) {\n      var key = `${lib.replace(\"-\", \"\")}_version`;\n      return (VEGA_DEBUG[key] == version) ?\n        Promise.resolve(paths[lib]) :\n        new Promise(function(resolve, reject) {\n          var s = document.createElement('script');\n          document.getElementsByTagName(\"head\")[0].appendChild(s);\n          s.async = true;\n          s.onload = () => {\n            VEGA_DEBUG[key] = version;\n            return resolve(paths[lib]);\n          };\n          s.onerror = () => reject(`Error loading script: ${paths[lib]}`);\n          s.src = paths[lib];\n        });\n    }\n\n    function showError(err) {\n      outputDiv.innerHTML = `<div class=\"error\" style=\"color:red;\">${err}</div>`;\n      throw err;\n    }\n\n    function displayChart(vegaEmbed) {\n      vegaEmbed(outputDiv, spec, embedOpt)\n        .catch(err => showError(`Javascript Error: ${err.message}<br>This usually means there's a typo in your chart specification. See the javascript console for the full traceback.`));\n    }\n\n    if(typeof define === \"function\" && define.amd) {\n      requirejs.config({paths});\n      require([\"vega-embed\"], displayChart, err => showError(`Error loading script: ${err.message}`));\n    } else {\n      maybeLoadScript(\"vega\", \"5\")\n        .then(() => maybeLoadScript(\"vega-lite\", \"5.17.0\"))\n        .then(() => maybeLoadScript(\"vega-embed\", \"6\"))\n        .catch(showError)\n        .then(() => displayChart(vegaEmbed));\n    }\n  })({\"config\": {\"view\": {\"continuousWidth\": 300, \"continuousHeight\": 300}}, \"data\": {\"name\": \"data-b2c956b4397edd8e3bd442b102623918\"}, \"mark\": {\"type\": \"point\"}, \"encoding\": {\"color\": {\"field\": \"title\", \"title\": \"Title\", \"type\": \"nominal\"}, \"tooltip\": [{\"field\": \"title\", \"type\": \"nominal\"}, {\"field\": \"overview\", \"type\": \"nominal\"}], \"x\": {\"field\": \"popularity\", \"title\": \"Popularity\", \"type\": \"quantitative\"}, \"y\": {\"field\": \"vote_average\", \"title\": \"Vote Average\", \"type\": \"quantitative\"}}, \"height\": 400, \"params\": [{\"name\": \"param_14\", \"select\": {\"type\": \"interval\", \"encodings\": [\"x\", \"y\"]}, \"bind\": \"scales\"}], \"title\": \"Similar Movies to She's Beautiful When She's Angry\", \"width\": 600, \"$schema\": \"https://vega.github.io/schema/vega-lite/v5.17.0.json\", \"datasets\": {\"data-b2c956b4397edd8e3bd442b102623918\": [{\"id\": 55245.0, \"title\": \"!Women Art Revolution\", \"overview\": \"Through intimate interviews, provocative art, and rare, historical film and video footage, this feature documentary reveals how art addressing political consequences of discrimination and violence, the Feminist Art Revolution radically transformed the art and culture of our times.\", \"popularity\": 0.08, \"vote_average\": 4.3}, {\"id\": 165586.0, \"title\": \"Mutantes\", \"overview\": \"Mutantes sheds light on a feminism that was little talked about in France. This documentary comprises of a series of interviews conducted in the USA, Paris and Barcelona, and documents from the archives about the political action of sex workers, queer activists and post-pornographic performances.\", \"popularity\": 0.57, \"vote_average\": 4.0}, {\"id\": 97108.0, \"title\": \"The Life and Times of Rosie the Riveter\", \"overview\": \"Documentary about women's experiences of labour, in factories, mines and dockyards, in the USA during the second World War and how it affected their work and career aspirations once they were encouraged to give up such employment in peacetime.\", \"popularity\": 0.01, \"vote_average\": 5.0}, {\"id\": 215991.0, \"title\": \"Louise Bourgeois: The Spider, The Mistress And The Tangerine\", \"overview\": \"A journey inside the world of a legend of modern art and an icon of feminism. Onscreen, the nonagenarian Louise Bourgeois is magnetic, mercurial and emotionally raw-an uncompromising artist whose life and work are imbued with her ongoing obsession with the mysteries of childhood. Her process is on full display in this intimate documentary, which features the artist in her studio and with her installations, shedding light on her intentions and inspirations. Louise Bourgeois has for six decades been at the forefront of successive new developments, but always on her own powerfully inventive and disquieting terms. In 1982, at the age of 71, she became the first woman to be honored with a major retrospective at New York's Museum of Modern Art. In the decades since, she has created her most powerful and persuasive work, including her series of massive spider structures that have been installed around the world.\", \"popularity\": 0.01, \"vote_average\": 0.0}, {\"id\": 134602.0, \"title\": \"Half the Sky: Turning Oppression Into Opportunity for Women Worldwide\", \"overview\": \"PBS series documentary based on a book of the same name that argues the oppression of women worldwide is the \\\"paramount moral challenge\\\" of our time.\", \"popularity\": 0.48, \"vote_average\": 0.0}, {\"id\": 80545.0, \"title\": \"Wedding Belles\", \"overview\": \"A darkly humorous look at the lives and loves of four modern women, each with their own remarkable, intriguing and often tragic stories.\", \"popularity\": 0.43, \"vote_average\": 4.3}, {\"id\": 357125.0, \"title\": \"The Sixties\", \"overview\": \"A ten-part documentary series focusing on the politics, music, technical advancements, drugs, and the \\\"free love\\\" movement of the 1960s.\", \"popularity\": 0.15, \"vote_average\": 6.8}, {\"id\": 283591.0, \"title\": \"The Secret Scripture\", \"overview\": \"The hidden memoir of an elderly woman confined to a mental hospital reveals the history of her passionate yet tortured life, and of the religious and political upheavals in Ireland during the 1920s and 30s.\", \"popularity\": 13.18, \"vote_average\": 7.6}, {\"id\": 290862.0, \"title\": \"Man for a Day\", \"overview\": \"Gender activist Diane Torr\\u2019s worldwide appearances and workshops are now legendary. For the past thirty years, the main focus of this performance artist\\u2019s work has been an exploration of the theoretical, artistic as well as the practical aspects of gender identity. Katarina Peters\\u2019 documentary observes a Diane Torr workshop in Berlin in which a group of open-minded women come together to discover the secrets of masculinity. What makes a man a man and a woman a woman? Precisely when and where is gender identity formatted? How much is nature and how much nurture? Each of Torr\\u2019s workshops represents an open-ended laboratory experiment in social behaviour in which the question is posed: is it possible to deliberately play out different roles and create a space in which to transgress both masculine and feminine characteristics?\", \"popularity\": 0.41, \"vote_average\": 6.9}, {\"id\": 80019.0, \"title\": \"Larry Flynt: The Right to Be Left Alone\", \"overview\": \"A documentary that celebrates and examines an unabashed vulgarian.\", \"popularity\": 0.08, \"vote_average\": 5.0}]}}, {\"mode\": \"vega-lite\"});\n</script>",
      "text/plain": "alt.Chart(...)"
     },
     "execution_count": 43,
     "metadata": {},
     "output_type": "execute_result"
    }
   ],
   "source": [
    "# Function to find similar movies\n",
    "def find_similar_movies(movie_title, top_n=10):\n",
    "    idx = movies_metadata_overview[movies_metadata_overview['title'] == movie_title].index[0]\n",
    "    query_embedding = embeddings[idx].reshape(1, -1)\n",
    "\n",
    "    # Calculate cosine similarity between the query and all movie embeddings\n",
    "    similarities = cosine_similarity(query_embedding, embeddings).flatten()\n",
    "\n",
    "    # Get the top N similar movies\n",
    "    similar_indices = similarities.argsort()[::-1][1:top_n+1]\n",
    "    similar_movies = movies_metadata_overview.iloc[similar_indices]\n",
    "\n",
    "    return similar_movies\n",
    "\n",
    "# pick a random movie title\n",
    "movie_title = movies_metadata_overview['title'].sample(1).values[0]\n",
    "similar_movies = find_similar_movies(movie_title)\n",
    "similar_movies = similar_movies.copy()\n",
    "similar_movies['popularity'] = similar_movies['popularity'].astype(float).round(2)\n",
    "\n",
    "# display the similar movies on a chart\n",
    "alt.Chart(similar_movies).mark_point().encode(\n",
    "    alt.X('popularity', title='Popularity'),\n",
    "    alt.Y('vote_average', title='Vote Average'),\n",
    "    alt.Color('title', title='Title'),\n",
    "    tooltip=['title', 'overview']\n",
    ").properties(\n",
    "    title='Similar Movies to ' + movie_title,\n",
    "    width=600,\n",
    "    height=400,\n",
    ").interactive()"
   ]
  },
  {
   "cell_type": "code",
   "execution_count": 53,
   "id": "72d3de4f",
   "metadata": {},
   "outputs": [
    {
     "data": {
      "text/html": "\n<style>\n  #altair-viz-ac7d6b7127754c27a097febe00c9a4af.vega-embed {\n    width: 100%;\n    display: flex;\n  }\n\n  #altair-viz-ac7d6b7127754c27a097febe00c9a4af.vega-embed details,\n  #altair-viz-ac7d6b7127754c27a097febe00c9a4af.vega-embed details summary {\n    position: relative;\n  }\n</style>\n<div id=\"altair-viz-ac7d6b7127754c27a097febe00c9a4af\"></div>\n<script type=\"text/javascript\">\n  var VEGA_DEBUG = (typeof VEGA_DEBUG == \"undefined\") ? {} : VEGA_DEBUG;\n  (function(spec, embedOpt){\n    let outputDiv = document.currentScript.previousElementSibling;\n    if (outputDiv.id !== \"altair-viz-ac7d6b7127754c27a097febe00c9a4af\") {\n      outputDiv = document.getElementById(\"altair-viz-ac7d6b7127754c27a097febe00c9a4af\");\n    }\n    const paths = {\n      \"vega\": \"https://cdn.jsdelivr.net/npm/vega@5?noext\",\n      \"vega-lib\": \"https://cdn.jsdelivr.net/npm/vega-lib?noext\",\n      \"vega-lite\": \"https://cdn.jsdelivr.net/npm/vega-lite@5.17.0?noext\",\n      \"vega-embed\": \"https://cdn.jsdelivr.net/npm/vega-embed@6?noext\",\n    };\n\n    function maybeLoadScript(lib, version) {\n      var key = `${lib.replace(\"-\", \"\")}_version`;\n      return (VEGA_DEBUG[key] == version) ?\n        Promise.resolve(paths[lib]) :\n        new Promise(function(resolve, reject) {\n          var s = document.createElement('script');\n          document.getElementsByTagName(\"head\")[0].appendChild(s);\n          s.async = true;\n          s.onload = () => {\n            VEGA_DEBUG[key] = version;\n            return resolve(paths[lib]);\n          };\n          s.onerror = () => reject(`Error loading script: ${paths[lib]}`);\n          s.src = paths[lib];\n        });\n    }\n\n    function showError(err) {\n      outputDiv.innerHTML = `<div class=\"error\" style=\"color:red;\">${err}</div>`;\n      throw err;\n    }\n\n    function displayChart(vegaEmbed) {\n      vegaEmbed(outputDiv, spec, embedOpt)\n        .catch(err => showError(`Javascript Error: ${err.message}<br>This usually means there's a typo in your chart specification. See the javascript console for the full traceback.`));\n    }\n\n    if(typeof define === \"function\" && define.amd) {\n      requirejs.config({paths});\n      require([\"vega-embed\"], displayChart, err => showError(`Error loading script: ${err.message}`));\n    } else {\n      maybeLoadScript(\"vega\", \"5\")\n        .then(() => maybeLoadScript(\"vega-lite\", \"5.17.0\"))\n        .then(() => maybeLoadScript(\"vega-embed\", \"6\"))\n        .catch(showError)\n        .then(() => displayChart(vegaEmbed));\n    }\n  })({\"config\": {\"view\": {\"continuousWidth\": 300, \"continuousHeight\": 300}}, \"data\": {\"name\": \"data-9d3889547a3350a8c84b838f082c8804\"}, \"mark\": {\"type\": \"bar\"}, \"encoding\": {\"color\": {\"field\": \"genres\", \"title\": \"Genre\", \"type\": \"nominal\"}, \"tooltip\": [{\"field\": \"genres\", \"title\": \"Genre\", \"type\": \"nominal\"}, {\"field\": \"count\", \"format\": \".2f\", \"title\": \"Count\", \"type\": \"quantitative\"}], \"x\": {\"field\": \"genres\", \"sort\": \"-y\", \"title\": \"Genre\", \"type\": \"nominal\"}, \"y\": {\"field\": \"count\", \"title\": \"Count\", \"type\": \"quantitative\"}}, \"height\": 400, \"params\": [{\"name\": \"param_33\", \"select\": {\"type\": \"point\", \"fields\": [\"year\"]}, \"bind\": {\"input\": \"range\", \"max\": 2010, \"min\": 1900, \"name\": \"Year:\", \"step\": 10}, \"value\": {\"year\": 1900}}, {\"name\": \"param_34\", \"select\": {\"type\": \"interval\", \"encodings\": [\"x\", \"y\"]}, \"bind\": \"scales\"}], \"title\": \"Genres Distribution\", \"transform\": [{\"filter\": {\"param\": \"param_33\"}}], \"width\": 600, \"$schema\": \"https://vega.github.io/schema/vega-lite/v5.17.0.json\", \"datasets\": {\"data-9d3889547a3350a8c84b838f082c8804\": [{\"genres\": \"Drama\", \"year\": 2000, \"count\": 5282, \"percentage\": 5.802100268025836}, {\"genres\": \"Drama\", \"year\": 2010, \"count\": 5183, \"percentage\": 5.693352080495629}, {\"genres\": \"Comedy\", \"year\": 2010, \"count\": 3537, \"percentage\": 3.885276154488334}, {\"genres\": \"Comedy\", \"year\": 2000, \"count\": 3380, \"percentage\": 3.712816907596995}, {\"genres\": \"Drama\", \"year\": 1990, \"count\": 2613, \"percentage\": 2.870293070873061}, {\"genres\": \"Thriller\", \"year\": 2010, \"count\": 2363, \"percentage\": 2.5956764356957684}, {\"genres\": \"Thriller\", \"year\": 2000, \"count\": 2169, \"percentage\": 2.3825739267981896}, {\"genres\": \"Documentary\", \"year\": 2010, \"count\": 1883, \"percentage\": 2.0684124961553674}, {\"genres\": \"Comedy\", \"year\": 1990, \"count\": 1853, \"percentage\": 2.035458499934092}, {\"genres\": \"Romance\", \"year\": 2000, \"count\": 1767, \"percentage\": 1.9409903774331032}, {\"genres\": \"Action\", \"year\": 2000, \"count\": 1720, \"percentage\": 1.8893624500197725}, {\"genres\": \"Action\", \"year\": 2010, \"count\": 1616, \"percentage\": 1.7751219297860186}, {\"genres\": \"Drama\", \"year\": 1980, \"count\": 1553, \"percentage\": 1.705918537721341}, {\"genres\": \"Drama\", \"year\": 1970, \"count\": 1508, \"percentage\": 1.6564875433894284}, {\"genres\": \"Romance\", \"year\": 2010, \"count\": 1448, \"percentage\": 1.590579550946878}, {\"genres\": \"Horror\", \"year\": 2010, \"count\": 1370, \"percentage\": 1.504899160771563}, {\"genres\": \"Comedy\", \"year\": 1980, \"count\": 1297, \"percentage\": 1.4247111032997934}, {\"genres\": \"Drama\", \"year\": 1960, \"count\": 1212, \"percentage\": 1.331341447339514}, {\"genres\": \"Documentary\", \"year\": 2000, \"count\": 1197, \"percentage\": 1.3148644492288764}, {\"genres\": \"Horror\", \"year\": 2000, \"count\": 1161, \"percentage\": 1.2753196537633464}, {\"genres\": \"Drama\", \"year\": 1950, \"count\": 1065, \"percentage\": 1.169866865855266}, {\"genres\": \"Thriller\", \"year\": 1990, \"count\": 1049, \"percentage\": 1.1522914012039194}, {\"genres\": \"Crime\", \"year\": 2000, \"count\": 1004, \"percentage\": 1.1028604068720067}, {\"genres\": \"Action\", \"year\": 1990, \"count\": 995, \"percentage\": 1.0929742080056242}, {\"genres\": \"Romance\", \"year\": 1990, \"count\": 995, \"percentage\": 1.0929742080056242}, {\"genres\": \"Crime\", \"year\": 2010, \"count\": 929, \"percentage\": 1.0204754163188188}, {\"genres\": \"Comedy\", \"year\": 1970, \"count\": 839, \"percentage\": 0.9216134276549937}, {\"genres\": \"Adventure\", \"year\": 2000, \"count\": 828, \"percentage\": 0.9095302957071928}, {\"genres\": \"Science Fiction\", \"year\": 2010, \"count\": 798, \"percentage\": 0.8765762994859175}, {\"genres\": \"Family\", \"year\": 2000, \"count\": 798, \"percentage\": 0.8765762994859175}, {\"genres\": \"Foreign\", \"year\": 2000, \"count\": 786, \"percentage\": 0.8633947009974077}, {\"genres\": \"Adventure\", \"year\": 2010, \"count\": 784, \"percentage\": 0.8611977679159893}, {\"genres\": \"Drama\", \"year\": 1940, \"count\": 781, \"percentage\": 0.8579023682938617}, {\"genres\": \"Science Fiction\", \"year\": 2000, \"count\": 740, \"percentage\": 0.8128652401247858}, {\"genres\": \"Comedy\", \"year\": 1960, \"count\": 723, \"percentage\": 0.7941913089327299}, {\"genres\": \"Family\", \"year\": 2010, \"count\": 723, \"percentage\": 0.7941913089327299}, {\"genres\": \"Action\", \"year\": 1980, \"count\": 713, \"percentage\": 0.7832066435256382}, {\"genres\": \"Drama\", \"year\": 1930, \"count\": 707, \"percentage\": 0.7766158442813832}, {\"genres\": \"Action\", \"year\": 1970, \"count\": 651, \"percentage\": 0.7151017180016697}, {\"genres\": \"Horror\", \"year\": 1980, \"count\": 643, \"percentage\": 0.7063139856759962}, {\"genres\": \"Mystery\", \"year\": 2010, \"count\": 612, \"percentage\": 0.6722615229140121}, {\"genres\": \"Mystery\", \"year\": 2000, \"count\": 606, \"percentage\": 0.665670723669757}, {\"genres\": \"Animation\", \"year\": 2010, \"count\": 604, \"percentage\": 0.6634737905883387}, {\"genres\": \"Thriller\", \"year\": 1980, \"count\": 600, \"percentage\": 0.659079924425502}, {\"genres\": \"Thriller\", \"year\": 1970, \"count\": 596, \"percentage\": 0.6546860582626653}, {\"genres\": \"Crime\", \"year\": 1990, \"count\": 585, \"percentage\": 0.6426029263148644}, {\"genres\": \"Animation\", \"year\": 2000, \"count\": 579, \"percentage\": 0.6360121270706095}, {\"genres\": \"Fantasy\", \"year\": 2000, \"count\": 569, \"percentage\": 0.6250274616635177}, {\"genres\": \"Fantasy\", \"year\": 2010, \"count\": 561, \"percentage\": 0.6162397293378444}, {\"genres\": \"Romance\", \"year\": 1980, \"count\": 542, \"percentage\": 0.5953688650643701}, {\"genres\": \"Horror\", \"year\": 1970, \"count\": 499, \"percentage\": 0.5481348038138758}, {\"genres\": \"Family\", \"year\": 1990, \"count\": 485, \"percentage\": 0.5327562722439475}, {\"genres\": \"Adventure\", \"year\": 1990, \"count\": 485, \"percentage\": 0.5327562722439475}, {\"genres\": \"Science Fiction\", \"year\": 1990, \"count\": 482, \"percentage\": 0.52946087262182}, {\"genres\": \"Horror\", \"year\": 1990, \"count\": 465, \"percentage\": 0.5107869414297641}, {\"genres\": \"Comedy\", \"year\": 1950, \"count\": 463, \"percentage\": 0.5085900083483457}, {\"genres\": \"Crime\", \"year\": 1970, \"count\": 451, \"percentage\": 0.4954084098598357}, {\"genres\": \"Comedy\", \"year\": 1930, \"count\": 446, \"percentage\": 0.4899160771562898}, {\"genres\": \"Comedy\", \"year\": 1940, \"count\": 409, \"percentage\": 0.4492728151500505}, {\"genres\": \"Romance\", \"year\": 1930, \"count\": 406, \"percentage\": 0.445977415527923}, {\"genres\": \"Science Fiction\", \"year\": 1980, \"count\": 404, \"percentage\": 0.44378048244650464}, {\"genres\": \"Romance\", \"year\": 1950, \"count\": 399, \"percentage\": 0.43828814974295877}, {\"genres\": \"Adventure\", \"year\": 1980, \"count\": 390, \"percentage\": 0.4284019508765763}, {\"genres\": \"Crime\", \"year\": 1980, \"count\": 389, \"percentage\": 0.4273034843358671}, {\"genres\": \"Romance\", \"year\": 1960, \"count\": 379, \"percentage\": 0.4163188189287755}, {\"genres\": \"History\", \"year\": 2010, \"count\": 378, \"percentage\": 0.4152203523880663}, {\"genres\": \"Romance\", \"year\": 1940, \"count\": 378, \"percentage\": 0.4152203523880663}, {\"genres\": \"Action\", \"year\": 1960, \"count\": 372, \"percentage\": 0.4086295531438112}, {\"genres\": \"Fantasy\", \"year\": 1990, \"count\": 362, \"percentage\": 0.3976448877367195}, {\"genres\": \"Music\", \"year\": 2000, \"count\": 357, \"percentage\": 0.3921525550331737}, {\"genres\": \"Music\", \"year\": 2010, \"count\": 351, \"percentage\": 0.38556175578891866}, {\"genres\": \"History\", \"year\": 2000, \"count\": 316, \"percentage\": 0.34711542686409774}, {\"genres\": \"Fantasy\", \"year\": 1980, \"count\": 307, \"percentage\": 0.3372292279977152}, {\"genres\": \"TV Movie\", \"year\": 2010, \"count\": 303, \"percentage\": 0.3328353618348785}, {\"genres\": \"Romance\", \"year\": 1970, \"count\": 302, \"percentage\": 0.33173689529416933}, {\"genres\": \"Documentary\", \"year\": 1990, \"count\": 292, \"percentage\": 0.32075222988707763}, {\"genres\": \"Adventure\", \"year\": 1960, \"count\": 289, \"percentage\": 0.31745683026495014}, {\"genres\": \"Mystery\", \"year\": 1990, \"count\": 284, \"percentage\": 0.31196449756140426}, {\"genres\": \"Adventure\", \"year\": 1970, \"count\": 270, \"percentage\": 0.2965859659914759}, {\"genres\": \"Crime\", \"year\": 1950, \"count\": 266, \"percentage\": 0.2921920998286392}, {\"genres\": \"Thriller\", \"year\": 1960, \"count\": 266, \"percentage\": 0.2921920998286392}, {\"genres\": \"Drama\", \"year\": 1920, \"count\": 257, \"percentage\": 0.28230590096225666}, {\"genres\": \"Crime\", \"year\": 1960, \"count\": 256, \"percentage\": 0.2812074344215475}, {\"genres\": \"Animation\", \"year\": 1990, \"count\": 256, \"percentage\": 0.2812074344215475}, {\"genres\": \"Family\", \"year\": 1980, \"count\": 254, \"percentage\": 0.2790105013401292}, {\"genres\": \"Action\", \"year\": 1950, \"count\": 248, \"percentage\": 0.27241970209587413}, {\"genres\": \"War\", \"year\": 2010, \"count\": 235, \"percentage\": 0.258139637066655}, {\"genres\": \"Mystery\", \"year\": 1970, \"count\": 233, \"percentage\": 0.2559427039852366}, {\"genres\": \"Thriller\", \"year\": 1940, \"count\": 233, \"percentage\": 0.2559427039852366}, {\"genres\": \"Foreign\", \"year\": 1990, \"count\": 230, \"percentage\": 0.2526473043631091}, {\"genres\": \"Thriller\", \"year\": 1950, \"count\": 229, \"percentage\": 0.2515488378223999}, {\"genres\": \"Horror\", \"year\": 1960, \"count\": 225, \"percentage\": 0.24715497165956327}, {\"genres\": \"Western\", \"year\": 1950, \"count\": 225, \"percentage\": 0.24715497165956327}, {\"genres\": \"Foreign\", \"year\": 2010, \"count\": 224, \"percentage\": 0.24605650511885407}, {\"genres\": \"Crime\", \"year\": 1940, \"count\": 220, \"percentage\": 0.2416626389560174}, {\"genres\": \"War\", \"year\": 2000, \"count\": 215, \"percentage\": 0.23617030625247157}, {\"genres\": \"Science Fiction\", \"year\": 1970, \"count\": 210, \"percentage\": 0.2306779735489257}, {\"genres\": \"Mystery\", \"year\": 1980, \"count\": 208, \"percentage\": 0.2284810404675074}, {\"genres\": \"Adventure\", \"year\": 1950, \"count\": 203, \"percentage\": 0.2229887077639615}, {\"genres\": \"Western\", \"year\": 1960, \"count\": 199, \"percentage\": 0.21859484160112486}, {\"genres\": \"TV Movie\", \"year\": 2000, \"count\": 197, \"percentage\": 0.2163979085197065}, {\"genres\": \"Animation\", \"year\": 1980, \"count\": 189, \"percentage\": 0.20761017619403316}, {\"genres\": \"Science Fiction\", \"year\": 1960, \"count\": 187, \"percentage\": 0.2054132431126148}, {\"genres\": \"Family\", \"year\": 1970, \"count\": 185, \"percentage\": 0.20321631003119645}, {\"genres\": \"Western\", \"year\": 1970, \"count\": 179, \"percentage\": 0.19662551078694143}, {\"genres\": \"Foreign\", \"year\": 1970, \"count\": 170, \"percentage\": 0.1867393119205589}, {\"genres\": \"Mystery\", \"year\": 1940, \"count\": 170, \"percentage\": 0.1867393119205589}, {\"genres\": \"War\", \"year\": 1960, \"count\": 169, \"percentage\": 0.1856408453798497}, {\"genres\": \"Crime\", \"year\": 1930, \"count\": 166, \"percentage\": 0.1823454457577222}, {\"genres\": \"Documentary\", \"year\": 1970, \"count\": 162, \"percentage\": 0.17795157959488553}, {\"genres\": \"Music\", \"year\": 1980, \"count\": 158, \"percentage\": 0.17355771343204887}, {\"genres\": \"Science Fiction\", \"year\": 1950, \"count\": 154, \"percentage\": 0.1691638472692122}, {\"genres\": \"Documentary\", \"year\": 1980, \"count\": 154, \"percentage\": 0.1691638472692122}, {\"genres\": \"History\", \"year\": 1990, \"count\": 153, \"percentage\": 0.16806538072850302}, {\"genres\": \"Music\", \"year\": 1990, \"count\": 150, \"percentage\": 0.1647699811063755}, {\"genres\": \"War\", \"year\": 1950, \"count\": 150, \"percentage\": 0.1647699811063755}, {\"genres\": \"War\", \"year\": 1940, \"count\": 148, \"percentage\": 0.16257304802495715}, {\"genres\": \"Fantasy\", \"year\": 1970, \"count\": 147, \"percentage\": 0.16147458148424798}, {\"genres\": \"Horror\", \"year\": 1950, \"count\": 134, \"percentage\": 0.1471945164550288}, {\"genres\": \"Family\", \"year\": 1960, \"count\": 134, \"percentage\": 0.1471945164550288}, {\"genres\": \"Mystery\", \"year\": 1960, \"count\": 132, \"percentage\": 0.14499758337361043}, {\"genres\": \"Comedy\", \"year\": 1920, \"count\": 129, \"percentage\": 0.1417021837514829}, {\"genres\": \"TV Movie\", \"year\": 1990, \"count\": 128, \"percentage\": 0.14060371721077375}, {\"genres\": \"Action\", \"year\": 1940, \"count\": 124, \"percentage\": 0.13620985104793706}, {\"genres\": \"Mystery\", \"year\": 1930, \"count\": 122, \"percentage\": 0.13401291796651874}, {\"genres\": \"Music\", \"year\": 1970, \"count\": 121, \"percentage\": 0.13291445142580957}, {\"genres\": \"History\", \"year\": 1960, \"count\": 120, \"percentage\": 0.1318159848851004}, {\"genres\": \"Music\", \"year\": 1950, \"count\": 119, \"percentage\": 0.13071751834439121}, {\"genres\": \"Music\", \"year\": 1940, \"count\": 118, \"percentage\": 0.12961905180368208}, {\"genres\": \"War\", \"year\": 1970, \"count\": 117, \"percentage\": 0.1285205852629729}, {\"genres\": \"Fantasy\", \"year\": 1960, \"count\": 116, \"percentage\": 0.12742211872226372}, {\"genres\": \"History\", \"year\": 1970, \"count\": 116, \"percentage\": 0.12742211872226372}, {\"genres\": \"Foreign\", \"year\": 1980, \"count\": 115, \"percentage\": 0.12632365218155456}, {\"genres\": \"Action\", \"year\": 1930, \"count\": 112, \"percentage\": 0.12302825255942704}, {\"genres\": \"War\", \"year\": 1980, \"count\": 111, \"percentage\": 0.12192978601871787}, {\"genres\": \"Music\", \"year\": 1960, \"count\": 108, \"percentage\": 0.11863438639659037}, {\"genres\": \"Adventure\", \"year\": 1930, \"count\": 106, \"percentage\": 0.11643745331517202}, {\"genres\": \"Music\", \"year\": 1930, \"count\": 106, \"percentage\": 0.11643745331517202}, {\"genres\": \"War\", \"year\": 1990, \"count\": 104, \"percentage\": 0.1142405202337537}, {\"genres\": \"History\", \"year\": 1980, \"count\": 103, \"percentage\": 0.11314205369304452}, {\"genres\": \"Romance\", \"year\": 1920, \"count\": 101, \"percentage\": 0.11094512061162616}, {\"genres\": \"Western\", \"year\": 1940, \"count\": 95, \"percentage\": 0.10435432136737113}, {\"genres\": \"Foreign\", \"year\": 1960, \"count\": 94, \"percentage\": 0.10325585482666198}, {\"genres\": \"Thriller\", \"year\": 1930, \"count\": 94, \"percentage\": 0.10325585482666198}, {\"genres\": \"Animation\", \"year\": 1970, \"count\": 92, \"percentage\": 0.10105892174524364}, {\"genres\": \"Adventure\", \"year\": 1940, \"count\": 89, \"percentage\": 0.09776352212311613}, {\"genres\": \"Documentary\", \"year\": 1960, \"count\": 85, \"percentage\": 0.09336965596027945}, {\"genres\": \"Mystery\", \"year\": 1950, \"count\": 84, \"percentage\": 0.09227118941957028}, {\"genres\": \"Western\", \"year\": 2010, \"count\": 82, \"percentage\": 0.09007425633815194}, {\"genres\": \"Drama\", \"year\": 1910, \"count\": 81, \"percentage\": 0.08897578979744276}, {\"genres\": \"Family\", \"year\": 1950, \"count\": 78, \"percentage\": 0.08568039017531526}, {\"genres\": \"History\", \"year\": 1950, \"count\": 76, \"percentage\": 0.08348345709389692}, {\"genres\": \"Fantasy\", \"year\": 1950, \"count\": 72, \"percentage\": 0.07908959093106024}, {\"genres\": \"TV Movie\", \"year\": 1970, \"count\": 70, \"percentage\": 0.0768926578496419}, {\"genres\": \"Western\", \"year\": 1930, \"count\": 69, \"percentage\": 0.07579419130893272}, {\"genres\": \"Horror\", \"year\": 1940, \"count\": 68, \"percentage\": 0.07469572476822356}, {\"genres\": \"Western\", \"year\": 1990, \"count\": 67, \"percentage\": 0.0735972582275144}, {\"genres\": \"Fantasy\", \"year\": 1940, \"count\": 65, \"percentage\": 0.07140032514609605}, {\"genres\": \"Comedy\", \"year\": 1910, \"count\": 65, \"percentage\": 0.07140032514609605}, {\"genres\": \"Western\", \"year\": 2000, \"count\": 62, \"percentage\": 0.06810492552396853}, {\"genres\": \"History\", \"year\": 1930, \"count\": 59, \"percentage\": 0.06480952590184104}, {\"genres\": \"Family\", \"year\": 1940, \"count\": 58, \"percentage\": 0.06371105936113186}, {\"genres\": \"Horror\", \"year\": 1930, \"count\": 57, \"percentage\": 0.06261259282042268}, {\"genres\": \"Animation\", \"year\": 1960, \"count\": 57, \"percentage\": 0.06261259282042268}, {\"genres\": \"TV Movie\", \"year\": 1980, \"count\": 54, \"percentage\": 0.05931719319829518}, {\"genres\": \"War\", \"year\": 1930, \"count\": 53, \"percentage\": 0.05821872665758601}, {\"genres\": \"History\", \"year\": 1940, \"count\": 50, \"percentage\": 0.0549233270354585}, {\"genres\": \"Animation\", \"year\": 1930, \"count\": 49, \"percentage\": 0.053824860494749334}, {\"genres\": \"Animation\", \"year\": 1940, \"count\": 48, \"percentage\": 0.052726393954040156}, {\"genres\": \"Family\", \"year\": 1930, \"count\": 43, \"percentage\": 0.047234061250494314}, {\"genres\": \"Western\", \"year\": 1980, \"count\": 40, \"percentage\": 0.0439386616283668}, {\"genres\": \"Animation\", \"year\": 1950, \"count\": 36, \"percentage\": 0.03954479546553012}, {\"genres\": \"Adventure\", \"year\": 1920, \"count\": 35, \"percentage\": 0.03844632892482095}, {\"genres\": \"Fantasy\", \"year\": 1930, \"count\": 35, \"percentage\": 0.03844632892482095}, {\"genres\": \"Documentary\", \"year\": 1950, \"count\": 35, \"percentage\": 0.03844632892482095}, {\"genres\": \"Comedy\", \"year\": 1900, \"count\": 30, \"percentage\": 0.0329539962212751}, {\"genres\": \"Fantasy\", \"year\": 1900, \"count\": 30, \"percentage\": 0.0329539962212751}, {\"genres\": \"Documentary\", \"year\": 1890, \"count\": 28, \"percentage\": 0.03075706313985676}, {\"genres\": \"Documentary\", \"year\": 1940, \"count\": 28, \"percentage\": 0.03075706313985676}, {\"genres\": \"Horror\", \"year\": 1920, \"count\": 28, \"percentage\": 0.03075706313985676}, {\"genres\": \"Action\", \"year\": 1920, \"count\": 27, \"percentage\": 0.02965859659914759}, {\"genres\": \"Crime\", \"year\": 1920, \"count\": 25, \"percentage\": 0.02746166351772925}, {\"genres\": \"Fantasy\", \"year\": 1920, \"count\": 24, \"percentage\": 0.026363196977020078}, {\"genres\": \"Science Fiction\", \"year\": 1940, \"count\": 24, \"percentage\": 0.026363196977020078}, {\"genres\": \"Science Fiction\", \"year\": 1930, \"count\": 24, \"percentage\": 0.026363196977020078}, {\"genres\": \"Documentary\", \"year\": 1920, \"count\": 21, \"percentage\": 0.02306779735489257}, {\"genres\": \"Thriller\", \"year\": 1920, \"count\": 18, \"percentage\": 0.01977239773276506}, {\"genres\": \"Documentary\", \"year\": 1930, \"count\": 16, \"percentage\": 0.01757546465134672}, {\"genres\": \"Western\", \"year\": 1920, \"count\": 16, \"percentage\": 0.01757546465134672}, {\"genres\": \"History\", \"year\": 1920, \"count\": 16, \"percentage\": 0.01757546465134672}, {\"genres\": \"TV Movie\", \"year\": 1960, \"count\": 14, \"percentage\": 0.01537853156992838}, {\"genres\": \"Romance\", \"year\": 1910, \"count\": 13, \"percentage\": 0.014280065029219212}, {\"genres\": \"War\", \"year\": 1920, \"count\": 13, \"percentage\": 0.014280065029219212}, {\"genres\": \"Documentary\", \"year\": 1900, \"count\": 12, \"percentage\": 0.013181598488510039}, {\"genres\": \"Fantasy\", \"year\": 1910, \"count\": 12, \"percentage\": 0.013181598488510039}, {\"genres\": \"Animation\", \"year\": 1920, \"count\": 12, \"percentage\": 0.013181598488510039}, {\"genres\": \"Fantasy\", \"year\": 1890, \"count\": 12, \"percentage\": 0.013181598488510039}, {\"genres\": \"Comedy\", \"year\": 1890, \"count\": 10, \"percentage\": 0.0109846654070917}, {\"genres\": \"Crime\", \"year\": 1910, \"count\": 10, \"percentage\": 0.0109846654070917}, {\"genres\": \"Adventure\", \"year\": 1910, \"count\": 9, \"percentage\": 0.00988619886638253}, {\"genres\": \"Horror\", \"year\": 1900, \"count\": 9, \"percentage\": 0.00988619886638253}, {\"genres\": \"Mystery\", \"year\": 1920, \"count\": 9, \"percentage\": 0.00988619886638253}, {\"genres\": \"Drama\", \"year\": 1900, \"count\": 9, \"percentage\": 0.00988619886638253}, {\"genres\": \"Science Fiction\", \"year\": 1920, \"count\": 9, \"percentage\": 0.00988619886638253}, {\"genres\": \"Music\", \"year\": 1920, \"count\": 8, \"percentage\": 0.00878773232567336}, {\"genres\": \"History\", \"year\": 1910, \"count\": 7, \"percentage\": 0.00768926578496419}, {\"genres\": \"War\", \"year\": 1910, \"count\": 7, \"percentage\": 0.00768926578496419}, {\"genres\": \"Western\", \"year\": 1910, \"count\": 7, \"percentage\": 0.00768926578496419}, {\"genres\": \"Family\", \"year\": 1920, \"count\": 6, \"percentage\": 0.0065907992442550195}, {\"genres\": \"Animation\", \"year\": 1910, \"count\": 6, \"percentage\": 0.0065907992442550195}, {\"genres\": \"Horror\", \"year\": 1890, \"count\": 6, \"percentage\": 0.0065907992442550195}, {\"genres\": \"Action\", \"year\": 1910, \"count\": 6, \"percentage\": 0.0065907992442550195}, {\"genres\": \"Horror\", \"year\": 1910, \"count\": 5, \"percentage\": 0.00549233270354585}, {\"genres\": \"Action\", \"year\": 1900, \"count\": 5, \"percentage\": 0.00549233270354585}, {\"genres\": \"Science Fiction\", \"year\": 1900, \"count\": 5, \"percentage\": 0.00549233270354585}, {\"genres\": \"Adventure\", \"year\": 1900, \"count\": 5, \"percentage\": 0.00549233270354585}, {\"genres\": \"Crime\", \"year\": 1900, \"count\": 4, \"percentage\": 0.00439386616283668}, {\"genres\": \"Mystery\", \"year\": 1910, \"count\": 4, \"percentage\": 0.00439386616283668}, {\"genres\": \"Documentary\", \"year\": 1880, \"count\": 4, \"percentage\": 0.00439386616283668}, {\"genres\": \"Drama\", \"year\": 1890, \"count\": 4, \"percentage\": 0.00439386616283668}, {\"genres\": \"Animation\", \"year\": 1900, \"count\": 3, \"percentage\": 0.0032953996221275097}, {\"genres\": \"Science Fiction\", \"year\": 1910, \"count\": 3, \"percentage\": 0.0032953996221275097}, {\"genres\": \"Music\", \"year\": 1900, \"count\": 2, \"percentage\": 0.00219693308141834}, {\"genres\": \"Romance\", \"year\": 1900, \"count\": 2, \"percentage\": 0.00219693308141834}, {\"genres\": \"Documentary\", \"year\": 1910, \"count\": 2, \"percentage\": 0.00219693308141834}, {\"genres\": \"Action\", \"year\": 1890, \"count\": 2, \"percentage\": 0.00219693308141834}, {\"genres\": \"History\", \"year\": 1890, \"count\": 2, \"percentage\": 0.00219693308141834}, {\"genres\": \"Family\", \"year\": 1890, \"count\": 2, \"percentage\": 0.00219693308141834}, {\"genres\": \"Foreign\", \"year\": 1950, \"count\": 2, \"percentage\": 0.00219693308141834}, {\"genres\": \"Documentary\", \"year\": 1870, \"count\": 2, \"percentage\": 0.00219693308141834}, {\"genres\": \"Thriller\", \"year\": 1900, \"count\": 2, \"percentage\": 0.00219693308141834}, {\"genres\": \"Science Fiction\", \"year\": 1890, \"count\": 1, \"percentage\": 0.00109846654070917}, {\"genres\": \"Science Fiction\", \"year\": 2020, \"count\": 1, \"percentage\": 0.00109846654070917}, {\"genres\": \"Fantasy\", \"year\": 2020, \"count\": 1, \"percentage\": 0.00109846654070917}, {\"genres\": \"Action\", \"year\": 2020, \"count\": 1, \"percentage\": 0.00109846654070917}, {\"genres\": \"Family\", \"year\": 1900, \"count\": 1, \"percentage\": 0.00109846654070917}, {\"genres\": \"Animation\", \"year\": 1890, \"count\": 1, \"percentage\": 0.00109846654070917}, {\"genres\": \"Family\", \"year\": 1910, \"count\": 1, \"percentage\": 0.00109846654070917}, {\"genres\": \"History\", \"year\": 1900, \"count\": 1, \"percentage\": 0.00109846654070917}, {\"genres\": \"Western\", \"year\": 1900, \"count\": 1, \"percentage\": 0.00109846654070917}, {\"genres\": \"War\", \"year\": 1890, \"count\": 1, \"percentage\": 0.00109846654070917}, {\"genres\": \"Adventure\", \"year\": 2020, \"count\": 1, \"percentage\": 0.00109846654070917}, {\"genres\": \"Romance\", \"year\": 1890, \"count\": 1, \"percentage\": 0.00109846654070917}]}}, {\"mode\": \"vega-lite\"});\n</script>",
      "text/plain": "alt.Chart(...)"
     },
     "execution_count": 53,
     "metadata": {},
     "output_type": "execute_result"
    }
   ],
   "source": [
    "movies_metadata_genres = movies_metadata[['id', 'title', 'genres', 'release_date']].copy()\n",
    "\n",
    "# convert the genres column to a list\n",
    "movies_metadata_genres['genres'] = (\n",
    "    movies_metadata_genres['genres']\n",
    "    .fillna('[]')\n",
    "    .apply(literal_eval)\n",
    "    .apply(lambda x: [i['name'] for i in x] if isinstance(x, list) else [])\n",
    ")\n",
    "\n",
    "movies_metadata_genres['release_date'] = pd.to_datetime(movies_metadata_genres['release_date'], errors='coerce')\n",
    "movies_metadata_genres = movies_metadata_genres[~movies_metadata_genres['release_date'].isna()]\n",
    "# convert year to decade\n",
    "movies_metadata_genres['year'] = (movies_metadata_genres['release_date'].dt.year // 10 * 10).astype(int)\n",
    "\n",
    "genres = movies_metadata_genres.explode('genres')\n",
    "genres = genres.groupby(['genres', 'year']).size().reset_index(name='count')\n",
    "genres = genres.sort_values('count', ascending=False)\n",
    "\n",
    "# Create a selection object for the slider\n",
    "year_slider = alt.binding_range(min=1900, max=2010, step=10, name='Year:')\n",
    "year_select = alt.selection_point(fields=['year'], bind=year_slider, value={'year': 1900})\n",
    "\n",
    "# calculate the percentage\n",
    "genres['percentage'] = genres['count'] / genres['count'].sum() * 100\n",
    "# plot the genres distribution\n",
    "chart = alt.Chart(genres).mark_bar().encode(\n",
    "    x=alt.X('genres', title='Genre', sort='-y'),\n",
    "    y=alt.Y('count', title='Count'),\n",
    "    color=alt.Color('genres', title='Genre'),\n",
    "    tooltip=[alt.Tooltip('genres', title='Genre'), alt.Tooltip('count', format='.2f', title='Count')]\n",
    ").add_params(\n",
    "    year_select\n",
    ").transform_filter(\n",
    "    year_select\n",
    ").properties(\n",
    "    title='Genres Distribution',\n",
    "    width=600,\n",
    "    height=400,\n",
    ").interactive()\n",
    "\n",
    "chart"
   ]
  },
  {
   "cell_type": "code",
   "execution_count": 44,
   "id": "b9bd55a2",
   "metadata": {},
   "outputs": [],
   "source": []
  }
 ],
 "metadata": {
  "kernelspec": {
   "display_name": "Python 3 (ipykernel)",
   "language": "python",
   "name": "python3"
  },
  "language_info": {
   "codemirror_mode": {
    "name": "ipython",
    "version": 3
   },
   "file_extension": ".py",
   "mimetype": "text/x-python",
   "name": "python",
   "nbconvert_exporter": "python",
   "pygments_lexer": "ipython3",
   "version": "3.9.13"
  }
 },
 "nbformat": 4,
 "nbformat_minor": 5
}
