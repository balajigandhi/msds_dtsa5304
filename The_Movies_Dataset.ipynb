{
 "cells": [
  {
   "cell_type": "code",
   "execution_count": null,
   "id": "6a0b37ce6b6a8a8f",
   "metadata": {
    "ExecuteTime": {
     "end_time": "2024-05-30T03:20:28.329310Z",
     "start_time": "2024-05-30T03:20:26.000896Z"
    }
   },
   "outputs": [],
   "source": [
    "%pip install altair vega vega_datasets"
   ]
  },
  {
   "cell_type": "code",
   "execution_count": null,
   "id": "c8445024-c233-49a9-ad9c-395a55b5f6f4",
   "metadata": {
    "ExecuteTime": {
     "end_time": "2024-05-31T00:24:48.057942Z",
     "start_time": "2024-05-31T00:24:46.967871Z"
    }
   },
   "outputs": [],
   "source": [
    "import pandas as pd\n",
    "import altair as alt"
   ]
  },
  {
   "cell_type": "code",
   "execution_count": null,
   "id": "689b915e-5b08-4a3b-bb05-b90177b7e763",
   "metadata": {
    "ExecuteTime": {
     "end_time": "2024-05-30T00:46:20.404700Z",
     "start_time": "2024-05-30T00:46:19.988173Z"
    }
   },
   "outputs": [],
   "source": [
    "movies_metadata = pd.read_csv('./The_Movies_Dataset/movies_metadata.csv', low_memory=False)\n",
    "print(movies_metadata.head())\n",
    "print(movies_metadata.shape)"
   ]
  },
  {
   "cell_type": "code",
   "execution_count": null,
   "id": "4faf09b50264da7b",
   "metadata": {
    "ExecuteTime": {
     "end_time": "2024-05-30T00:46:24.478919Z",
     "start_time": "2024-05-30T00:46:20.405782Z"
    }
   },
   "outputs": [],
   "source": [
    "ratings = pd.read_csv('./The_Movies_Dataset/ratings.csv')\n",
    "print(ratings.head())\n",
    "print(ratings.shape)"
   ]
  },
  {
   "cell_type": "code",
   "execution_count": null,
   "id": "9135329537ba441d",
   "metadata": {
    "ExecuteTime": {
     "end_time": "2024-05-30T00:46:26.578514Z",
     "start_time": "2024-05-30T00:46:24.480173Z"
    }
   },
   "outputs": [],
   "source": [
    "credits = pd.read_csv('./The_Movies_Dataset/credits.csv')\n",
    "print(credits.head())\n",
    "print(credits.shape)"
   ]
  },
  {
   "cell_type": "code",
   "execution_count": null,
   "id": "1df5437898be3f09",
   "metadata": {
    "ExecuteTime": {
     "end_time": "2024-05-30T00:46:26.647473Z",
     "start_time": "2024-05-30T00:46:26.580111Z"
    }
   },
   "outputs": [],
   "source": [
    "keywords = pd.read_csv('./The_Movies_Dataset/keywords.csv')\n",
    "print(keywords.head())\n",
    "print(keywords.shape)"
   ]
  },
  {
   "cell_type": "code",
   "execution_count": null,
   "id": "6e117397aeaa14d9",
   "metadata": {
    "ExecuteTime": {
     "end_time": "2024-05-30T00:46:26.661488Z",
     "start_time": "2024-05-30T00:46:26.648362Z"
    }
   },
   "outputs": [],
   "source": [
    "links = pd.read_csv('./The_Movies_Dataset/links.csv')\n",
    "print(links.head())\n",
    "print(links.shape)"
   ]
  },
  {
   "cell_type": "code",
   "execution_count": null,
   "id": "93eb537c6ed06435",
   "metadata": {
    "ExecuteTime": {
     "end_time": "2024-05-30T00:46:27.070819Z",
     "start_time": "2024-05-30T00:46:26.662359Z"
    }
   },
   "outputs": [],
   "source": [
    "movies_metadata = pd.read_csv('./The_Movies_Dataset/movies_metadata.csv', low_memory=False)\n",
    "print(movies_metadata.iloc[0])"
   ]
  },
  {
   "cell_type": "code",
   "execution_count": null,
   "id": "34622c8df0cff3bf",
   "metadata": {
    "ExecuteTime": {
     "end_time": "2024-05-30T00:46:27.074432Z",
     "start_time": "2024-05-30T00:46:27.071974Z"
    }
   },
   "outputs": [],
   "source": [
    "print(movies_metadata['production_companies'].head().iloc[0])"
   ]
  },
  {
   "cell_type": "code",
   "execution_count": null,
   "id": "e82383dc91812fb5",
   "metadata": {
    "ExecuteTime": {
     "end_time": "2024-05-30T01:02:14.406108Z",
     "start_time": "2024-05-30T01:02:14.040737Z"
    }
   },
   "outputs": [],
   "source": [
    "# Importing the Vega Dataset\n",
    "from vega_datasets import data as vega_data\n",
    "\n",
    "movies_df = pd.read_json(vega_data.movies.url)\n",
    "\n",
    "# Checking the type of data that we get\n",
    "print(\"movies_df is of the type: \", type(movies_df))\n",
    "\n",
    "print(\"movies_df: \", movies_df.shape)\n",
    "print(movies_df.head())"
   ]
  },
  {
   "cell_type": "code",
   "execution_count": null,
   "id": "f609181983b6afb9",
   "metadata": {
    "ExecuteTime": {
     "end_time": "2024-05-30T03:07:30.983029Z",
     "start_time": "2024-05-30T03:07:30.975529Z"
    }
   },
   "outputs": [],
   "source": [
    "movies_df.columns"
   ]
  },
  {
   "cell_type": "code",
   "execution_count": null,
   "id": "6956aeb81305d566",
   "metadata": {
    "ExecuteTime": {
     "end_time": "2024-05-30T03:08:07.990877Z",
     "start_time": "2024-05-30T03:08:07.848443Z"
    }
   },
   "outputs": [],
   "source": [
    "def extract_year(value):\n",
    "    return pd.to_datetime(value, format='%b %d %Y').year\n",
    "\n",
    "movies_df[\"Year\"] = movies_df[\"Release_Date\"].apply(extract_year)"
   ]
  },
  {
   "cell_type": "code",
   "execution_count": null,
   "id": "7fd3d5ebf537a1d9",
   "metadata": {
    "ExecuteTime": {
     "end_time": "2024-05-30T03:08:41.031334Z",
     "start_time": "2024-05-30T03:08:41.028161Z"
    }
   },
   "outputs": [],
   "source": [
    "movies_df.columns"
   ]
  },
  {
   "cell_type": "code",
   "execution_count": 1,
   "id": "6ea427bcd905386d",
   "metadata": {
    "ExecuteTime": {
     "end_time": "2024-05-30T03:24:05.772977Z",
     "start_time": "2024-05-30T03:24:05.731677Z"
    }
   },
   "outputs": [
    {
     "data": {
      "text/html": [
       "\n",
       "<style>\n",
       "  #altair-viz-a9e9bbc4c10645e2b19f830648176ee2.vega-embed {\n",
       "    width: 100%;\n",
       "    display: flex;\n",
       "  }\n",
       "\n",
       "  #altair-viz-a9e9bbc4c10645e2b19f830648176ee2.vega-embed details,\n",
       "  #altair-viz-a9e9bbc4c10645e2b19f830648176ee2.vega-embed details summary {\n",
       "    position: relative;\n",
       "  }\n",
       "</style>\n",
       "<div id=\"altair-viz-a9e9bbc4c10645e2b19f830648176ee2\"></div>\n",
       "<script type=\"text/javascript\">\n",
       "  var VEGA_DEBUG = (typeof VEGA_DEBUG == \"undefined\") ? {} : VEGA_DEBUG;\n",
       "  (function(spec, embedOpt){\n",
       "    let outputDiv = document.currentScript.previousElementSibling;\n",
       "    if (outputDiv.id !== \"altair-viz-a9e9bbc4c10645e2b19f830648176ee2\") {\n",
       "      outputDiv = document.getElementById(\"altair-viz-a9e9bbc4c10645e2b19f830648176ee2\");\n",
       "    }\n",
       "    const paths = {\n",
       "      \"vega\": \"https://cdn.jsdelivr.net/npm/vega@5?noext\",\n",
       "      \"vega-lib\": \"https://cdn.jsdelivr.net/npm/vega-lib?noext\",\n",
       "      \"vega-lite\": \"https://cdn.jsdelivr.net/npm/vega-lite@5.17.0?noext\",\n",
       "      \"vega-embed\": \"https://cdn.jsdelivr.net/npm/vega-embed@6?noext\",\n",
       "    };\n",
       "\n",
       "    function maybeLoadScript(lib, version) {\n",
       "      var key = `${lib.replace(\"-\", \"\")}_version`;\n",
       "      return (VEGA_DEBUG[key] == version) ?\n",
       "        Promise.resolve(paths[lib]) :\n",
       "        new Promise(function(resolve, reject) {\n",
       "          var s = document.createElement('script');\n",
       "          document.getElementsByTagName(\"head\")[0].appendChild(s);\n",
       "          s.async = true;\n",
       "          s.onload = () => {\n",
       "            VEGA_DEBUG[key] = version;\n",
       "            return resolve(paths[lib]);\n",
       "          };\n",
       "          s.onerror = () => reject(`Error loading script: ${paths[lib]}`);\n",
       "          s.src = paths[lib];\n",
       "        });\n",
       "    }\n",
       "\n",
       "    function showError(err) {\n",
       "      outputDiv.innerHTML = `<div class=\"error\" style=\"color:red;\">${err}</div>`;\n",
       "      throw err;\n",
       "    }\n",
       "\n",
       "    function displayChart(vegaEmbed) {\n",
       "      vegaEmbed(outputDiv, spec, embedOpt)\n",
       "        .catch(err => showError(`Javascript Error: ${err.message}<br>This usually means there's a typo in your chart specification. See the javascript console for the full traceback.`));\n",
       "    }\n",
       "\n",
       "    if(typeof define === \"function\" && define.amd) {\n",
       "      requirejs.config({paths});\n",
       "      require([\"vega-embed\"], displayChart, err => showError(`Error loading script: ${err.message}`));\n",
       "    } else {\n",
       "      maybeLoadScript(\"vega\", \"5\")\n",
       "        .then(() => maybeLoadScript(\"vega-lite\", \"5.17.0\"))\n",
       "        .then(() => maybeLoadScript(\"vega-embed\", \"6\"))\n",
       "        .catch(showError)\n",
       "        .then(() => displayChart(vegaEmbed));\n",
       "    }\n",
       "  })({\"config\": {\"view\": {\"continuousWidth\": 300, \"continuousHeight\": 300}}, \"data\": {\"name\": \"data-945be0436fab4a4d01ee2d9573a8a741\"}, \"mark\": {\"type\": \"arc\"}, \"encoding\": {\"color\": {\"field\": \"genre\", \"type\": \"nominal\"}, \"theta\": {\"field\": \"count\", \"type\": \"quantitative\"}, \"tooltip\": [{\"field\": \"genre\", \"type\": \"nominal\"}, {\"field\": \"count\", \"type\": \"quantitative\"}]}, \"title\": \"Movie Genre Distribution\", \"$schema\": \"https://vega.github.io/schema/vega-lite/v5.17.0.json\", \"datasets\": {\"data-945be0436fab4a4d01ee2d9573a8a741\": [{\"genre\": \"Comedy\", \"count\": 4}, {\"genre\": \"Family\", \"count\": 2}, {\"genre\": \"Romance\", \"count\": 2}, {\"genre\": \"Animation\", \"count\": 1}, {\"genre\": \"Adventure\", \"count\": 1}, {\"genre\": \"Fantasy\", \"count\": 1}, {\"genre\": \"Drama\", \"count\": 1}]}}, {\"mode\": \"vega-lite\"});\n",
       "</script>"
      ],
      "text/plain": [
       "alt.Chart(...)"
      ]
     },
     "metadata": {},
     "output_type": "display_data"
    }
   ],
   "source": [
    "import pandas as pd\n",
    "import altair as alt\n",
    "\n",
    "# Sample data\n",
    "data = {\n",
    "    'movie': ['movie_0', 'movie_1', 'movie_2', 'movie_3', 'movie_4'],\n",
    "    'genres': [\n",
    "        ['Animation', 'Comedy', 'Family'],\n",
    "        ['Adventure', 'Fantasy', 'Family'],\n",
    "        ['Romance', 'Comedy'],\n",
    "        ['Comedy', 'Drama', 'Romance'],\n",
    "        ['Comedy']\n",
    "    ]\n",
    "}\n",
    "\n",
    "# Create a DataFrame\n",
    "df = pd.DataFrame(data)\n",
    "\n",
    "# Flatten the list of genres and count occurrences\n",
    "genre_counts = df['genres'].explode().value_counts().reset_index()\n",
    "genre_counts.columns = ['genre', 'count']\n",
    "\n",
    "alt.renderers.enable('html')\n",
    "\n",
    "# Create a pie chart with Altair\n",
    "chart = alt.Chart(genre_counts).mark_arc().encode(\n",
    "    theta=alt.Theta(field='count', type='quantitative'),\n",
    "    color=alt.Color(field='genre', type='nominal'),\n",
    "    tooltip=['genre', 'count']\n",
    ").properties(\n",
    "    title='Movie Genre Distribution'\n",
    ")\n",
    "\n",
    "# Display the chart\n",
    "chart.show()"
   ]
  },
  {
   "cell_type": "code",
   "execution_count": null,
   "id": "ecaf2f564107c138",
   "metadata": {},
   "outputs": [],
   "source": []
  }
 ],
 "metadata": {
  "kernelspec": {
   "display_name": "Python 3 (ipykernel)",
   "language": "python",
   "name": "python3"
  },
  "language_info": {
   "codemirror_mode": {
    "name": "ipython",
    "version": 3
   },
   "file_extension": ".py",
   "mimetype": "text/x-python",
   "name": "python",
   "nbconvert_exporter": "python",
   "pygments_lexer": "ipython3",
   "version": "3.9.6"
  }
 },
 "nbformat": 4,
 "nbformat_minor": 5
}
