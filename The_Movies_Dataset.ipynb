{
 "cells": [
  {
   "cell_type": "code",
   "execution_count": 15,
   "id": "6a0b37ce6b6a8a8f",
   "metadata": {
    "ExecuteTime": {
     "end_time": "2024-05-31T23:56:48.350791Z",
     "start_time": "2024-05-31T23:56:48.348792Z"
    }
   },
   "outputs": [],
   "source": [
    "#%pip install altair vega vega_datasets"
   ]
  },
  {
   "metadata": {},
   "cell_type": "markdown",
   "source": [
    "## Visualization Project: Movie Recommendation System\n",
    "\n",
    "#### Dataset: The Movies Dataset\n",
    "This system uses the movies dataset (https://www.kaggle.com/datasets/rounakbanik/the-movies-dataset). It has metadata on over 45,000 movies. 26 million ratings from over 270,000 users.\n",
    "\n",
    "#### Objective\n",
    "The objective of this project is to build a movie recommendation system using the metadata of the movies dataset. The system will recommend movies with the appropriate visualizations based on the user's preferences."
   ],
   "id": "919b5e3de353407b"
  },
  {
   "cell_type": "code",
   "id": "8aa13330ffa9841d",
   "metadata": {
    "ExecuteTime": {
     "end_time": "2024-06-01T00:20:41.844547Z",
     "start_time": "2024-06-01T00:20:40.948957Z"
    }
   },
   "source": [
    "import pandas as pd\n",
    "import altair as alt\n",
    "from ast import literal_eval\n",
    "movies_metadata = pd.read_csv('./The_Movies_Dataset/movies_metadata.csv', low_memory=False)"
   ],
   "outputs": [],
   "execution_count": 1
  },
  {
   "cell_type": "code",
   "id": "7631073a766e3bb",
   "metadata": {
    "ExecuteTime": {
     "end_time": "2024-06-01T00:20:42.585930Z",
     "start_time": "2024-06-01T00:20:41.845547Z"
    }
   },
   "source": [
    "movies_metadata_genres = movies_metadata[['id', 'title', 'genres']].copy()\n",
    "\n",
    "movies_metadata_genres['genres'] = (\n",
    "    movies_metadata_genres['genres']\n",
    "    .fillna('[]')\n",
    "    .apply(literal_eval)\n",
    "    .apply(lambda x: [i['name'] for i in x] if isinstance(x, list) else [])\n",
    ")\n",
    "\n",
    "movies_metadata_genres.head()"
   ],
   "outputs": [
    {
     "data": {
      "text/plain": [
       "      id                        title                        genres\n",
       "0    862                    Toy Story   [Animation, Comedy, Family]\n",
       "1   8844                      Jumanji  [Adventure, Fantasy, Family]\n",
       "2  15602             Grumpier Old Men             [Romance, Comedy]\n",
       "3  31357            Waiting to Exhale      [Comedy, Drama, Romance]\n",
       "4  11862  Father of the Bride Part II                      [Comedy]"
      ],
      "text/html": [
       "<div>\n",
       "<style scoped>\n",
       "    .dataframe tbody tr th:only-of-type {\n",
       "        vertical-align: middle;\n",
       "    }\n",
       "\n",
       "    .dataframe tbody tr th {\n",
       "        vertical-align: top;\n",
       "    }\n",
       "\n",
       "    .dataframe thead th {\n",
       "        text-align: right;\n",
       "    }\n",
       "</style>\n",
       "<table border=\"1\" class=\"dataframe\">\n",
       "  <thead>\n",
       "    <tr style=\"text-align: right;\">\n",
       "      <th></th>\n",
       "      <th>id</th>\n",
       "      <th>title</th>\n",
       "      <th>genres</th>\n",
       "    </tr>\n",
       "  </thead>\n",
       "  <tbody>\n",
       "    <tr>\n",
       "      <th>0</th>\n",
       "      <td>862</td>\n",
       "      <td>Toy Story</td>\n",
       "      <td>[Animation, Comedy, Family]</td>\n",
       "    </tr>\n",
       "    <tr>\n",
       "      <th>1</th>\n",
       "      <td>8844</td>\n",
       "      <td>Jumanji</td>\n",
       "      <td>[Adventure, Fantasy, Family]</td>\n",
       "    </tr>\n",
       "    <tr>\n",
       "      <th>2</th>\n",
       "      <td>15602</td>\n",
       "      <td>Grumpier Old Men</td>\n",
       "      <td>[Romance, Comedy]</td>\n",
       "    </tr>\n",
       "    <tr>\n",
       "      <th>3</th>\n",
       "      <td>31357</td>\n",
       "      <td>Waiting to Exhale</td>\n",
       "      <td>[Comedy, Drama, Romance]</td>\n",
       "    </tr>\n",
       "    <tr>\n",
       "      <th>4</th>\n",
       "      <td>11862</td>\n",
       "      <td>Father of the Bride Part II</td>\n",
       "      <td>[Comedy]</td>\n",
       "    </tr>\n",
       "  </tbody>\n",
       "</table>\n",
       "</div>"
      ]
     },
     "execution_count": 2,
     "metadata": {},
     "output_type": "execute_result"
    }
   ],
   "execution_count": 2
  },
  {
   "cell_type": "code",
   "id": "b3a6a36d567172b",
   "metadata": {
    "ExecuteTime": {
     "end_time": "2024-06-01T00:20:43.679747Z",
     "start_time": "2024-06-01T00:20:43.635922Z"
    }
   },
   "source": [
    "# Grouping by genres\n",
    "genres = movies_metadata_genres.explode('genres')\n",
    "genres = genres.groupby('genres').size().reset_index(name='count')\n",
    "genres = genres.sort_values('count', ascending=False)\n",
    "# calculate the percentage\n",
    "genres['percentage'] = genres['count'] / genres['count'].sum() * 100"
   ],
   "outputs": [],
   "execution_count": 3
  },
  {
   "cell_type": "code",
   "id": "775e62828dbf1b9d",
   "metadata": {
    "ExecuteTime": {
     "end_time": "2024-06-01T00:20:46.379829Z",
     "start_time": "2024-06-01T00:20:46.347851Z"
    }
   },
   "source": [
    "# plot a pie chart\n",
    "alt.Chart(genres).mark_arc().encode(\n",
    "    theta=alt.Theta(field='percentage', type='quantitative', stack=True),\n",
    "    color=alt.Color(field='genres', type='nominal'),\n",
    "    tooltip=[alt.Tooltip('genres', title='Genre'), alt.Tooltip('percentage', format='.2f', title='Percentage')]\n",
    ").properties(\n",
    "    title='Genres Distribution'\n",
    ")"
   ],
   "outputs": [
    {
     "data": {
      "text/html": [
       "\n",
       "<style>\n",
       "  #altair-viz-19f7f623823c4aa7af538e21b3430b93.vega-embed {\n",
       "    width: 100%;\n",
       "    display: flex;\n",
       "  }\n",
       "\n",
       "  #altair-viz-19f7f623823c4aa7af538e21b3430b93.vega-embed details,\n",
       "  #altair-viz-19f7f623823c4aa7af538e21b3430b93.vega-embed details summary {\n",
       "    position: relative;\n",
       "  }\n",
       "</style>\n",
       "<div id=\"altair-viz-19f7f623823c4aa7af538e21b3430b93\"></div>\n",
       "<script type=\"text/javascript\">\n",
       "  var VEGA_DEBUG = (typeof VEGA_DEBUG == \"undefined\") ? {} : VEGA_DEBUG;\n",
       "  (function(spec, embedOpt){\n",
       "    let outputDiv = document.currentScript.previousElementSibling;\n",
       "    if (outputDiv.id !== \"altair-viz-19f7f623823c4aa7af538e21b3430b93\") {\n",
       "      outputDiv = document.getElementById(\"altair-viz-19f7f623823c4aa7af538e21b3430b93\");\n",
       "    }\n",
       "    const paths = {\n",
       "      \"vega\": \"https://cdn.jsdelivr.net/npm/vega@5?noext\",\n",
       "      \"vega-lib\": \"https://cdn.jsdelivr.net/npm/vega-lib?noext\",\n",
       "      \"vega-lite\": \"https://cdn.jsdelivr.net/npm/vega-lite@5.17.0?noext\",\n",
       "      \"vega-embed\": \"https://cdn.jsdelivr.net/npm/vega-embed@6?noext\",\n",
       "    };\n",
       "\n",
       "    function maybeLoadScript(lib, version) {\n",
       "      var key = `${lib.replace(\"-\", \"\")}_version`;\n",
       "      return (VEGA_DEBUG[key] == version) ?\n",
       "        Promise.resolve(paths[lib]) :\n",
       "        new Promise(function(resolve, reject) {\n",
       "          var s = document.createElement('script');\n",
       "          document.getElementsByTagName(\"head\")[0].appendChild(s);\n",
       "          s.async = true;\n",
       "          s.onload = () => {\n",
       "            VEGA_DEBUG[key] = version;\n",
       "            return resolve(paths[lib]);\n",
       "          };\n",
       "          s.onerror = () => reject(`Error loading script: ${paths[lib]}`);\n",
       "          s.src = paths[lib];\n",
       "        });\n",
       "    }\n",
       "\n",
       "    function showError(err) {\n",
       "      outputDiv.innerHTML = `<div class=\"error\" style=\"color:red;\">${err}</div>`;\n",
       "      throw err;\n",
       "    }\n",
       "\n",
       "    function displayChart(vegaEmbed) {\n",
       "      vegaEmbed(outputDiv, spec, embedOpt)\n",
       "        .catch(err => showError(`Javascript Error: ${err.message}<br>This usually means there's a typo in your chart specification. See the javascript console for the full traceback.`));\n",
       "    }\n",
       "\n",
       "    if(typeof define === \"function\" && define.amd) {\n",
       "      requirejs.config({paths});\n",
       "      require([\"vega-embed\"], displayChart, err => showError(`Error loading script: ${err.message}`));\n",
       "    } else {\n",
       "      maybeLoadScript(\"vega\", \"5\")\n",
       "        .then(() => maybeLoadScript(\"vega-lite\", \"5.17.0\"))\n",
       "        .then(() => maybeLoadScript(\"vega-embed\", \"6\"))\n",
       "        .catch(showError)\n",
       "        .then(() => displayChart(vegaEmbed));\n",
       "    }\n",
       "  })({\"config\": {\"view\": {\"continuousWidth\": 300, \"continuousHeight\": 300}}, \"data\": {\"name\": \"data-7a5acd705897b16d5b322c2d9ff4d5c4\"}, \"mark\": {\"type\": \"arc\"}, \"encoding\": {\"color\": {\"field\": \"genres\", \"type\": \"nominal\"}, \"theta\": {\"field\": \"percentage\", \"stack\": true, \"type\": \"quantitative\"}, \"tooltip\": [{\"field\": \"genres\", \"title\": \"Genre\", \"type\": \"nominal\"}, {\"field\": \"percentage\", \"format\": \".2f\", \"title\": \"Percentage\", \"type\": \"quantitative\"}]}, \"title\": \"Genres Distribution\", \"$schema\": \"https://vega.github.io/schema/vega-lite/v5.17.0.json\", \"datasets\": {\"data-7a5acd705897b16d5b322c2d9ff4d5c4\": [{\"genres\": \"Drama\", \"count\": 20265, \"percentage\": 22.243320966785944}, {\"genres\": \"Comedy\", \"count\": 13182, \"percentage\": 14.46886044826905}, {\"genres\": \"Thriller\", \"count\": 7624, \"percentage\": 8.368274317827586}, {\"genres\": \"Romance\", \"count\": 6735, \"percentage\": 7.392487871270828}, {\"genres\": \"Action\", \"count\": 6596, \"percentage\": 7.2399183368823135}, {\"genres\": \"Horror\", \"count\": 4673, \"percentage\": 5.129190174082936}, {\"genres\": \"Crime\", \"count\": 4307, \"percentage\": 4.727460320944833}, {\"genres\": \"Documentary\", \"count\": 3932, \"percentage\": 4.315851864860712}, {\"genres\": \"Adventure\", \"count\": 3496, \"percentage\": 3.837288433253573}, {\"genres\": \"Science Fiction\", \"count\": 3049, \"percentage\": 3.3466511536012997}, {\"genres\": \"Family\", \"count\": 2770, \"percentage\": 3.040414462274713}, {\"genres\": \"Mystery\", \"count\": 2467, \"percentage\": 2.7078348297587427}, {\"genres\": \"Fantasy\", \"count\": 2313, \"percentage\": 2.5388009571268633}, {\"genres\": \"Animation\", \"count\": 1935, \"percentage\": 2.1238996333940685}, {\"genres\": \"Foreign\", \"count\": 1622, \"percentage\": 1.7803437753825215}, {\"genres\": \"Music\", \"count\": 1598, \"percentage\": 1.754000834193138}, {\"genres\": \"History\", \"count\": 1398, \"percentage\": 1.534476324281606}, {\"genres\": \"War\", \"count\": 1323, \"percentage\": 1.4521546330647817}, {\"genres\": \"Western\", \"count\": 1042, \"percentage\": 1.1437226966390797}, {\"genres\": \"TV Movie\", \"count\": 767, \"percentage\": 0.8418764955107239}, {\"genres\": \"Odyssey Media\", \"count\": 1, \"percentage\": 0.001097622549557658}, {\"genres\": \"Pulser Productions\", \"count\": 1, \"percentage\": 0.001097622549557658}, {\"genres\": \"Rogue State\", \"count\": 1, \"percentage\": 0.001097622549557658}, {\"genres\": \"GoHands\", \"count\": 1, \"percentage\": 0.001097622549557658}, {\"genres\": \"Carousel Productions\", \"count\": 1, \"percentage\": 0.001097622549557658}, {\"genres\": \"Sentai Filmworks\", \"count\": 1, \"percentage\": 0.001097622549557658}, {\"genres\": \"Telescene Film Group Productions\", \"count\": 1, \"percentage\": 0.001097622549557658}, {\"genres\": \"The Cartel\", \"count\": 1, \"percentage\": 0.001097622549557658}, {\"genres\": \"BROSTA TV\", \"count\": 1, \"percentage\": 0.001097622549557658}, {\"genres\": \"Vision View Entertainment\", \"count\": 1, \"percentage\": 0.001097622549557658}, {\"genres\": \"Aniplex\", \"count\": 1, \"percentage\": 0.001097622549557658}, {\"genres\": \"Mardock Scramble Production Committee\", \"count\": 1, \"percentage\": 0.001097622549557658}]}}, {\"mode\": \"vega-lite\"});\n",
       "</script>"
      ],
      "text/plain": [
       "alt.Chart(...)"
      ]
     },
     "execution_count": 4,
     "metadata": {},
     "output_type": "execute_result"
    }
   ],
   "execution_count": 4
  },
  {
   "cell_type": "code",
   "execution_count": null,
   "id": "13cc046d4ba23152",
   "metadata": {},
   "outputs": [],
   "source": []
  }
 ],
 "metadata": {
  "kernelspec": {
   "display_name": "Python 3 (ipykernel)",
   "language": "python",
   "name": "python3"
  },
  "language_info": {
   "codemirror_mode": {
    "name": "ipython",
    "version": 3
   },
   "file_extension": ".py",
   "mimetype": "text/x-python",
   "name": "python",
   "nbconvert_exporter": "python",
   "pygments_lexer": "ipython3",
   "version": "3.9.6"
  }
 },
 "nbformat": 4,
 "nbformat_minor": 5
}
