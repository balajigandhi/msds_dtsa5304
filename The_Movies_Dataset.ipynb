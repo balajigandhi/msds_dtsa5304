{
 "cells": [
  {
   "cell_type": "code",
   "id": "c8445024-c233-49a9-ad9c-395a55b5f6f4",
   "metadata": {
    "ExecuteTime": {
     "end_time": "2024-05-30T00:46:19.985817Z",
     "start_time": "2024-05-30T00:46:19.984087Z"
    }
   },
   "source": [
    "import pandas as pd"
   ],
   "outputs": [],
   "execution_count": 12
  },
  {
   "cell_type": "code",
   "id": "689b915e-5b08-4a3b-bb05-b90177b7e763",
   "metadata": {
    "ExecuteTime": {
     "end_time": "2024-05-30T00:46:20.404700Z",
     "start_time": "2024-05-30T00:46:19.988173Z"
    }
   },
   "source": [
    "movies_metadata = pd.read_csv('./The_Movies_Dataset/movies_metadata.csv', low_memory=False)\n",
    "print(movies_metadata.head())\n",
    "print(movies_metadata.shape)"
   ],
   "outputs": [
    {
     "name": "stdout",
     "output_type": "stream",
     "text": [
      "   adult                              belongs_to_collection    budget  \\\n",
      "0  False  {'id': 10194, 'name': 'Toy Story Collection', ...  30000000   \n",
      "1  False                                                NaN  65000000   \n",
      "2  False  {'id': 119050, 'name': 'Grumpy Old Men Collect...         0   \n",
      "3  False                                                NaN  16000000   \n",
      "4  False  {'id': 96871, 'name': 'Father of the Bride Col...         0   \n",
      "\n",
      "                                              genres  \\\n",
      "0  [{'id': 16, 'name': 'Animation'}, {'id': 35, '...   \n",
      "1  [{'id': 12, 'name': 'Adventure'}, {'id': 14, '...   \n",
      "2  [{'id': 10749, 'name': 'Romance'}, {'id': 35, ...   \n",
      "3  [{'id': 35, 'name': 'Comedy'}, {'id': 18, 'nam...   \n",
      "4                     [{'id': 35, 'name': 'Comedy'}]   \n",
      "\n",
      "                               homepage     id    imdb_id original_language  \\\n",
      "0  http://toystory.disney.com/toy-story    862  tt0114709                en   \n",
      "1                                   NaN   8844  tt0113497                en   \n",
      "2                                   NaN  15602  tt0113228                en   \n",
      "3                                   NaN  31357  tt0114885                en   \n",
      "4                                   NaN  11862  tt0113041                en   \n",
      "\n",
      "                original_title  \\\n",
      "0                    Toy Story   \n",
      "1                      Jumanji   \n",
      "2             Grumpier Old Men   \n",
      "3            Waiting to Exhale   \n",
      "4  Father of the Bride Part II   \n",
      "\n",
      "                                            overview  ... release_date  \\\n",
      "0  Led by Woody, Andy's toys live happily in his ...  ...   1995-10-30   \n",
      "1  When siblings Judy and Peter discover an encha...  ...   1995-12-15   \n",
      "2  A family wedding reignites the ancient feud be...  ...   1995-12-22   \n",
      "3  Cheated on, mistreated and stepped on, the wom...  ...   1995-12-22   \n",
      "4  Just when George Banks has recovered from his ...  ...   1995-02-10   \n",
      "\n",
      "       revenue runtime                                   spoken_languages  \\\n",
      "0  373554033.0    81.0           [{'iso_639_1': 'en', 'name': 'English'}]   \n",
      "1  262797249.0   104.0  [{'iso_639_1': 'en', 'name': 'English'}, {'iso...   \n",
      "2          0.0   101.0           [{'iso_639_1': 'en', 'name': 'English'}]   \n",
      "3   81452156.0   127.0           [{'iso_639_1': 'en', 'name': 'English'}]   \n",
      "4   76578911.0   106.0           [{'iso_639_1': 'en', 'name': 'English'}]   \n",
      "\n",
      "     status                                            tagline  \\\n",
      "0  Released                                                NaN   \n",
      "1  Released          Roll the dice and unleash the excitement!   \n",
      "2  Released  Still Yelling. Still Fighting. Still Ready for...   \n",
      "3  Released  Friends are the people who let you be yourself...   \n",
      "4  Released  Just When His World Is Back To Normal... He's ...   \n",
      "\n",
      "                         title  video vote_average vote_count  \n",
      "0                    Toy Story  False          7.7     5415.0  \n",
      "1                      Jumanji  False          6.9     2413.0  \n",
      "2             Grumpier Old Men  False          6.5       92.0  \n",
      "3            Waiting to Exhale  False          6.1       34.0  \n",
      "4  Father of the Bride Part II  False          5.7      173.0  \n",
      "\n",
      "[5 rows x 24 columns]\n",
      "(45466, 24)\n"
     ]
    }
   ],
   "execution_count": 13
  },
  {
   "metadata": {
    "ExecuteTime": {
     "end_time": "2024-05-30T00:46:24.478919Z",
     "start_time": "2024-05-30T00:46:20.405782Z"
    }
   },
   "cell_type": "code",
   "source": [
    "ratings = pd.read_csv('./The_Movies_Dataset/ratings.csv')\n",
    "print(ratings.head())\n",
    "print(ratings.shape)"
   ],
   "id": "4faf09b50264da7b",
   "outputs": [
    {
     "name": "stdout",
     "output_type": "stream",
     "text": [
      "   userId  movieId  rating   timestamp\n",
      "0       1      110     1.0  1425941529\n",
      "1       1      147     4.5  1425942435\n",
      "2       1      858     5.0  1425941523\n",
      "3       1     1221     5.0  1425941546\n",
      "4       1     1246     5.0  1425941556\n",
      "(26024289, 4)\n"
     ]
    }
   ],
   "execution_count": 14
  },
  {
   "metadata": {
    "ExecuteTime": {
     "end_time": "2024-05-30T00:46:26.578514Z",
     "start_time": "2024-05-30T00:46:24.480173Z"
    }
   },
   "cell_type": "code",
   "source": [
    "credits = pd.read_csv('./The_Movies_Dataset/credits.csv')\n",
    "print(credits.head())\n",
    "print(credits.shape)"
   ],
   "id": "9135329537ba441d",
   "outputs": [
    {
     "name": "stdout",
     "output_type": "stream",
     "text": [
      "                                                cast  \\\n",
      "0  [{'cast_id': 14, 'character': 'Woody (voice)',...   \n",
      "1  [{'cast_id': 1, 'character': 'Alan Parrish', '...   \n",
      "2  [{'cast_id': 2, 'character': 'Max Goldman', 'c...   \n",
      "3  [{'cast_id': 1, 'character': \"Savannah 'Vannah...   \n",
      "4  [{'cast_id': 1, 'character': 'George Banks', '...   \n",
      "\n",
      "                                                crew     id  \n",
      "0  [{'credit_id': '52fe4284c3a36847f8024f49', 'de...    862  \n",
      "1  [{'credit_id': '52fe44bfc3a36847f80a7cd1', 'de...   8844  \n",
      "2  [{'credit_id': '52fe466a9251416c75077a89', 'de...  15602  \n",
      "3  [{'credit_id': '52fe44779251416c91011acb', 'de...  31357  \n",
      "4  [{'credit_id': '52fe44959251416c75039ed7', 'de...  11862  \n",
      "(45476, 3)\n"
     ]
    }
   ],
   "execution_count": 15
  },
  {
   "metadata": {
    "ExecuteTime": {
     "end_time": "2024-05-30T00:46:26.647473Z",
     "start_time": "2024-05-30T00:46:26.580111Z"
    }
   },
   "cell_type": "code",
   "source": [
    "keywords = pd.read_csv('./The_Movies_Dataset/keywords.csv')\n",
    "print(keywords.head())\n",
    "print(keywords.shape)"
   ],
   "id": "1df5437898be3f09",
   "outputs": [
    {
     "name": "stdout",
     "output_type": "stream",
     "text": [
      "      id                                           keywords\n",
      "0    862  [{'id': 931, 'name': 'jealousy'}, {'id': 4290,...\n",
      "1   8844  [{'id': 10090, 'name': 'board game'}, {'id': 1...\n",
      "2  15602  [{'id': 1495, 'name': 'fishing'}, {'id': 12392...\n",
      "3  31357  [{'id': 818, 'name': 'based on novel'}, {'id':...\n",
      "4  11862  [{'id': 1009, 'name': 'baby'}, {'id': 1599, 'n...\n",
      "(46419, 2)\n"
     ]
    }
   ],
   "execution_count": 16
  },
  {
   "metadata": {
    "ExecuteTime": {
     "end_time": "2024-05-30T00:46:26.661488Z",
     "start_time": "2024-05-30T00:46:26.648362Z"
    }
   },
   "cell_type": "code",
   "source": [
    "links = pd.read_csv('./The_Movies_Dataset/links.csv')\n",
    "print(links.head())\n",
    "print(links.shape)"
   ],
   "id": "6e117397aeaa14d9",
   "outputs": [
    {
     "name": "stdout",
     "output_type": "stream",
     "text": [
      "   movieId  imdbId   tmdbId\n",
      "0        1  114709    862.0\n",
      "1        2  113497   8844.0\n",
      "2        3  113228  15602.0\n",
      "3        4  114885  31357.0\n",
      "4        5  113041  11862.0\n",
      "(45843, 3)\n"
     ]
    }
   ],
   "execution_count": 17
  },
  {
   "metadata": {
    "ExecuteTime": {
     "end_time": "2024-05-30T00:46:27.070819Z",
     "start_time": "2024-05-30T00:46:26.662359Z"
    }
   },
   "cell_type": "code",
   "source": [
    "movies_metadata = pd.read_csv('./The_Movies_Dataset/movies_metadata.csv', low_memory=False)\n",
    "print(movies_metadata.iloc[0])"
   ],
   "id": "93eb537c6ed06435",
   "outputs": [
    {
     "name": "stdout",
     "output_type": "stream",
     "text": [
      "adult                                                                False\n",
      "belongs_to_collection    {'id': 10194, 'name': 'Toy Story Collection', ...\n",
      "budget                                                            30000000\n",
      "genres                   [{'id': 16, 'name': 'Animation'}, {'id': 35, '...\n",
      "homepage                              http://toystory.disney.com/toy-story\n",
      "id                                                                     862\n",
      "imdb_id                                                          tt0114709\n",
      "original_language                                                       en\n",
      "original_title                                                   Toy Story\n",
      "overview                 Led by Woody, Andy's toys live happily in his ...\n",
      "popularity                                                       21.946943\n",
      "poster_path                               /rhIRbceoE9lR4veEXuwCC2wARtG.jpg\n",
      "production_companies        [{'name': 'Pixar Animation Studios', 'id': 3}]\n",
      "production_countries     [{'iso_3166_1': 'US', 'name': 'United States o...\n",
      "release_date                                                    1995-10-30\n",
      "revenue                                                        373554033.0\n",
      "runtime                                                               81.0\n",
      "spoken_languages                  [{'iso_639_1': 'en', 'name': 'English'}]\n",
      "status                                                            Released\n",
      "tagline                                                                NaN\n",
      "title                                                            Toy Story\n",
      "video                                                                False\n",
      "vote_average                                                           7.7\n",
      "vote_count                                                          5415.0\n",
      "Name: 0, dtype: object\n"
     ]
    }
   ],
   "execution_count": 18
  },
  {
   "metadata": {
    "ExecuteTime": {
     "end_time": "2024-05-30T00:46:27.074432Z",
     "start_time": "2024-05-30T00:46:27.071974Z"
    }
   },
   "cell_type": "code",
   "source": "print(movies_metadata['production_companies'].head().iloc[0])",
   "id": "34622c8df0cff3bf",
   "outputs": [
    {
     "name": "stdout",
     "output_type": "stream",
     "text": [
      "[{'name': 'Pixar Animation Studios', 'id': 3}]\n"
     ]
    }
   ],
   "execution_count": 19
  },
  {
   "metadata": {
    "ExecuteTime": {
     "end_time": "2024-05-30T00:46:27.881783Z",
     "start_time": "2024-05-30T00:46:27.075352Z"
    }
   },
   "cell_type": "code",
   "source": [
    "from ast import literal_eval\n",
    "movies_metadata['genres'] = movies_metadata['genres'].fillna('[]').apply(literal_eval).apply(lambda x : [i['name'] for i in x] if isinstance(x, list) else [])\n",
    "movies_metadata['genres'].head()"
   ],
   "id": "e82383dc91812fb5",
   "outputs": [
    {
     "data": {
      "text/plain": [
       "0     [Animation, Comedy, Family]\n",
       "1    [Adventure, Fantasy, Family]\n",
       "2               [Romance, Comedy]\n",
       "3        [Comedy, Drama, Romance]\n",
       "4                        [Comedy]\n",
       "Name: genres, dtype: object"
      ]
     },
     "execution_count": 20,
     "metadata": {},
     "output_type": "execute_result"
    }
   ],
   "execution_count": 20
  },
  {
   "metadata": {
    "ExecuteTime": {
     "end_time": "2024-05-30T00:46:27.886308Z",
     "start_time": "2024-05-30T00:46:27.882731Z"
    }
   },
   "cell_type": "code",
   "source": [
    "movies_metadata_genres = movies_metadata['genres']\n",
    "movies_metadata_genres.columns = ['genres']\n",
    "movies_metadata_genres.head()"
   ],
   "id": "f609181983b6afb9",
   "outputs": [
    {
     "data": {
      "text/plain": [
       "0     [Animation, Comedy, Family]\n",
       "1    [Adventure, Fantasy, Family]\n",
       "2               [Romance, Comedy]\n",
       "3        [Comedy, Drama, Romance]\n",
       "4                        [Comedy]\n",
       "Name: genres, dtype: object"
      ]
     },
     "execution_count": 21,
     "metadata": {},
     "output_type": "execute_result"
    }
   ],
   "execution_count": 21
  },
  {
   "metadata": {
    "ExecuteTime": {
     "end_time": "2024-05-30T00:46:27.890089Z",
     "start_time": "2024-05-30T00:46:27.888509Z"
    }
   },
   "cell_type": "code",
   "source": [
    "# genre_counts = movies_metadata_genres['genres'].explode()#.value_counts().reset_index()\n",
    "# genre_counts.columns = ['genre', 'count']\n",
    "# genre_counts.head()"
   ],
   "id": "6956aeb81305d566",
   "outputs": [],
   "execution_count": 22
  },
  {
   "metadata": {
    "ExecuteTime": {
     "end_time": "2024-05-30T00:46:27.892574Z",
     "start_time": "2024-05-30T00:46:27.891255Z"
    }
   },
   "cell_type": "code",
   "source": "",
   "id": "7fd3d5ebf537a1d9",
   "outputs": [],
   "execution_count": 22
  }
 ],
 "metadata": {
  "kernelspec": {
   "display_name": "Python 3 (ipykernel)",
   "language": "python",
   "name": "python3"
  },
  "language_info": {
   "codemirror_mode": {
    "name": "ipython",
    "version": 3
   },
   "file_extension": ".py",
   "mimetype": "text/x-python",
   "name": "python",
   "nbconvert_exporter": "python",
   "pygments_lexer": "ipython3",
   "version": "3.9.17"
  }
 },
 "nbformat": 4,
 "nbformat_minor": 5
}
