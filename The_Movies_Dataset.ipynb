{
 "cells": [
  {
   "cell_type": "markdown",
   "id": "919b5e3de353407b",
   "metadata": {},
   "source": [
    "## Visualization Project: Movie Recommendation System\n",
    "\n",
    "### Overview\n",
    "This project is part of MSDS course work (Course: DTSA 5304: Fundamentals of Data Visualization). The course uses the Altair library to explain visualization concepts.\n",
    "\n",
    "### Project Description\n",
    "The project uses the movies dataset to analyze multiple aspects of the dataset.\n",
    "\n",
    "### Dataset: The Movies Dataset\n",
    "This system uses the movies dataset [the-movies-dataset](https://www.kaggle.com/datasets/rounakbanik/the-movies-dataset). It has metadata on over 45,000 movies. 26 million ratings from over 270,000 users.\n",
    "\n",
    "### Visualization\n",
    "To access the visualization online, use this [link](https://html-preview.github.io/?url=https://github.com/balajigandhi/msds_dtsa5304/blob/main/The_Movies_Dataset.html).\n",
    "To access the source notebook online, use this [link](https://nbviewer.org/github/balajigandhi/msds_dtsa5304/blob/main/The_Movies_Dataset.ipynb)."
   ]
  },
  {
   "cell_type": "markdown",
   "id": "49391e9f",
   "metadata": {},
   "source": [
    "### Required Libraries\n",
    "First we install the required libraries. This only needs to be done **once**."
   ]
  },
  {
   "cell_type": "code",
   "execution_count": 1,
   "id": "4e854eeb",
   "metadata": {},
   "outputs": [],
   "source": [
    "#%pip install altair vega vega_datasets pandas scikit-learn sentence-transformers streamlit"
   ]
  },
  {
   "cell_type": "markdown",
   "id": "e640647b",
   "metadata": {},
   "source": [
    "### Visualition #1: Genres Distribution\n",
    "The first visualization tries to analyze the distribution of genres in the movies dataset."
   ]
  },
  {
   "cell_type": "code",
   "execution_count": 2,
   "id": "347a35fc",
   "metadata": {},
   "outputs": [
    {
     "data": {
      "text/plain": "      id                        title  \\\n0    862                    Toy Story   \n1   8844                      Jumanji   \n2  15602             Grumpier Old Men   \n3  31357            Waiting to Exhale   \n4  11862  Father of the Bride Part II   \n\n                                              genres  \n0  [{'id': 16, 'name': 'Animation'}, {'id': 35, '...  \n1  [{'id': 12, 'name': 'Adventure'}, {'id': 14, '...  \n2  [{'id': 10749, 'name': 'Romance'}, {'id': 35, ...  \n3  [{'id': 35, 'name': 'Comedy'}, {'id': 18, 'nam...  \n4                     [{'id': 35, 'name': 'Comedy'}]  ",
      "text/html": "<div>\n<style scoped>\n    .dataframe tbody tr th:only-of-type {\n        vertical-align: middle;\n    }\n\n    .dataframe tbody tr th {\n        vertical-align: top;\n    }\n\n    .dataframe thead th {\n        text-align: right;\n    }\n</style>\n<table border=\"1\" class=\"dataframe\">\n  <thead>\n    <tr style=\"text-align: right;\">\n      <th></th>\n      <th>id</th>\n      <th>title</th>\n      <th>genres</th>\n    </tr>\n  </thead>\n  <tbody>\n    <tr>\n      <th>0</th>\n      <td>862</td>\n      <td>Toy Story</td>\n      <td>[{'id': 16, 'name': 'Animation'}, {'id': 35, '...</td>\n    </tr>\n    <tr>\n      <th>1</th>\n      <td>8844</td>\n      <td>Jumanji</td>\n      <td>[{'id': 12, 'name': 'Adventure'}, {'id': 14, '...</td>\n    </tr>\n    <tr>\n      <th>2</th>\n      <td>15602</td>\n      <td>Grumpier Old Men</td>\n      <td>[{'id': 10749, 'name': 'Romance'}, {'id': 35, ...</td>\n    </tr>\n    <tr>\n      <th>3</th>\n      <td>31357</td>\n      <td>Waiting to Exhale</td>\n      <td>[{'id': 35, 'name': 'Comedy'}, {'id': 18, 'nam...</td>\n    </tr>\n    <tr>\n      <th>4</th>\n      <td>11862</td>\n      <td>Father of the Bride Part II</td>\n      <td>[{'id': 35, 'name': 'Comedy'}]</td>\n    </tr>\n  </tbody>\n</table>\n</div>"
     },
     "execution_count": 2,
     "metadata": {},
     "output_type": "execute_result"
    }
   ],
   "source": [
    "import pandas as pd\n",
    "import altair as alt\n",
    "from ast import literal_eval\n",
    "\n",
    "# load the movies metadata\n",
    "movies_metadata = pd.read_csv('./The_Movies_Dataset/movies_metadata.csv', low_memory=False)\n",
    "# extract the genres from the genres column\n",
    "movies_metadata_genres = movies_metadata[['id', 'title', 'genres']].copy()\n",
    "movies_metadata_genres.head()"
   ]
  },
  {
   "cell_type": "code",
   "execution_count": 3,
   "id": "0f6fb28a",
   "metadata": {},
   "outputs": [
    {
     "data": {
      "text/plain": "      id                        title  \\\n0    862                    Toy Story   \n1   8844                      Jumanji   \n2  15602             Grumpier Old Men   \n3  31357            Waiting to Exhale   \n4  11862  Father of the Bride Part II   \n\n                                              genres  \n0  [{'id': 16, 'name': 'Animation'}, {'id': 35, '...  \n1  [{'id': 12, 'name': 'Adventure'}, {'id': 14, '...  \n2  [{'id': 10749, 'name': 'Romance'}, {'id': 35, ...  \n3  [{'id': 35, 'name': 'Comedy'}, {'id': 18, 'nam...  \n4                     [{'id': 35, 'name': 'Comedy'}]  ",
      "text/html": "<div>\n<style scoped>\n    .dataframe tbody tr th:only-of-type {\n        vertical-align: middle;\n    }\n\n    .dataframe tbody tr th {\n        vertical-align: top;\n    }\n\n    .dataframe thead th {\n        text-align: right;\n    }\n</style>\n<table border=\"1\" class=\"dataframe\">\n  <thead>\n    <tr style=\"text-align: right;\">\n      <th></th>\n      <th>id</th>\n      <th>title</th>\n      <th>genres</th>\n    </tr>\n  </thead>\n  <tbody>\n    <tr>\n      <th>0</th>\n      <td>862</td>\n      <td>Toy Story</td>\n      <td>[{'id': 16, 'name': 'Animation'}, {'id': 35, '...</td>\n    </tr>\n    <tr>\n      <th>1</th>\n      <td>8844</td>\n      <td>Jumanji</td>\n      <td>[{'id': 12, 'name': 'Adventure'}, {'id': 14, '...</td>\n    </tr>\n    <tr>\n      <th>2</th>\n      <td>15602</td>\n      <td>Grumpier Old Men</td>\n      <td>[{'id': 10749, 'name': 'Romance'}, {'id': 35, ...</td>\n    </tr>\n    <tr>\n      <th>3</th>\n      <td>31357</td>\n      <td>Waiting to Exhale</td>\n      <td>[{'id': 35, 'name': 'Comedy'}, {'id': 18, 'nam...</td>\n    </tr>\n    <tr>\n      <th>4</th>\n      <td>11862</td>\n      <td>Father of the Bride Part II</td>\n      <td>[{'id': 35, 'name': 'Comedy'}]</td>\n    </tr>\n  </tbody>\n</table>\n</div>"
     },
     "execution_count": 3,
     "metadata": {},
     "output_type": "execute_result"
    }
   ],
   "source": [
    "# genres column is a string representation of a list of dictionaries. We need to convert it to a list of strings.\n",
    "movies_metadata_genres_as_list = movies_metadata_genres.copy()\n",
    "movies_metadata_genres_as_list['genres'] = (\n",
    "    movies_metadata_genres['genres']\n",
    "    .fillna('[]')\n",
    "    .apply(literal_eval)\n",
    "    .apply(lambda x: [i['name'] for i in x] if isinstance(x, list) else [])\n",
    ")\n",
    "movies_metadata_genres.head()"
   ]
  },
  {
   "cell_type": "code",
   "execution_count": 4,
   "outputs": [
    {
     "data": {
      "text/plain": "      genres  count  percentage\n9      Drama  20265   22.243321\n6     Comedy  13182   14.468860\n28  Thriller   7624    8.368274\n22   Romance   6735    7.392488\n0     Action   6596    7.239918",
      "text/html": "<div>\n<style scoped>\n    .dataframe tbody tr th:only-of-type {\n        vertical-align: middle;\n    }\n\n    .dataframe tbody tr th {\n        vertical-align: top;\n    }\n\n    .dataframe thead th {\n        text-align: right;\n    }\n</style>\n<table border=\"1\" class=\"dataframe\">\n  <thead>\n    <tr style=\"text-align: right;\">\n      <th></th>\n      <th>genres</th>\n      <th>count</th>\n      <th>percentage</th>\n    </tr>\n  </thead>\n  <tbody>\n    <tr>\n      <th>9</th>\n      <td>Drama</td>\n      <td>20265</td>\n      <td>22.243321</td>\n    </tr>\n    <tr>\n      <th>6</th>\n      <td>Comedy</td>\n      <td>13182</td>\n      <td>14.468860</td>\n    </tr>\n    <tr>\n      <th>28</th>\n      <td>Thriller</td>\n      <td>7624</td>\n      <td>8.368274</td>\n    </tr>\n    <tr>\n      <th>22</th>\n      <td>Romance</td>\n      <td>6735</td>\n      <td>7.392488</td>\n    </tr>\n    <tr>\n      <th>0</th>\n      <td>Action</td>\n      <td>6596</td>\n      <td>7.239918</td>\n    </tr>\n  </tbody>\n</table>\n</div>"
     },
     "execution_count": 4,
     "metadata": {},
     "output_type": "execute_result"
    }
   ],
   "source": [
    "# The genres column is now a list of strings. We can now explode the genres column and group by genres.\n",
    "movies_metadata_genres_exploded = movies_metadata_genres_as_list.explode('genres')\n",
    "movies_metadata_genres_exploded = movies_metadata_genres_exploded.groupby('genres').size().reset_index(name='count')\n",
    "movies_metadata_genres_exploded = movies_metadata_genres_exploded.sort_values('count', ascending=False)\n",
    "# calculate the percentage\n",
    "movies_metadata_genres_exploded['percentage'] = movies_metadata_genres_exploded['count'] / movies_metadata_genres_exploded['count'].sum() * 100\n",
    "movies_metadata_genres_exploded.head()"
   ],
   "metadata": {
    "collapsed": false
   }
  },
  {
   "cell_type": "code",
   "execution_count": 5,
   "outputs": [
    {
     "data": {
      "text/plain": "['Drama',\n 'Comedy',\n 'Thriller',\n 'Romance',\n 'Action',\n 'Horror',\n 'Crime',\n 'Documentary',\n 'Adventure',\n 'Science Fiction',\n 'Family',\n 'Mystery',\n 'Fantasy',\n 'Animation',\n 'Foreign',\n 'Music',\n 'History',\n 'War',\n 'Western',\n 'TV Movie',\n 'Odyssey Media',\n 'Pulser Productions',\n 'Rogue State',\n 'GoHands',\n 'Carousel Productions',\n 'Sentai Filmworks',\n 'Telescene Film Group Productions',\n 'The Cartel',\n 'BROSTA TV',\n 'Vision View Entertainment',\n 'Aniplex',\n 'Mardock Scramble Production Committee']"
     },
     "execution_count": 5,
     "metadata": {},
     "output_type": "execute_result"
    }
   ],
   "source": [
    "# Some records are missing genres. This causes the production house names to be parsed into genres field in the dataframes. We need to remove these records.\n",
    "movies_metadata_genres_exploded.genres.unique().tolist()"
   ],
   "metadata": {
    "collapsed": false
   }
  },
  {
   "cell_type": "code",
   "execution_count": 6,
   "outputs": [
    {
     "data": {
      "text/plain": "['Drama',\n 'Comedy',\n 'Thriller',\n 'Romance',\n 'Action',\n 'Horror',\n 'Crime',\n 'Documentary',\n 'Adventure',\n 'Science Fiction',\n 'Family',\n 'Mystery',\n 'Fantasy',\n 'Animation',\n 'Foreign',\n 'Music',\n 'History',\n 'War',\n 'Western',\n 'TV Movie']"
     },
     "execution_count": 6,
     "metadata": {},
     "output_type": "execute_result"
    }
   ],
   "source": [
    "# Remove the records with the wrong genres values\n",
    "wrong_genres = ['Odyssey Media',\n",
    "'Pulser Productions',\n",
    "'Rogue State',\n",
    "'GoHands',\n",
    "'Carousel Productions',\n",
    "'Sentai Filmworks',\n",
    "'Telescene Film Group Productions',\n",
    "'The Cartel',\n",
    "'BROSTA TV',\n",
    "'Vision View Entertainment',\n",
    "'Aniplex',\n",
    "'Mardock Scramble Production Committee']\n",
    "movies_metadata_genres_exploded = movies_metadata_genres_exploded[~movies_metadata_genres_exploded['genres'].isin(wrong_genres)]\n",
    "movies_metadata_genres_exploded.genres.unique().tolist()"
   ],
   "metadata": {
    "collapsed": false
   }
  },
  {
   "cell_type": "code",
   "execution_count": 7,
   "outputs": [
    {
     "data": {
      "text/plain": "      genres  count percentage\n3    Romance   6735   7.392488\n2   Thriller   7624   8.368274\n14     Other   7750   8.506575\n1     Comedy  13182   14.46886\n0      Drama  20265  22.243321",
      "text/html": "<div>\n<style scoped>\n    .dataframe tbody tr th:only-of-type {\n        vertical-align: middle;\n    }\n\n    .dataframe tbody tr th {\n        vertical-align: top;\n    }\n\n    .dataframe thead th {\n        text-align: right;\n    }\n</style>\n<table border=\"1\" class=\"dataframe\">\n  <thead>\n    <tr style=\"text-align: right;\">\n      <th></th>\n      <th>genres</th>\n      <th>count</th>\n      <th>percentage</th>\n    </tr>\n  </thead>\n  <tbody>\n    <tr>\n      <th>3</th>\n      <td>Romance</td>\n      <td>6735</td>\n      <td>7.392488</td>\n    </tr>\n    <tr>\n      <th>2</th>\n      <td>Thriller</td>\n      <td>7624</td>\n      <td>8.368274</td>\n    </tr>\n    <tr>\n      <th>14</th>\n      <td>Other</td>\n      <td>7750</td>\n      <td>8.506575</td>\n    </tr>\n    <tr>\n      <th>1</th>\n      <td>Comedy</td>\n      <td>13182</td>\n      <td>14.46886</td>\n    </tr>\n    <tr>\n      <th>0</th>\n      <td>Drama</td>\n      <td>20265</td>\n      <td>22.243321</td>\n    </tr>\n  </tbody>\n</table>\n</div>"
     },
     "execution_count": 7,
     "metadata": {},
     "output_type": "execute_result"
    }
   ],
   "source": [
    "# Group the genres with less than 2% into a single genre called 'Other'\n",
    "threshold = 2\n",
    "other_genres = movies_metadata_genres_exploded[movies_metadata_genres_exploded['percentage'] < threshold]\n",
    "other_genres = other_genres.sum()\n",
    "other_genres['genres'] = 'Other'\n",
    "movies_metadata_genres_exploded = movies_metadata_genres_exploded[movies_metadata_genres_exploded['percentage'] >= threshold]\n",
    "movies_metadata_genres_exploded = pd.concat([movies_metadata_genres_exploded, other_genres.to_frame().T], ignore_index=True)\n",
    "movies_metadata_genres_exploded = movies_metadata_genres_exploded.sort_values('count')\n",
    "movies_metadata_genres_exploded.tail()"
   ],
   "metadata": {
    "collapsed": false
   }
  },
  {
   "cell_type": "code",
   "execution_count": 8,
   "id": "775e62828dbf1b9d",
   "metadata": {
    "ExecuteTime": {
     "end_time": "2024-06-01T00:20:46.379829Z",
     "start_time": "2024-06-01T00:20:46.347851Z"
    }
   },
   "outputs": [
    {
     "data": {
      "text/html": "\n<style>\n  #altair-viz-0692f3f6f6ce4eb4bc52309e925ea053.vega-embed {\n    width: 100%;\n    display: flex;\n  }\n\n  #altair-viz-0692f3f6f6ce4eb4bc52309e925ea053.vega-embed details,\n  #altair-viz-0692f3f6f6ce4eb4bc52309e925ea053.vega-embed details summary {\n    position: relative;\n  }\n</style>\n<div id=\"altair-viz-0692f3f6f6ce4eb4bc52309e925ea053\"></div>\n<script type=\"text/javascript\">\n  var VEGA_DEBUG = (typeof VEGA_DEBUG == \"undefined\") ? {} : VEGA_DEBUG;\n  (function(spec, embedOpt){\n    let outputDiv = document.currentScript.previousElementSibling;\n    if (outputDiv.id !== \"altair-viz-0692f3f6f6ce4eb4bc52309e925ea053\") {\n      outputDiv = document.getElementById(\"altair-viz-0692f3f6f6ce4eb4bc52309e925ea053\");\n    }\n    const paths = {\n      \"vega\": \"https://cdn.jsdelivr.net/npm/vega@5?noext\",\n      \"vega-lib\": \"https://cdn.jsdelivr.net/npm/vega-lib?noext\",\n      \"vega-lite\": \"https://cdn.jsdelivr.net/npm/vega-lite@5.17.0?noext\",\n      \"vega-embed\": \"https://cdn.jsdelivr.net/npm/vega-embed@6?noext\",\n    };\n\n    function maybeLoadScript(lib, version) {\n      var key = `${lib.replace(\"-\", \"\")}_version`;\n      return (VEGA_DEBUG[key] == version) ?\n        Promise.resolve(paths[lib]) :\n        new Promise(function(resolve, reject) {\n          var s = document.createElement('script');\n          document.getElementsByTagName(\"head\")[0].appendChild(s);\n          s.async = true;\n          s.onload = () => {\n            VEGA_DEBUG[key] = version;\n            return resolve(paths[lib]);\n          };\n          s.onerror = () => reject(`Error loading script: ${paths[lib]}`);\n          s.src = paths[lib];\n        });\n    }\n\n    function showError(err) {\n      outputDiv.innerHTML = `<div class=\"error\" style=\"color:red;\">${err}</div>`;\n      throw err;\n    }\n\n    function displayChart(vegaEmbed) {\n      vegaEmbed(outputDiv, spec, embedOpt)\n        .catch(err => showError(`Javascript Error: ${err.message}<br>This usually means there's a typo in your chart specification. See the javascript console for the full traceback.`));\n    }\n\n    if(typeof define === \"function\" && define.amd) {\n      requirejs.config({paths});\n      require([\"vega-embed\"], displayChart, err => showError(`Error loading script: ${err.message}`));\n    } else {\n      maybeLoadScript(\"vega\", \"5\")\n        .then(() => maybeLoadScript(\"vega-lite\", \"5.17.0\"))\n        .then(() => maybeLoadScript(\"vega-embed\", \"6\"))\n        .catch(showError)\n        .then(() => displayChart(vegaEmbed));\n    }\n  })({\"config\": {\"view\": {\"continuousWidth\": 300, \"continuousHeight\": 300}}, \"data\": {\"name\": \"data-bbe7cd2b53e0fb835cef49cd50e27a9c\"}, \"mark\": {\"type\": \"arc\"}, \"encoding\": {\"color\": {\"field\": \"genres\", \"type\": \"nominal\"}, \"theta\": {\"field\": \"percentage\", \"stack\": true, \"type\": \"quantitative\"}, \"tooltip\": [{\"field\": \"genres\", \"title\": \"Genre\", \"type\": \"nominal\"}, {\"field\": \"percentage\", \"format\": \".2f\", \"title\": \"Percentage\", \"type\": \"quantitative\"}]}, \"params\": [{\"name\": \"param_1\", \"select\": {\"type\": \"interval\", \"encodings\": [\"x\", \"y\"]}, \"bind\": \"scales\"}], \"title\": \"Genres Distribution\", \"$schema\": \"https://vega.github.io/schema/vega-lite/v5.17.0.json\", \"datasets\": {\"data-bbe7cd2b53e0fb835cef49cd50e27a9c\": [{\"genres\": \"Animation\", \"count\": 1935, \"percentage\": 2.1238996333940685}, {\"genres\": \"Fantasy\", \"count\": 2313, \"percentage\": 2.5388009571268633}, {\"genres\": \"Mystery\", \"count\": 2467, \"percentage\": 2.7078348297587427}, {\"genres\": \"Family\", \"count\": 2770, \"percentage\": 3.040414462274713}, {\"genres\": \"Science Fiction\", \"count\": 3049, \"percentage\": 3.3466511536012997}, {\"genres\": \"Adventure\", \"count\": 3496, \"percentage\": 3.837288433253573}, {\"genres\": \"Documentary\", \"count\": 3932, \"percentage\": 4.315851864860712}, {\"genres\": \"Crime\", \"count\": 4307, \"percentage\": 4.727460320944833}, {\"genres\": \"Horror\", \"count\": 4673, \"percentage\": 5.129190174082936}, {\"genres\": \"Action\", \"count\": 6596, \"percentage\": 7.2399183368823135}, {\"genres\": \"Romance\", \"count\": 6735, \"percentage\": 7.392487871270828}, {\"genres\": \"Thriller\", \"count\": 7624, \"percentage\": 8.368274317827586}, {\"genres\": \"Other\", \"count\": 7750, \"percentage\": 8.50657475907185}, {\"genres\": \"Comedy\", \"count\": 13182, \"percentage\": 14.46886044826905}, {\"genres\": \"Drama\", \"count\": 20265, \"percentage\": 22.243320966785944}]}}, {\"mode\": \"vega-lite\"});\n</script>",
      "text/plain": "alt.Chart(...)"
     },
     "execution_count": 8,
     "metadata": {},
     "output_type": "execute_result"
    }
   ],
   "source": [
    "# Plot the genres distribution\n",
    "alt.Chart(movies_metadata_genres_exploded).mark_arc().encode(\n",
    "    theta=alt.Theta(field='percentage', type='quantitative', stack=True),\n",
    "    color=alt.Color(field='genres', type='nominal'),\n",
    "    tooltip=[alt.Tooltip('genres', title='Genre'), alt.Tooltip('percentage', format='.2f', title='Percentage')]\n",
    ").properties(\n",
    "    title='Genres Distribution'\n",
    ").interactive()"
   ]
  },
  {
   "cell_type": "markdown",
   "id": "a313061b",
   "metadata": {},
   "source": [
    "### Visualition #2: Genres Distribution and Top Movies"
   ]
  },
  {
   "cell_type": "code",
   "execution_count": 9,
   "id": "53e2fb0b",
   "metadata": {},
   "outputs": [
    {
     "data": {
      "text/plain": "        id                        title     score\n0    862.0                    Toy Story  7.640254\n1   8844.0                      Jumanji  6.820294\n4  11862.0  Father of the Bride Part II  5.660712\n5    949.0                         Heat  7.537203\n8   9091.0                 Sudden Death  5.556638",
      "text/html": "<div>\n<style scoped>\n    .dataframe tbody tr th:only-of-type {\n        vertical-align: middle;\n    }\n\n    .dataframe tbody tr th {\n        vertical-align: top;\n    }\n\n    .dataframe thead th {\n        text-align: right;\n    }\n</style>\n<table border=\"1\" class=\"dataframe\">\n  <thead>\n    <tr style=\"text-align: right;\">\n      <th></th>\n      <th>id</th>\n      <th>title</th>\n      <th>score</th>\n    </tr>\n  </thead>\n  <tbody>\n    <tr>\n      <th>0</th>\n      <td>862.0</td>\n      <td>Toy Story</td>\n      <td>7.640254</td>\n    </tr>\n    <tr>\n      <th>1</th>\n      <td>8844.0</td>\n      <td>Jumanji</td>\n      <td>6.820294</td>\n    </tr>\n    <tr>\n      <th>4</th>\n      <td>11862.0</td>\n      <td>Father of the Bride Part II</td>\n      <td>5.660712</td>\n    </tr>\n    <tr>\n      <th>5</th>\n      <td>949.0</td>\n      <td>Heat</td>\n      <td>7.537203</td>\n    </tr>\n    <tr>\n      <th>8</th>\n      <td>9091.0</td>\n      <td>Sudden Death</td>\n      <td>5.556638</td>\n    </tr>\n  </tbody>\n</table>\n</div>"
     },
     "execution_count": 9,
     "metadata": {},
     "output_type": "execute_result"
    }
   ],
   "source": [
    "credits = pd.read_csv('./The_Movies_Dataset/credits.csv', low_memory=False)\n",
    "movies_metadata['id'] = pd.to_numeric(movies_metadata['id'], errors='coerce')\n",
    "credits['id'] = pd.to_numeric(credits['id'], errors='coerce')\n",
    "movies_metadata_credits = movies_metadata.merge(credits, on='id')\n",
    "# Calculating the average rating for each movie is not enough. We need to calculate the weighted rating for each movie.\n",
    "# https://math.stackexchange.com/questions/169032/understanding-the-imdb-weighted-rating-function-for-usage-on-my-own-website\n",
    "# Weighted Rating (WR) = (v ÷ (v+m)) × R + (m ÷ (v+m)) × C\n",
    "\n",
    "# v = number of votes for the movie\n",
    "# m = minimum votes required to be listed in the chart\n",
    "# R = average rating of the movie\n",
    "# C = mean vote across the whole report\n",
    "\n",
    "C = movies_metadata_credits['vote_average'].mean()\n",
    "m = movies_metadata_credits['vote_count'].quantile(0.90)\n",
    "\n",
    "# filter out movies that have less than m votes\n",
    "movies_metadata_credits = movies_metadata_credits[movies_metadata_credits['vote_count'] >= m]\n",
    "\n",
    "# calculate the score\n",
    "movies_metadata_credits['score'] = (\n",
    "    (movies_metadata_credits['vote_count'] / (movies_metadata_credits['vote_count'] + m)) * movies_metadata_credits['vote_average'] +\n",
    "    (m / (movies_metadata_credits['vote_count'] + m)) * C\n",
    ")\n",
    "movies_metadata_credits[['id', 'title', 'score']].head()"
   ]
  },
  {
   "cell_type": "code",
   "execution_count": 10,
   "id": "12f3edd2",
   "metadata": {},
   "outputs": [
    {
     "data": {
      "text/plain": "      genres  count     score  percentage  \\\n0     Action   1176  6.140327    9.769876   \n1  Adventure    885  6.242496    7.352330   \n2  Animation    370  6.482123    3.073856   \n3     Comedy   1591  6.124103   13.217579   \n4      Crime    747  6.335402    6.205865   \n\n                                          top_movies  \n0  1. The Dark Knight 2. The Empire Strikes Back ...  \n1  1. Spirited Away 2. The Empire Strikes Back 3....  \n2  1. Spirited Away 2. Your Name. 3. Howl's Movin...  \n3  1. Dilwale Dulhania Le Jayenge 2. Life Is Beau...  \n4  1. The Shawshank Redemption 2. The Godfather 3...  ",
      "text/html": "<div>\n<style scoped>\n    .dataframe tbody tr th:only-of-type {\n        vertical-align: middle;\n    }\n\n    .dataframe tbody tr th {\n        vertical-align: top;\n    }\n\n    .dataframe thead th {\n        text-align: right;\n    }\n</style>\n<table border=\"1\" class=\"dataframe\">\n  <thead>\n    <tr style=\"text-align: right;\">\n      <th></th>\n      <th>genres</th>\n      <th>count</th>\n      <th>score</th>\n      <th>percentage</th>\n      <th>top_movies</th>\n    </tr>\n  </thead>\n  <tbody>\n    <tr>\n      <th>0</th>\n      <td>Action</td>\n      <td>1176</td>\n      <td>6.140327</td>\n      <td>9.769876</td>\n      <td>1. The Dark Knight 2. The Empire Strikes Back ...</td>\n    </tr>\n    <tr>\n      <th>1</th>\n      <td>Adventure</td>\n      <td>885</td>\n      <td>6.242496</td>\n      <td>7.352330</td>\n      <td>1. Spirited Away 2. The Empire Strikes Back 3....</td>\n    </tr>\n    <tr>\n      <th>2</th>\n      <td>Animation</td>\n      <td>370</td>\n      <td>6.482123</td>\n      <td>3.073856</td>\n      <td>1. Spirited Away 2. Your Name. 3. Howl's Movin...</td>\n    </tr>\n    <tr>\n      <th>3</th>\n      <td>Comedy</td>\n      <td>1591</td>\n      <td>6.124103</td>\n      <td>13.217579</td>\n      <td>1. Dilwale Dulhania Le Jayenge 2. Life Is Beau...</td>\n    </tr>\n    <tr>\n      <th>4</th>\n      <td>Crime</td>\n      <td>747</td>\n      <td>6.335402</td>\n      <td>6.205865</td>\n      <td>1. The Shawshank Redemption 2. The Godfather 3...</td>\n    </tr>\n  </tbody>\n</table>\n</div>"
     },
     "execution_count": 10,
     "metadata": {},
     "output_type": "execute_result"
    }
   ],
   "source": [
    "movies_metadata_credits['genres'] = (\n",
    "    movies_metadata_credits['genres']\n",
    "    .fillna('[]')\n",
    "    .apply(literal_eval)\n",
    "    .apply(lambda x: [i['name'] for i in x] if isinstance(x, list) else [])\n",
    ")\n",
    "genres = movies_metadata_credits.explode('genres')\n",
    "genres = genres.groupby('genres').size().reset_index(name='count')\n",
    "genres['score'] = genres['genres'].apply(\n",
    "    lambda x: movies_metadata_credits[\n",
    "        movies_metadata_credits['genres'].apply(lambda y: x in y)\n",
    "    ]['score'].mean()\n",
    ")\n",
    "genres['percentage'] = genres['count'] / genres['count'].sum() * 100\n",
    "genres['top_movies'] = genres['genres'].apply(\n",
    "    lambda x: ' '.join(\n",
    "        f\"{i + 1}. {title}\"\n",
    "        for i, title in enumerate(\n",
    "            movies_metadata_credits[\n",
    "                movies_metadata_credits['genres'].apply(lambda y: x in y)\n",
    "            ]\n",
    "            .sort_values('score', ascending=False)['title']\n",
    "            .head(10)\n",
    "        )\n",
    "    )\n",
    ")\n",
    "genres.head()"
   ]
  },
  {
   "cell_type": "code",
   "execution_count": 11,
   "outputs": [],
   "source": [
    "# Remove the records with the wrong genres values\n",
    "genres = genres[~genres['genres'].isin(wrong_genres)]"
   ],
   "metadata": {
    "collapsed": false
   }
  },
  {
   "cell_type": "code",
   "execution_count": 12,
   "outputs": [
    {
     "data": {
      "text/plain": "       genres  count     score  percentage  \\\n1   Adventure    885  6.242496    7.352330   \n0      Action   1176  6.140327    9.769876   \n16   Thriller   1407  6.174367   11.688959   \n3      Comedy   1591  6.124103   13.217579   \n6       Drama   1992  6.490417   16.548974   \n\n                                           top_movies  \n1   1. Spirited Away 2. The Empire Strikes Back 3....  \n0   1. The Dark Knight 2. The Empire Strikes Back ...  \n16  1. The Dark Knight 2. Pulp Fiction 3. Psycho 4...  \n3   1. Dilwale Dulhania Le Jayenge 2. Life Is Beau...  \n6   1. The Shawshank Redemption 2. The Godfather 3...  ",
      "text/html": "<div>\n<style scoped>\n    .dataframe tbody tr th:only-of-type {\n        vertical-align: middle;\n    }\n\n    .dataframe tbody tr th {\n        vertical-align: top;\n    }\n\n    .dataframe thead th {\n        text-align: right;\n    }\n</style>\n<table border=\"1\" class=\"dataframe\">\n  <thead>\n    <tr style=\"text-align: right;\">\n      <th></th>\n      <th>genres</th>\n      <th>count</th>\n      <th>score</th>\n      <th>percentage</th>\n      <th>top_movies</th>\n    </tr>\n  </thead>\n  <tbody>\n    <tr>\n      <th>1</th>\n      <td>Adventure</td>\n      <td>885</td>\n      <td>6.242496</td>\n      <td>7.352330</td>\n      <td>1. Spirited Away 2. The Empire Strikes Back 3....</td>\n    </tr>\n    <tr>\n      <th>0</th>\n      <td>Action</td>\n      <td>1176</td>\n      <td>6.140327</td>\n      <td>9.769876</td>\n      <td>1. The Dark Knight 2. The Empire Strikes Back ...</td>\n    </tr>\n    <tr>\n      <th>16</th>\n      <td>Thriller</td>\n      <td>1407</td>\n      <td>6.174367</td>\n      <td>11.688959</td>\n      <td>1. The Dark Knight 2. Pulp Fiction 3. Psycho 4...</td>\n    </tr>\n    <tr>\n      <th>3</th>\n      <td>Comedy</td>\n      <td>1591</td>\n      <td>6.124103</td>\n      <td>13.217579</td>\n      <td>1. Dilwale Dulhania Le Jayenge 2. Life Is Beau...</td>\n    </tr>\n    <tr>\n      <th>6</th>\n      <td>Drama</td>\n      <td>1992</td>\n      <td>6.490417</td>\n      <td>16.548974</td>\n      <td>1. The Shawshank Redemption 2. The Godfather 3...</td>\n    </tr>\n  </tbody>\n</table>\n</div>"
     },
     "execution_count": 12,
     "metadata": {},
     "output_type": "execute_result"
    }
   ],
   "source": [
    "# Remove the records with less than 2% of the total count\n",
    "genres = genres[genres['percentage'] >= threshold]\n",
    "genres = genres.sort_values('count')\n",
    "genres.tail()"
   ],
   "metadata": {
    "collapsed": false
   }
  },
  {
   "cell_type": "code",
   "execution_count": 13,
   "id": "6f24937c",
   "metadata": {},
   "outputs": [
    {
     "data": {
      "text/html": "\n<style>\n  #altair-viz-ebc3227ff6e548a4845d08cdc038898a.vega-embed {\n    width: 100%;\n    display: flex;\n  }\n\n  #altair-viz-ebc3227ff6e548a4845d08cdc038898a.vega-embed details,\n  #altair-viz-ebc3227ff6e548a4845d08cdc038898a.vega-embed details summary {\n    position: relative;\n  }\n</style>\n<div id=\"altair-viz-ebc3227ff6e548a4845d08cdc038898a\"></div>\n<script type=\"text/javascript\">\n  var VEGA_DEBUG = (typeof VEGA_DEBUG == \"undefined\") ? {} : VEGA_DEBUG;\n  (function(spec, embedOpt){\n    let outputDiv = document.currentScript.previousElementSibling;\n    if (outputDiv.id !== \"altair-viz-ebc3227ff6e548a4845d08cdc038898a\") {\n      outputDiv = document.getElementById(\"altair-viz-ebc3227ff6e548a4845d08cdc038898a\");\n    }\n    const paths = {\n      \"vega\": \"https://cdn.jsdelivr.net/npm/vega@5?noext\",\n      \"vega-lib\": \"https://cdn.jsdelivr.net/npm/vega-lib?noext\",\n      \"vega-lite\": \"https://cdn.jsdelivr.net/npm/vega-lite@5.17.0?noext\",\n      \"vega-embed\": \"https://cdn.jsdelivr.net/npm/vega-embed@6?noext\",\n    };\n\n    function maybeLoadScript(lib, version) {\n      var key = `${lib.replace(\"-\", \"\")}_version`;\n      return (VEGA_DEBUG[key] == version) ?\n        Promise.resolve(paths[lib]) :\n        new Promise(function(resolve, reject) {\n          var s = document.createElement('script');\n          document.getElementsByTagName(\"head\")[0].appendChild(s);\n          s.async = true;\n          s.onload = () => {\n            VEGA_DEBUG[key] = version;\n            return resolve(paths[lib]);\n          };\n          s.onerror = () => reject(`Error loading script: ${paths[lib]}`);\n          s.src = paths[lib];\n        });\n    }\n\n    function showError(err) {\n      outputDiv.innerHTML = `<div class=\"error\" style=\"color:red;\">${err}</div>`;\n      throw err;\n    }\n\n    function displayChart(vegaEmbed) {\n      vegaEmbed(outputDiv, spec, embedOpt)\n        .catch(err => showError(`Javascript Error: ${err.message}<br>This usually means there's a typo in your chart specification. See the javascript console for the full traceback.`));\n    }\n\n    if(typeof define === \"function\" && define.amd) {\n      requirejs.config({paths});\n      require([\"vega-embed\"], displayChart, err => showError(`Error loading script: ${err.message}`));\n    } else {\n      maybeLoadScript(\"vega\", \"5\")\n        .then(() => maybeLoadScript(\"vega-lite\", \"5.17.0\"))\n        .then(() => maybeLoadScript(\"vega-embed\", \"6\"))\n        .catch(showError)\n        .then(() => displayChart(vegaEmbed));\n    }\n  })({\"config\": {\"view\": {\"continuousWidth\": 300, \"continuousHeight\": 300}}, \"data\": {\"name\": \"data-4f4bfe053956dba98075f9f7c773a1b8\"}, \"mark\": {\"type\": \"arc\"}, \"encoding\": {\"color\": {\"field\": \"genres\", \"type\": \"nominal\"}, \"order\": {\"field\": \"count\", \"sort\": \"descending\", \"type\": \"quantitative\"}, \"theta\": {\"field\": \"percentage\", \"stack\": true, \"type\": \"quantitative\"}, \"tooltip\": [{\"field\": \"genres\", \"title\": \"Genre\", \"type\": \"nominal\"}, {\"field\": \"percentage\", \"format\": \".2f\", \"title\": \"Percentage\", \"type\": \"quantitative\"}, {\"field\": \"top_movies\", \"title\": \"Top Movies\", \"type\": \"nominal\"}]}, \"params\": [{\"name\": \"param_2\", \"select\": {\"type\": \"interval\", \"encodings\": [\"x\", \"y\"]}, \"bind\": \"scales\"}], \"title\": \"Genres Distribution and Top Movies\", \"$schema\": \"https://vega.github.io/schema/vega-lite/v5.17.0.json\", \"datasets\": {\"data-4f4bfe053956dba98075f9f7c773a1b8\": [{\"genres\": \"Animation\", \"count\": 370, \"score\": 6.48212339550624, \"percentage\": 3.073855611863421, \"top_movies\": \"1. Spirited Away 2. Your Name. 3. Howl's Moving Castle 4. Princess Mononoke 5. The Lion King 6. Inside Out 7. Grave of the Fireflies 8. My Neighbor Totoro 9. Up 10. WALL\\u00b7E\"}, {\"genres\": \"Mystery\", \"count\": 401, \"score\": 6.326470556321798, \"percentage\": 3.3313948658303567, \"top_movies\": \"1. Inception 2. Se7en 3. Memento 4. Rear Window 5. The Prestige 6. Gone Girl 7. Oldboy 8. 2001: A Space Odyssey 9. Shutter Island 10. Citizen Kane\"}, {\"genres\": \"Fantasy\", \"count\": 516, \"score\": 6.225767863757777, \"percentage\": 4.286782420868987, \"top_movies\": \"1. Spirited Away 2. The Green Mile 3. The Lord of the Rings: The Return of the King 4. Howl's Moving Castle 5. Princess Mononoke 6. The Lord of the Rings: The Fellowship of the Ring 7. The Lord of the Rings: The Two Towers 8. Harry Potter and the Deathly Hallows: Part 2 9. My Neighbor Totoro 10. It's a Wonderful Life\"}, {\"genres\": \"Family\", \"count\": 541, \"score\": 6.245337421301623, \"percentage\": 4.4944753676165154, \"top_movies\": \"1. Spirited Away 2. Back to the Future 3. The Lion King 4. Inside Out 5. Harry Potter and the Deathly Hallows: Part 2 6. My Neighbor Totoro 7. Up 8. WALL\\u00b7E 9. Big Hero 6 10. It's a Wonderful Life\"}, {\"genres\": \"Horror\", \"count\": 572, \"score\": 5.939149434133186, \"percentage\": 4.752014621583451, \"top_movies\": \"1. Psycho 2. The Shining 3. Alien 4. The Thing 5. Aliens 6. Train to Busan 7. Jaws 8. Shaun of the Dead 9. The Exorcist 10. The Conjuring\"}, {\"genres\": \"Science Fiction\", \"count\": 588, \"score\": 6.193821775540929, \"percentage\": 4.884938107501869, \"top_movies\": \"1. The Empire Strikes Back 2. Inception 3. Interstellar 4. Star Wars 5. Back to the Future 6. A Clockwork Orange 7. Guardians of the Galaxy 8. The Matrix 9. Return of the Jedi 10. Alien\"}, {\"genres\": \"Romance\", \"count\": 704, \"score\": 6.320627696052669, \"percentage\": 5.848633380410401, \"top_movies\": \"1. Dilwale Dulhania Le Jayenge 2. Forrest Gump 3. Your Name. 4. La La Land 5. Her 6. Eternal Sunshine of the Spotless Mind 7. Cinema Paradiso 8. Vertigo 9. Am\\u00e9lie 10. The Theory of Everything\"}, {\"genres\": \"Crime\", \"count\": 747, \"score\": 6.335401829372328, \"percentage\": 6.20586524881615, \"top_movies\": \"1. The Shawshank Redemption 2. The Godfather 3. The Dark Knight 4. Pulp Fiction 5. The Godfather: Part II 6. Leon: The Professional 7. The Green Mile 8. GoodFellas 9. Se7en 10. The Silence of the Lambs\"}, {\"genres\": \"Adventure\", \"count\": 885, \"score\": 6.24249574681646, \"percentage\": 7.352330314862507, \"top_movies\": \"1. Spirited Away 2. The Empire Strikes Back 3. Inception 4. Interstellar 5. The Lord of the Rings: The Return of the King 6. Star Wars 7. Howl's Moving Castle 8. Princess Mononoke 9. The Lord of the Rings: The Fellowship of the Ring 10. The Lord of the Rings: The Two Towers\"}, {\"genres\": \"Action\", \"count\": 1176, \"score\": 6.14032683671411, \"percentage\": 9.769876215003737, \"top_movies\": \"1. The Dark Knight 2. The Empire Strikes Back 3. Inception 4. The Lord of the Rings: The Return of the King 5. Star Wars 6. The Lord of the Rings: The Fellowship of the Ring 7. The Lord of the Rings: The Two Towers 8. Scarface 9. Guardians of the Galaxy 10. The Matrix\"}, {\"genres\": \"Thriller\", \"count\": 1407, \"score\": 6.174366611282802, \"percentage\": 11.688959042950902, \"top_movies\": \"1. The Dark Knight 2. Pulp Fiction 3. Psycho 4. Leon: The Professional 5. Inception 6. Se7en 7. The Silence of the Lambs 8. Memento 9. The Shining 10. Reservoir Dogs\"}, {\"genres\": \"Comedy\", \"count\": 1591, \"score\": 6.124103331478091, \"percentage\": 13.21757913101271, \"top_movies\": \"1. Dilwale Dulhania Le Jayenge 2. Life Is Beautiful 3. Forrest Gump 4. The Intouchables 5. Back to the Future 6. The Grand Budapest Hotel 7. The Wolf of Wall Street 8. Inside Out 9. La La Land 10. Dr. Strangelove or: How I Learned to Stop Worrying and Love the Bomb\"}, {\"genres\": \"Drama\", \"count\": 1992, \"score\": 6.4904170201383105, \"percentage\": 16.548973996843067, \"top_movies\": \"1. The Shawshank Redemption 2. The Godfather 3. Dilwale Dulhania Le Jayenge 4. The Dark Knight 5. Fight Club 6. Schindler's List 7. Whiplash 8. Life Is Beautiful 9. The Godfather: Part II 10. One Flew Over the Cuckoo's Nest\"}]}}, {\"mode\": \"vega-lite\"});\n</script>",
      "text/plain": "alt.Chart(...)"
     },
     "execution_count": 13,
     "metadata": {},
     "output_type": "execute_result"
    }
   ],
   "source": [
    "# plot the genres distribution and show top 10 movies as a tooltip\n",
    "alt.Chart(genres).mark_arc().encode(\n",
    "    theta=alt.Theta(field='percentage', type='quantitative', stack=True),\n",
    "    color=alt.Color(field='genres', type='nominal'),\n",
    "    tooltip=[alt.Tooltip('genres', title='Genre'), alt.Tooltip('percentage', format='.2f', title='Percentage'), alt.Tooltip('top_movies', title='Top Movies')],\n",
    "    order=alt.Order('count', sort='descending')\n",
    ").properties(\n",
    "    title='Genres Distribution and Top Movies'\n",
    ").interactive()"
   ]
  },
  {
   "cell_type": "markdown",
   "id": "cb7baabd",
   "metadata": {},
   "source": [
    "### Visualition #3: Recommendation System"
   ]
  },
  {
   "cell_type": "code",
   "execution_count": 14,
   "id": "e9d6e4b1",
   "metadata": {},
   "outputs": [
    {
     "name": "stderr",
     "output_type": "stream",
     "text": [
      "/Users/bgandhi/opt/anaconda3/lib/python3.9/site-packages/sentence_transformers/cross_encoder/CrossEncoder.py:11: TqdmExperimentalWarning: Using `tqdm.autonotebook.tqdm` in notebook mode. Use `tqdm.tqdm` instead to force console mode (e.g. in jupyter console)\n",
      "  from tqdm.autonotebook import tqdm, trange\n"
     ]
    }
   ],
   "source": [
    "import os\n",
    "from sentence_transformers import SentenceTransformer\n",
    "\n",
    "model_name = 'all-MiniLM-L6-v2'\n",
    "model_directory = './models'\n",
    "\n",
    "# Create the models directory if it doesn't exist\n",
    "os.makedirs(model_directory, exist_ok=True)\n",
    "\n",
    "model_path = os.path.join(model_directory, model_name)\n",
    "\n",
    "# Check if the model is already saved on disk\n",
    "if os.path.exists(model_path):\n",
    "    # Load the model from disk\n",
    "    model = SentenceTransformer(model_path)\n",
    "else:\n",
    "    # Download the model and save it to disk\n",
    "    model = SentenceTransformer(model_name)\n",
    "    model.save(model_path)"
   ]
  },
  {
   "cell_type": "code",
   "execution_count": 15,
   "id": "b987e5fc",
   "metadata": {},
   "outputs": [],
   "source": [
    "import numpy as np\n",
    "from sklearn.metrics.pairwise import cosine_similarity\n",
    "\n",
    "movies_metadata_overview = movies_metadata[['id', 'title', 'overview', 'popularity', 'vote_average']].copy()\n",
    "# cache the embeddings in a folder\n",
    "embeddings_directory = './embeddings'\n",
    "os.makedirs(embeddings_directory, exist_ok=True)\n",
    "if os.path.exists(os.path.join(embeddings_directory, 'movies_metadata_overview_embeddings.npy')):\n",
    "    embeddings = np.load(os.path.join(embeddings_directory, 'movies_metadata_overview_embeddings.npy'))\n",
    "else:\n",
    "    # Generate the embeddings\n",
    "    embeddings = model.encode(movies_metadata_overview['overview'].astype(str).tolist())\n",
    "    # Save the embeddings to disk\n",
    "    np.save(os.path.join(embeddings_directory, 'movies_metadata_overview_embeddings.npy'), embeddings)"
   ]
  },
  {
   "cell_type": "code",
   "execution_count": 16,
   "outputs": [
    {
     "data": {
      "text/plain": "           id                       title  \\\n165    6520.0                First Knight   \n6371  19957.0  Knights of the Round Table   \n7954  55848.0        Lancelot of the Lake   \n7387  18978.0                     Camelot   \n9134   7096.0                      Merlin   \n\n                                               overview  popularity  \\\n165   The timeless tale of King Arthur and the legen...       15.18   \n6371  In Camelot, kingdom of Arthur and Merlin, Lanc...        4.86   \n7954  Having failed in their quest for the Holy Grai...        0.36   \n7387  King Arthur establishes the ideals and laws of...        3.31   \n9134  The legendary wizard tells his story of his wa...        9.31   \n\n      vote_average   query_title  \n165            5.9  First Knight  \n6371           6.8  First Knight  \n7954           5.6  First Knight  \n7387           6.4  First Knight  \n9134           6.0  First Knight  ",
      "text/html": "<div>\n<style scoped>\n    .dataframe tbody tr th:only-of-type {\n        vertical-align: middle;\n    }\n\n    .dataframe tbody tr th {\n        vertical-align: top;\n    }\n\n    .dataframe thead th {\n        text-align: right;\n    }\n</style>\n<table border=\"1\" class=\"dataframe\">\n  <thead>\n    <tr style=\"text-align: right;\">\n      <th></th>\n      <th>id</th>\n      <th>title</th>\n      <th>overview</th>\n      <th>popularity</th>\n      <th>vote_average</th>\n      <th>query_title</th>\n    </tr>\n  </thead>\n  <tbody>\n    <tr>\n      <th>165</th>\n      <td>6520.0</td>\n      <td>First Knight</td>\n      <td>The timeless tale of King Arthur and the legen...</td>\n      <td>15.18</td>\n      <td>5.9</td>\n      <td>First Knight</td>\n    </tr>\n    <tr>\n      <th>6371</th>\n      <td>19957.0</td>\n      <td>Knights of the Round Table</td>\n      <td>In Camelot, kingdom of Arthur and Merlin, Lanc...</td>\n      <td>4.86</td>\n      <td>6.8</td>\n      <td>First Knight</td>\n    </tr>\n    <tr>\n      <th>7954</th>\n      <td>55848.0</td>\n      <td>Lancelot of the Lake</td>\n      <td>Having failed in their quest for the Holy Grai...</td>\n      <td>0.36</td>\n      <td>5.6</td>\n      <td>First Knight</td>\n    </tr>\n    <tr>\n      <th>7387</th>\n      <td>18978.0</td>\n      <td>Camelot</td>\n      <td>King Arthur establishes the ideals and laws of...</td>\n      <td>3.31</td>\n      <td>6.4</td>\n      <td>First Knight</td>\n    </tr>\n    <tr>\n      <th>9134</th>\n      <td>7096.0</td>\n      <td>Merlin</td>\n      <td>The legendary wizard tells his story of his wa...</td>\n      <td>9.31</td>\n      <td>6.0</td>\n      <td>First Knight</td>\n    </tr>\n  </tbody>\n</table>\n</div>"
     },
     "execution_count": 16,
     "metadata": {},
     "output_type": "execute_result"
    }
   ],
   "source": [
    "# Function to find similar movies\n",
    "def find_similar_movies(movie_title, top_n=10):\n",
    "    idx = movies_metadata_overview[movies_metadata_overview['title'] == movie_title].index[0]\n",
    "    query_embedding = embeddings[idx].reshape(1, -1)\n",
    "\n",
    "    # Calculate cosine similarity between the query and all movie embeddings\n",
    "    similarities = cosine_similarity(query_embedding, embeddings).flatten()\n",
    "\n",
    "    # Get the top N similar movies\n",
    "    similar_indices = similarities.argsort()[::-1][1:top_n+1]\n",
    "    similar_indices = np.append(idx, similar_indices)\n",
    "    similar_movies = movies_metadata_overview.iloc[similar_indices]\n",
    "\n",
    "    return similar_movies\n",
    "\n",
    "# pick 5 movies from the top 100 movies\n",
    "filtered_movies = movies_metadata_credits.head(100).sample(5)\n",
    "similar_movies = pd.concat([find_similar_movies(movie_title).assign(query_title=movie_title) for movie_title in filtered_movies['title']])\n",
    "similar_movies = similar_movies.copy()\n",
    "similar_movies['popularity'] = similar_movies['popularity'].astype(float).round(2)\n",
    "similar_movies.head()"
   ],
   "metadata": {
    "collapsed": false
   }
  },
  {
   "cell_type": "code",
   "execution_count": 17,
   "outputs": [
    {
     "data": {
      "text/html": "\n<style>\n  #altair-viz-143fa16617754f50b81f54e00ec67b68.vega-embed {\n    width: 100%;\n    display: flex;\n  }\n\n  #altair-viz-143fa16617754f50b81f54e00ec67b68.vega-embed details,\n  #altair-viz-143fa16617754f50b81f54e00ec67b68.vega-embed details summary {\n    position: relative;\n  }\n</style>\n<div id=\"altair-viz-143fa16617754f50b81f54e00ec67b68\"></div>\n<script type=\"text/javascript\">\n  var VEGA_DEBUG = (typeof VEGA_DEBUG == \"undefined\") ? {} : VEGA_DEBUG;\n  (function(spec, embedOpt){\n    let outputDiv = document.currentScript.previousElementSibling;\n    if (outputDiv.id !== \"altair-viz-143fa16617754f50b81f54e00ec67b68\") {\n      outputDiv = document.getElementById(\"altair-viz-143fa16617754f50b81f54e00ec67b68\");\n    }\n    const paths = {\n      \"vega\": \"https://cdn.jsdelivr.net/npm/vega@5?noext\",\n      \"vega-lib\": \"https://cdn.jsdelivr.net/npm/vega-lib?noext\",\n      \"vega-lite\": \"https://cdn.jsdelivr.net/npm/vega-lite@5.17.0?noext\",\n      \"vega-embed\": \"https://cdn.jsdelivr.net/npm/vega-embed@6?noext\",\n    };\n\n    function maybeLoadScript(lib, version) {\n      var key = `${lib.replace(\"-\", \"\")}_version`;\n      return (VEGA_DEBUG[key] == version) ?\n        Promise.resolve(paths[lib]) :\n        new Promise(function(resolve, reject) {\n          var s = document.createElement('script');\n          document.getElementsByTagName(\"head\")[0].appendChild(s);\n          s.async = true;\n          s.onload = () => {\n            VEGA_DEBUG[key] = version;\n            return resolve(paths[lib]);\n          };\n          s.onerror = () => reject(`Error loading script: ${paths[lib]}`);\n          s.src = paths[lib];\n        });\n    }\n\n    function showError(err) {\n      outputDiv.innerHTML = `<div class=\"error\" style=\"color:red;\">${err}</div>`;\n      throw err;\n    }\n\n    function displayChart(vegaEmbed) {\n      vegaEmbed(outputDiv, spec, embedOpt)\n        .catch(err => showError(`Javascript Error: ${err.message}<br>This usually means there's a typo in your chart specification. See the javascript console for the full traceback.`));\n    }\n\n    if(typeof define === \"function\" && define.amd) {\n      requirejs.config({paths});\n      require([\"vega-embed\"], displayChart, err => showError(`Error loading script: ${err.message}`));\n    } else {\n      maybeLoadScript(\"vega\", \"5\")\n        .then(() => maybeLoadScript(\"vega-lite\", \"5.17.0\"))\n        .then(() => maybeLoadScript(\"vega-embed\", \"6\"))\n        .catch(showError)\n        .then(() => displayChart(vegaEmbed));\n    }\n  })({\"config\": {\"view\": {\"continuousWidth\": 300, \"continuousHeight\": 300}}, \"data\": {\"name\": \"data-d9ff5a2fad8224d9bf76df00e651b32a\"}, \"mark\": {\"type\": \"point\"}, \"encoding\": {\"color\": {\"field\": \"title\", \"title\": \"Title\", \"type\": \"nominal\"}, \"tooltip\": [{\"field\": \"title\", \"type\": \"nominal\"}, {\"field\": \"overview\", \"type\": \"nominal\"}], \"x\": {\"field\": \"popularity\", \"title\": \"Popularity\", \"type\": \"quantitative\"}, \"y\": {\"field\": \"vote_average\", \"title\": \"Vote Average\", \"type\": \"quantitative\"}}, \"height\": 400, \"params\": [{\"name\": \"param_3\", \"select\": {\"type\": \"point\", \"fields\": [\"query_title\"]}, \"bind\": {\"input\": \"select\", \"options\": [\"First Knight\", \"Don Juan DeMarco\", \"Pulp Fiction\", \"From Dusk Till Dawn\", \"Se7en\"], \"name\": \" \"}, \"value\": \"First Knight\"}, {\"name\": \"param_4\", \"select\": {\"type\": \"interval\", \"encodings\": [\"x\", \"y\"]}, \"bind\": \"scales\"}], \"title\": \"Similar Movies to Selected Movie\", \"transform\": [{\"filter\": {\"param\": \"param_3\"}}], \"width\": 600, \"$schema\": \"https://vega.github.io/schema/vega-lite/v5.17.0.json\", \"datasets\": {\"data-d9ff5a2fad8224d9bf76df00e651b32a\": [{\"id\": 6520.0, \"title\": \"First Knight\", \"overview\": \"The timeless tale of King Arthur and the legend of Camelot are retold in this passionate period drama. Arthur is reluctant to hand the crown to Lancelot, and Guinevere is torn between her loyalty to her husband and her growing love for his rival. But Lancelot must balance his loyalty to the throne with the rewards of true love.\", \"popularity\": 15.18, \"vote_average\": 5.9, \"query_title\": \"First Knight\"}, {\"id\": 19957.0, \"title\": \"Knights of the Round Table\", \"overview\": \"In Camelot, kingdom of Arthur and Merlin, Lancelot is well known for his courage and honor. But one day he must quit Camelot and the Queen Guinevere's love, leaving the Round Table without protection.\", \"popularity\": 4.86, \"vote_average\": 6.8, \"query_title\": \"First Knight\"}, {\"id\": 55848.0, \"title\": \"Lancelot of the Lake\", \"overview\": \"Having failed in their quest for the Holy Grail, the knights of the Round Table return to Camelot, their number reduced to a mere handful. Seeing a rift developing between Lancelot and Mordred, Arthur urges his knights to bury their differences and become friends. However, the king is unaware that Lancelot is having an affair with his queen, Guinevere. Lancelot is torn between his duty to his king and his love for the queen, whilst Mordred is determined to use his infidelity to destroy him.\", \"popularity\": 0.36, \"vote_average\": 5.6, \"query_title\": \"First Knight\"}, {\"id\": 18978.0, \"title\": \"Camelot\", \"overview\": \"King Arthur establishes the ideals and laws of Camelot but is tragically forced to enforce these laws against his own wife.\", \"popularity\": 3.31, \"vote_average\": 6.4, \"query_title\": \"First Knight\"}, {\"id\": 7096.0, \"title\": \"Merlin\", \"overview\": \"The legendary wizard tells his story of his war against Queen Mab of the Sidhe and his creation of Camelot.\", \"popularity\": 9.31, \"vote_average\": 6.0, \"query_title\": \"First Knight\"}, {\"id\": 762.0, \"title\": \"Monty Python and the Holy Grail\", \"overview\": \"King Arthur, accompanied by his squire, recruits his Knights of the Round Table, including Sir Bedevere the Wise, Sir Lancelot the Brave, Sir Robin the Not-Quite-So-Brave-As-Sir-Lancelot and Sir Galahad the Pure. On the way, Arthur battles the Black Knight who, despite having had all his limbs chopped off, insists he can still fight. They reach Camelot, but Arthur decides not  to enter, as \\\"it is a silly place\\\".\", \"popularity\": 10.43, \"vote_average\": 7.8, \"query_title\": \"First Knight\"}, {\"id\": 6264.0, \"title\": \"Prince Valiant\", \"overview\": \"An Arthurian legend of young Prince Valiant, son of the King of Scandia. After the King is exiled by an evil leader, the Prince travels to Camelot to secure the aid of King Arthur in helping restore his family to power and prevent a plot by the Black Knight.\", \"popularity\": 1.74, \"vote_average\": 4.7, \"query_title\": \"First Knight\"}, {\"id\": 18202.0, \"title\": \"Merlin's Apprentice\", \"overview\": \"The great sorcerer Merlin has returned to Camelot, a kingdom now vulnerable to ill fates and war since the theft of the Holy Grail, its greatest gift and protection. With the help of Jack, an irascible young beggar-thief imbued with his own unruly magic, the fight against unknown dangers begins-to find the Grail, restore it to its rightful place, and bring Camelot back to its glory days.\", \"popularity\": 3.38, \"vote_average\": 5.0, \"query_title\": \"First Knight\"}, {\"id\": 9477.0, \"title\": \"King Arthur\", \"overview\": \"The story of the Arthurian legend, based on the 'Sarmatian hypothesis' which contends that the legend has a historical nucleus in the Sarmatian heavy cavalry troops stationed in Britain, and that the Roman-British military commander, Lucius Artorius Castus is the historical person behind the legend.\", \"popularity\": 8.86, \"vote_average\": 6.1, \"query_title\": \"First Knight\"}, {\"id\": 18937.0, \"title\": \"Quest for Camelot\", \"overview\": \"During the times of King Arthur, Kayley is a brave girl who dreams of following her late father as a Knight of the Round Table. The evil Ruber wants to invade Camelot and take the throne of King Arthur, and Kayley has to stop him.\", \"popularity\": 13.03, \"vote_average\": 6.9, \"query_title\": \"First Knight\"}, {\"id\": 274857.0, \"title\": \"King Arthur: Legend of the Sword\", \"overview\": \"When the child Arthur\\u2019s father is murdered, Vortigern, Arthur\\u2019s uncle, seizes the crown. Robbed of his birthright and with no idea who he truly is, Arthur comes up the hard way in the back alleys of the city. But once he pulls the sword Excalibur from the stone, his life is turned upside down and he is forced to acknowledge his true legacy... whether he likes it or not.\", \"popularity\": 44.25, \"vote_average\": 6.5, \"query_title\": \"First Knight\"}, {\"id\": 1909.0, \"title\": \"Don Juan DeMarco\", \"overview\": \"John Arnold DeMarco is a man who believes he is Don Juan, the greatest lover in the world. Clad in a cape and mask, DeMarco undergoes psychiatric treatment with Dr. Jack Mickler to cure him of his apparent delusion. But the psychiatric sessions have an unexpected effect on the psychiatric staff and, most profoundly, Dr Mickler, who rekindles the romance in his complacent marriage.\", \"popularity\": 7.44, \"vote_average\": 6.3, \"query_title\": \"Don Juan DeMarco\"}, {\"id\": 8677.0, \"title\": \"The Bourne Identity\", \"overview\": \"An unconscious man is washed ashore on the beach of a small French village during a heavy storm. A retired doctor takes care of the unconscious stranger. When the mysterious man recovers, he can't remember a thing...he does not know his name, he does not know where his flashback memories come from, and he does not know why the access code for an anonymous Swiss bank account is implanted in his thigh. As he seeks his own identity, things quickly become dangerous. There are attempts to kill him, he is well known in first class hotels across Europe, and worst of all, there are strange similarities between his memories and reported actions of the notorious terrorist, Carlos the Jackal.\", \"popularity\": 1.72, \"vote_average\": 6.1, \"query_title\": \"Don Juan DeMarco\"}, {\"id\": 174928.0, \"title\": \"Carmen\", \"overview\": \"The tragic story of Don Jose, a Spanish cavalryman, who falls under the spell of a gypsy girl, Carmen, who treats him with both love and contempt and leads him into temptation and thus damnation.\", \"popularity\": 0.26, \"vote_average\": 4.8, \"query_title\": \"Don Juan DeMarco\"}, {\"id\": 13685.0, \"title\": \"Bottle Rocket\", \"overview\": \"Upon his release from a mental hospital following a nervous breakdown, the directionless Anthony joins his friend Dignan, who seems far less sane than the former. Dignan has hatched a hair-brained scheme for an as-yet-unspecified crime spree that somehow involves his former boss, the (supposedly) legendary Mr. Henry.\", \"popularity\": 6.9, \"vote_average\": 6.8, \"query_title\": \"Don Juan DeMarco\"}, {\"id\": 339320.0, \"title\": \"Red Passport\", \"overview\": \"Fabio Reyes, a former counterfeit artist who after serving 10 years of a 25 year sentence, wants nothing more than to rekindle his relationship with his long-lost daughter and live peacefully. But life isn't that fair and demons never die. As Fabio embarks on a roller-coaster ride of deception, lies, suspense and murder, nothing turns out to be as it seems.\", \"popularity\": 0.0, \"vote_average\": 0.0, \"query_title\": \"Don Juan DeMarco\"}, {\"id\": 18910.0, \"title\": \"The Ninth Configuration\", \"overview\": \"Col. Vincent Kane is a military psychiatrist who takes charge of an army mental hospital situated in a secluded castle. Among Kane's many eccentric patients is Capt. Billy Cutshaw, a troubled astronaut in the midst of an existential crisis. Although Kane's own grasp on sanity is questionable, he manages to engage Cutshaw in a series of thoughtful conversations about science and faith that deeply affect the lives of both men.\", \"popularity\": 3.49, \"vote_average\": 7.1, \"query_title\": \"Don Juan DeMarco\"}, {\"id\": 107393.0, \"title\": \"Last Images of the Shipwreck\", \"overview\": \"The director of the enigmatic, entirely memorable feature Man Facing Southeast confronts viewers with another exhuberantly metaphysical movie in Ultimas Imagenes del Naufragio. In the story, Roberto (Lorenzo Quinteras) is a man whose inner life has gone dead. He has no interest in his job (selling life insurance) or his family. About the only thing that interests him is his writing, but he currently has writer's block. When he sees a lovely young woman on the verge of throwing herself in front of a train, he can't help himself: he has to stop her. It turns out that the woman, Estela (Noemi Frenkel), is only slightly addled: she is a prostitute who uses this rather dramatic technique to pick up men. Interested in her as a character for his novel, he accompanies her home.\", \"popularity\": 0.08, \"vote_average\": 7.5, \"query_title\": \"Don Juan DeMarco\"}, {\"id\": 18355.0, \"title\": \"The Assignment\", \"overview\": \"Jack Shaw (DONALD SUTHERLAND) has experienced the terror first-hand. He's a top CIA agent who's tracked international killer-for-hire Carlos \\\"The Jackal\\\" Sanchez for over twenty years and barely survived Carlos' devastating bombing of a Parisian cafe. Now, he finally gets a break when he discovers Carlos' dead ringer: American naval officer and dedicated family man Annibal Ramirez (AIDAN QUINN).\", \"popularity\": 4.23, \"vote_average\": 6.6, \"query_title\": \"Don Juan DeMarco\"}, {\"id\": 55130.0, \"title\": \"The Professional\", \"overview\": \"Till recently a University professor, a bohemian writer, a member of Belgrade's intellectual circles and a passionate opponent of the Milosevic's regime meets the man, unknown to him, but who knows every tiny detail of his life. Man tells him a story and plot unfolds unimaginably.\", \"popularity\": 0.65, \"vote_average\": 7.3, \"query_title\": \"Don Juan DeMarco\"}, {\"id\": 126415.0, \"title\": \"Pride and Vengeance\", \"overview\": \"A Spanish army officer, Don Jose (Nero), stationed in Seville, meets and begins a relationship with a mysterious gypsy, Carmen (Aumont). After he discovers she has cheated on him with his Lieutenant, he kills the officer and flees the city with Carmen. He recovers from his wounds and is forced to begin the life of a bandit.\", \"popularity\": 0.96, \"vote_average\": 6.3, \"query_title\": \"Don Juan DeMarco\"}, {\"id\": 42690.0, \"title\": \"Diabolically Yours\", \"overview\": \"Alain Delon stars as Pierre, an amnesiac recovering from a car accident. He can't remember any details about the accident or about his past life as a wealthy businessman based in the orient. He is currently being nursed back to health on his palatial estate in the french countryside by his beautiful wife, Christiane (Senta Berger), the family doctor (Sergio Fantoni), and a manservant named Kim (Peter Mosbacher).Paranoia rapidly sets in as he begins to suspect Christiane is not really his wife and that he is the victim of a sinister plot.\", \"popularity\": 0.46, \"vote_average\": 7.1, \"query_title\": \"Don Juan DeMarco\"}, {\"id\": 680.0, \"title\": \"Pulp Fiction\", \"overview\": \"A burger-loving hit man, his philosophical partner, a drug-addled gangster's moll and a washed-up boxer converge in this sprawling, comedic crime caper. Their adventures unfurl in three stories that ingeniously trip back and forth in time.\", \"popularity\": 140.95, \"vote_average\": 8.3, \"query_title\": \"Pulp Fiction\"}, {\"id\": 29920.0, \"title\": \"Easy Money\", \"overview\": \"A three-tiered story centered around drugs and organized crime, and focused on a young man who becomes a runner for a coke dealer.\", \"popularity\": 10.52, \"vote_average\": 6.5, \"query_title\": \"Pulp Fiction\"}, {\"id\": 43598.0, \"title\": \"Ladies They Talk About\", \"overview\": \"A moll, imprisoned after participating in a bank robbery, helps with a breakout plot.\", \"popularity\": 1.53, \"vote_average\": 5.8, \"query_title\": \"Pulp Fiction\"}, {\"id\": 50114.0, \"title\": \"Tyson\", \"overview\": \"The story of Mike Tyson. From his early days as a 12 year old amateur with a powerful punch, to the undisputed title of \\\"Heavyweight Champion of the World\\\", and ultimately to his conviction for rape. The story of his turbulent life moves quickly, never focusing for long on anything in particular.\", \"popularity\": 3.88, \"vote_average\": 5.0, \"query_title\": \"Pulp Fiction\"}, {\"id\": 42659.0, \"title\": \"Blonde Crazy\", \"overview\": \"Adventures of a cocky con man and his glamorous accomplice.\", \"popularity\": 0.33, \"vote_average\": 5.9, \"query_title\": \"Pulp Fiction\"}, {\"id\": 27936.0, \"title\": \"Micmacs\", \"overview\": \"A man and his friends come up with an intricate and original plan to destroy two big weapons manufacturers.  Avid movie-watcher and video store clerk Bazil has had his life all but ruined by weapons of war. His father was killed by a landmine in Morocco and one fateful night a stray bullet from a nearby shootout embeds itself in his skull, leaving him on the verge of instantaneous death. Losing his job and his home, Bazil wanders the streets until he meets Slammer, a pardoned convict who introduces him to a band of eccentric junkyard dealers including Calculator, a math expert and statistician, Buster, a record-holder in human cannonball feats, Tiny Pete, an artistic craftsman of automatons, and Elastic Girl, a sassy contortionist. When chance reveals to Bazil the two weapons manufacturers responsible for building the instruments of his destruction, he constructs a complex scheme for revenge that his newfound family is all too happy to help set in motion.\", \"popularity\": 5.28, \"vote_average\": 6.8, \"query_title\": \"Pulp Fiction\"}, {\"id\": 97481.0, \"title\": \"The Confession\", \"overview\": \"A unique story of redemption and an exploration of good and evil featuring a hit man and a priest.\", \"popularity\": 1.2, \"vote_average\": 6.7, \"query_title\": \"Pulp Fiction\"}, {\"id\": 33152.0, \"title\": \"Who Is Cletis Tout?\", \"overview\": \"A comedy about a hitman who sees everything in terms of the movies and how mistaken identity is getting in the way of recovering a stash of diamonds that was stolen and subsequently hidden more than 20 years earlier.\", \"popularity\": 6.8, \"vote_average\": 5.5, \"query_title\": \"Pulp Fiction\"}, {\"id\": 421928.0, \"title\": \"Luck-Key\", \"overview\": \"A reverse comedy that tells the story of a perfectionist assassin who falls and hits his head in a sauna, giving him amnesia. When a down-and-out actor switches locker keys with him, they switch lives until the hit-man, who soon becomes an action hero on TV, starts to remember things.\", \"popularity\": 2.17, \"vote_average\": 7.3, \"query_title\": \"Pulp Fiction\"}, {\"id\": 373546.0, \"title\": \"Chuck\", \"overview\": \"A drama inspired by the life of heavyweight boxer Chuck Wepner.\", \"popularity\": 7.13, \"vote_average\": 6.1, \"query_title\": \"Pulp Fiction\"}, {\"id\": 37628.0, \"title\": \"The Criminal Life of Archibaldo de la Cruz\", \"overview\": \"A bizarre black comedy about a man whose overwhelming ambition in life is to be a renowned serial killer of women, and will stop at nothing to achieve it - but not everything goes according to plan...\", \"popularity\": 1.05, \"vote_average\": 7.4, \"query_title\": \"Pulp Fiction\"}, {\"id\": 755.0, \"title\": \"From Dusk Till Dawn\", \"overview\": \"Seth Gecko and his younger brother Richard are on the run after a bloody bank robbery in Texas. They escape across the border into Mexico and will be home-free the next morning, when they pay off the local kingpin. They just have to survive 'from dusk till dawn' at the rendezvous point, which turns out to be a Hell of a strip joint.\", \"popularity\": 15.34, \"vote_average\": 6.9, \"query_title\": \"From Dusk Till Dawn\"}, {\"id\": 150025.0, \"title\": \"Django's Cut Price Corpses\", \"overview\": \"The Cortez brothers rob a bank and flee beyond the Mexican border. On their trail are various people, each for a different reason: Sheriff Fulton is sent by the robbed bank to recuperate the money; Django, a head-hunter, is after them for the reward money; Pickwick is after a saddle stolen from him by the Cortez brothers; Pedro and Dolores, saloon owners, also would like to have the loot.\", \"popularity\": 0.37, \"vote_average\": 5.0, \"query_title\": \"From Dusk Till Dawn\"}, {\"id\": 126227.0, \"title\": \"Desolation Canyon\", \"overview\": \"Following a bank robbery, the responsible gang stops by the home of one of their members and kidnaps his son. The sheriff enlists the aid of a retired gunfighter, who is the boy's grandfather. On the gang's trail, they find there are two bounty hunters also after the gang for crimes in Mexico.\", \"popularity\": 0.57, \"vote_average\": 6.0, \"query_title\": \"From Dusk Till Dawn\"}, {\"id\": 37616.0, \"title\": \"Palookaville\", \"overview\": \"Jerry and his two pals, Russ and Syd, are just looking for some easy money to help them break out of their nowhere lives in their nowhere town. Despite a bungled jewelry store heist which exposes their incompetence as criminals, a fateful event (and an old black-and-white film) convinces them that they can pull off an armored-truck robbery. While they are busy plotting their caper, their dysfunctional families spin out of control, all around them.\", \"popularity\": 1.67, \"vote_average\": 5.4, \"query_title\": \"From Dusk Till Dawn\"}, {\"id\": 90726.0, \"title\": \"Hate for Hate\", \"overview\": \"After being captured during a bank robbery, a cowboy is sent to a prison located in a swamp, where he contracts malaria. He soon escapes and, with the help of a Mexican, sets out to track down his partner, who escaped from the bank robbery with all the money.\", \"popularity\": 0.0, \"vote_average\": 0.0, \"query_title\": \"From Dusk Till Dawn\"}, {\"id\": 163549.0, \"title\": \"Sunday in the Country\", \"overview\": \"Three vicious thugs are on the run in rural America after robbing a local bank. They seek refuge at the home of a reclusive farmer, but he is prepared for their arrival and holds them at gunpoint. Unable to let them simply wait for the law, he decides to take them into into his cellar and torture them a little before the police arrive.\", \"popularity\": 0.0, \"vote_average\": 7.8, \"query_title\": \"From Dusk Till Dawn\"}, {\"id\": 15477.0, \"title\": \"Love and a .45\", \"overview\": \"Small-time criminal Watty Watts attempts to rob a convenience store with his drug-addict buddy, Billy Mack Black. The robbery, however, leads to murder, and soon Watty leaves Billy behind and goes on the run with his beloved girlfriend, Starlene. Heading toward Mexico, the fugitive couple gets plenty of media coverage, until there are even more people on their trail. Can Watty and Starlene make it south of the border without getting caught?\", \"popularity\": 3.41, \"vote_average\": 5.5, \"query_title\": \"From Dusk Till Dawn\"}, {\"id\": 146079.0, \"title\": \"Django and Sartana Are Coming... It's the End\", \"overview\": \"A gang of vicious outlaws lead by the crazed Black Burt Keller abduct Jessica Colby and decide to flee to Mexico. Shrewd bounty hunter Django and saintly roving gunslinger Sartana join forces to rescue the poor lass from the gang's vile clutches.\", \"popularity\": 0.21, \"vote_average\": 5.0, \"query_title\": \"From Dusk Till Dawn\"}, {\"id\": 41857.0, \"title\": \"Bandolero!\", \"overview\": \"Posing as a hangman, Mace Bishop arrives in town with the intention of freeing a gang of outlaws, including his brother, from the gallows. Mace urges his younger brother to give up crime. The sheriff chases the brothers to Mexico. They join forces, however, against a group of Mexican bandits.\", \"popularity\": 1.47, \"vote_average\": 6.2, \"query_title\": \"From Dusk Till Dawn\"}, {\"id\": 150677.0, \"title\": \"His Name was King\", \"overview\": \"The Benson brothers, who are smuggling guns across the Mexican border, kill King's brother and rape his wife. King must stop their illegal activities, find who is behind them and gain revenge for his family.\", \"popularity\": 0.43, \"vote_average\": 6.3, \"query_title\": \"From Dusk Till Dawn\"}, {\"id\": 222600.0, \"title\": \"Matin\\u00e9e\", \"overview\": \"Jorge and Aar\\u00f3n, two young boys growing up in a quiet town often miss classes to go together to the cinema matinee. One day they are kidnapped by robbers while traveling in a truck. After the disintegration of the band, they begin to participate in the robberies until the adventure turns into something more sinister and dangerous.\", \"popularity\": 0.65, \"vote_average\": 6.3, \"query_title\": \"From Dusk Till Dawn\"}, {\"id\": 807.0, \"title\": \"Se7en\", \"overview\": \"Two homicide detectives are on a desperate hunt for a serial killer whose crimes are based on the \\\"seven deadly sins\\\" in this dark and haunting film that takes viewers from the tortured remains of one victim to the next. The seasoned Det. Sommerset researches each sin in an effort to get inside the killer's mind, while his novice partner, Mills, scoffs at his efforts to unravel the case.\", \"popularity\": 18.46, \"vote_average\": 8.1, \"query_title\": \"Se7en\"}, {\"id\": 93782.0, \"title\": \"Fate\", \"overview\": \"Serial killers have plagued the American landscape for decades, committing gruesome atrocities, and providing some tough cases for criminal investigators to crack. This thriller follows the travails of two detectives who are on the trail of a bizarre murderer intent on slaughtering his victims, then using them as real-life puppets in a tale that he is trying to tell. The plot holds a key to the whereabouts of the monstrous deviant, but the detectives have to unravel it quickly before more unsuspecting citizens become theater fodder for the unhinged madman.\", \"popularity\": 0.01, \"vote_average\": 0.0, \"query_title\": \"Se7en\"}, {\"id\": 70009.0, \"title\": \"The River Murders\", \"overview\": \"The sins of the past are not forgotten in this chilling suspense thriller. When the first body was discovered, it seemed a coincidence. But now homicide detective Jack Verdon has cause to worry: the victims of a series of brutal sex murders are all his former girlfriends. Suspected by the FBI agent who\\u2019s taken over the case and suspended by his captain, Jack must work outside the law if he\\u2019s to find the killer, save his future and protect what\\u2019s left of his past.\", \"popularity\": 9.1, \"vote_average\": 5.1, \"query_title\": \"Se7en\"}, {\"id\": 42707.0, \"title\": \"Road to Nowhere\", \"overview\": \"A passionate filmmaker creating a film based upon a true crime casts an unknown mysterious young woman bearing a disturbing resemblance to the femme fatale in the story. Unsuspectingly, he finds himself drawn into a complex web of haunting intrigue: he becomes obsessed with the woman, the crime, her possibly notorious past, and the disturbing complexity between art and truth. From the Smoky Mountains of North Carolina to Verona, Rome, and London, new truths are revealed and clues to other crimes and passions, darker and even more complex, are uncovered.\", \"popularity\": 1.74, \"vote_average\": 5.0, \"query_title\": \"Se7en\"}, {\"id\": 171540.0, \"title\": \"Big Bad Wolves\", \"overview\": \"A series of brutal murders puts the lives of three men on a collision course: The father of the latest victim now out for revenge, a vigilante police detective operating outside the boundaries of law, and the main suspect in the killings - a religious studies teacher arrested and released due to a police blunder.\", \"popularity\": 4.55, \"vote_average\": 6.5, \"query_title\": \"Se7en\"}, {\"id\": 72898.0, \"title\": \"The Seven Deadly Sins\", \"overview\": \"Seven directors each dramatize one of the seven deadly sins in a short film. In \\\"Anger,\\\" a domestic argument over a fly in the Sunday soup escalates into nuclear war. In \\\"Sloth,\\\" a movie ...\", \"popularity\": 0.39, \"vote_average\": 6.0, \"query_title\": \"Se7en\"}, {\"id\": 105232.0, \"title\": \"Clap, You're Dead\", \"overview\": \"A crew that is filming a horror movie is stalked by a mysterious killer who slays three of the beautiful young actresses. There is a main suspect (a crew member that got fired shortly before the first murder occurs, after he had an argument with the first victim), a police inspector that doesn't search for possible other suspects and a dose of sleazy sex\", \"popularity\": 0.0, \"vote_average\": 0.0, \"query_title\": \"Se7en\"}, {\"id\": 56364.0, \"title\": \"The Pyx\", \"overview\": \"A detective investigating the death of a heroin-addicted prostitute uncovers evidence pointing to the existence of a murderous devil cult.\", \"popularity\": 0.03, \"vote_average\": 5.6, \"query_title\": \"Se7en\"}, {\"id\": 41445.0, \"title\": \"Psychosis\", \"overview\": \"A serial killer unleashes his blood lust at a remote environmental-camp. Years later a horror novelist relocates to rural England and is plagued to the point of madness by horrific hauntings of a massacre.\", \"popularity\": 0.96, \"vote_average\": 3.7, \"query_title\": \"Se7en\"}, {\"id\": 62843.0, \"title\": \"Witchhammer\", \"overview\": \"A ruthless inquisitor spins the superstitions of local peasants into religious heresy, finding cause to accuse dozens of innocent men and women of witchcraft. The inquisitor targets nobles and merchants, whose property and goods are then confiscated. After suffering an array of medieval tortures, most of the accused confess\\u2013only to be burned alive at the stake as helpless villagers watch. With its bold and striking cinematography, the film captures scenes of both daring nudity and brutal torture\", \"popularity\": 0.72, \"vote_average\": 7.3, \"query_title\": \"Se7en\"}, {\"id\": 60670.0, \"title\": \"The Crimson Rivers\", \"overview\": \"Two French policemen, one investigating a grisly murder at a remote mountain college, the other working on the desecration of a young girl's grave by skinheads, are brought together by the clues from their respective cases. Soon after they start working together, more murders are committed, and the pair begin to discover just what dark secrets are behind the killings.\", \"popularity\": 6.65, \"vote_average\": 6.8, \"query_title\": \"Se7en\"}]}}, {\"mode\": \"vega-lite\"});\n</script>",
      "text/plain": "alt.Chart(...)"
     },
     "execution_count": 17,
     "metadata": {},
     "output_type": "execute_result"
    }
   ],
   "source": [
    "dropdown_symbol = alt.binding_select(options=list(similar_movies[\"query_title\"].unique()), name=\" \")\n",
    "selection_symbol = alt.selection_point(fields=[\"query_title\"], bind=dropdown_symbol, value=filtered_movies['title'].values[0])\n",
    "\n",
    "# display the similar movies on a chart\n",
    "alt.Chart(similar_movies).mark_point().encode(\n",
    "    alt.X('popularity', title='Popularity'),\n",
    "    alt.Y('vote_average', title='Vote Average'),\n",
    "    alt.Color('title', title='Title'),\n",
    "    tooltip=['title', 'overview']\n",
    ").add_params(\n",
    "    selection_symbol\n",
    ").transform_filter(\n",
    "    selection_symbol\n",
    ").properties(\n",
    "    title='Similar Movies to Selected Movie',\n",
    "    width=600,\n",
    "    height=400,\n",
    ").interactive()"
   ],
   "metadata": {
    "collapsed": false
   }
  },
  {
   "cell_type": "markdown",
   "id": "e643ae62",
   "metadata": {},
   "source": [
    "### Visualition #4: Genres Distribution by Decade"
   ]
  },
  {
   "cell_type": "code",
   "execution_count": 18,
   "id": "9ea9e2a8",
   "metadata": {},
   "outputs": [
    {
     "data": {
      "text/html": "\n<style>\n  #altair-viz-2e5d88f83ad840b4bb85c778db0d2b9e.vega-embed {\n    width: 100%;\n    display: flex;\n  }\n\n  #altair-viz-2e5d88f83ad840b4bb85c778db0d2b9e.vega-embed details,\n  #altair-viz-2e5d88f83ad840b4bb85c778db0d2b9e.vega-embed details summary {\n    position: relative;\n  }\n</style>\n<div id=\"altair-viz-2e5d88f83ad840b4bb85c778db0d2b9e\"></div>\n<script type=\"text/javascript\">\n  var VEGA_DEBUG = (typeof VEGA_DEBUG == \"undefined\") ? {} : VEGA_DEBUG;\n  (function(spec, embedOpt){\n    let outputDiv = document.currentScript.previousElementSibling;\n    if (outputDiv.id !== \"altair-viz-2e5d88f83ad840b4bb85c778db0d2b9e\") {\n      outputDiv = document.getElementById(\"altair-viz-2e5d88f83ad840b4bb85c778db0d2b9e\");\n    }\n    const paths = {\n      \"vega\": \"https://cdn.jsdelivr.net/npm/vega@5?noext\",\n      \"vega-lib\": \"https://cdn.jsdelivr.net/npm/vega-lib?noext\",\n      \"vega-lite\": \"https://cdn.jsdelivr.net/npm/vega-lite@5.17.0?noext\",\n      \"vega-embed\": \"https://cdn.jsdelivr.net/npm/vega-embed@6?noext\",\n    };\n\n    function maybeLoadScript(lib, version) {\n      var key = `${lib.replace(\"-\", \"\")}_version`;\n      return (VEGA_DEBUG[key] == version) ?\n        Promise.resolve(paths[lib]) :\n        new Promise(function(resolve, reject) {\n          var s = document.createElement('script');\n          document.getElementsByTagName(\"head\")[0].appendChild(s);\n          s.async = true;\n          s.onload = () => {\n            VEGA_DEBUG[key] = version;\n            return resolve(paths[lib]);\n          };\n          s.onerror = () => reject(`Error loading script: ${paths[lib]}`);\n          s.src = paths[lib];\n        });\n    }\n\n    function showError(err) {\n      outputDiv.innerHTML = `<div class=\"error\" style=\"color:red;\">${err}</div>`;\n      throw err;\n    }\n\n    function displayChart(vegaEmbed) {\n      vegaEmbed(outputDiv, spec, embedOpt)\n        .catch(err => showError(`Javascript Error: ${err.message}<br>This usually means there's a typo in your chart specification. See the javascript console for the full traceback.`));\n    }\n\n    if(typeof define === \"function\" && define.amd) {\n      requirejs.config({paths});\n      require([\"vega-embed\"], displayChart, err => showError(`Error loading script: ${err.message}`));\n    } else {\n      maybeLoadScript(\"vega\", \"5\")\n        .then(() => maybeLoadScript(\"vega-lite\", \"5.17.0\"))\n        .then(() => maybeLoadScript(\"vega-embed\", \"6\"))\n        .catch(showError)\n        .then(() => displayChart(vegaEmbed));\n    }\n  })({\"config\": {\"view\": {\"continuousWidth\": 300, \"continuousHeight\": 300}}, \"data\": {\"name\": \"data-9d3889547a3350a8c84b838f082c8804\"}, \"mark\": {\"type\": \"bar\"}, \"encoding\": {\"color\": {\"field\": \"genres\", \"title\": \"Genre\", \"type\": \"nominal\"}, \"tooltip\": [{\"field\": \"genres\", \"title\": \"Genre\", \"type\": \"nominal\"}, {\"field\": \"count\", \"format\": \".2f\", \"title\": \"Count\", \"type\": \"quantitative\"}], \"x\": {\"field\": \"genres\", \"sort\": \"-y\", \"title\": \"Genre\", \"type\": \"nominal\"}, \"y\": {\"field\": \"count\", \"title\": \"Count\", \"type\": \"quantitative\"}}, \"height\": 400, \"params\": [{\"name\": \"param_5\", \"select\": {\"type\": \"point\", \"fields\": [\"year\"]}, \"bind\": {\"input\": \"range\", \"max\": 2010, \"min\": 1900, \"name\": \"Year:\", \"step\": 10}, \"value\": {\"year\": 1900}}, {\"name\": \"param_6\", \"select\": {\"type\": \"interval\", \"encodings\": [\"x\", \"y\"]}, \"bind\": \"scales\"}], \"title\": \"Genres Distribution\", \"transform\": [{\"filter\": {\"param\": \"param_5\"}}], \"width\": 600, \"$schema\": \"https://vega.github.io/schema/vega-lite/v5.17.0.json\", \"datasets\": {\"data-9d3889547a3350a8c84b838f082c8804\": [{\"genres\": \"Drama\", \"year\": 2000, \"count\": 5282, \"percentage\": 5.802100268025836}, {\"genres\": \"Drama\", \"year\": 2010, \"count\": 5183, \"percentage\": 5.693352080495629}, {\"genres\": \"Comedy\", \"year\": 2010, \"count\": 3537, \"percentage\": 3.885276154488334}, {\"genres\": \"Comedy\", \"year\": 2000, \"count\": 3380, \"percentage\": 3.712816907596995}, {\"genres\": \"Drama\", \"year\": 1990, \"count\": 2613, \"percentage\": 2.870293070873061}, {\"genres\": \"Thriller\", \"year\": 2010, \"count\": 2363, \"percentage\": 2.5956764356957684}, {\"genres\": \"Thriller\", \"year\": 2000, \"count\": 2169, \"percentage\": 2.3825739267981896}, {\"genres\": \"Documentary\", \"year\": 2010, \"count\": 1883, \"percentage\": 2.0684124961553674}, {\"genres\": \"Comedy\", \"year\": 1990, \"count\": 1853, \"percentage\": 2.035458499934092}, {\"genres\": \"Romance\", \"year\": 2000, \"count\": 1767, \"percentage\": 1.9409903774331032}, {\"genres\": \"Action\", \"year\": 2000, \"count\": 1720, \"percentage\": 1.8893624500197725}, {\"genres\": \"Action\", \"year\": 2010, \"count\": 1616, \"percentage\": 1.7751219297860186}, {\"genres\": \"Drama\", \"year\": 1980, \"count\": 1553, \"percentage\": 1.705918537721341}, {\"genres\": \"Drama\", \"year\": 1970, \"count\": 1508, \"percentage\": 1.6564875433894284}, {\"genres\": \"Romance\", \"year\": 2010, \"count\": 1448, \"percentage\": 1.590579550946878}, {\"genres\": \"Horror\", \"year\": 2010, \"count\": 1370, \"percentage\": 1.504899160771563}, {\"genres\": \"Comedy\", \"year\": 1980, \"count\": 1297, \"percentage\": 1.4247111032997934}, {\"genres\": \"Drama\", \"year\": 1960, \"count\": 1212, \"percentage\": 1.331341447339514}, {\"genres\": \"Documentary\", \"year\": 2000, \"count\": 1197, \"percentage\": 1.3148644492288764}, {\"genres\": \"Horror\", \"year\": 2000, \"count\": 1161, \"percentage\": 1.2753196537633464}, {\"genres\": \"Drama\", \"year\": 1950, \"count\": 1065, \"percentage\": 1.169866865855266}, {\"genres\": \"Thriller\", \"year\": 1990, \"count\": 1049, \"percentage\": 1.1522914012039194}, {\"genres\": \"Crime\", \"year\": 2000, \"count\": 1004, \"percentage\": 1.1028604068720067}, {\"genres\": \"Action\", \"year\": 1990, \"count\": 995, \"percentage\": 1.0929742080056242}, {\"genres\": \"Romance\", \"year\": 1990, \"count\": 995, \"percentage\": 1.0929742080056242}, {\"genres\": \"Crime\", \"year\": 2010, \"count\": 929, \"percentage\": 1.0204754163188188}, {\"genres\": \"Comedy\", \"year\": 1970, \"count\": 839, \"percentage\": 0.9216134276549937}, {\"genres\": \"Adventure\", \"year\": 2000, \"count\": 828, \"percentage\": 0.9095302957071928}, {\"genres\": \"Science Fiction\", \"year\": 2010, \"count\": 798, \"percentage\": 0.8765762994859175}, {\"genres\": \"Family\", \"year\": 2000, \"count\": 798, \"percentage\": 0.8765762994859175}, {\"genres\": \"Foreign\", \"year\": 2000, \"count\": 786, \"percentage\": 0.8633947009974077}, {\"genres\": \"Adventure\", \"year\": 2010, \"count\": 784, \"percentage\": 0.8611977679159893}, {\"genres\": \"Drama\", \"year\": 1940, \"count\": 781, \"percentage\": 0.8579023682938617}, {\"genres\": \"Science Fiction\", \"year\": 2000, \"count\": 740, \"percentage\": 0.8128652401247858}, {\"genres\": \"Comedy\", \"year\": 1960, \"count\": 723, \"percentage\": 0.7941913089327299}, {\"genres\": \"Family\", \"year\": 2010, \"count\": 723, \"percentage\": 0.7941913089327299}, {\"genres\": \"Action\", \"year\": 1980, \"count\": 713, \"percentage\": 0.7832066435256382}, {\"genres\": \"Drama\", \"year\": 1930, \"count\": 707, \"percentage\": 0.7766158442813832}, {\"genres\": \"Action\", \"year\": 1970, \"count\": 651, \"percentage\": 0.7151017180016697}, {\"genres\": \"Horror\", \"year\": 1980, \"count\": 643, \"percentage\": 0.7063139856759962}, {\"genres\": \"Mystery\", \"year\": 2010, \"count\": 612, \"percentage\": 0.6722615229140121}, {\"genres\": \"Mystery\", \"year\": 2000, \"count\": 606, \"percentage\": 0.665670723669757}, {\"genres\": \"Animation\", \"year\": 2010, \"count\": 604, \"percentage\": 0.6634737905883387}, {\"genres\": \"Thriller\", \"year\": 1980, \"count\": 600, \"percentage\": 0.659079924425502}, {\"genres\": \"Thriller\", \"year\": 1970, \"count\": 596, \"percentage\": 0.6546860582626653}, {\"genres\": \"Crime\", \"year\": 1990, \"count\": 585, \"percentage\": 0.6426029263148644}, {\"genres\": \"Animation\", \"year\": 2000, \"count\": 579, \"percentage\": 0.6360121270706095}, {\"genres\": \"Fantasy\", \"year\": 2000, \"count\": 569, \"percentage\": 0.6250274616635177}, {\"genres\": \"Fantasy\", \"year\": 2010, \"count\": 561, \"percentage\": 0.6162397293378444}, {\"genres\": \"Romance\", \"year\": 1980, \"count\": 542, \"percentage\": 0.5953688650643701}, {\"genres\": \"Horror\", \"year\": 1970, \"count\": 499, \"percentage\": 0.5481348038138758}, {\"genres\": \"Family\", \"year\": 1990, \"count\": 485, \"percentage\": 0.5327562722439475}, {\"genres\": \"Adventure\", \"year\": 1990, \"count\": 485, \"percentage\": 0.5327562722439475}, {\"genres\": \"Science Fiction\", \"year\": 1990, \"count\": 482, \"percentage\": 0.52946087262182}, {\"genres\": \"Horror\", \"year\": 1990, \"count\": 465, \"percentage\": 0.5107869414297641}, {\"genres\": \"Comedy\", \"year\": 1950, \"count\": 463, \"percentage\": 0.5085900083483457}, {\"genres\": \"Crime\", \"year\": 1970, \"count\": 451, \"percentage\": 0.4954084098598357}, {\"genres\": \"Comedy\", \"year\": 1930, \"count\": 446, \"percentage\": 0.4899160771562898}, {\"genres\": \"Comedy\", \"year\": 1940, \"count\": 409, \"percentage\": 0.4492728151500505}, {\"genres\": \"Romance\", \"year\": 1930, \"count\": 406, \"percentage\": 0.445977415527923}, {\"genres\": \"Science Fiction\", \"year\": 1980, \"count\": 404, \"percentage\": 0.44378048244650464}, {\"genres\": \"Romance\", \"year\": 1950, \"count\": 399, \"percentage\": 0.43828814974295877}, {\"genres\": \"Adventure\", \"year\": 1980, \"count\": 390, \"percentage\": 0.4284019508765763}, {\"genres\": \"Crime\", \"year\": 1980, \"count\": 389, \"percentage\": 0.4273034843358671}, {\"genres\": \"Romance\", \"year\": 1960, \"count\": 379, \"percentage\": 0.4163188189287755}, {\"genres\": \"History\", \"year\": 2010, \"count\": 378, \"percentage\": 0.4152203523880663}, {\"genres\": \"Romance\", \"year\": 1940, \"count\": 378, \"percentage\": 0.4152203523880663}, {\"genres\": \"Action\", \"year\": 1960, \"count\": 372, \"percentage\": 0.4086295531438112}, {\"genres\": \"Fantasy\", \"year\": 1990, \"count\": 362, \"percentage\": 0.3976448877367195}, {\"genres\": \"Music\", \"year\": 2000, \"count\": 357, \"percentage\": 0.3921525550331737}, {\"genres\": \"Music\", \"year\": 2010, \"count\": 351, \"percentage\": 0.38556175578891866}, {\"genres\": \"History\", \"year\": 2000, \"count\": 316, \"percentage\": 0.34711542686409774}, {\"genres\": \"Fantasy\", \"year\": 1980, \"count\": 307, \"percentage\": 0.3372292279977152}, {\"genres\": \"TV Movie\", \"year\": 2010, \"count\": 303, \"percentage\": 0.3328353618348785}, {\"genres\": \"Romance\", \"year\": 1970, \"count\": 302, \"percentage\": 0.33173689529416933}, {\"genres\": \"Documentary\", \"year\": 1990, \"count\": 292, \"percentage\": 0.32075222988707763}, {\"genres\": \"Adventure\", \"year\": 1960, \"count\": 289, \"percentage\": 0.31745683026495014}, {\"genres\": \"Mystery\", \"year\": 1990, \"count\": 284, \"percentage\": 0.31196449756140426}, {\"genres\": \"Adventure\", \"year\": 1970, \"count\": 270, \"percentage\": 0.2965859659914759}, {\"genres\": \"Crime\", \"year\": 1950, \"count\": 266, \"percentage\": 0.2921920998286392}, {\"genres\": \"Thriller\", \"year\": 1960, \"count\": 266, \"percentage\": 0.2921920998286392}, {\"genres\": \"Drama\", \"year\": 1920, \"count\": 257, \"percentage\": 0.28230590096225666}, {\"genres\": \"Crime\", \"year\": 1960, \"count\": 256, \"percentage\": 0.2812074344215475}, {\"genres\": \"Animation\", \"year\": 1990, \"count\": 256, \"percentage\": 0.2812074344215475}, {\"genres\": \"Family\", \"year\": 1980, \"count\": 254, \"percentage\": 0.2790105013401292}, {\"genres\": \"Action\", \"year\": 1950, \"count\": 248, \"percentage\": 0.27241970209587413}, {\"genres\": \"War\", \"year\": 2010, \"count\": 235, \"percentage\": 0.258139637066655}, {\"genres\": \"Mystery\", \"year\": 1970, \"count\": 233, \"percentage\": 0.2559427039852366}, {\"genres\": \"Thriller\", \"year\": 1940, \"count\": 233, \"percentage\": 0.2559427039852366}, {\"genres\": \"Foreign\", \"year\": 1990, \"count\": 230, \"percentage\": 0.2526473043631091}, {\"genres\": \"Thriller\", \"year\": 1950, \"count\": 229, \"percentage\": 0.2515488378223999}, {\"genres\": \"Horror\", \"year\": 1960, \"count\": 225, \"percentage\": 0.24715497165956327}, {\"genres\": \"Western\", \"year\": 1950, \"count\": 225, \"percentage\": 0.24715497165956327}, {\"genres\": \"Foreign\", \"year\": 2010, \"count\": 224, \"percentage\": 0.24605650511885407}, {\"genres\": \"Crime\", \"year\": 1940, \"count\": 220, \"percentage\": 0.2416626389560174}, {\"genres\": \"War\", \"year\": 2000, \"count\": 215, \"percentage\": 0.23617030625247157}, {\"genres\": \"Science Fiction\", \"year\": 1970, \"count\": 210, \"percentage\": 0.2306779735489257}, {\"genres\": \"Mystery\", \"year\": 1980, \"count\": 208, \"percentage\": 0.2284810404675074}, {\"genres\": \"Adventure\", \"year\": 1950, \"count\": 203, \"percentage\": 0.2229887077639615}, {\"genres\": \"Western\", \"year\": 1960, \"count\": 199, \"percentage\": 0.21859484160112486}, {\"genres\": \"TV Movie\", \"year\": 2000, \"count\": 197, \"percentage\": 0.2163979085197065}, {\"genres\": \"Animation\", \"year\": 1980, \"count\": 189, \"percentage\": 0.20761017619403316}, {\"genres\": \"Science Fiction\", \"year\": 1960, \"count\": 187, \"percentage\": 0.2054132431126148}, {\"genres\": \"Family\", \"year\": 1970, \"count\": 185, \"percentage\": 0.20321631003119645}, {\"genres\": \"Western\", \"year\": 1970, \"count\": 179, \"percentage\": 0.19662551078694143}, {\"genres\": \"Foreign\", \"year\": 1970, \"count\": 170, \"percentage\": 0.1867393119205589}, {\"genres\": \"Mystery\", \"year\": 1940, \"count\": 170, \"percentage\": 0.1867393119205589}, {\"genres\": \"War\", \"year\": 1960, \"count\": 169, \"percentage\": 0.1856408453798497}, {\"genres\": \"Crime\", \"year\": 1930, \"count\": 166, \"percentage\": 0.1823454457577222}, {\"genres\": \"Documentary\", \"year\": 1970, \"count\": 162, \"percentage\": 0.17795157959488553}, {\"genres\": \"Music\", \"year\": 1980, \"count\": 158, \"percentage\": 0.17355771343204887}, {\"genres\": \"Science Fiction\", \"year\": 1950, \"count\": 154, \"percentage\": 0.1691638472692122}, {\"genres\": \"Documentary\", \"year\": 1980, \"count\": 154, \"percentage\": 0.1691638472692122}, {\"genres\": \"History\", \"year\": 1990, \"count\": 153, \"percentage\": 0.16806538072850302}, {\"genres\": \"Music\", \"year\": 1990, \"count\": 150, \"percentage\": 0.1647699811063755}, {\"genres\": \"War\", \"year\": 1950, \"count\": 150, \"percentage\": 0.1647699811063755}, {\"genres\": \"War\", \"year\": 1940, \"count\": 148, \"percentage\": 0.16257304802495715}, {\"genres\": \"Fantasy\", \"year\": 1970, \"count\": 147, \"percentage\": 0.16147458148424798}, {\"genres\": \"Horror\", \"year\": 1950, \"count\": 134, \"percentage\": 0.1471945164550288}, {\"genres\": \"Family\", \"year\": 1960, \"count\": 134, \"percentage\": 0.1471945164550288}, {\"genres\": \"Mystery\", \"year\": 1960, \"count\": 132, \"percentage\": 0.14499758337361043}, {\"genres\": \"Comedy\", \"year\": 1920, \"count\": 129, \"percentage\": 0.1417021837514829}, {\"genres\": \"TV Movie\", \"year\": 1990, \"count\": 128, \"percentage\": 0.14060371721077375}, {\"genres\": \"Action\", \"year\": 1940, \"count\": 124, \"percentage\": 0.13620985104793706}, {\"genres\": \"Mystery\", \"year\": 1930, \"count\": 122, \"percentage\": 0.13401291796651874}, {\"genres\": \"Music\", \"year\": 1970, \"count\": 121, \"percentage\": 0.13291445142580957}, {\"genres\": \"History\", \"year\": 1960, \"count\": 120, \"percentage\": 0.1318159848851004}, {\"genres\": \"Music\", \"year\": 1950, \"count\": 119, \"percentage\": 0.13071751834439121}, {\"genres\": \"Music\", \"year\": 1940, \"count\": 118, \"percentage\": 0.12961905180368208}, {\"genres\": \"War\", \"year\": 1970, \"count\": 117, \"percentage\": 0.1285205852629729}, {\"genres\": \"Fantasy\", \"year\": 1960, \"count\": 116, \"percentage\": 0.12742211872226372}, {\"genres\": \"History\", \"year\": 1970, \"count\": 116, \"percentage\": 0.12742211872226372}, {\"genres\": \"Foreign\", \"year\": 1980, \"count\": 115, \"percentage\": 0.12632365218155456}, {\"genres\": \"Action\", \"year\": 1930, \"count\": 112, \"percentage\": 0.12302825255942704}, {\"genres\": \"War\", \"year\": 1980, \"count\": 111, \"percentage\": 0.12192978601871787}, {\"genres\": \"Music\", \"year\": 1960, \"count\": 108, \"percentage\": 0.11863438639659037}, {\"genres\": \"Adventure\", \"year\": 1930, \"count\": 106, \"percentage\": 0.11643745331517202}, {\"genres\": \"Music\", \"year\": 1930, \"count\": 106, \"percentage\": 0.11643745331517202}, {\"genres\": \"War\", \"year\": 1990, \"count\": 104, \"percentage\": 0.1142405202337537}, {\"genres\": \"History\", \"year\": 1980, \"count\": 103, \"percentage\": 0.11314205369304452}, {\"genres\": \"Romance\", \"year\": 1920, \"count\": 101, \"percentage\": 0.11094512061162616}, {\"genres\": \"Western\", \"year\": 1940, \"count\": 95, \"percentage\": 0.10435432136737113}, {\"genres\": \"Foreign\", \"year\": 1960, \"count\": 94, \"percentage\": 0.10325585482666198}, {\"genres\": \"Thriller\", \"year\": 1930, \"count\": 94, \"percentage\": 0.10325585482666198}, {\"genres\": \"Animation\", \"year\": 1970, \"count\": 92, \"percentage\": 0.10105892174524364}, {\"genres\": \"Adventure\", \"year\": 1940, \"count\": 89, \"percentage\": 0.09776352212311613}, {\"genres\": \"Documentary\", \"year\": 1960, \"count\": 85, \"percentage\": 0.09336965596027945}, {\"genres\": \"Mystery\", \"year\": 1950, \"count\": 84, \"percentage\": 0.09227118941957028}, {\"genres\": \"Western\", \"year\": 2010, \"count\": 82, \"percentage\": 0.09007425633815194}, {\"genres\": \"Drama\", \"year\": 1910, \"count\": 81, \"percentage\": 0.08897578979744276}, {\"genres\": \"Family\", \"year\": 1950, \"count\": 78, \"percentage\": 0.08568039017531526}, {\"genres\": \"History\", \"year\": 1950, \"count\": 76, \"percentage\": 0.08348345709389692}, {\"genres\": \"Fantasy\", \"year\": 1950, \"count\": 72, \"percentage\": 0.07908959093106024}, {\"genres\": \"TV Movie\", \"year\": 1970, \"count\": 70, \"percentage\": 0.0768926578496419}, {\"genres\": \"Western\", \"year\": 1930, \"count\": 69, \"percentage\": 0.07579419130893272}, {\"genres\": \"Horror\", \"year\": 1940, \"count\": 68, \"percentage\": 0.07469572476822356}, {\"genres\": \"Western\", \"year\": 1990, \"count\": 67, \"percentage\": 0.0735972582275144}, {\"genres\": \"Fantasy\", \"year\": 1940, \"count\": 65, \"percentage\": 0.07140032514609605}, {\"genres\": \"Comedy\", \"year\": 1910, \"count\": 65, \"percentage\": 0.07140032514609605}, {\"genres\": \"Western\", \"year\": 2000, \"count\": 62, \"percentage\": 0.06810492552396853}, {\"genres\": \"History\", \"year\": 1930, \"count\": 59, \"percentage\": 0.06480952590184104}, {\"genres\": \"Family\", \"year\": 1940, \"count\": 58, \"percentage\": 0.06371105936113186}, {\"genres\": \"Horror\", \"year\": 1930, \"count\": 57, \"percentage\": 0.06261259282042268}, {\"genres\": \"Animation\", \"year\": 1960, \"count\": 57, \"percentage\": 0.06261259282042268}, {\"genres\": \"TV Movie\", \"year\": 1980, \"count\": 54, \"percentage\": 0.05931719319829518}, {\"genres\": \"War\", \"year\": 1930, \"count\": 53, \"percentage\": 0.05821872665758601}, {\"genres\": \"History\", \"year\": 1940, \"count\": 50, \"percentage\": 0.0549233270354585}, {\"genres\": \"Animation\", \"year\": 1930, \"count\": 49, \"percentage\": 0.053824860494749334}, {\"genres\": \"Animation\", \"year\": 1940, \"count\": 48, \"percentage\": 0.052726393954040156}, {\"genres\": \"Family\", \"year\": 1930, \"count\": 43, \"percentage\": 0.047234061250494314}, {\"genres\": \"Western\", \"year\": 1980, \"count\": 40, \"percentage\": 0.0439386616283668}, {\"genres\": \"Animation\", \"year\": 1950, \"count\": 36, \"percentage\": 0.03954479546553012}, {\"genres\": \"Adventure\", \"year\": 1920, \"count\": 35, \"percentage\": 0.03844632892482095}, {\"genres\": \"Fantasy\", \"year\": 1930, \"count\": 35, \"percentage\": 0.03844632892482095}, {\"genres\": \"Documentary\", \"year\": 1950, \"count\": 35, \"percentage\": 0.03844632892482095}, {\"genres\": \"Comedy\", \"year\": 1900, \"count\": 30, \"percentage\": 0.0329539962212751}, {\"genres\": \"Fantasy\", \"year\": 1900, \"count\": 30, \"percentage\": 0.0329539962212751}, {\"genres\": \"Documentary\", \"year\": 1890, \"count\": 28, \"percentage\": 0.03075706313985676}, {\"genres\": \"Documentary\", \"year\": 1940, \"count\": 28, \"percentage\": 0.03075706313985676}, {\"genres\": \"Horror\", \"year\": 1920, \"count\": 28, \"percentage\": 0.03075706313985676}, {\"genres\": \"Action\", \"year\": 1920, \"count\": 27, \"percentage\": 0.02965859659914759}, {\"genres\": \"Crime\", \"year\": 1920, \"count\": 25, \"percentage\": 0.02746166351772925}, {\"genres\": \"Fantasy\", \"year\": 1920, \"count\": 24, \"percentage\": 0.026363196977020078}, {\"genres\": \"Science Fiction\", \"year\": 1940, \"count\": 24, \"percentage\": 0.026363196977020078}, {\"genres\": \"Science Fiction\", \"year\": 1930, \"count\": 24, \"percentage\": 0.026363196977020078}, {\"genres\": \"Documentary\", \"year\": 1920, \"count\": 21, \"percentage\": 0.02306779735489257}, {\"genres\": \"Thriller\", \"year\": 1920, \"count\": 18, \"percentage\": 0.01977239773276506}, {\"genres\": \"Documentary\", \"year\": 1930, \"count\": 16, \"percentage\": 0.01757546465134672}, {\"genres\": \"Western\", \"year\": 1920, \"count\": 16, \"percentage\": 0.01757546465134672}, {\"genres\": \"History\", \"year\": 1920, \"count\": 16, \"percentage\": 0.01757546465134672}, {\"genres\": \"TV Movie\", \"year\": 1960, \"count\": 14, \"percentage\": 0.01537853156992838}, {\"genres\": \"Romance\", \"year\": 1910, \"count\": 13, \"percentage\": 0.014280065029219212}, {\"genres\": \"War\", \"year\": 1920, \"count\": 13, \"percentage\": 0.014280065029219212}, {\"genres\": \"Documentary\", \"year\": 1900, \"count\": 12, \"percentage\": 0.013181598488510039}, {\"genres\": \"Fantasy\", \"year\": 1910, \"count\": 12, \"percentage\": 0.013181598488510039}, {\"genres\": \"Animation\", \"year\": 1920, \"count\": 12, \"percentage\": 0.013181598488510039}, {\"genres\": \"Fantasy\", \"year\": 1890, \"count\": 12, \"percentage\": 0.013181598488510039}, {\"genres\": \"Comedy\", \"year\": 1890, \"count\": 10, \"percentage\": 0.0109846654070917}, {\"genres\": \"Crime\", \"year\": 1910, \"count\": 10, \"percentage\": 0.0109846654070917}, {\"genres\": \"Adventure\", \"year\": 1910, \"count\": 9, \"percentage\": 0.00988619886638253}, {\"genres\": \"Horror\", \"year\": 1900, \"count\": 9, \"percentage\": 0.00988619886638253}, {\"genres\": \"Mystery\", \"year\": 1920, \"count\": 9, \"percentage\": 0.00988619886638253}, {\"genres\": \"Drama\", \"year\": 1900, \"count\": 9, \"percentage\": 0.00988619886638253}, {\"genres\": \"Science Fiction\", \"year\": 1920, \"count\": 9, \"percentage\": 0.00988619886638253}, {\"genres\": \"Music\", \"year\": 1920, \"count\": 8, \"percentage\": 0.00878773232567336}, {\"genres\": \"History\", \"year\": 1910, \"count\": 7, \"percentage\": 0.00768926578496419}, {\"genres\": \"War\", \"year\": 1910, \"count\": 7, \"percentage\": 0.00768926578496419}, {\"genres\": \"Western\", \"year\": 1910, \"count\": 7, \"percentage\": 0.00768926578496419}, {\"genres\": \"Family\", \"year\": 1920, \"count\": 6, \"percentage\": 0.0065907992442550195}, {\"genres\": \"Animation\", \"year\": 1910, \"count\": 6, \"percentage\": 0.0065907992442550195}, {\"genres\": \"Horror\", \"year\": 1890, \"count\": 6, \"percentage\": 0.0065907992442550195}, {\"genres\": \"Action\", \"year\": 1910, \"count\": 6, \"percentage\": 0.0065907992442550195}, {\"genres\": \"Horror\", \"year\": 1910, \"count\": 5, \"percentage\": 0.00549233270354585}, {\"genres\": \"Action\", \"year\": 1900, \"count\": 5, \"percentage\": 0.00549233270354585}, {\"genres\": \"Science Fiction\", \"year\": 1900, \"count\": 5, \"percentage\": 0.00549233270354585}, {\"genres\": \"Adventure\", \"year\": 1900, \"count\": 5, \"percentage\": 0.00549233270354585}, {\"genres\": \"Crime\", \"year\": 1900, \"count\": 4, \"percentage\": 0.00439386616283668}, {\"genres\": \"Mystery\", \"year\": 1910, \"count\": 4, \"percentage\": 0.00439386616283668}, {\"genres\": \"Documentary\", \"year\": 1880, \"count\": 4, \"percentage\": 0.00439386616283668}, {\"genres\": \"Drama\", \"year\": 1890, \"count\": 4, \"percentage\": 0.00439386616283668}, {\"genres\": \"Animation\", \"year\": 1900, \"count\": 3, \"percentage\": 0.0032953996221275097}, {\"genres\": \"Science Fiction\", \"year\": 1910, \"count\": 3, \"percentage\": 0.0032953996221275097}, {\"genres\": \"Music\", \"year\": 1900, \"count\": 2, \"percentage\": 0.00219693308141834}, {\"genres\": \"Romance\", \"year\": 1900, \"count\": 2, \"percentage\": 0.00219693308141834}, {\"genres\": \"Documentary\", \"year\": 1910, \"count\": 2, \"percentage\": 0.00219693308141834}, {\"genres\": \"Action\", \"year\": 1890, \"count\": 2, \"percentage\": 0.00219693308141834}, {\"genres\": \"History\", \"year\": 1890, \"count\": 2, \"percentage\": 0.00219693308141834}, {\"genres\": \"Family\", \"year\": 1890, \"count\": 2, \"percentage\": 0.00219693308141834}, {\"genres\": \"Foreign\", \"year\": 1950, \"count\": 2, \"percentage\": 0.00219693308141834}, {\"genres\": \"Documentary\", \"year\": 1870, \"count\": 2, \"percentage\": 0.00219693308141834}, {\"genres\": \"Thriller\", \"year\": 1900, \"count\": 2, \"percentage\": 0.00219693308141834}, {\"genres\": \"Science Fiction\", \"year\": 1890, \"count\": 1, \"percentage\": 0.00109846654070917}, {\"genres\": \"Science Fiction\", \"year\": 2020, \"count\": 1, \"percentage\": 0.00109846654070917}, {\"genres\": \"Fantasy\", \"year\": 2020, \"count\": 1, \"percentage\": 0.00109846654070917}, {\"genres\": \"Action\", \"year\": 2020, \"count\": 1, \"percentage\": 0.00109846654070917}, {\"genres\": \"Family\", \"year\": 1900, \"count\": 1, \"percentage\": 0.00109846654070917}, {\"genres\": \"Animation\", \"year\": 1890, \"count\": 1, \"percentage\": 0.00109846654070917}, {\"genres\": \"Family\", \"year\": 1910, \"count\": 1, \"percentage\": 0.00109846654070917}, {\"genres\": \"History\", \"year\": 1900, \"count\": 1, \"percentage\": 0.00109846654070917}, {\"genres\": \"Western\", \"year\": 1900, \"count\": 1, \"percentage\": 0.00109846654070917}, {\"genres\": \"War\", \"year\": 1890, \"count\": 1, \"percentage\": 0.00109846654070917}, {\"genres\": \"Adventure\", \"year\": 2020, \"count\": 1, \"percentage\": 0.00109846654070917}, {\"genres\": \"Romance\", \"year\": 1890, \"count\": 1, \"percentage\": 0.00109846654070917}]}}, {\"mode\": \"vega-lite\"});\n</script>",
      "text/plain": "alt.Chart(...)"
     },
     "execution_count": 18,
     "metadata": {},
     "output_type": "execute_result"
    }
   ],
   "source": [
    "movies_metadata_genres = movies_metadata[['id', 'title', 'genres', 'release_date']].copy()\n",
    "\n",
    "# convert the genres column to a list\n",
    "movies_metadata_genres['genres'] = (\n",
    "    movies_metadata_genres['genres']\n",
    "    .fillna('[]')\n",
    "    .apply(literal_eval)\n",
    "    .apply(lambda x: [i['name'] for i in x] if isinstance(x, list) else [])\n",
    ")\n",
    "\n",
    "movies_metadata_genres['release_date'] = pd.to_datetime(movies_metadata_genres['release_date'], errors='coerce')\n",
    "movies_metadata_genres = movies_metadata_genres[~movies_metadata_genres['release_date'].isna()]\n",
    "# convert year to decade\n",
    "movies_metadata_genres['year'] = (movies_metadata_genres['release_date'].dt.year // 10 * 10).astype(int)\n",
    "\n",
    "genres = movies_metadata_genres.explode('genres')\n",
    "genres = genres.groupby(['genres', 'year']).size().reset_index(name='count')\n",
    "genres = genres.sort_values('count', ascending=False)\n",
    "\n",
    "# Create a selection object for the slider\n",
    "year_slider = alt.binding_range(min=1900, max=2010, step=10, name='Year:')\n",
    "year_select = alt.selection_point(fields=['year'], bind=year_slider, value={'year': 1900})\n",
    "\n",
    "# calculate the percentage\n",
    "genres['percentage'] = genres['count'] / genres['count'].sum() * 100\n",
    "# plot the genres distribution\n",
    "chart = alt.Chart(genres).mark_bar().encode(\n",
    "    x=alt.X('genres', title='Genre', sort='-y'),\n",
    "    y=alt.Y('count', title='Count'),\n",
    "    color=alt.Color('genres', title='Genre'),\n",
    "    tooltip=[alt.Tooltip('genres', title='Genre'), alt.Tooltip('count', format='.2f', title='Count')]\n",
    ").add_params(\n",
    "    year_select\n",
    ").transform_filter(\n",
    "    year_select\n",
    ").properties(\n",
    "    title='Genres Distribution',\n",
    "    width=600,\n",
    "    height=400,\n",
    ").interactive()\n",
    "\n",
    "chart"
   ]
  },
  {
   "cell_type": "markdown",
   "id": "21163d34",
   "metadata": {},
   "source": [
    "### Visualition #5: Countries Distribution\n",
    "\n",
    "The last visualization tries to analyze the distribution of countries in the movies dataset."
   ]
  },
  {
   "cell_type": "code",
   "execution_count": 19,
   "id": "42777279",
   "metadata": {},
   "outputs": [
    {
     "data": {
      "text/plain": "    production_countries  count          lat         long\n5              Argentina    254  -34.9964963  -64.9672817\n68               Ireland    225    52.865196   -7.9794599\n9                Austria    209     47.59397     14.12456\n39        Czech Republic    209   49.7439047   15.3381061\n109               Norway    203   61.1529386    8.7876653",
      "text/html": "<div>\n<style scoped>\n    .dataframe tbody tr th:only-of-type {\n        vertical-align: middle;\n    }\n\n    .dataframe tbody tr th {\n        vertical-align: top;\n    }\n\n    .dataframe thead th {\n        text-align: right;\n    }\n</style>\n<table border=\"1\" class=\"dataframe\">\n  <thead>\n    <tr style=\"text-align: right;\">\n      <th></th>\n      <th>production_countries</th>\n      <th>count</th>\n      <th>lat</th>\n      <th>long</th>\n    </tr>\n  </thead>\n  <tbody>\n    <tr>\n      <th>5</th>\n      <td>Argentina</td>\n      <td>254</td>\n      <td>-34.9964963</td>\n      <td>-64.9672817</td>\n    </tr>\n    <tr>\n      <th>68</th>\n      <td>Ireland</td>\n      <td>225</td>\n      <td>52.865196</td>\n      <td>-7.9794599</td>\n    </tr>\n    <tr>\n      <th>9</th>\n      <td>Austria</td>\n      <td>209</td>\n      <td>47.59397</td>\n      <td>14.12456</td>\n    </tr>\n    <tr>\n      <th>39</th>\n      <td>Czech Republic</td>\n      <td>209</td>\n      <td>49.7439047</td>\n      <td>15.3381061</td>\n    </tr>\n    <tr>\n      <th>109</th>\n      <td>Norway</td>\n      <td>203</td>\n      <td>61.1529386</td>\n      <td>8.7876653</td>\n    </tr>\n  </tbody>\n</table>\n</div>"
     },
     "execution_count": 19,
     "metadata": {},
     "output_type": "execute_result"
    }
   ],
   "source": [
    "import time\n",
    "import json\n",
    "from ast import literal_eval\n",
    "import requests\n",
    "\n",
    "# Extract the production_countries from the movies_metadata\n",
    "movies_metadata_countries = movies_metadata[['id', 'title', 'production_countries']].copy()\n",
    "# Convert the production_countries column to a list, similar to the genres column in the previous visualizations\n",
    "movies_metadata_countries['production_countries'] = (\n",
    "    movies_metadata_countries['production_countries']\n",
    "    .fillna('[]')\n",
    "    .apply(literal_eval)\n",
    "    .apply(lambda x: [i['name'] for i in x] if isinstance(x, list) else [])\n",
    ")\n",
    "# Explode the production_countries column and group by production_countries\n",
    "movies_metadata_countries = movies_metadata_countries.explode('production_countries')\n",
    "movies_metadata_countries = movies_metadata_countries.groupby('production_countries').size().reset_index(name='count')\n",
    "movies_metadata_countries = movies_metadata_countries.sort_values('count', ascending=False)\n",
    "\n",
    "def fetch_lat_long_data(country):\n",
    "    country_param = country.replace(' ', '%20')\n",
    "    country_filename = country.replace(' ', '_').lower() + '.json'\n",
    "    data_directory = './data'\n",
    "    if os.path.exists(os.path.join(data_directory, country_filename)):\n",
    "        with open(os.path.join(data_directory, country_filename), 'r') as f:\n",
    "            return json.load(f)\n",
    "    else:\n",
    "        lat_long_url = f\"https://geocode.maps.co/search?q={country_param}&api_key=6668f5eb3d464108527128ndi77d74c\"\n",
    "        print('Fetching data for:', country)\n",
    "        response = requests.get(lat_long_url)\n",
    "        if response.status_code == 200:\n",
    "            data = response.json()\n",
    "            with open(os.path.join(data_directory, country_filename), 'w') as f:\n",
    "                json.dump(data, f)\n",
    "            print('Waiting for 5 seconds...')\n",
    "            time.sleep(5)\n",
    "            return data\n",
    "        else:\n",
    "            return None\n",
    "\n",
    "def get_lat_long(country):\n",
    "    data = fetch_lat_long_data(country)\n",
    "    if data:\n",
    "        return data[0]['lat'] + ',' + data[0]['lon']\n",
    "    else:\n",
    "        return None\n",
    "\n",
    "movies_metadata_countries['lat_long'] = movies_metadata_countries.apply(lambda x: get_lat_long(x['production_countries']), axis=1)\n",
    "movies_metadata_countries[['lat', 'long']] = movies_metadata_countries['lat_long'].str.split(',', expand=True)\n",
    "movies_metadata_countries = movies_metadata_countries.drop(columns=['lat_long'])\n",
    "movies_metadata_countries = movies_metadata_countries[movies_metadata_countries['count'] >= 200]\n",
    "movies_metadata_countries.tail()"
   ]
  },
  {
   "cell_type": "code",
   "execution_count": 20,
   "id": "e952d7f4",
   "metadata": {},
   "outputs": [
    {
     "data": {
      "text/html": "\n<style>\n  #altair-viz-03dfa14b58fe4e778675d344d03fcfe9.vega-embed {\n    width: 100%;\n    display: flex;\n  }\n\n  #altair-viz-03dfa14b58fe4e778675d344d03fcfe9.vega-embed details,\n  #altair-viz-03dfa14b58fe4e778675d344d03fcfe9.vega-embed details summary {\n    position: relative;\n  }\n</style>\n<div id=\"altair-viz-03dfa14b58fe4e778675d344d03fcfe9\"></div>\n<script type=\"text/javascript\">\n  var VEGA_DEBUG = (typeof VEGA_DEBUG == \"undefined\") ? {} : VEGA_DEBUG;\n  (function(spec, embedOpt){\n    let outputDiv = document.currentScript.previousElementSibling;\n    if (outputDiv.id !== \"altair-viz-03dfa14b58fe4e778675d344d03fcfe9\") {\n      outputDiv = document.getElementById(\"altair-viz-03dfa14b58fe4e778675d344d03fcfe9\");\n    }\n    const paths = {\n      \"vega\": \"https://cdn.jsdelivr.net/npm/vega@5?noext\",\n      \"vega-lib\": \"https://cdn.jsdelivr.net/npm/vega-lib?noext\",\n      \"vega-lite\": \"https://cdn.jsdelivr.net/npm/vega-lite@5.17.0?noext\",\n      \"vega-embed\": \"https://cdn.jsdelivr.net/npm/vega-embed@6?noext\",\n    };\n\n    function maybeLoadScript(lib, version) {\n      var key = `${lib.replace(\"-\", \"\")}_version`;\n      return (VEGA_DEBUG[key] == version) ?\n        Promise.resolve(paths[lib]) :\n        new Promise(function(resolve, reject) {\n          var s = document.createElement('script');\n          document.getElementsByTagName(\"head\")[0].appendChild(s);\n          s.async = true;\n          s.onload = () => {\n            VEGA_DEBUG[key] = version;\n            return resolve(paths[lib]);\n          };\n          s.onerror = () => reject(`Error loading script: ${paths[lib]}`);\n          s.src = paths[lib];\n        });\n    }\n\n    function showError(err) {\n      outputDiv.innerHTML = `<div class=\"error\" style=\"color:red;\">${err}</div>`;\n      throw err;\n    }\n\n    function displayChart(vegaEmbed) {\n      vegaEmbed(outputDiv, spec, embedOpt)\n        .catch(err => showError(`Javascript Error: ${err.message}<br>This usually means there's a typo in your chart specification. See the javascript console for the full traceback.`));\n    }\n\n    if(typeof define === \"function\" && define.amd) {\n      requirejs.config({paths});\n      require([\"vega-embed\"], displayChart, err => showError(`Error loading script: ${err.message}`));\n    } else {\n      maybeLoadScript(\"vega\", \"5\")\n        .then(() => maybeLoadScript(\"vega-lite\", \"5.17.0\"))\n        .then(() => maybeLoadScript(\"vega-embed\", \"6\"))\n        .catch(showError)\n        .then(() => displayChart(vegaEmbed));\n    }\n  })({\"config\": {\"view\": {\"continuousWidth\": 300, \"continuousHeight\": 300}}, \"layer\": [{\"data\": {\"url\": \"https://cdn.jsdelivr.net/npm/vega-datasets@v1.29.0/data/world-110m.json\", \"format\": {\"feature\": \"countries\", \"type\": \"topojson\"}}, \"mark\": {\"type\": \"geoshape\", \"fill\": \"rgb(173,216,230)\", \"stroke\": \"white\"}, \"name\": \"view_1\", \"projection\": {\"type\": \"equirectangular\"}}, {\"data\": {\"name\": \"data-e3aa20a2789061220b1f0ae743b6bf4b\"}, \"mark\": {\"type\": \"circle\"}, \"encoding\": {\"color\": {\"field\": \"production_countries\", \"title\": \"Country\", \"type\": \"nominal\"}, \"latitude\": {\"field\": \"lat\", \"type\": \"quantitative\"}, \"longitude\": {\"field\": \"long\", \"type\": \"quantitative\"}, \"size\": {\"field\": \"count\", \"legend\": {\"format\": \".2s\"}, \"scale\": {\"range\": [50, 750]}, \"title\": \"Number of Movies\", \"type\": \"quantitative\"}, \"tooltip\": [{\"field\": \"production_countries\", \"title\": \"Country\", \"type\": \"nominal\"}, {\"field\": \"count\", \"format\": \".2f\", \"title\": \"Number of Movies\", \"type\": \"quantitative\"}]}, \"projection\": {\"type\": \"equirectangular\"}}], \"height\": 750, \"params\": [{\"name\": \"param_7\", \"select\": {\"type\": \"interval\", \"encodings\": [\"x\", \"y\"]}, \"bind\": \"scales\", \"views\": [\"view_1\"]}], \"title\": \"Total number of movies produced by country\", \"width\": 900, \"$schema\": \"https://vega.github.io/schema/vega-lite/v5.17.0.json\", \"datasets\": {\"data-e3aa20a2789061220b1f0ae743b6bf4b\": [{\"production_countries\": \"United States of America\", \"count\": 21153, \"lat\": \"39.7837304\", \"long\": \"-100.445882\"}, {\"production_countries\": \"United Kingdom\", \"count\": 4094, \"lat\": \"54.7023545\", \"long\": \"-3.2765753\"}, {\"production_countries\": \"France\", \"count\": 3940, \"lat\": \"46.603354\", \"long\": \"1.8883335\"}, {\"production_countries\": \"Germany\", \"count\": 2254, \"lat\": \"51.1638175\", \"long\": \"10.4478313\"}, {\"production_countries\": \"Italy\", \"count\": 2169, \"lat\": \"42.6384261\", \"long\": \"12.674297\"}, {\"production_countries\": \"Canada\", \"count\": 1765, \"lat\": \"61.0666922\", \"long\": \"-107.991707\"}, {\"production_countries\": \"Japan\", \"count\": 1648, \"lat\": \"36.5748441\", \"long\": \"139.2394179\"}, {\"production_countries\": \"Spain\", \"count\": 964, \"lat\": \"39.3260685\", \"long\": \"-4.8379791\"}, {\"production_countries\": \"Russia\", \"count\": 912, \"lat\": \"64.6863136\", \"long\": \"97.7453061\"}, {\"production_countries\": \"India\", \"count\": 828, \"lat\": \"22.3511148\", \"long\": \"78.6677428\"}, {\"production_countries\": \"Hong Kong\", \"count\": 596, \"lat\": \"22.2793278\", \"long\": \"114.1628131\"}, {\"production_countries\": \"Sweden\", \"count\": 588, \"lat\": \"59.6749712\", \"long\": \"14.5208584\"}, {\"production_countries\": \"Australia\", \"count\": 570, \"lat\": \"-24.7761086\", \"long\": \"134.755\"}, {\"production_countries\": \"South Korea\", \"count\": 495, \"lat\": \"36.638392\", \"long\": \"127.6961188\"}, {\"production_countries\": \"Belgium\", \"count\": 447, \"lat\": \"50.6402809\", \"long\": \"4.6667145\"}, {\"production_countries\": \"Denmark\", \"count\": 386, \"lat\": \"55.670249\", \"long\": \"10.3333283\"}, {\"production_countries\": \"Finland\", \"count\": 383, \"lat\": \"63.2467777\", \"long\": \"25.9209164\"}, {\"production_countries\": \"Netherlands\", \"count\": 375, \"lat\": \"52.2434979\", \"long\": \"5.6343227\"}, {\"production_countries\": \"China\", \"count\": 372, \"lat\": \"35.000074\", \"long\": \"104.999927\"}, {\"production_countries\": \"Mexico\", \"count\": 329, \"lat\": \"19.4326296\", \"long\": \"-99.1331785\"}, {\"production_countries\": \"Poland\", \"count\": 319, \"lat\": \"52.215933\", \"long\": \"19.134422\"}, {\"production_countries\": \"Brazil\", \"count\": 291, \"lat\": \"-10.3333333\", \"long\": \"-53.2\"}, {\"production_countries\": \"Switzerland\", \"count\": 254, \"lat\": \"46.7985624\", \"long\": \"8.2319736\"}, {\"production_countries\": \"Argentina\", \"count\": 254, \"lat\": \"-34.9964963\", \"long\": \"-64.9672817\"}, {\"production_countries\": \"Ireland\", \"count\": 225, \"lat\": \"52.865196\", \"long\": \"-7.9794599\"}, {\"production_countries\": \"Austria\", \"count\": 209, \"lat\": \"47.59397\", \"long\": \"14.12456\"}, {\"production_countries\": \"Czech Republic\", \"count\": 209, \"lat\": \"49.7439047\", \"long\": \"15.3381061\"}, {\"production_countries\": \"Norway\", \"count\": 203, \"lat\": \"61.1529386\", \"long\": \"8.7876653\"}]}}, {\"mode\": \"vega-lite\"});\n</script>",
      "text/plain": "alt.LayerChart(...)"
     },
     "execution_count": 20,
     "metadata": {},
     "output_type": "execute_result"
    }
   ],
   "source": [
    "import altair as alt\n",
    "from vega_datasets import data\n",
    "\n",
    "# Load a GeoJSON source that contains features for drawing\n",
    "base = alt.topo_feature(data.world_110m.url, 'countries')\n",
    "\n",
    "# Create a base map\n",
    "base_map = alt.Chart(base).mark_geoshape(\n",
    "    fill='rgb(173,216,230)',\n",
    "    stroke='white'\n",
    ").project('equirectangular')\n",
    "\n",
    "# Create a scatter plot layer\n",
    "points = alt.Chart(movies_metadata_countries).mark_circle().encode(\n",
    "    longitude='long:Q',\n",
    "    latitude='lat:Q',\n",
    "    size=alt.Size('count:Q', title='Number of Movies', scale=alt.Scale(range=[50, 750])).legend(format=\".2s\"),\n",
    "    color=alt.Color('production_countries:N', title='Country'),\n",
    "    tooltip=[alt.Tooltip('production_countries', title='Country'), alt.Tooltip('count', format='.2f', title='Number of Movies')]\n",
    ").project('equirectangular')\n",
    "\n",
    "chart = base_map + points\n",
    "\n",
    "chart = chart.properties(\n",
    "    title='Total number of movies produced by country',\n",
    "    width=900,\n",
    "    height=750\n",
    ").interactive()\n",
    "\n",
    "chart"
   ]
  },
  {
   "cell_type": "code",
   "execution_count": 20,
   "id": "b7382dab",
   "metadata": {},
   "outputs": [],
   "source": []
  }
 ],
 "metadata": {
  "kernelspec": {
   "display_name": "Python 3 (ipykernel)",
   "language": "python",
   "name": "python3"
  },
  "language_info": {
   "codemirror_mode": {
    "name": "ipython",
    "version": 3
   },
   "file_extension": ".py",
   "mimetype": "text/x-python",
   "name": "python",
   "nbconvert_exporter": "python",
   "pygments_lexer": "ipython3",
   "version": "3.9.13"
  }
 },
 "nbformat": 4,
 "nbformat_minor": 5
}
