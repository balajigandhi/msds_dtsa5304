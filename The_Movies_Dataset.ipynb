{
 "cells": [
  {
   "cell_type": "markdown",
   "id": "919b5e3de353407b",
   "metadata": {},
   "source": [
    "## Visualization Project: Movie Recommendation System\n",
    "\n",
    "### Overview\n",
    "This project is part of MSDS course work (Course: DTSA 5304: Fundamentals of Data Visualization). The course uses the Altair library to explain visualization concepts.\n",
    "\n",
    "### Project Description\n",
    "The project uses the movies dataset to analyze multiple aspects of the dataset.\n",
    "\n",
    "### Dataset: The Movies Dataset\n",
    "This system uses the movies dataset [the-movies-dataset](https://www.kaggle.com/datasets/rounakbanik/the-movies-dataset). It has metadata on over 45,000 movies. 26 million ratings from over 270,000 users.\n",
    "\n",
    "### Visualization\n",
    "To access the visualization online, use this [link](https://html-preview.github.io/?url=https://github.com/balajigandhi/msds_dtsa5304/blob/main/The_Movies_Dataset.html).\n",
    "To access the source notebook online, use this [link](https://nbviewer.org/github/balajigandhi/msds_dtsa5304/blob/main/The_Movies_Dataset.ipynb)."
   ]
  },
  {
   "cell_type": "markdown",
   "id": "49391e9f",
   "metadata": {},
   "source": [
    "### Required Libraries\n",
    "First we install the required libraries. This only needs to be done **once**."
   ]
  },
  {
   "cell_type": "code",
   "execution_count": 22,
   "id": "4e854eeb",
   "metadata": {},
   "outputs": [],
   "source": [
    "#%pip install altair vega vega_datasets pandas scikit-learn sentence-transformers streamlit"
   ]
  },
  {
   "cell_type": "markdown",
   "id": "e640647b",
   "metadata": {},
   "source": [
    "### Visualition #1: Genres Distribution\n",
    "The first visualization tries to analyze the distribution of genres in the movies dataset."
   ]
  },
  {
   "cell_type": "code",
   "execution_count": 23,
   "id": "347a35fc",
   "metadata": {},
   "outputs": [
    {
     "data": {
      "text/plain": "      id                        title  \\\n0    862                    Toy Story   \n1   8844                      Jumanji   \n2  15602             Grumpier Old Men   \n3  31357            Waiting to Exhale   \n4  11862  Father of the Bride Part II   \n\n                                              genres  \n0  [{'id': 16, 'name': 'Animation'}, {'id': 35, '...  \n1  [{'id': 12, 'name': 'Adventure'}, {'id': 14, '...  \n2  [{'id': 10749, 'name': 'Romance'}, {'id': 35, ...  \n3  [{'id': 35, 'name': 'Comedy'}, {'id': 18, 'nam...  \n4                     [{'id': 35, 'name': 'Comedy'}]  ",
      "text/html": "<div>\n<style scoped>\n    .dataframe tbody tr th:only-of-type {\n        vertical-align: middle;\n    }\n\n    .dataframe tbody tr th {\n        vertical-align: top;\n    }\n\n    .dataframe thead th {\n        text-align: right;\n    }\n</style>\n<table border=\"1\" class=\"dataframe\">\n  <thead>\n    <tr style=\"text-align: right;\">\n      <th></th>\n      <th>id</th>\n      <th>title</th>\n      <th>genres</th>\n    </tr>\n  </thead>\n  <tbody>\n    <tr>\n      <th>0</th>\n      <td>862</td>\n      <td>Toy Story</td>\n      <td>[{'id': 16, 'name': 'Animation'}, {'id': 35, '...</td>\n    </tr>\n    <tr>\n      <th>1</th>\n      <td>8844</td>\n      <td>Jumanji</td>\n      <td>[{'id': 12, 'name': 'Adventure'}, {'id': 14, '...</td>\n    </tr>\n    <tr>\n      <th>2</th>\n      <td>15602</td>\n      <td>Grumpier Old Men</td>\n      <td>[{'id': 10749, 'name': 'Romance'}, {'id': 35, ...</td>\n    </tr>\n    <tr>\n      <th>3</th>\n      <td>31357</td>\n      <td>Waiting to Exhale</td>\n      <td>[{'id': 35, 'name': 'Comedy'}, {'id': 18, 'nam...</td>\n    </tr>\n    <tr>\n      <th>4</th>\n      <td>11862</td>\n      <td>Father of the Bride Part II</td>\n      <td>[{'id': 35, 'name': 'Comedy'}]</td>\n    </tr>\n  </tbody>\n</table>\n</div>"
     },
     "execution_count": 23,
     "metadata": {},
     "output_type": "execute_result"
    }
   ],
   "source": [
    "import pandas as pd\n",
    "import altair as alt\n",
    "from ast import literal_eval\n",
    "\n",
    "movies_metadata = pd.read_csv('./The_Movies_Dataset/movies_metadata.csv', low_memory=False)\n",
    "movies_metadata_genres = movies_metadata[['id', 'title', 'genres']].copy()\n",
    "movies_metadata_genres.head()"
   ]
  },
  {
   "cell_type": "code",
   "execution_count": 24,
   "id": "0f6fb28a",
   "metadata": {},
   "outputs": [
    {
     "data": {
      "text/plain": "      id                        title  \\\n0    862                    Toy Story   \n1   8844                      Jumanji   \n2  15602             Grumpier Old Men   \n3  31357            Waiting to Exhale   \n4  11862  Father of the Bride Part II   \n\n                                              genres  \n0  [{'id': 16, 'name': 'Animation'}, {'id': 35, '...  \n1  [{'id': 12, 'name': 'Adventure'}, {'id': 14, '...  \n2  [{'id': 10749, 'name': 'Romance'}, {'id': 35, ...  \n3  [{'id': 35, 'name': 'Comedy'}, {'id': 18, 'nam...  \n4                     [{'id': 35, 'name': 'Comedy'}]  ",
      "text/html": "<div>\n<style scoped>\n    .dataframe tbody tr th:only-of-type {\n        vertical-align: middle;\n    }\n\n    .dataframe tbody tr th {\n        vertical-align: top;\n    }\n\n    .dataframe thead th {\n        text-align: right;\n    }\n</style>\n<table border=\"1\" class=\"dataframe\">\n  <thead>\n    <tr style=\"text-align: right;\">\n      <th></th>\n      <th>id</th>\n      <th>title</th>\n      <th>genres</th>\n    </tr>\n  </thead>\n  <tbody>\n    <tr>\n      <th>0</th>\n      <td>862</td>\n      <td>Toy Story</td>\n      <td>[{'id': 16, 'name': 'Animation'}, {'id': 35, '...</td>\n    </tr>\n    <tr>\n      <th>1</th>\n      <td>8844</td>\n      <td>Jumanji</td>\n      <td>[{'id': 12, 'name': 'Adventure'}, {'id': 14, '...</td>\n    </tr>\n    <tr>\n      <th>2</th>\n      <td>15602</td>\n      <td>Grumpier Old Men</td>\n      <td>[{'id': 10749, 'name': 'Romance'}, {'id': 35, ...</td>\n    </tr>\n    <tr>\n      <th>3</th>\n      <td>31357</td>\n      <td>Waiting to Exhale</td>\n      <td>[{'id': 35, 'name': 'Comedy'}, {'id': 18, 'nam...</td>\n    </tr>\n    <tr>\n      <th>4</th>\n      <td>11862</td>\n      <td>Father of the Bride Part II</td>\n      <td>[{'id': 35, 'name': 'Comedy'}]</td>\n    </tr>\n  </tbody>\n</table>\n</div>"
     },
     "execution_count": 24,
     "metadata": {},
     "output_type": "execute_result"
    }
   ],
   "source": [
    "# Genres column is a string representation of a list of dictionaries. We need to convert it to a list of strings.\n",
    "movies_metadata_genres_as_list = movies_metadata_genres.copy()\n",
    "movies_metadata_genres_as_list['genres'] = (\n",
    "    movies_metadata_genres['genres']\n",
    "    .fillna('[]')\n",
    "    .apply(literal_eval)\n",
    "    .apply(lambda x: [i['name'] for i in x] if isinstance(x, list) else [])\n",
    ")\n",
    "movies_metadata_genres.head()"
   ]
  },
  {
   "cell_type": "code",
   "execution_count": 25,
   "id": "0f9df40e",
   "metadata": {},
   "outputs": [
    {
     "data": {
      "text/plain": "      genres  count  percentage\n9      Drama  20265   22.243321\n6     Comedy  13182   14.468860\n28  Thriller   7624    8.368274\n22   Romance   6735    7.392488\n0     Action   6596    7.239918",
      "text/html": "<div>\n<style scoped>\n    .dataframe tbody tr th:only-of-type {\n        vertical-align: middle;\n    }\n\n    .dataframe tbody tr th {\n        vertical-align: top;\n    }\n\n    .dataframe thead th {\n        text-align: right;\n    }\n</style>\n<table border=\"1\" class=\"dataframe\">\n  <thead>\n    <tr style=\"text-align: right;\">\n      <th></th>\n      <th>genres</th>\n      <th>count</th>\n      <th>percentage</th>\n    </tr>\n  </thead>\n  <tbody>\n    <tr>\n      <th>9</th>\n      <td>Drama</td>\n      <td>20265</td>\n      <td>22.243321</td>\n    </tr>\n    <tr>\n      <th>6</th>\n      <td>Comedy</td>\n      <td>13182</td>\n      <td>14.468860</td>\n    </tr>\n    <tr>\n      <th>28</th>\n      <td>Thriller</td>\n      <td>7624</td>\n      <td>8.368274</td>\n    </tr>\n    <tr>\n      <th>22</th>\n      <td>Romance</td>\n      <td>6735</td>\n      <td>7.392488</td>\n    </tr>\n    <tr>\n      <th>0</th>\n      <td>Action</td>\n      <td>6596</td>\n      <td>7.239918</td>\n    </tr>\n  </tbody>\n</table>\n</div>"
     },
     "execution_count": 25,
     "metadata": {},
     "output_type": "execute_result"
    }
   ],
   "source": [
    "# The genres column is now a list of strings. We can now explode the genres column and group by genres.\n",
    "movies_metadata_genres_exploded = movies_metadata_genres_as_list.explode('genres')\n",
    "movies_metadata_genres_exploded = movies_metadata_genres_exploded.groupby('genres').size().reset_index(name='count')\n",
    "movies_metadata_genres_exploded = movies_metadata_genres_exploded.sort_values('count', ascending=False)\n",
    "movies_metadata_genres_exploded['percentage'] = movies_metadata_genres_exploded['count'] / movies_metadata_genres_exploded['count'].sum() * 100\n",
    "movies_metadata_genres_exploded.head()"
   ]
  },
  {
   "cell_type": "code",
   "execution_count": 26,
   "id": "b0a3af03",
   "metadata": {},
   "outputs": [
    {
     "data": {
      "text/plain": "['Drama',\n 'Comedy',\n 'Thriller',\n 'Romance',\n 'Action',\n 'Horror',\n 'Crime',\n 'Documentary',\n 'Adventure',\n 'Science Fiction',\n 'Family',\n 'Mystery',\n 'Fantasy',\n 'Animation',\n 'Foreign',\n 'Music',\n 'History',\n 'War',\n 'Western',\n 'TV Movie',\n 'Odyssey Media',\n 'Pulser Productions',\n 'Rogue State',\n 'GoHands',\n 'Carousel Productions',\n 'Sentai Filmworks',\n 'Telescene Film Group Productions',\n 'The Cartel',\n 'BROSTA TV',\n 'Vision View Entertainment',\n 'Aniplex',\n 'Mardock Scramble Production Committee']"
     },
     "execution_count": 26,
     "metadata": {},
     "output_type": "execute_result"
    }
   ],
   "source": [
    "# Some records are missing genres. This causes the production house names to be parsed into genres field in the dataframes. We need to remove these records.\n",
    "movies_metadata_genres_exploded.genres.unique().tolist()"
   ]
  },
  {
   "cell_type": "code",
   "execution_count": 27,
   "id": "66db95ba",
   "metadata": {},
   "outputs": [
    {
     "data": {
      "text/plain": "['Drama',\n 'Comedy',\n 'Thriller',\n 'Romance',\n 'Action',\n 'Horror',\n 'Crime',\n 'Documentary',\n 'Adventure',\n 'Science Fiction',\n 'Family',\n 'Mystery',\n 'Fantasy',\n 'Animation',\n 'Foreign',\n 'Music',\n 'History',\n 'War',\n 'Western',\n 'TV Movie']"
     },
     "execution_count": 27,
     "metadata": {},
     "output_type": "execute_result"
    }
   ],
   "source": [
    "# Remove the records with the wrong genres values\n",
    "wrong_genres = ['Odyssey Media',\n",
    "'Pulser Productions',\n",
    "'Rogue State',\n",
    "'GoHands',\n",
    "'Carousel Productions',\n",
    "'Sentai Filmworks',\n",
    "'Telescene Film Group Productions',\n",
    "'The Cartel',\n",
    "'BROSTA TV',\n",
    "'Vision View Entertainment',\n",
    "'Aniplex',\n",
    "'Mardock Scramble Production Committee']\n",
    "movies_metadata_genres_exploded = movies_metadata_genres_exploded[~movies_metadata_genres_exploded['genres'].isin(wrong_genres)]\n",
    "movies_metadata_genres_exploded.genres.unique().tolist()"
   ]
  },
  {
   "cell_type": "code",
   "execution_count": 28,
   "id": "7f09137f",
   "metadata": {},
   "outputs": [
    {
     "data": {
      "text/plain": "      genres  count percentage\n3    Romance   6735   7.392488\n2   Thriller   7624   8.368274\n14     Other   7750   8.506575\n1     Comedy  13182   14.46886\n0      Drama  20265  22.243321",
      "text/html": "<div>\n<style scoped>\n    .dataframe tbody tr th:only-of-type {\n        vertical-align: middle;\n    }\n\n    .dataframe tbody tr th {\n        vertical-align: top;\n    }\n\n    .dataframe thead th {\n        text-align: right;\n    }\n</style>\n<table border=\"1\" class=\"dataframe\">\n  <thead>\n    <tr style=\"text-align: right;\">\n      <th></th>\n      <th>genres</th>\n      <th>count</th>\n      <th>percentage</th>\n    </tr>\n  </thead>\n  <tbody>\n    <tr>\n      <th>3</th>\n      <td>Romance</td>\n      <td>6735</td>\n      <td>7.392488</td>\n    </tr>\n    <tr>\n      <th>2</th>\n      <td>Thriller</td>\n      <td>7624</td>\n      <td>8.368274</td>\n    </tr>\n    <tr>\n      <th>14</th>\n      <td>Other</td>\n      <td>7750</td>\n      <td>8.506575</td>\n    </tr>\n    <tr>\n      <th>1</th>\n      <td>Comedy</td>\n      <td>13182</td>\n      <td>14.46886</td>\n    </tr>\n    <tr>\n      <th>0</th>\n      <td>Drama</td>\n      <td>20265</td>\n      <td>22.243321</td>\n    </tr>\n  </tbody>\n</table>\n</div>"
     },
     "execution_count": 28,
     "metadata": {},
     "output_type": "execute_result"
    }
   ],
   "source": [
    "# Group the genres with less than 2% into a single genre called 'Other'\n",
    "threshold = 2\n",
    "other_genres = movies_metadata_genres_exploded[movies_metadata_genres_exploded['percentage'] < threshold]\n",
    "other_genres = other_genres.sum()\n",
    "other_genres['genres'] = 'Other'\n",
    "movies_metadata_genres_exploded = movies_metadata_genres_exploded[movies_metadata_genres_exploded['percentage'] >= threshold]\n",
    "movies_metadata_genres_exploded = pd.concat([movies_metadata_genres_exploded, other_genres.to_frame().T], ignore_index=True)\n",
    "movies_metadata_genres_exploded = movies_metadata_genres_exploded.sort_values('count')\n",
    "movies_metadata_genres_exploded.tail()"
   ]
  },
  {
   "cell_type": "code",
   "execution_count": 29,
   "id": "775e62828dbf1b9d",
   "metadata": {
    "ExecuteTime": {
     "end_time": "2024-06-01T00:20:46.379829Z",
     "start_time": "2024-06-01T00:20:46.347851Z"
    }
   },
   "outputs": [
    {
     "data": {
      "text/html": "\n<style>\n  #altair-viz-3399b023fd0843888358296328f14320.vega-embed {\n    width: 100%;\n    display: flex;\n  }\n\n  #altair-viz-3399b023fd0843888358296328f14320.vega-embed details,\n  #altair-viz-3399b023fd0843888358296328f14320.vega-embed details summary {\n    position: relative;\n  }\n</style>\n<div id=\"altair-viz-3399b023fd0843888358296328f14320\"></div>\n<script type=\"text/javascript\">\n  var VEGA_DEBUG = (typeof VEGA_DEBUG == \"undefined\") ? {} : VEGA_DEBUG;\n  (function(spec, embedOpt){\n    let outputDiv = document.currentScript.previousElementSibling;\n    if (outputDiv.id !== \"altair-viz-3399b023fd0843888358296328f14320\") {\n      outputDiv = document.getElementById(\"altair-viz-3399b023fd0843888358296328f14320\");\n    }\n    const paths = {\n      \"vega\": \"https://cdn.jsdelivr.net/npm/vega@5?noext\",\n      \"vega-lib\": \"https://cdn.jsdelivr.net/npm/vega-lib?noext\",\n      \"vega-lite\": \"https://cdn.jsdelivr.net/npm/vega-lite@5.17.0?noext\",\n      \"vega-embed\": \"https://cdn.jsdelivr.net/npm/vega-embed@6?noext\",\n    };\n\n    function maybeLoadScript(lib, version) {\n      var key = `${lib.replace(\"-\", \"\")}_version`;\n      return (VEGA_DEBUG[key] == version) ?\n        Promise.resolve(paths[lib]) :\n        new Promise(function(resolve, reject) {\n          var s = document.createElement('script');\n          document.getElementsByTagName(\"head\")[0].appendChild(s);\n          s.async = true;\n          s.onload = () => {\n            VEGA_DEBUG[key] = version;\n            return resolve(paths[lib]);\n          };\n          s.onerror = () => reject(`Error loading script: ${paths[lib]}`);\n          s.src = paths[lib];\n        });\n    }\n\n    function showError(err) {\n      outputDiv.innerHTML = `<div class=\"error\" style=\"color:red;\">${err}</div>`;\n      throw err;\n    }\n\n    function displayChart(vegaEmbed) {\n      vegaEmbed(outputDiv, spec, embedOpt)\n        .catch(err => showError(`Javascript Error: ${err.message}<br>This usually means there's a typo in your chart specification. See the javascript console for the full traceback.`));\n    }\n\n    if(typeof define === \"function\" && define.amd) {\n      requirejs.config({paths});\n      require([\"vega-embed\"], displayChart, err => showError(`Error loading script: ${err.message}`));\n    } else {\n      maybeLoadScript(\"vega\", \"5\")\n        .then(() => maybeLoadScript(\"vega-lite\", \"5.17.0\"))\n        .then(() => maybeLoadScript(\"vega-embed\", \"6\"))\n        .catch(showError)\n        .then(() => displayChart(vegaEmbed));\n    }\n  })({\"config\": {\"view\": {\"continuousWidth\": 300, \"continuousHeight\": 300}}, \"data\": {\"name\": \"data-bbe7cd2b53e0fb835cef49cd50e27a9c\"}, \"mark\": {\"type\": \"arc\"}, \"encoding\": {\"color\": {\"field\": \"genres\", \"type\": \"nominal\"}, \"theta\": {\"field\": \"percentage\", \"stack\": true, \"type\": \"quantitative\"}, \"tooltip\": [{\"field\": \"genres\", \"title\": \"Genre\", \"type\": \"nominal\"}, {\"field\": \"percentage\", \"format\": \".2f\", \"title\": \"Percentage\", \"type\": \"quantitative\"}]}, \"params\": [{\"name\": \"param_8\", \"select\": {\"type\": \"interval\", \"encodings\": [\"x\", \"y\"]}, \"bind\": \"scales\"}], \"title\": \"Genres Distribution\", \"$schema\": \"https://vega.github.io/schema/vega-lite/v5.17.0.json\", \"datasets\": {\"data-bbe7cd2b53e0fb835cef49cd50e27a9c\": [{\"genres\": \"Animation\", \"count\": 1935, \"percentage\": 2.1238996333940685}, {\"genres\": \"Fantasy\", \"count\": 2313, \"percentage\": 2.5388009571268633}, {\"genres\": \"Mystery\", \"count\": 2467, \"percentage\": 2.7078348297587427}, {\"genres\": \"Family\", \"count\": 2770, \"percentage\": 3.040414462274713}, {\"genres\": \"Science Fiction\", \"count\": 3049, \"percentage\": 3.3466511536012997}, {\"genres\": \"Adventure\", \"count\": 3496, \"percentage\": 3.837288433253573}, {\"genres\": \"Documentary\", \"count\": 3932, \"percentage\": 4.315851864860712}, {\"genres\": \"Crime\", \"count\": 4307, \"percentage\": 4.727460320944833}, {\"genres\": \"Horror\", \"count\": 4673, \"percentage\": 5.129190174082936}, {\"genres\": \"Action\", \"count\": 6596, \"percentage\": 7.2399183368823135}, {\"genres\": \"Romance\", \"count\": 6735, \"percentage\": 7.392487871270828}, {\"genres\": \"Thriller\", \"count\": 7624, \"percentage\": 8.368274317827586}, {\"genres\": \"Other\", \"count\": 7750, \"percentage\": 8.50657475907185}, {\"genres\": \"Comedy\", \"count\": 13182, \"percentage\": 14.46886044826905}, {\"genres\": \"Drama\", \"count\": 20265, \"percentage\": 22.243320966785944}]}}, {\"mode\": \"vega-lite\"});\n</script>",
      "text/plain": "alt.Chart(...)"
     },
     "execution_count": 29,
     "metadata": {},
     "output_type": "execute_result"
    }
   ],
   "source": [
    "# Plot the genres distribution\n",
    "alt.Chart(movies_metadata_genres_exploded).mark_arc().encode(\n",
    "    theta=alt.Theta(field='percentage', type='quantitative', stack=True),\n",
    "    color=alt.Color(field='genres', type='nominal'),\n",
    "    tooltip=[alt.Tooltip('genres', title='Genre'), alt.Tooltip('percentage', format='.2f', title='Percentage')]\n",
    ").properties(\n",
    "    title='Genres Distribution'\n",
    ").interactive()"
   ]
  },
  {
   "cell_type": "markdown",
   "id": "a313061b",
   "metadata": {},
   "source": [
    "### Visualition #2: Genres Distribution and Top Movies\n",
    "The second visualization tries to analyze the distribution of genres in the movies dataset and show the top 10 movies for each genre."
   ]
  },
  {
   "cell_type": "code",
   "execution_count": 30,
   "id": "53e2fb0b",
   "metadata": {},
   "outputs": [
    {
     "data": {
      "text/plain": "        id                        title     score\n0    862.0                    Toy Story  7.640254\n1   8844.0                      Jumanji  6.820294\n4  11862.0  Father of the Bride Part II  5.660712\n5    949.0                         Heat  7.537203\n8   9091.0                 Sudden Death  5.556638",
      "text/html": "<div>\n<style scoped>\n    .dataframe tbody tr th:only-of-type {\n        vertical-align: middle;\n    }\n\n    .dataframe tbody tr th {\n        vertical-align: top;\n    }\n\n    .dataframe thead th {\n        text-align: right;\n    }\n</style>\n<table border=\"1\" class=\"dataframe\">\n  <thead>\n    <tr style=\"text-align: right;\">\n      <th></th>\n      <th>id</th>\n      <th>title</th>\n      <th>score</th>\n    </tr>\n  </thead>\n  <tbody>\n    <tr>\n      <th>0</th>\n      <td>862.0</td>\n      <td>Toy Story</td>\n      <td>7.640254</td>\n    </tr>\n    <tr>\n      <th>1</th>\n      <td>8844.0</td>\n      <td>Jumanji</td>\n      <td>6.820294</td>\n    </tr>\n    <tr>\n      <th>4</th>\n      <td>11862.0</td>\n      <td>Father of the Bride Part II</td>\n      <td>5.660712</td>\n    </tr>\n    <tr>\n      <th>5</th>\n      <td>949.0</td>\n      <td>Heat</td>\n      <td>7.537203</td>\n    </tr>\n    <tr>\n      <th>8</th>\n      <td>9091.0</td>\n      <td>Sudden Death</td>\n      <td>5.556638</td>\n    </tr>\n  </tbody>\n</table>\n</div>"
     },
     "execution_count": 30,
     "metadata": {},
     "output_type": "execute_result"
    }
   ],
   "source": [
    "credits = pd.read_csv('./The_Movies_Dataset/credits.csv', low_memory=False)\n",
    "movies_metadata['id'] = pd.to_numeric(movies_metadata['id'], errors='coerce')\n",
    "credits['id'] = pd.to_numeric(credits['id'], errors='coerce')\n",
    "movies_metadata_credits = movies_metadata.merge(credits, on='id')\n",
    "# Calculating the average rating for each movie is not enough. We need to calculate the weighted rating for each movie.\n",
    "# https://math.stackexchange.com/questions/169032/understanding-the-imdb-weighted-rating-function-for-usage-on-my-own-website\n",
    "# Weighted Rating (WR) = (v ÷ (v+m)) × R + (m ÷ (v+m)) × C\n",
    "\n",
    "# v = number of votes for the movie\n",
    "# m = minimum votes required to be listed in the chart\n",
    "# R = average rating of the movie\n",
    "# C = mean vote across the whole report\n",
    "\n",
    "C = movies_metadata_credits['vote_average'].mean()\n",
    "m = movies_metadata_credits['vote_count'].quantile(0.90)\n",
    "\n",
    "movies_metadata_credits = movies_metadata_credits[movies_metadata_credits['vote_count'] >= m]\n",
    "\n",
    "movies_metadata_credits['score'] = (\n",
    "    (movies_metadata_credits['vote_count'] / (movies_metadata_credits['vote_count'] + m)) * movies_metadata_credits['vote_average'] +\n",
    "    (m / (movies_metadata_credits['vote_count'] + m)) * C\n",
    ")\n",
    "movies_metadata_credits[['id', 'title', 'score']].head()"
   ]
  },
  {
   "cell_type": "code",
   "execution_count": 31,
   "id": "12f3edd2",
   "metadata": {},
   "outputs": [
    {
     "data": {
      "text/plain": "      genres  count     score  percentage  \\\n0     Action   1176  6.140327    9.769876   \n1  Adventure    885  6.242496    7.352330   \n2  Animation    370  6.482123    3.073856   \n3     Comedy   1591  6.124103   13.217579   \n4      Crime    747  6.335402    6.205865   \n\n                                          top_movies  \n0  1. The Dark Knight 2. The Empire Strikes Back ...  \n1  1. Spirited Away 2. The Empire Strikes Back 3....  \n2  1. Spirited Away 2. Your Name. 3. Howl's Movin...  \n3  1. Dilwale Dulhania Le Jayenge 2. Life Is Beau...  \n4  1. The Shawshank Redemption 2. The Godfather 3...  ",
      "text/html": "<div>\n<style scoped>\n    .dataframe tbody tr th:only-of-type {\n        vertical-align: middle;\n    }\n\n    .dataframe tbody tr th {\n        vertical-align: top;\n    }\n\n    .dataframe thead th {\n        text-align: right;\n    }\n</style>\n<table border=\"1\" class=\"dataframe\">\n  <thead>\n    <tr style=\"text-align: right;\">\n      <th></th>\n      <th>genres</th>\n      <th>count</th>\n      <th>score</th>\n      <th>percentage</th>\n      <th>top_movies</th>\n    </tr>\n  </thead>\n  <tbody>\n    <tr>\n      <th>0</th>\n      <td>Action</td>\n      <td>1176</td>\n      <td>6.140327</td>\n      <td>9.769876</td>\n      <td>1. The Dark Knight 2. The Empire Strikes Back ...</td>\n    </tr>\n    <tr>\n      <th>1</th>\n      <td>Adventure</td>\n      <td>885</td>\n      <td>6.242496</td>\n      <td>7.352330</td>\n      <td>1. Spirited Away 2. The Empire Strikes Back 3....</td>\n    </tr>\n    <tr>\n      <th>2</th>\n      <td>Animation</td>\n      <td>370</td>\n      <td>6.482123</td>\n      <td>3.073856</td>\n      <td>1. Spirited Away 2. Your Name. 3. Howl's Movin...</td>\n    </tr>\n    <tr>\n      <th>3</th>\n      <td>Comedy</td>\n      <td>1591</td>\n      <td>6.124103</td>\n      <td>13.217579</td>\n      <td>1. Dilwale Dulhania Le Jayenge 2. Life Is Beau...</td>\n    </tr>\n    <tr>\n      <th>4</th>\n      <td>Crime</td>\n      <td>747</td>\n      <td>6.335402</td>\n      <td>6.205865</td>\n      <td>1. The Shawshank Redemption 2. The Godfather 3...</td>\n    </tr>\n  </tbody>\n</table>\n</div>"
     },
     "execution_count": 31,
     "metadata": {},
     "output_type": "execute_result"
    }
   ],
   "source": [
    "movies_metadata_credits['genres'] = (\n",
    "    movies_metadata_credits['genres']\n",
    "    .fillna('[]')\n",
    "    .apply(literal_eval)\n",
    "    .apply(lambda x: [i['name'] for i in x] if isinstance(x, list) else [])\n",
    ")\n",
    "genres = movies_metadata_credits.explode('genres')\n",
    "genres = genres.groupby('genres').size().reset_index(name='count')\n",
    "genres['score'] = genres['genres'].apply(\n",
    "    lambda x: movies_metadata_credits[\n",
    "        movies_metadata_credits['genres'].apply(lambda y: x in y)\n",
    "    ]['score'].mean()\n",
    ")\n",
    "genres['percentage'] = genres['count'] / genres['count'].sum() * 100\n",
    "genres['top_movies'] = genres['genres'].apply(\n",
    "    lambda x: ' '.join(\n",
    "        f\"{i + 1}. {title}\"\n",
    "        for i, title in enumerate(\n",
    "            movies_metadata_credits[\n",
    "                movies_metadata_credits['genres'].apply(lambda y: x in y)\n",
    "            ]\n",
    "            .sort_values('score', ascending=False)['title']\n",
    "            .head(10)\n",
    "        )\n",
    "    )\n",
    ")\n",
    "genres.head()"
   ]
  },
  {
   "cell_type": "code",
   "execution_count": 32,
   "id": "bec4ece1",
   "metadata": {},
   "outputs": [],
   "source": [
    "# Remove the records with the wrong genres values\n",
    "genres = genres[~genres['genres'].isin(wrong_genres)]"
   ]
  },
  {
   "cell_type": "code",
   "execution_count": 33,
   "id": "8b885384",
   "metadata": {},
   "outputs": [
    {
     "data": {
      "text/plain": "       genres  count     score  percentage  \\\n1   Adventure    885  6.242496    7.352330   \n0      Action   1176  6.140327    9.769876   \n16   Thriller   1407  6.174367   11.688959   \n3      Comedy   1591  6.124103   13.217579   \n6       Drama   1992  6.490417   16.548974   \n\n                                           top_movies  \n1   1. Spirited Away 2. The Empire Strikes Back 3....  \n0   1. The Dark Knight 2. The Empire Strikes Back ...  \n16  1. The Dark Knight 2. Pulp Fiction 3. Psycho 4...  \n3   1. Dilwale Dulhania Le Jayenge 2. Life Is Beau...  \n6   1. The Shawshank Redemption 2. The Godfather 3...  ",
      "text/html": "<div>\n<style scoped>\n    .dataframe tbody tr th:only-of-type {\n        vertical-align: middle;\n    }\n\n    .dataframe tbody tr th {\n        vertical-align: top;\n    }\n\n    .dataframe thead th {\n        text-align: right;\n    }\n</style>\n<table border=\"1\" class=\"dataframe\">\n  <thead>\n    <tr style=\"text-align: right;\">\n      <th></th>\n      <th>genres</th>\n      <th>count</th>\n      <th>score</th>\n      <th>percentage</th>\n      <th>top_movies</th>\n    </tr>\n  </thead>\n  <tbody>\n    <tr>\n      <th>1</th>\n      <td>Adventure</td>\n      <td>885</td>\n      <td>6.242496</td>\n      <td>7.352330</td>\n      <td>1. Spirited Away 2. The Empire Strikes Back 3....</td>\n    </tr>\n    <tr>\n      <th>0</th>\n      <td>Action</td>\n      <td>1176</td>\n      <td>6.140327</td>\n      <td>9.769876</td>\n      <td>1. The Dark Knight 2. The Empire Strikes Back ...</td>\n    </tr>\n    <tr>\n      <th>16</th>\n      <td>Thriller</td>\n      <td>1407</td>\n      <td>6.174367</td>\n      <td>11.688959</td>\n      <td>1. The Dark Knight 2. Pulp Fiction 3. Psycho 4...</td>\n    </tr>\n    <tr>\n      <th>3</th>\n      <td>Comedy</td>\n      <td>1591</td>\n      <td>6.124103</td>\n      <td>13.217579</td>\n      <td>1. Dilwale Dulhania Le Jayenge 2. Life Is Beau...</td>\n    </tr>\n    <tr>\n      <th>6</th>\n      <td>Drama</td>\n      <td>1992</td>\n      <td>6.490417</td>\n      <td>16.548974</td>\n      <td>1. The Shawshank Redemption 2. The Godfather 3...</td>\n    </tr>\n  </tbody>\n</table>\n</div>"
     },
     "execution_count": 33,
     "metadata": {},
     "output_type": "execute_result"
    }
   ],
   "source": [
    "# Remove the records with less than 2% of the total count\n",
    "genres = genres[genres['percentage'] >= threshold]\n",
    "genres = genres.sort_values('count')\n",
    "genres.tail()"
   ]
  },
  {
   "cell_type": "code",
   "execution_count": 34,
   "id": "6f24937c",
   "metadata": {},
   "outputs": [
    {
     "data": {
      "text/html": "\n<style>\n  #altair-viz-23841a46fc624e9287616c3d435d3971.vega-embed {\n    width: 100%;\n    display: flex;\n  }\n\n  #altair-viz-23841a46fc624e9287616c3d435d3971.vega-embed details,\n  #altair-viz-23841a46fc624e9287616c3d435d3971.vega-embed details summary {\n    position: relative;\n  }\n</style>\n<div id=\"altair-viz-23841a46fc624e9287616c3d435d3971\"></div>\n<script type=\"text/javascript\">\n  var VEGA_DEBUG = (typeof VEGA_DEBUG == \"undefined\") ? {} : VEGA_DEBUG;\n  (function(spec, embedOpt){\n    let outputDiv = document.currentScript.previousElementSibling;\n    if (outputDiv.id !== \"altair-viz-23841a46fc624e9287616c3d435d3971\") {\n      outputDiv = document.getElementById(\"altair-viz-23841a46fc624e9287616c3d435d3971\");\n    }\n    const paths = {\n      \"vega\": \"https://cdn.jsdelivr.net/npm/vega@5?noext\",\n      \"vega-lib\": \"https://cdn.jsdelivr.net/npm/vega-lib?noext\",\n      \"vega-lite\": \"https://cdn.jsdelivr.net/npm/vega-lite@5.17.0?noext\",\n      \"vega-embed\": \"https://cdn.jsdelivr.net/npm/vega-embed@6?noext\",\n    };\n\n    function maybeLoadScript(lib, version) {\n      var key = `${lib.replace(\"-\", \"\")}_version`;\n      return (VEGA_DEBUG[key] == version) ?\n        Promise.resolve(paths[lib]) :\n        new Promise(function(resolve, reject) {\n          var s = document.createElement('script');\n          document.getElementsByTagName(\"head\")[0].appendChild(s);\n          s.async = true;\n          s.onload = () => {\n            VEGA_DEBUG[key] = version;\n            return resolve(paths[lib]);\n          };\n          s.onerror = () => reject(`Error loading script: ${paths[lib]}`);\n          s.src = paths[lib];\n        });\n    }\n\n    function showError(err) {\n      outputDiv.innerHTML = `<div class=\"error\" style=\"color:red;\">${err}</div>`;\n      throw err;\n    }\n\n    function displayChart(vegaEmbed) {\n      vegaEmbed(outputDiv, spec, embedOpt)\n        .catch(err => showError(`Javascript Error: ${err.message}<br>This usually means there's a typo in your chart specification. See the javascript console for the full traceback.`));\n    }\n\n    if(typeof define === \"function\" && define.amd) {\n      requirejs.config({paths});\n      require([\"vega-embed\"], displayChart, err => showError(`Error loading script: ${err.message}`));\n    } else {\n      maybeLoadScript(\"vega\", \"5\")\n        .then(() => maybeLoadScript(\"vega-lite\", \"5.17.0\"))\n        .then(() => maybeLoadScript(\"vega-embed\", \"6\"))\n        .catch(showError)\n        .then(() => displayChart(vegaEmbed));\n    }\n  })({\"config\": {\"view\": {\"continuousWidth\": 300, \"continuousHeight\": 300}}, \"data\": {\"name\": \"data-4f4bfe053956dba98075f9f7c773a1b8\"}, \"mark\": {\"type\": \"arc\"}, \"encoding\": {\"color\": {\"field\": \"genres\", \"type\": \"nominal\"}, \"order\": {\"field\": \"count\", \"sort\": \"descending\", \"type\": \"quantitative\"}, \"theta\": {\"field\": \"percentage\", \"stack\": true, \"type\": \"quantitative\"}, \"tooltip\": [{\"field\": \"genres\", \"title\": \"Genre\", \"type\": \"nominal\"}, {\"field\": \"percentage\", \"format\": \".2f\", \"title\": \"Percentage\", \"type\": \"quantitative\"}, {\"field\": \"top_movies\", \"title\": \"Top Movies\", \"type\": \"nominal\"}]}, \"params\": [{\"name\": \"param_9\", \"select\": {\"type\": \"interval\", \"encodings\": [\"x\", \"y\"]}, \"bind\": \"scales\"}], \"title\": \"Genres Distribution and Top Movies\", \"$schema\": \"https://vega.github.io/schema/vega-lite/v5.17.0.json\", \"datasets\": {\"data-4f4bfe053956dba98075f9f7c773a1b8\": [{\"genres\": \"Animation\", \"count\": 370, \"score\": 6.48212339550624, \"percentage\": 3.073855611863421, \"top_movies\": \"1. Spirited Away 2. Your Name. 3. Howl's Moving Castle 4. Princess Mononoke 5. The Lion King 6. Inside Out 7. Grave of the Fireflies 8. My Neighbor Totoro 9. Up 10. WALL\\u00b7E\"}, {\"genres\": \"Mystery\", \"count\": 401, \"score\": 6.326470556321798, \"percentage\": 3.3313948658303567, \"top_movies\": \"1. Inception 2. Se7en 3. Memento 4. Rear Window 5. The Prestige 6. Gone Girl 7. Oldboy 8. 2001: A Space Odyssey 9. Shutter Island 10. Citizen Kane\"}, {\"genres\": \"Fantasy\", \"count\": 516, \"score\": 6.225767863757777, \"percentage\": 4.286782420868987, \"top_movies\": \"1. Spirited Away 2. The Green Mile 3. The Lord of the Rings: The Return of the King 4. Howl's Moving Castle 5. Princess Mononoke 6. The Lord of the Rings: The Fellowship of the Ring 7. The Lord of the Rings: The Two Towers 8. Harry Potter and the Deathly Hallows: Part 2 9. My Neighbor Totoro 10. It's a Wonderful Life\"}, {\"genres\": \"Family\", \"count\": 541, \"score\": 6.245337421301623, \"percentage\": 4.4944753676165154, \"top_movies\": \"1. Spirited Away 2. Back to the Future 3. The Lion King 4. Inside Out 5. Harry Potter and the Deathly Hallows: Part 2 6. My Neighbor Totoro 7. Up 8. WALL\\u00b7E 9. Big Hero 6 10. It's a Wonderful Life\"}, {\"genres\": \"Horror\", \"count\": 572, \"score\": 5.939149434133186, \"percentage\": 4.752014621583451, \"top_movies\": \"1. Psycho 2. The Shining 3. Alien 4. The Thing 5. Aliens 6. Train to Busan 7. Jaws 8. Shaun of the Dead 9. The Exorcist 10. The Conjuring\"}, {\"genres\": \"Science Fiction\", \"count\": 588, \"score\": 6.193821775540929, \"percentage\": 4.884938107501869, \"top_movies\": \"1. The Empire Strikes Back 2. Inception 3. Interstellar 4. Star Wars 5. Back to the Future 6. A Clockwork Orange 7. Guardians of the Galaxy 8. The Matrix 9. Return of the Jedi 10. Alien\"}, {\"genres\": \"Romance\", \"count\": 704, \"score\": 6.320627696052669, \"percentage\": 5.848633380410401, \"top_movies\": \"1. Dilwale Dulhania Le Jayenge 2. Forrest Gump 3. Your Name. 4. La La Land 5. Her 6. Eternal Sunshine of the Spotless Mind 7. Cinema Paradiso 8. Vertigo 9. Am\\u00e9lie 10. The Theory of Everything\"}, {\"genres\": \"Crime\", \"count\": 747, \"score\": 6.335401829372328, \"percentage\": 6.20586524881615, \"top_movies\": \"1. The Shawshank Redemption 2. The Godfather 3. The Dark Knight 4. Pulp Fiction 5. The Godfather: Part II 6. Leon: The Professional 7. The Green Mile 8. GoodFellas 9. Se7en 10. The Silence of the Lambs\"}, {\"genres\": \"Adventure\", \"count\": 885, \"score\": 6.24249574681646, \"percentage\": 7.352330314862507, \"top_movies\": \"1. Spirited Away 2. The Empire Strikes Back 3. Inception 4. Interstellar 5. The Lord of the Rings: The Return of the King 6. Star Wars 7. Howl's Moving Castle 8. Princess Mononoke 9. The Lord of the Rings: The Fellowship of the Ring 10. The Lord of the Rings: The Two Towers\"}, {\"genres\": \"Action\", \"count\": 1176, \"score\": 6.14032683671411, \"percentage\": 9.769876215003737, \"top_movies\": \"1. The Dark Knight 2. The Empire Strikes Back 3. Inception 4. The Lord of the Rings: The Return of the King 5. Star Wars 6. The Lord of the Rings: The Fellowship of the Ring 7. The Lord of the Rings: The Two Towers 8. Scarface 9. Guardians of the Galaxy 10. The Matrix\"}, {\"genres\": \"Thriller\", \"count\": 1407, \"score\": 6.174366611282802, \"percentage\": 11.688959042950902, \"top_movies\": \"1. The Dark Knight 2. Pulp Fiction 3. Psycho 4. Leon: The Professional 5. Inception 6. Se7en 7. The Silence of the Lambs 8. Memento 9. The Shining 10. Reservoir Dogs\"}, {\"genres\": \"Comedy\", \"count\": 1591, \"score\": 6.124103331478091, \"percentage\": 13.21757913101271, \"top_movies\": \"1. Dilwale Dulhania Le Jayenge 2. Life Is Beautiful 3. Forrest Gump 4. The Intouchables 5. Back to the Future 6. The Grand Budapest Hotel 7. The Wolf of Wall Street 8. Inside Out 9. La La Land 10. Dr. Strangelove or: How I Learned to Stop Worrying and Love the Bomb\"}, {\"genres\": \"Drama\", \"count\": 1992, \"score\": 6.4904170201383105, \"percentage\": 16.548973996843067, \"top_movies\": \"1. The Shawshank Redemption 2. The Godfather 3. Dilwale Dulhania Le Jayenge 4. The Dark Knight 5. Fight Club 6. Schindler's List 7. Whiplash 8. Life Is Beautiful 9. The Godfather: Part II 10. One Flew Over the Cuckoo's Nest\"}]}}, {\"mode\": \"vega-lite\"});\n</script>",
      "text/plain": "alt.Chart(...)"
     },
     "execution_count": 34,
     "metadata": {},
     "output_type": "execute_result"
    }
   ],
   "source": [
    "# Plot the genres distribution and show top 10 movies as a tooltip\n",
    "alt.Chart(genres).mark_arc().encode(\n",
    "    theta=alt.Theta(field='percentage', type='quantitative', stack=True),\n",
    "    color=alt.Color(field='genres', type='nominal'),\n",
    "    tooltip=[alt.Tooltip('genres', title='Genre'), alt.Tooltip('percentage', format='.2f', title='Percentage'), alt.Tooltip('top_movies', title='Top Movies')],\n",
    "    order=alt.Order('count', sort='descending')\n",
    ").properties(\n",
    "    title='Genres Distribution and Top Movies'\n",
    ").interactive()"
   ]
  },
  {
   "cell_type": "markdown",
   "id": "cb7baabd",
   "metadata": {},
   "source": [
    "### Visualition #3: Recommendation System\n",
    "The third visualization tries to recommend similar movies based on the movie overview and show the popularity and vote average of the movies, so the user can make an informed decision."
   ]
  },
  {
   "cell_type": "code",
   "execution_count": 35,
   "id": "e9d6e4b1",
   "metadata": {},
   "outputs": [],
   "source": [
    "import os\n",
    "from sentence_transformers import SentenceTransformer\n",
    "\n",
    "model_name = 'all-MiniLM-L6-v2'\n",
    "model_directory = './models'\n",
    "\n",
    "# Create the models directory if it doesn't exist\n",
    "os.makedirs(model_directory, exist_ok=True)\n",
    "\n",
    "model_path = os.path.join(model_directory, model_name)\n",
    "\n",
    "# Check if the model is already saved on disk\n",
    "if os.path.exists(model_path):\n",
    "    # Load the model from disk\n",
    "    model = SentenceTransformer(model_path)\n",
    "else:\n",
    "    # Download the model and save it to disk\n",
    "    model = SentenceTransformer(model_name)\n",
    "    model.save(model_path)"
   ]
  },
  {
   "cell_type": "code",
   "execution_count": 36,
   "id": "b987e5fc",
   "metadata": {},
   "outputs": [],
   "source": [
    "import numpy as np\n",
    "from sklearn.metrics.pairwise import cosine_similarity\n",
    "\n",
    "movies_metadata_overview = movies_metadata[['id', 'title', 'overview', 'popularity', 'vote_average']].copy()\n",
    "# Cache the embeddings in a folder\n",
    "embeddings_directory = './embeddings'\n",
    "os.makedirs(embeddings_directory, exist_ok=True)\n",
    "if os.path.exists(os.path.join(embeddings_directory, 'movies_metadata_overview_embeddings.npy')):\n",
    "    embeddings = np.load(os.path.join(embeddings_directory, 'movies_metadata_overview_embeddings.npy'))\n",
    "else:\n",
    "    # Generate the embeddings\n",
    "    embeddings = model.encode(movies_metadata_overview['overview'].astype(str).tolist())\n",
    "    # Save the embeddings to disk\n",
    "    np.save(os.path.join(embeddings_directory, 'movies_metadata_overview_embeddings.npy'), embeddings)"
   ]
  },
  {
   "cell_type": "code",
   "execution_count": 37,
   "id": "589ea87e",
   "metadata": {},
   "outputs": [
    {
     "data": {
      "text/plain": "             id               title  \\\n93       9208.0        Broken Arrow   \n24241  190859.0     American Sniper   \n26377   99234.0       Thunder Birds   \n5665     8427.0               I Spy   \n4828     8007.0  Behind Enemy Lines   \n\n                                                overview  popularity  \\\n93     When rogue stealth-fighter pilot Vic Deakins d...       14.96   \n24241  U.S. Navy SEAL Chris Kyle takes his sole missi...       19.23   \n26377  On a secluded base in Arizona, veteran World W...        0.08   \n5665   When the Switchblade, the most sophisticated p...       10.40   \n4828   While flying a routine reconnaissance mission ...       11.19   \n\n       vote_average   query_title  \n93              5.7  Broken Arrow  \n24241           7.4  Broken Arrow  \n26377           0.0  Broken Arrow  \n5665            5.2  Broken Arrow  \n4828            6.0  Broken Arrow  ",
      "text/html": "<div>\n<style scoped>\n    .dataframe tbody tr th:only-of-type {\n        vertical-align: middle;\n    }\n\n    .dataframe tbody tr th {\n        vertical-align: top;\n    }\n\n    .dataframe thead th {\n        text-align: right;\n    }\n</style>\n<table border=\"1\" class=\"dataframe\">\n  <thead>\n    <tr style=\"text-align: right;\">\n      <th></th>\n      <th>id</th>\n      <th>title</th>\n      <th>overview</th>\n      <th>popularity</th>\n      <th>vote_average</th>\n      <th>query_title</th>\n    </tr>\n  </thead>\n  <tbody>\n    <tr>\n      <th>93</th>\n      <td>9208.0</td>\n      <td>Broken Arrow</td>\n      <td>When rogue stealth-fighter pilot Vic Deakins d...</td>\n      <td>14.96</td>\n      <td>5.7</td>\n      <td>Broken Arrow</td>\n    </tr>\n    <tr>\n      <th>24241</th>\n      <td>190859.0</td>\n      <td>American Sniper</td>\n      <td>U.S. Navy SEAL Chris Kyle takes his sole missi...</td>\n      <td>19.23</td>\n      <td>7.4</td>\n      <td>Broken Arrow</td>\n    </tr>\n    <tr>\n      <th>26377</th>\n      <td>99234.0</td>\n      <td>Thunder Birds</td>\n      <td>On a secluded base in Arizona, veteran World W...</td>\n      <td>0.08</td>\n      <td>0.0</td>\n      <td>Broken Arrow</td>\n    </tr>\n    <tr>\n      <th>5665</th>\n      <td>8427.0</td>\n      <td>I Spy</td>\n      <td>When the Switchblade, the most sophisticated p...</td>\n      <td>10.40</td>\n      <td>5.2</td>\n      <td>Broken Arrow</td>\n    </tr>\n    <tr>\n      <th>4828</th>\n      <td>8007.0</td>\n      <td>Behind Enemy Lines</td>\n      <td>While flying a routine reconnaissance mission ...</td>\n      <td>11.19</td>\n      <td>6.0</td>\n      <td>Broken Arrow</td>\n    </tr>\n  </tbody>\n</table>\n</div>"
     },
     "execution_count": 37,
     "metadata": {},
     "output_type": "execute_result"
    }
   ],
   "source": [
    "# Function to find similar movies\n",
    "def find_similar_movies(movie_title, top_n=10):\n",
    "    idx = movies_metadata_overview[movies_metadata_overview['title'] == movie_title].index[0]\n",
    "    query_embedding = embeddings[idx].reshape(1, -1)\n",
    "\n",
    "    # Calculate cosine similarity between the query and all movie embeddings\n",
    "    similarities = cosine_similarity(query_embedding, embeddings).flatten()\n",
    "\n",
    "    # Get the top N similar movies\n",
    "    similar_indices = similarities.argsort()[::-1][1:top_n+1]\n",
    "    similar_indices = np.append(idx, similar_indices)\n",
    "    similar_movies = movies_metadata_overview.iloc[similar_indices]\n",
    "\n",
    "    return similar_movies\n",
    "\n",
    "# Pick 5 movies from the top 100 movies\n",
    "filtered_movies = movies_metadata_credits.head(100).sample(5)\n",
    "similar_movies = pd.concat([find_similar_movies(movie_title).assign(query_title=movie_title) for movie_title in filtered_movies['title']])\n",
    "similar_movies = similar_movies.copy()\n",
    "similar_movies['popularity'] = similar_movies['popularity'].astype(float).round(2)\n",
    "similar_movies.head()"
   ]
  },
  {
   "cell_type": "code",
   "execution_count": 38,
   "id": "0cbf5f97",
   "metadata": {},
   "outputs": [
    {
     "data": {
      "text/html": "\n<style>\n  #altair-viz-a26ecb031ec944cf9fdaa3b8eef4f90a.vega-embed {\n    width: 100%;\n    display: flex;\n  }\n\n  #altair-viz-a26ecb031ec944cf9fdaa3b8eef4f90a.vega-embed details,\n  #altair-viz-a26ecb031ec944cf9fdaa3b8eef4f90a.vega-embed details summary {\n    position: relative;\n  }\n</style>\n<div id=\"altair-viz-a26ecb031ec944cf9fdaa3b8eef4f90a\"></div>\n<script type=\"text/javascript\">\n  var VEGA_DEBUG = (typeof VEGA_DEBUG == \"undefined\") ? {} : VEGA_DEBUG;\n  (function(spec, embedOpt){\n    let outputDiv = document.currentScript.previousElementSibling;\n    if (outputDiv.id !== \"altair-viz-a26ecb031ec944cf9fdaa3b8eef4f90a\") {\n      outputDiv = document.getElementById(\"altair-viz-a26ecb031ec944cf9fdaa3b8eef4f90a\");\n    }\n    const paths = {\n      \"vega\": \"https://cdn.jsdelivr.net/npm/vega@5?noext\",\n      \"vega-lib\": \"https://cdn.jsdelivr.net/npm/vega-lib?noext\",\n      \"vega-lite\": \"https://cdn.jsdelivr.net/npm/vega-lite@5.17.0?noext\",\n      \"vega-embed\": \"https://cdn.jsdelivr.net/npm/vega-embed@6?noext\",\n    };\n\n    function maybeLoadScript(lib, version) {\n      var key = `${lib.replace(\"-\", \"\")}_version`;\n      return (VEGA_DEBUG[key] == version) ?\n        Promise.resolve(paths[lib]) :\n        new Promise(function(resolve, reject) {\n          var s = document.createElement('script');\n          document.getElementsByTagName(\"head\")[0].appendChild(s);\n          s.async = true;\n          s.onload = () => {\n            VEGA_DEBUG[key] = version;\n            return resolve(paths[lib]);\n          };\n          s.onerror = () => reject(`Error loading script: ${paths[lib]}`);\n          s.src = paths[lib];\n        });\n    }\n\n    function showError(err) {\n      outputDiv.innerHTML = `<div class=\"error\" style=\"color:red;\">${err}</div>`;\n      throw err;\n    }\n\n    function displayChart(vegaEmbed) {\n      vegaEmbed(outputDiv, spec, embedOpt)\n        .catch(err => showError(`Javascript Error: ${err.message}<br>This usually means there's a typo in your chart specification. See the javascript console for the full traceback.`));\n    }\n\n    if(typeof define === \"function\" && define.amd) {\n      requirejs.config({paths});\n      require([\"vega-embed\"], displayChart, err => showError(`Error loading script: ${err.message}`));\n    } else {\n      maybeLoadScript(\"vega\", \"5\")\n        .then(() => maybeLoadScript(\"vega-lite\", \"5.17.0\"))\n        .then(() => maybeLoadScript(\"vega-embed\", \"6\"))\n        .catch(showError)\n        .then(() => displayChart(vegaEmbed));\n    }\n  })({\"config\": {\"view\": {\"continuousWidth\": 300, \"continuousHeight\": 300}}, \"data\": {\"name\": \"data-db2d4861a7cc6328f0f4d392cd37db50\"}, \"mark\": {\"type\": \"point\"}, \"encoding\": {\"color\": {\"field\": \"title\", \"title\": \"Title\", \"type\": \"nominal\"}, \"tooltip\": [{\"field\": \"title\", \"type\": \"nominal\"}, {\"field\": \"overview\", \"type\": \"nominal\"}], \"x\": {\"field\": \"popularity\", \"title\": \"Popularity\", \"type\": \"quantitative\"}, \"y\": {\"field\": \"vote_average\", \"title\": \"Vote Average\", \"type\": \"quantitative\"}}, \"height\": 400, \"params\": [{\"name\": \"param_10\", \"select\": {\"type\": \"point\", \"fields\": [\"query_title\"]}, \"bind\": {\"input\": \"select\", \"options\": [\"Broken Arrow\", \"Father of the Bride Part II\", \"Natural Born Killers\", \"Ace Ventura: When Nature Calls\", \"Little Women\"], \"name\": \" \"}, \"value\": \"Broken Arrow\"}, {\"name\": \"param_11\", \"select\": {\"type\": \"interval\", \"encodings\": [\"x\", \"y\"]}, \"bind\": \"scales\"}], \"title\": \"Similar Movies to Selected Movie\", \"transform\": [{\"filter\": {\"param\": \"param_10\"}}], \"width\": 600, \"$schema\": \"https://vega.github.io/schema/vega-lite/v5.17.0.json\", \"datasets\": {\"data-db2d4861a7cc6328f0f4d392cd37db50\": [{\"id\": 9208.0, \"title\": \"Broken Arrow\", \"overview\": \"When rogue stealth-fighter pilot Vic Deakins deliberately drops off the radar while on maneuvers, the Air Force ends up with two stolen nuclear warheads -- and Deakins's co-pilot, Riley Hale, is the military's only hope for getting them back. Traversing the deserted canyons of Utah, Hale teams with park ranger Terry Carmichael to put Deakins back in his box.\", \"popularity\": 14.96, \"vote_average\": 5.7, \"query_title\": \"Broken Arrow\"}, {\"id\": 190859.0, \"title\": \"American Sniper\", \"overview\": \"U.S. Navy SEAL Chris Kyle takes his sole mission\\u2014protect his comrades\\u2014to heart and becomes one of the most lethal snipers in American history. His pinpoint accuracy not only saves countless lives but also makes him a prime target of insurgents. Despite grave danger and his struggle to be a good husband and father to his family back in the States, Kyle serves four tours of duty in Iraq. However, when he finally returns home, he finds that he cannot leave the war behind.\", \"popularity\": 19.23, \"vote_average\": 7.4, \"query_title\": \"Broken Arrow\"}, {\"id\": 99234.0, \"title\": \"Thunder Birds\", \"overview\": \"On a secluded base in Arizona, veteran World War I pilot Steve Britt trains flyers to fight in World War II. One of his trainees, Englishman Peter Stackhouse, competes with Britt for the affections of Kay Saunders, the daughter of a local rancher. Despite their differences, Britt makes sure Sutton passes his training and becomes a combat pilot -- even though he loses Kay to the young man in the process.\", \"popularity\": 0.08, \"vote_average\": 0.0, \"query_title\": \"Broken Arrow\"}, {\"id\": 8427.0, \"title\": \"I Spy\", \"overview\": \"When the Switchblade, the most sophisticated prototype stealth fighter created yet, is stolen from the U.S. government, one of the United States' top spies, Alex Scott, is called to action. What he doesn't expect is to get teamed up with a cocky civilian, World Class Boxing Champion Kelly Robinson, on a dangerous top secret espionage mission. Their assignment: using equal parts skill and humor, catch Arnold Gundars, one of the world's most successful arms dealers.\", \"popularity\": 10.4, \"vote_average\": 5.2, \"query_title\": \"Broken Arrow\"}, {\"id\": 8007.0, \"title\": \"Behind Enemy Lines\", \"overview\": \"While flying a routine reconnaissance mission over Bosnia, fighter pilot Chris Burnett photographs something he wasn't supposed to see and gets shot down behind enemy lines, where he must outrun an army led by a ruthless Serbian general. With time running out and a deadly tracker on his trail, Burnett's commanding officer decides to risk his career and launch a renegade rescue mission to save his life.\", \"popularity\": 11.19, \"vote_average\": 6.0, \"query_title\": \"Broken Arrow\"}, {\"id\": 30817.0, \"title\": \"Stealth Fighter\", \"overview\": \"A navy pilot fakes his own death and steals a stealth fighter plane from a U.S.A.F base. He then acts as a mercenary, targeting military installations around the world.\", \"popularity\": 1.02, \"vote_average\": 4.3, \"query_title\": \"Broken Arrow\"}, {\"id\": 11037.0, \"title\": \"Iron Eagle\", \"overview\": \"When Doug's father, an Air Force Pilot, is shot down by MiGs belonging to a radical Middle Eastern state, no one seems able to get him out. Doug finds Chappy, an Air Force Colonel who is intrigued by the idea of sending in two fighters piloted by himself and Doug to rescue Doug's father after bombing the MiG base.\", \"popularity\": 4.33, \"vote_average\": 4.8, \"query_title\": \"Broken Arrow\"}, {\"id\": 230179.0, \"title\": \"Big Game\", \"overview\": \"Air Force One is shot down by terrorists, leaving the President of the United States stranded in the wilderness. 13-year old Oskari is also in that wilderness, on a hunting mission to prove his maturity to his kinsfolk by tracking down a deer, but instead discovers the President in an escape pod. With the terrorists closing in to capture their prize, the unlikely duo team up to escape their hunters.\", \"popularity\": 6.91, \"vote_average\": 5.3, \"query_title\": \"Broken Arrow\"}, {\"id\": 192371.0, \"title\": \"Clipped Wings\", \"overview\": \"Slip and correspondence school pilot Sach, go to an air base to help a pal out...but find themselves in when they mistakenly sign enlistment forms. Can the Air Force turn these dodos into eagles? The guys may be airborne airheads, But just watch them find a way to ground a spy network that's infiltrated the base.\", \"popularity\": 0.0, \"vote_average\": 0.0, \"query_title\": \"Broken Arrow\"}, {\"id\": 45006.0, \"title\": \"Interceptor\", \"overview\": \"A U.S. Air Force officer tries to stop a murderous group of terrorists whom are trying to steal two top secret F-117A Stealth Fighters from the cargo hold of a gigantic C-5 Galaxy Transport flying at 30,000 feet over the Atlantic Ocean.\", \"popularity\": 0.5, \"vote_average\": 5.6, \"query_title\": \"Broken Arrow\"}, {\"id\": 57483.0, \"title\": \"Special Forces\", \"overview\": \"When the crazed commander (Eli Danker) of a sadistic army in Moldavia kidnaps an American photojournalist (Daniella Deutscher) and holds her hostage, his misguided actions ignite a targeted response from Maj. Don Harding (Marshall R. Teague) and his trained squad of special forces soldiers. With help from a local schoolteacher (Scott Adkins) who's trained in martial arts, Maj. Harding readies his troops for an all-out offensive.\", \"popularity\": 0.45, \"vote_average\": 4.8, \"query_title\": \"Broken Arrow\"}, {\"id\": 11862.0, \"title\": \"Father of the Bride Part II\", \"overview\": \"Just when George Banks has recovered from his daughter's wedding, he receives the news that she's pregnant ... and that George's wife, Nina, is expecting too. He was planning on selling their home, but that's a plan that -- like George -- will have to change with the arrival of both a grandchild and a kid of his own.\", \"popularity\": 8.39, \"vote_average\": 5.7, \"query_title\": \"Father of the Bride Part II\"}, {\"id\": 11846.0, \"title\": \"Father of the Bride\", \"overview\": \"George Banks is an ordinary, middle-class man whose 21 year-old daughter Annie has decided to marry a man from an upper-class family, but George can't think of what life would be like without his daughter. He becomes slightly insane, but his wife tries to make him happy for Annie, but when the wedding takes place at their home and a foreign wedding planner takes over the ceremony.\", \"popularity\": 5.49, \"vote_average\": 6.2, \"query_title\": \"Father of the Bride Part II\"}, {\"id\": 137429.0, \"title\": \"Babbitt\", \"overview\": \"Middle aged George F. Babbitt is a leading citizen in the town of Zenith, the fastest growing community in America according to its town sign. George is a large part of that growth as a property developer and realtor. He is lovingly married to his wife Myra, the two who have two children, Ted and Verona who are approaching adulthood. George has always had a fearless attitude, much like that of a naive child, which has led to his business success. He encounters some personal stresses when he faces what he believes is a potential home-wrecking issue, and when his oldest friend Paul and his wife Zilla deal with domestic problems. These stresses make George want to provide even more to his own family, leading to George agreeing to participate in a less than scrupulous but lucrative business dealing. George's bravura gets him into a potential scandal. This situation makes him question his general behavior, especially toward his family.\", \"popularity\": 0.56, \"vote_average\": 0.0, \"query_title\": \"Father of the Bride Part II\"}, {\"id\": 20758.0, \"title\": \"Father of the Bride\", \"overview\": \"Proud father Stanley Banks remembers the day his daughter, Kay, got married. Starting when she announces her engagement through to the wedding itself, we learn of all the surprises and disasters along the way.\", \"popularity\": 2.47, \"vote_average\": 6.6, \"query_title\": \"Father of the Bride Part II\"}, {\"id\": 85340.0, \"title\": \"A One-Way Trip to Antibes\", \"overview\": \"When George (Sven-Bertil Taube), a half-blind widower, learns that his children (Malin Morgan, Dan Ekborg) have conceived an elaborate plan to get their hands on his assets before he dies, he must confront his life choices. After catching his young home help Maria (Rebecca Ferguson's screen debut) red-handed in the act of stealing, George blackmails her into assisting him in a counterattack, triggering off a chain reaction in the family. George's children discover that he has a secret mistress in France.\", \"popularity\": 0.2, \"vote_average\": 6.0, \"query_title\": \"Father of the Bride Part II\"}, {\"id\": 140413.0, \"title\": \"All Night Long\", \"overview\": \"Executive George Dupler loses his temper and is demoted to the night manager at a 24 hour drugstore. After he suggests to his teenage son Freddie that he stop having an affair with suburban housewife Cheryl Gibbons, who is a distant cousin, Cheryl tries to seduce George. At home, in front of his mother, Freddie accuses his dad of stealing his girl, because he found Cheryl serving George a meal in the middle of the night, while her husband Bobby was on duty at the fire station. George then separates from his wife Helen, quits his job, moves into a warehouse, and asks Cheryl to move in with him\", \"popularity\": 0.71, \"vote_average\": 7.3, \"query_title\": \"Father of the Bride Part II\"}, {\"id\": 79316.0, \"title\": \"Devil's Due\", \"overview\": \"An unexpected pregnancy takes a terrifying turn for newlyweds Zach and Samantha McCall.\", \"popularity\": 10.59, \"vote_average\": 4.4, \"query_title\": \"Father of the Bride Part II\"}, {\"id\": 300945.0, \"title\": \"\\u039d\\u03cc\\u03bc\\u03bf\\u03c2 4000\", \"overview\": \"Maria falls in love with George who is a student of her strict father, Andreas Economou. Dolly, a classmate of Maria spends a night with George and the next morning tells Maria about it. ..\", \"popularity\": 0.05, \"vote_average\": 9.0, \"query_title\": \"Father of the Bride Part II\"}, {\"id\": 244268.0, \"title\": \"Love Is Strange\", \"overview\": \"After 39 years together, Ben and George finally tie the knot, but George loses his job as a result, and the newlyweds must sell their New York apartment and live apart, relying on friends and family to make ends meet.\", \"popularity\": 6.16, \"vote_average\": 6.4, \"query_title\": \"Father of the Bride Part II\"}, {\"id\": 48281.0, \"title\": \"Before You Say 'I Do'\", \"overview\": \"George Murray's fianc\\u00e9e Jane Gardner gets cold feet after accepting his ring, terrorized by her first wedding with Doug, who cheated that very day with their wedding coordinator. After a car crash, George finds himself 10 years in the past, just days before Doug's day.\", \"popularity\": 0.82, \"vote_average\": 5.2, \"query_title\": \"Father of the Bride Part II\"}, {\"id\": 85942.0, \"title\": \"Model Shop\", \"overview\": \"While trying to raise money to prevent his car from being repossessed, George is attracted to Lola, a Frenchwoman who works in a \\\"model shop\\\" (an establishment which rents out beautiful pin-up models to photographers). George spends his last twelve dollars to photograph her, and discovers that she is as unhappy as he.\", \"popularity\": 0.11, \"vote_average\": 8.0, \"query_title\": \"Father of the Bride Part II\"}, {\"id\": 241.0, \"title\": \"Natural Born Killers\", \"overview\": \"Two victims of traumatized childhoods become lovers and psychopathic serial murderers irresponsibly glorified by the mass media.\", \"popularity\": 11.23, \"vote_average\": 6.9, \"query_title\": \"Natural Born Killers\"}, {\"id\": 206997.0, \"title\": \"Appropriate Adult\", \"overview\": \"Dramatisation of the case of serial killers Fred and Rose West, focusing on the way in which they were brought to justice.\", \"popularity\": 0.99, \"vote_average\": 7.0, \"query_title\": \"Natural Born Killers\"}, {\"id\": 93782.0, \"title\": \"Fate\", \"overview\": \"Serial killers have plagued the American landscape for decades, committing gruesome atrocities, and providing some tough cases for criminal investigators to crack. This thriller follows the travails of two detectives who are on the trail of a bizarre murderer intent on slaughtering his victims, then using them as real-life puppets in a tale that he is trying to tell. The plot holds a key to the whereabouts of the monstrous deviant, but the detectives have to unravel it quickly before more unsuspecting citizens become theater fodder for the unhinged madman.\", \"popularity\": 0.01, \"vote_average\": 0.0, \"query_title\": \"Natural Born Killers\"}, {\"id\": 278772.0, \"title\": \"Serial Killer Culture\", \"overview\": \"Serial Killer Culture examines the reasons why artists and collectors are fascinated by serial killers.\", \"popularity\": 0.3, \"vote_average\": 5.0, \"query_title\": \"Natural Born Killers\"}, {\"id\": 430826.0, \"title\": \"Casting JonBenet\", \"overview\": \"Twenty years after the modern world's most notorious child murder, the legacy of the crime and its impact are explored.\", \"popularity\": 1.8, \"vote_average\": 5.4, \"query_title\": \"Natural Born Killers\"}, {\"id\": 176.0, \"title\": \"Saw\", \"overview\": \"Obsessed with teaching his victims the value of life, a deranged, sadistic serial killer abducts the morally wayward. Once captured, they must face impossible choices in a horrific game of survival. The victims must fight to win their lives back, or die trying...\", \"popularity\": 23.51, \"vote_average\": 7.2, \"query_title\": \"Natural Born Killers\"}, {\"id\": 52788.0, \"title\": \"Sisters\", \"overview\": \"A reporter witnesses a brutal murder, and becomes entangled in a mystery involving a pair of Siamese twins who were separated at birth, one of them forced to live under the eye of a watchful, controlling psychiatrist.\", \"popularity\": 1.24, \"vote_average\": 3.9, \"query_title\": \"Natural Born Killers\"}, {\"id\": 47900.0, \"title\": \"Birds, Orphans and Fools\", \"overview\": \"In the aftermath of war, two men and a woman begin acting more like children than adults, leading to tragedy.\", \"popularity\": 0.71, \"vote_average\": 7.0, \"query_title\": \"Natural Born Killers\"}, {\"id\": 28321.0, \"title\": \"Naked Violence\", \"overview\": \"Some youngsters rape and kill their teacher; but they won't tell their motivation. The police detective on the case feels some sinister influence behind the young murderers.\", \"popularity\": 1.08, \"vote_average\": 6.1, \"query_title\": \"Natural Born Killers\"}, {\"id\": 41445.0, \"title\": \"Psychosis\", \"overview\": \"A serial killer unleashes his blood lust at a remote environmental-camp. Years later a horror novelist relocates to rural England and is plagued to the point of madness by horrific hauntings of a massacre.\", \"popularity\": 0.96, \"vote_average\": 3.7, \"query_title\": \"Natural Born Killers\"}, {\"id\": 288503.0, \"title\": \"Killjoy\", \"overview\": \"Story of a young woman's murder and the people who become involved with it.\", \"popularity\": 0.16, \"vote_average\": 10.0, \"query_title\": \"Natural Born Killers\"}, {\"id\": 9273.0, \"title\": \"Ace Ventura: When Nature Calls\", \"overview\": \"Summoned from an ashram in Tibet, Ace finds himself on a perilous journey into the jungles of Africa to find Shikaka, the missing sacred animal of the friendly Wachati tribe. He must accomplish this before the wedding of the Wachati's Princess to the prince of the warrior Wachootoos. If Ace fails, the result will be a vicious tribal war.\", \"popularity\": 8.21, \"vote_average\": 6.1, \"query_title\": \"Ace Ventura: When Nature Calls\"}, {\"id\": 128.0, \"title\": \"Princess Mononoke\", \"overview\": \"Ashitaka, a prince of the disappearing Ainu tribe, is cursed by a demonized boar god and must journey to the west to find a cure. Along the way, he encounters San, a young human woman fighting to protect the forest, and Lady Eboshi, who is trying to destroy it. Ashitaka must find a way to bring balance to this conflict.\", \"popularity\": 17.17, \"vote_average\": 8.2, \"query_title\": \"Ace Ventura: When Nature Calls\"}, {\"id\": 52980.0, \"title\": \"The Yakuza Papers, Vol. 2: Deadly Fight in Hiroshima\", \"overview\": \"Repeatedly beat to a pulp by gamblers, cops, and gangsters, lone wolf Shoji Yamanaka (Kinya Kitaoji) finally finds a home as a Muraoka family hit man and falls in love with boss Muraoka's niece. Meanwhile, the ambitions of mad dog Katsutoshi Otomo (Sonny Chiba) draws our series' hero, Shozo Hirono (Bunta Sugawara) into a new round of bloodshed, culminating with the tragic demise of the young Yamanaka.\", \"popularity\": 1.49, \"vote_average\": 7.7, \"query_title\": \"Ace Ventura: When Nature Calls\"}, {\"id\": 256040.0, \"title\": \"Baahubali: The Beginning\", \"overview\": \"The young Shivudu is left as a foundling in a small village by his mother. By the time he\\u2019s grown up, it has become apparent that he possesses exceptional gifts. He meets the beautiful warrior/princess Avanthika and learns that her queen has been held captive for the last 25 years. Shividu sets off to rescue her, discovering his own origins in the process.\", \"popularity\": 11.81, \"vote_average\": 7.5, \"query_title\": \"Ace Ventura: When Nature Calls\"}, {\"id\": 56623.0, \"title\": \"Ao: The Last Hunter\", \"overview\": \"When his clan, including his wife and baby girl N\\u00e9a, are massacred, Ao, a desperate Neandertal man, decides to leave the North country where he has been living for the South where he was born. His aim is to join his twin brother, from whom he was separated when he was nine. On his long and adventurous way home, he meets Aki, a Homo Sapiens woman...\", \"popularity\": 1.96, \"vote_average\": 6.5, \"query_title\": \"Ace Ventura: When Nature Calls\"}, {\"id\": 92332.0, \"title\": \"The Spiders - The Diamond Ship\", \"overview\": \"When last we saw Kay Hoog (millionaire adventurer, courageous hunk), he\\u2019d been beset with tragedy. Having escaped an ancient Incan city by the skin of his gleaming teeth, Hoog looked forward to a few years of settled life with his (amicably) captured Incan lovely, Naela. But the past struck quickly. Hoog\\u2019s arch-nemesis, the homicidal femme Lio Sha, murdered Naela on the very grounds of Hoog\\u2019s estate, prompting him to swear revenge upon her and her criminal organization, the Spiders. Now he must find them, as the Spiders continue their global quest for the Buddha-head Diamond. The head, it\\u2019s said, has the power to restore Asia to world dominance.\", \"popularity\": 0.32, \"vote_average\": 5.8, \"query_title\": \"Ace Ventura: When Nature Calls\"}, {\"id\": 359151.0, \"title\": \"Tanna\", \"overview\": \"In a traditional tribal society in the South Pacific, a young girl, Wawa, falls in love with her chief\\u2019s grandson, Dain. When an inter-tribal war escalates, Wawa is unknowingly betrothed as part of a peace deal. The young lovers run away, refusing her arranged fate. They must choose between their hearts and the future of the tribe, while the villagers must wrestle with preserving their traditional culture and adapting it to the increasing outside demands for individual freedom.\", \"popularity\": 2.11, \"vote_average\": 7.4, \"query_title\": \"Ace Ventura: When Nature Calls\"}, {\"id\": 43643.0, \"title\": \"White Fang 2: Myth of the White Wolf\", \"overview\": \"A boy and his dog, White Fang, must try to save the noble Haida tribe from evil white men in turn-of-the-century Alaska.\", \"popularity\": 1.82, \"vote_average\": 5.1, \"query_title\": \"Ace Ventura: When Nature Calls\"}, {\"id\": 350312.0, \"title\": \"Baahubali 2: The Conclusion\", \"overview\": \"When Mahendra, the son of Bahubali, learns about his heritage, he begins to look for answers. His story is juxtaposed with past events that unfolded in the Mahishmati Kingdom.\", \"popularity\": 9.04, \"vote_average\": 6.7, \"query_title\": \"Ace Ventura: When Nature Calls\"}, {\"id\": 16257.0, \"title\": \"Street Fighter IV: The Ties That Bind\", \"overview\": \"After the fall of Shadaloo, things went quiet and everyone continued with their daily routine. However a new evil is lurking on the horizon and the fighters that battled against Shadaloo must take up arms once again. Meanwhile a mysterious detective, whose motives are unknown, is going to any extent to find the lonesome wanderer Ryu, who appears to play a big part in the scheme of this new evil.\", \"popularity\": 0.75, \"vote_average\": 5.8, \"query_title\": \"Ace Ventura: When Nature Calls\"}, {\"id\": 58878.0, \"title\": \"Three Outlaw Samurai\", \"overview\": \"Shiba, a wandering ronin, encounters a band of peasants who have kidnapped the daughter of their dictatorial magistrate, in hopes of coercing from him a reduction in taxes. Shiba takes up their fight, joined by two renegades from the magistrate's guard, Sakura and Kikyo. The three outlaws find themselves in a battle to the death.\", \"popularity\": 1.13, \"vote_average\": 7.0, \"query_title\": \"Ace Ventura: When Nature Calls\"}, {\"id\": 9587.0, \"title\": \"Little Women\", \"overview\": \"With their father away as a chaplain in the Civil War, Jo, Meg, Beth and Amy grow up with their mother in somewhat reduced circumstances. They are a close family who inevitably have their squabbles and tragedies. But the bond holds even when, later, male friends start to become a part of the household.\", \"popularity\": 9.77, \"vote_average\": 7.0, \"query_title\": \"Little Women\"}, {\"id\": 39938.0, \"title\": \"Little Women\", \"overview\": \"Little Women is a \\\"coming of age\\\" drama tracing the lives of four sisters: Meg, Jo, Beth and Amy. During the American Civil War, the girls father is away serving as a minister to the troops. The family, headed by thier beloved Marmee, must struggle to make ends meet, with the help of their kind and wealthy neighbor, Mr. Laurence, and his high spirited grandson Laurie.\", \"popularity\": 3.28, \"vote_average\": 6.0, \"query_title\": \"Little Women\"}, {\"id\": 48259.0, \"title\": \"Crimes of the Heart\", \"overview\": \"Three sisters with quite different personalities and lives reunite when the youngest of them, Babe, has just shot her husband. The oldest sister, Lenny, takes care of their grandfather and is turning into an old maid, while Meg, who tries to make it in Hollywood as a singer/actress, has had a wild life filled with many men. Their reunion causes much joy, but also many tensions.\", \"popularity\": 2.52, \"vote_average\": 6.0, \"query_title\": \"Little Women\"}, {\"id\": 36492.0, \"title\": \"Carnal Knowledge\", \"overview\": \"The concurrent sexual lives of best friends Jonathan and Sandy are presented, those lives which are affected by the sexual mores of the time and their own temperament, especially in relation to the respective women who end up in their lives.\", \"popularity\": 2.84, \"vote_average\": 6.7, \"query_title\": \"Little Women\"}, {\"id\": 11778.0, \"title\": \"The Deer Hunter\", \"overview\": \"A group of working-class friends decides to enlist in the Army during the Vietnam War and finds it to be hellish chaos -- not the noble venture they imagined. Before they left, Steven married his pregnant girlfriend -- and Michael and Nick were in love with the same woman. But all three are different men upon their return.\", \"popularity\": 7.73, \"vote_average\": 7.8, \"query_title\": \"Little Women\"}, {\"id\": 43436.0, \"title\": \"Little Women\", \"overview\": \"Louisa May Alcott's autobiographical account of her life with her three sisters in Concord Mass in the 1860s. With their father fighting in the civil war, the sisters: Jo, Meg, Amy and Beth are at home with their mother - a very outspoken women for her time. The story is of how the sisters grow up, find love and find their place in the world.\", \"popularity\": 5.55, \"vote_average\": 7.6, \"query_title\": \"Little Women\"}, {\"id\": 251732.0, \"title\": \"Deadly Advice\", \"overview\": \"Mother rules the house with an iron hand and has such power over her daughters that they see themselves as becoming old unmarried, maids. Jodie has feelings for the local doctor, a man much older than her, for which her mother strongly disapproves. Beth finds a relationship with a male stripper in Bristol, but sees nothing in the future with Mother around. While both girls would like to be rid of Mother, nothing happens until Jodie sees images of H. R. Armstrong, the man who put the town on the map by dispatching his un-loving wife\", \"popularity\": 0.06, \"vote_average\": 0.0, \"query_title\": \"Little Women\"}, {\"id\": 18212.0, \"title\": \"Better Than Chocolate\", \"overview\": \"Not long after moving into her own place, Maggie finds herself with two unsolicited roommates: her recently divorced mother, Lila, and her young brother. The timing is especially bad, considering Maggie has fallen hard for an attractive woman, Kim, only hours before they move in. What could be a nonissue becomes increasingly complicated -- since Maggie's family is unaware of her sexual orientation, and Maggie is not open to sharing that information.\", \"popularity\": 5.13, \"vote_average\": 6.4, \"query_title\": \"Little Women\"}, {\"id\": 9441.0, \"title\": \"Stepmom\", \"overview\": \"Jackie is a divorced mother of two. Isabel is the career minded girlfriend of Jackie\\u2019s ex-husband Luke, forced into the role of unwelcome stepmother to their children. But when Jackie discovers she is ill, both women realise they must put aside their differences to find a common ground and celebrate life to the fullest, while they have the chance.\", \"popularity\": 7.18, \"vote_average\": 6.9, \"query_title\": \"Little Women\"}, {\"id\": 401060.0, \"title\": \"Mercy\", \"overview\": \"Brought together at their childhood home over their dying mother, an estranged family is thrust into a deadly fight for their own survival.\", \"popularity\": 5.72, \"vote_average\": 4.1, \"query_title\": \"Little Women\"}, {\"id\": 270654.0, \"title\": \"Parts Per Billion\", \"overview\": \"The interwoven stories of three couples which are forced to make life altering decisions in the face of a disastrous war. Inspired and sometimes blinded by their love, Len, Mia, Andy, Esther, Anna and Erik are as flawed and beautiful as any of the billions who are facing this human-made biological disaster.\", \"popularity\": 8.28, \"vote_average\": 4.4, \"query_title\": \"Little Women\"}]}}, {\"mode\": \"vega-lite\"});\n</script>",
      "text/plain": "alt.Chart(...)"
     },
     "execution_count": 38,
     "metadata": {},
     "output_type": "execute_result"
    }
   ],
   "source": [
    "dropdown_symbol = alt.binding_select(options=list(similar_movies[\"query_title\"].unique()), name=\" \")\n",
    "selection_symbol = alt.selection_point(fields=[\"query_title\"], bind=dropdown_symbol, value=filtered_movies['title'].values[0])\n",
    "\n",
    "# Display the similar movies on a chart\n",
    "alt.Chart(similar_movies).mark_point().encode(\n",
    "    alt.X('popularity', title='Popularity'),\n",
    "    alt.Y('vote_average', title='Vote Average'),\n",
    "    alt.Color('title', title='Title'),\n",
    "    tooltip=['title', 'overview']\n",
    ").add_params(\n",
    "    selection_symbol\n",
    ").transform_filter(\n",
    "    selection_symbol\n",
    ").properties(\n",
    "    title='Similar Movies to Selected Movie',\n",
    "    width=600,\n",
    "    height=400,\n",
    ").interactive()"
   ]
  },
  {
   "cell_type": "markdown",
   "id": "e643ae62",
   "metadata": {},
   "source": [
    "### Visualition #4: Genres Distribution by Decade\n",
    "The fourth visualization tries to analyze the distribution of genres in the movies dataset by decade."
   ]
  },
  {
   "cell_type": "code",
   "execution_count": 39,
   "id": "9ea9e2a8",
   "metadata": {},
   "outputs": [
    {
     "data": {
      "text/plain": "    genres  year  count  percentage\n91   Drama  2000   5282    5.802100\n92   Drama  2010   5183    5.693352\n52  Comedy  2010   3537    3.885276\n51  Comedy  2000   3380    3.712817\n90   Drama  1990   2613    2.870293",
      "text/html": "<div>\n<style scoped>\n    .dataframe tbody tr th:only-of-type {\n        vertical-align: middle;\n    }\n\n    .dataframe tbody tr th {\n        vertical-align: top;\n    }\n\n    .dataframe thead th {\n        text-align: right;\n    }\n</style>\n<table border=\"1\" class=\"dataframe\">\n  <thead>\n    <tr style=\"text-align: right;\">\n      <th></th>\n      <th>genres</th>\n      <th>year</th>\n      <th>count</th>\n      <th>percentage</th>\n    </tr>\n  </thead>\n  <tbody>\n    <tr>\n      <th>91</th>\n      <td>Drama</td>\n      <td>2000</td>\n      <td>5282</td>\n      <td>5.802100</td>\n    </tr>\n    <tr>\n      <th>92</th>\n      <td>Drama</td>\n      <td>2010</td>\n      <td>5183</td>\n      <td>5.693352</td>\n    </tr>\n    <tr>\n      <th>52</th>\n      <td>Comedy</td>\n      <td>2010</td>\n      <td>3537</td>\n      <td>3.885276</td>\n    </tr>\n    <tr>\n      <th>51</th>\n      <td>Comedy</td>\n      <td>2000</td>\n      <td>3380</td>\n      <td>3.712817</td>\n    </tr>\n    <tr>\n      <th>90</th>\n      <td>Drama</td>\n      <td>1990</td>\n      <td>2613</td>\n      <td>2.870293</td>\n    </tr>\n  </tbody>\n</table>\n</div>"
     },
     "execution_count": 39,
     "metadata": {},
     "output_type": "execute_result"
    }
   ],
   "source": [
    "movies_metadata_genres = movies_metadata[['id', 'title', 'genres', 'release_date']].copy()\n",
    "\n",
    "# Convert the genres column to a list of strings\n",
    "movies_metadata_genres['genres'] = (\n",
    "    movies_metadata_genres['genres']\n",
    "    .fillna('[]')\n",
    "    .apply(literal_eval)\n",
    "    .apply(lambda x: [i['name'] for i in x] if isinstance(x, list) else [])\n",
    ")\n",
    "\n",
    "movies_metadata_genres['release_date'] = pd.to_datetime(movies_metadata_genres['release_date'], errors='coerce')\n",
    "movies_metadata_genres = movies_metadata_genres[~movies_metadata_genres['release_date'].isna()]\n",
    "movies_metadata_genres['year'] = (movies_metadata_genres['release_date'].dt.year // 10 * 10).astype(int)\n",
    "\n",
    "genres = movies_metadata_genres.explode('genres')\n",
    "genres = genres.groupby(['genres', 'year']).size().reset_index(name='count')\n",
    "genres = genres.sort_values('count', ascending=False)\n",
    "\n",
    "# Create a selection object for the slider\n",
    "year_slider = alt.binding_range(min=1900, max=2010, step=10, name='Year:')\n",
    "year_select = alt.selection_point(fields=['year'], bind=year_slider, value={'year': 1900})\n",
    "\n",
    "genres['percentage'] = genres['count'] / genres['count'].sum() * 100\n",
    "genres.head()"
   ]
  },
  {
   "cell_type": "code",
   "execution_count": 40,
   "id": "b2d64450",
   "metadata": {},
   "outputs": [
    {
     "data": {
      "text/html": "\n<style>\n  #altair-viz-57dd3061a92549a88bd8ced0b8f52153.vega-embed {\n    width: 100%;\n    display: flex;\n  }\n\n  #altair-viz-57dd3061a92549a88bd8ced0b8f52153.vega-embed details,\n  #altair-viz-57dd3061a92549a88bd8ced0b8f52153.vega-embed details summary {\n    position: relative;\n  }\n</style>\n<div id=\"altair-viz-57dd3061a92549a88bd8ced0b8f52153\"></div>\n<script type=\"text/javascript\">\n  var VEGA_DEBUG = (typeof VEGA_DEBUG == \"undefined\") ? {} : VEGA_DEBUG;\n  (function(spec, embedOpt){\n    let outputDiv = document.currentScript.previousElementSibling;\n    if (outputDiv.id !== \"altair-viz-57dd3061a92549a88bd8ced0b8f52153\") {\n      outputDiv = document.getElementById(\"altair-viz-57dd3061a92549a88bd8ced0b8f52153\");\n    }\n    const paths = {\n      \"vega\": \"https://cdn.jsdelivr.net/npm/vega@5?noext\",\n      \"vega-lib\": \"https://cdn.jsdelivr.net/npm/vega-lib?noext\",\n      \"vega-lite\": \"https://cdn.jsdelivr.net/npm/vega-lite@5.17.0?noext\",\n      \"vega-embed\": \"https://cdn.jsdelivr.net/npm/vega-embed@6?noext\",\n    };\n\n    function maybeLoadScript(lib, version) {\n      var key = `${lib.replace(\"-\", \"\")}_version`;\n      return (VEGA_DEBUG[key] == version) ?\n        Promise.resolve(paths[lib]) :\n        new Promise(function(resolve, reject) {\n          var s = document.createElement('script');\n          document.getElementsByTagName(\"head\")[0].appendChild(s);\n          s.async = true;\n          s.onload = () => {\n            VEGA_DEBUG[key] = version;\n            return resolve(paths[lib]);\n          };\n          s.onerror = () => reject(`Error loading script: ${paths[lib]}`);\n          s.src = paths[lib];\n        });\n    }\n\n    function showError(err) {\n      outputDiv.innerHTML = `<div class=\"error\" style=\"color:red;\">${err}</div>`;\n      throw err;\n    }\n\n    function displayChart(vegaEmbed) {\n      vegaEmbed(outputDiv, spec, embedOpt)\n        .catch(err => showError(`Javascript Error: ${err.message}<br>This usually means there's a typo in your chart specification. See the javascript console for the full traceback.`));\n    }\n\n    if(typeof define === \"function\" && define.amd) {\n      requirejs.config({paths});\n      require([\"vega-embed\"], displayChart, err => showError(`Error loading script: ${err.message}`));\n    } else {\n      maybeLoadScript(\"vega\", \"5\")\n        .then(() => maybeLoadScript(\"vega-lite\", \"5.17.0\"))\n        .then(() => maybeLoadScript(\"vega-embed\", \"6\"))\n        .catch(showError)\n        .then(() => displayChart(vegaEmbed));\n    }\n  })({\"config\": {\"view\": {\"continuousWidth\": 300, \"continuousHeight\": 300}}, \"data\": {\"name\": \"data-9d3889547a3350a8c84b838f082c8804\"}, \"mark\": {\"type\": \"bar\"}, \"encoding\": {\"color\": {\"field\": \"genres\", \"title\": \"Genre\", \"type\": \"nominal\"}, \"tooltip\": [{\"field\": \"genres\", \"title\": \"Genre\", \"type\": \"nominal\"}, {\"field\": \"count\", \"format\": \".2f\", \"title\": \"Count\", \"type\": \"quantitative\"}], \"x\": {\"field\": \"genres\", \"sort\": \"-y\", \"title\": \"Genre\", \"type\": \"nominal\"}, \"y\": {\"field\": \"count\", \"title\": \"Count\", \"type\": \"quantitative\"}}, \"height\": 400, \"params\": [{\"name\": \"param_12\", \"select\": {\"type\": \"point\", \"fields\": [\"year\"]}, \"bind\": {\"input\": \"range\", \"max\": 2010, \"min\": 1900, \"name\": \"Year:\", \"step\": 10}, \"value\": {\"year\": 1900}}, {\"name\": \"param_13\", \"select\": {\"type\": \"interval\", \"encodings\": [\"x\", \"y\"]}, \"bind\": \"scales\"}], \"title\": \"Genres Distribution\", \"transform\": [{\"filter\": {\"param\": \"param_12\"}}], \"width\": 600, \"$schema\": \"https://vega.github.io/schema/vega-lite/v5.17.0.json\", \"datasets\": {\"data-9d3889547a3350a8c84b838f082c8804\": [{\"genres\": \"Drama\", \"year\": 2000, \"count\": 5282, \"percentage\": 5.802100268025836}, {\"genres\": \"Drama\", \"year\": 2010, \"count\": 5183, \"percentage\": 5.693352080495629}, {\"genres\": \"Comedy\", \"year\": 2010, \"count\": 3537, \"percentage\": 3.885276154488334}, {\"genres\": \"Comedy\", \"year\": 2000, \"count\": 3380, \"percentage\": 3.712816907596995}, {\"genres\": \"Drama\", \"year\": 1990, \"count\": 2613, \"percentage\": 2.870293070873061}, {\"genres\": \"Thriller\", \"year\": 2010, \"count\": 2363, \"percentage\": 2.5956764356957684}, {\"genres\": \"Thriller\", \"year\": 2000, \"count\": 2169, \"percentage\": 2.3825739267981896}, {\"genres\": \"Documentary\", \"year\": 2010, \"count\": 1883, \"percentage\": 2.0684124961553674}, {\"genres\": \"Comedy\", \"year\": 1990, \"count\": 1853, \"percentage\": 2.035458499934092}, {\"genres\": \"Romance\", \"year\": 2000, \"count\": 1767, \"percentage\": 1.9409903774331032}, {\"genres\": \"Action\", \"year\": 2000, \"count\": 1720, \"percentage\": 1.8893624500197725}, {\"genres\": \"Action\", \"year\": 2010, \"count\": 1616, \"percentage\": 1.7751219297860186}, {\"genres\": \"Drama\", \"year\": 1980, \"count\": 1553, \"percentage\": 1.705918537721341}, {\"genres\": \"Drama\", \"year\": 1970, \"count\": 1508, \"percentage\": 1.6564875433894284}, {\"genres\": \"Romance\", \"year\": 2010, \"count\": 1448, \"percentage\": 1.590579550946878}, {\"genres\": \"Horror\", \"year\": 2010, \"count\": 1370, \"percentage\": 1.504899160771563}, {\"genres\": \"Comedy\", \"year\": 1980, \"count\": 1297, \"percentage\": 1.4247111032997934}, {\"genres\": \"Drama\", \"year\": 1960, \"count\": 1212, \"percentage\": 1.331341447339514}, {\"genres\": \"Documentary\", \"year\": 2000, \"count\": 1197, \"percentage\": 1.3148644492288764}, {\"genres\": \"Horror\", \"year\": 2000, \"count\": 1161, \"percentage\": 1.2753196537633464}, {\"genres\": \"Drama\", \"year\": 1950, \"count\": 1065, \"percentage\": 1.169866865855266}, {\"genres\": \"Thriller\", \"year\": 1990, \"count\": 1049, \"percentage\": 1.1522914012039194}, {\"genres\": \"Crime\", \"year\": 2000, \"count\": 1004, \"percentage\": 1.1028604068720067}, {\"genres\": \"Action\", \"year\": 1990, \"count\": 995, \"percentage\": 1.0929742080056242}, {\"genres\": \"Romance\", \"year\": 1990, \"count\": 995, \"percentage\": 1.0929742080056242}, {\"genres\": \"Crime\", \"year\": 2010, \"count\": 929, \"percentage\": 1.0204754163188188}, {\"genres\": \"Comedy\", \"year\": 1970, \"count\": 839, \"percentage\": 0.9216134276549937}, {\"genres\": \"Adventure\", \"year\": 2000, \"count\": 828, \"percentage\": 0.9095302957071928}, {\"genres\": \"Science Fiction\", \"year\": 2010, \"count\": 798, \"percentage\": 0.8765762994859175}, {\"genres\": \"Family\", \"year\": 2000, \"count\": 798, \"percentage\": 0.8765762994859175}, {\"genres\": \"Foreign\", \"year\": 2000, \"count\": 786, \"percentage\": 0.8633947009974077}, {\"genres\": \"Adventure\", \"year\": 2010, \"count\": 784, \"percentage\": 0.8611977679159893}, {\"genres\": \"Drama\", \"year\": 1940, \"count\": 781, \"percentage\": 0.8579023682938617}, {\"genres\": \"Science Fiction\", \"year\": 2000, \"count\": 740, \"percentage\": 0.8128652401247858}, {\"genres\": \"Comedy\", \"year\": 1960, \"count\": 723, \"percentage\": 0.7941913089327299}, {\"genres\": \"Family\", \"year\": 2010, \"count\": 723, \"percentage\": 0.7941913089327299}, {\"genres\": \"Action\", \"year\": 1980, \"count\": 713, \"percentage\": 0.7832066435256382}, {\"genres\": \"Drama\", \"year\": 1930, \"count\": 707, \"percentage\": 0.7766158442813832}, {\"genres\": \"Action\", \"year\": 1970, \"count\": 651, \"percentage\": 0.7151017180016697}, {\"genres\": \"Horror\", \"year\": 1980, \"count\": 643, \"percentage\": 0.7063139856759962}, {\"genres\": \"Mystery\", \"year\": 2010, \"count\": 612, \"percentage\": 0.6722615229140121}, {\"genres\": \"Mystery\", \"year\": 2000, \"count\": 606, \"percentage\": 0.665670723669757}, {\"genres\": \"Animation\", \"year\": 2010, \"count\": 604, \"percentage\": 0.6634737905883387}, {\"genres\": \"Thriller\", \"year\": 1980, \"count\": 600, \"percentage\": 0.659079924425502}, {\"genres\": \"Thriller\", \"year\": 1970, \"count\": 596, \"percentage\": 0.6546860582626653}, {\"genres\": \"Crime\", \"year\": 1990, \"count\": 585, \"percentage\": 0.6426029263148644}, {\"genres\": \"Animation\", \"year\": 2000, \"count\": 579, \"percentage\": 0.6360121270706095}, {\"genres\": \"Fantasy\", \"year\": 2000, \"count\": 569, \"percentage\": 0.6250274616635177}, {\"genres\": \"Fantasy\", \"year\": 2010, \"count\": 561, \"percentage\": 0.6162397293378444}, {\"genres\": \"Romance\", \"year\": 1980, \"count\": 542, \"percentage\": 0.5953688650643701}, {\"genres\": \"Horror\", \"year\": 1970, \"count\": 499, \"percentage\": 0.5481348038138758}, {\"genres\": \"Family\", \"year\": 1990, \"count\": 485, \"percentage\": 0.5327562722439475}, {\"genres\": \"Adventure\", \"year\": 1990, \"count\": 485, \"percentage\": 0.5327562722439475}, {\"genres\": \"Science Fiction\", \"year\": 1990, \"count\": 482, \"percentage\": 0.52946087262182}, {\"genres\": \"Horror\", \"year\": 1990, \"count\": 465, \"percentage\": 0.5107869414297641}, {\"genres\": \"Comedy\", \"year\": 1950, \"count\": 463, \"percentage\": 0.5085900083483457}, {\"genres\": \"Crime\", \"year\": 1970, \"count\": 451, \"percentage\": 0.4954084098598357}, {\"genres\": \"Comedy\", \"year\": 1930, \"count\": 446, \"percentage\": 0.4899160771562898}, {\"genres\": \"Comedy\", \"year\": 1940, \"count\": 409, \"percentage\": 0.4492728151500505}, {\"genres\": \"Romance\", \"year\": 1930, \"count\": 406, \"percentage\": 0.445977415527923}, {\"genres\": \"Science Fiction\", \"year\": 1980, \"count\": 404, \"percentage\": 0.44378048244650464}, {\"genres\": \"Romance\", \"year\": 1950, \"count\": 399, \"percentage\": 0.43828814974295877}, {\"genres\": \"Adventure\", \"year\": 1980, \"count\": 390, \"percentage\": 0.4284019508765763}, {\"genres\": \"Crime\", \"year\": 1980, \"count\": 389, \"percentage\": 0.4273034843358671}, {\"genres\": \"Romance\", \"year\": 1960, \"count\": 379, \"percentage\": 0.4163188189287755}, {\"genres\": \"History\", \"year\": 2010, \"count\": 378, \"percentage\": 0.4152203523880663}, {\"genres\": \"Romance\", \"year\": 1940, \"count\": 378, \"percentage\": 0.4152203523880663}, {\"genres\": \"Action\", \"year\": 1960, \"count\": 372, \"percentage\": 0.4086295531438112}, {\"genres\": \"Fantasy\", \"year\": 1990, \"count\": 362, \"percentage\": 0.3976448877367195}, {\"genres\": \"Music\", \"year\": 2000, \"count\": 357, \"percentage\": 0.3921525550331737}, {\"genres\": \"Music\", \"year\": 2010, \"count\": 351, \"percentage\": 0.38556175578891866}, {\"genres\": \"History\", \"year\": 2000, \"count\": 316, \"percentage\": 0.34711542686409774}, {\"genres\": \"Fantasy\", \"year\": 1980, \"count\": 307, \"percentage\": 0.3372292279977152}, {\"genres\": \"TV Movie\", \"year\": 2010, \"count\": 303, \"percentage\": 0.3328353618348785}, {\"genres\": \"Romance\", \"year\": 1970, \"count\": 302, \"percentage\": 0.33173689529416933}, {\"genres\": \"Documentary\", \"year\": 1990, \"count\": 292, \"percentage\": 0.32075222988707763}, {\"genres\": \"Adventure\", \"year\": 1960, \"count\": 289, \"percentage\": 0.31745683026495014}, {\"genres\": \"Mystery\", \"year\": 1990, \"count\": 284, \"percentage\": 0.31196449756140426}, {\"genres\": \"Adventure\", \"year\": 1970, \"count\": 270, \"percentage\": 0.2965859659914759}, {\"genres\": \"Crime\", \"year\": 1950, \"count\": 266, \"percentage\": 0.2921920998286392}, {\"genres\": \"Thriller\", \"year\": 1960, \"count\": 266, \"percentage\": 0.2921920998286392}, {\"genres\": \"Drama\", \"year\": 1920, \"count\": 257, \"percentage\": 0.28230590096225666}, {\"genres\": \"Crime\", \"year\": 1960, \"count\": 256, \"percentage\": 0.2812074344215475}, {\"genres\": \"Animation\", \"year\": 1990, \"count\": 256, \"percentage\": 0.2812074344215475}, {\"genres\": \"Family\", \"year\": 1980, \"count\": 254, \"percentage\": 0.2790105013401292}, {\"genres\": \"Action\", \"year\": 1950, \"count\": 248, \"percentage\": 0.27241970209587413}, {\"genres\": \"War\", \"year\": 2010, \"count\": 235, \"percentage\": 0.258139637066655}, {\"genres\": \"Mystery\", \"year\": 1970, \"count\": 233, \"percentage\": 0.2559427039852366}, {\"genres\": \"Thriller\", \"year\": 1940, \"count\": 233, \"percentage\": 0.2559427039852366}, {\"genres\": \"Foreign\", \"year\": 1990, \"count\": 230, \"percentage\": 0.2526473043631091}, {\"genres\": \"Thriller\", \"year\": 1950, \"count\": 229, \"percentage\": 0.2515488378223999}, {\"genres\": \"Horror\", \"year\": 1960, \"count\": 225, \"percentage\": 0.24715497165956327}, {\"genres\": \"Western\", \"year\": 1950, \"count\": 225, \"percentage\": 0.24715497165956327}, {\"genres\": \"Foreign\", \"year\": 2010, \"count\": 224, \"percentage\": 0.24605650511885407}, {\"genres\": \"Crime\", \"year\": 1940, \"count\": 220, \"percentage\": 0.2416626389560174}, {\"genres\": \"War\", \"year\": 2000, \"count\": 215, \"percentage\": 0.23617030625247157}, {\"genres\": \"Science Fiction\", \"year\": 1970, \"count\": 210, \"percentage\": 0.2306779735489257}, {\"genres\": \"Mystery\", \"year\": 1980, \"count\": 208, \"percentage\": 0.2284810404675074}, {\"genres\": \"Adventure\", \"year\": 1950, \"count\": 203, \"percentage\": 0.2229887077639615}, {\"genres\": \"Western\", \"year\": 1960, \"count\": 199, \"percentage\": 0.21859484160112486}, {\"genres\": \"TV Movie\", \"year\": 2000, \"count\": 197, \"percentage\": 0.2163979085197065}, {\"genres\": \"Animation\", \"year\": 1980, \"count\": 189, \"percentage\": 0.20761017619403316}, {\"genres\": \"Science Fiction\", \"year\": 1960, \"count\": 187, \"percentage\": 0.2054132431126148}, {\"genres\": \"Family\", \"year\": 1970, \"count\": 185, \"percentage\": 0.20321631003119645}, {\"genres\": \"Western\", \"year\": 1970, \"count\": 179, \"percentage\": 0.19662551078694143}, {\"genres\": \"Foreign\", \"year\": 1970, \"count\": 170, \"percentage\": 0.1867393119205589}, {\"genres\": \"Mystery\", \"year\": 1940, \"count\": 170, \"percentage\": 0.1867393119205589}, {\"genres\": \"War\", \"year\": 1960, \"count\": 169, \"percentage\": 0.1856408453798497}, {\"genres\": \"Crime\", \"year\": 1930, \"count\": 166, \"percentage\": 0.1823454457577222}, {\"genres\": \"Documentary\", \"year\": 1970, \"count\": 162, \"percentage\": 0.17795157959488553}, {\"genres\": \"Music\", \"year\": 1980, \"count\": 158, \"percentage\": 0.17355771343204887}, {\"genres\": \"Science Fiction\", \"year\": 1950, \"count\": 154, \"percentage\": 0.1691638472692122}, {\"genres\": \"Documentary\", \"year\": 1980, \"count\": 154, \"percentage\": 0.1691638472692122}, {\"genres\": \"History\", \"year\": 1990, \"count\": 153, \"percentage\": 0.16806538072850302}, {\"genres\": \"Music\", \"year\": 1990, \"count\": 150, \"percentage\": 0.1647699811063755}, {\"genres\": \"War\", \"year\": 1950, \"count\": 150, \"percentage\": 0.1647699811063755}, {\"genres\": \"War\", \"year\": 1940, \"count\": 148, \"percentage\": 0.16257304802495715}, {\"genres\": \"Fantasy\", \"year\": 1970, \"count\": 147, \"percentage\": 0.16147458148424798}, {\"genres\": \"Horror\", \"year\": 1950, \"count\": 134, \"percentage\": 0.1471945164550288}, {\"genres\": \"Family\", \"year\": 1960, \"count\": 134, \"percentage\": 0.1471945164550288}, {\"genres\": \"Mystery\", \"year\": 1960, \"count\": 132, \"percentage\": 0.14499758337361043}, {\"genres\": \"Comedy\", \"year\": 1920, \"count\": 129, \"percentage\": 0.1417021837514829}, {\"genres\": \"TV Movie\", \"year\": 1990, \"count\": 128, \"percentage\": 0.14060371721077375}, {\"genres\": \"Action\", \"year\": 1940, \"count\": 124, \"percentage\": 0.13620985104793706}, {\"genres\": \"Mystery\", \"year\": 1930, \"count\": 122, \"percentage\": 0.13401291796651874}, {\"genres\": \"Music\", \"year\": 1970, \"count\": 121, \"percentage\": 0.13291445142580957}, {\"genres\": \"History\", \"year\": 1960, \"count\": 120, \"percentage\": 0.1318159848851004}, {\"genres\": \"Music\", \"year\": 1950, \"count\": 119, \"percentage\": 0.13071751834439121}, {\"genres\": \"Music\", \"year\": 1940, \"count\": 118, \"percentage\": 0.12961905180368208}, {\"genres\": \"War\", \"year\": 1970, \"count\": 117, \"percentage\": 0.1285205852629729}, {\"genres\": \"Fantasy\", \"year\": 1960, \"count\": 116, \"percentage\": 0.12742211872226372}, {\"genres\": \"History\", \"year\": 1970, \"count\": 116, \"percentage\": 0.12742211872226372}, {\"genres\": \"Foreign\", \"year\": 1980, \"count\": 115, \"percentage\": 0.12632365218155456}, {\"genres\": \"Action\", \"year\": 1930, \"count\": 112, \"percentage\": 0.12302825255942704}, {\"genres\": \"War\", \"year\": 1980, \"count\": 111, \"percentage\": 0.12192978601871787}, {\"genres\": \"Music\", \"year\": 1960, \"count\": 108, \"percentage\": 0.11863438639659037}, {\"genres\": \"Adventure\", \"year\": 1930, \"count\": 106, \"percentage\": 0.11643745331517202}, {\"genres\": \"Music\", \"year\": 1930, \"count\": 106, \"percentage\": 0.11643745331517202}, {\"genres\": \"War\", \"year\": 1990, \"count\": 104, \"percentage\": 0.1142405202337537}, {\"genres\": \"History\", \"year\": 1980, \"count\": 103, \"percentage\": 0.11314205369304452}, {\"genres\": \"Romance\", \"year\": 1920, \"count\": 101, \"percentage\": 0.11094512061162616}, {\"genres\": \"Western\", \"year\": 1940, \"count\": 95, \"percentage\": 0.10435432136737113}, {\"genres\": \"Foreign\", \"year\": 1960, \"count\": 94, \"percentage\": 0.10325585482666198}, {\"genres\": \"Thriller\", \"year\": 1930, \"count\": 94, \"percentage\": 0.10325585482666198}, {\"genres\": \"Animation\", \"year\": 1970, \"count\": 92, \"percentage\": 0.10105892174524364}, {\"genres\": \"Adventure\", \"year\": 1940, \"count\": 89, \"percentage\": 0.09776352212311613}, {\"genres\": \"Documentary\", \"year\": 1960, \"count\": 85, \"percentage\": 0.09336965596027945}, {\"genres\": \"Mystery\", \"year\": 1950, \"count\": 84, \"percentage\": 0.09227118941957028}, {\"genres\": \"Western\", \"year\": 2010, \"count\": 82, \"percentage\": 0.09007425633815194}, {\"genres\": \"Drama\", \"year\": 1910, \"count\": 81, \"percentage\": 0.08897578979744276}, {\"genres\": \"Family\", \"year\": 1950, \"count\": 78, \"percentage\": 0.08568039017531526}, {\"genres\": \"History\", \"year\": 1950, \"count\": 76, \"percentage\": 0.08348345709389692}, {\"genres\": \"Fantasy\", \"year\": 1950, \"count\": 72, \"percentage\": 0.07908959093106024}, {\"genres\": \"TV Movie\", \"year\": 1970, \"count\": 70, \"percentage\": 0.0768926578496419}, {\"genres\": \"Western\", \"year\": 1930, \"count\": 69, \"percentage\": 0.07579419130893272}, {\"genres\": \"Horror\", \"year\": 1940, \"count\": 68, \"percentage\": 0.07469572476822356}, {\"genres\": \"Western\", \"year\": 1990, \"count\": 67, \"percentage\": 0.0735972582275144}, {\"genres\": \"Fantasy\", \"year\": 1940, \"count\": 65, \"percentage\": 0.07140032514609605}, {\"genres\": \"Comedy\", \"year\": 1910, \"count\": 65, \"percentage\": 0.07140032514609605}, {\"genres\": \"Western\", \"year\": 2000, \"count\": 62, \"percentage\": 0.06810492552396853}, {\"genres\": \"History\", \"year\": 1930, \"count\": 59, \"percentage\": 0.06480952590184104}, {\"genres\": \"Family\", \"year\": 1940, \"count\": 58, \"percentage\": 0.06371105936113186}, {\"genres\": \"Horror\", \"year\": 1930, \"count\": 57, \"percentage\": 0.06261259282042268}, {\"genres\": \"Animation\", \"year\": 1960, \"count\": 57, \"percentage\": 0.06261259282042268}, {\"genres\": \"TV Movie\", \"year\": 1980, \"count\": 54, \"percentage\": 0.05931719319829518}, {\"genres\": \"War\", \"year\": 1930, \"count\": 53, \"percentage\": 0.05821872665758601}, {\"genres\": \"History\", \"year\": 1940, \"count\": 50, \"percentage\": 0.0549233270354585}, {\"genres\": \"Animation\", \"year\": 1930, \"count\": 49, \"percentage\": 0.053824860494749334}, {\"genres\": \"Animation\", \"year\": 1940, \"count\": 48, \"percentage\": 0.052726393954040156}, {\"genres\": \"Family\", \"year\": 1930, \"count\": 43, \"percentage\": 0.047234061250494314}, {\"genres\": \"Western\", \"year\": 1980, \"count\": 40, \"percentage\": 0.0439386616283668}, {\"genres\": \"Animation\", \"year\": 1950, \"count\": 36, \"percentage\": 0.03954479546553012}, {\"genres\": \"Adventure\", \"year\": 1920, \"count\": 35, \"percentage\": 0.03844632892482095}, {\"genres\": \"Fantasy\", \"year\": 1930, \"count\": 35, \"percentage\": 0.03844632892482095}, {\"genres\": \"Documentary\", \"year\": 1950, \"count\": 35, \"percentage\": 0.03844632892482095}, {\"genres\": \"Comedy\", \"year\": 1900, \"count\": 30, \"percentage\": 0.0329539962212751}, {\"genres\": \"Fantasy\", \"year\": 1900, \"count\": 30, \"percentage\": 0.0329539962212751}, {\"genres\": \"Documentary\", \"year\": 1890, \"count\": 28, \"percentage\": 0.03075706313985676}, {\"genres\": \"Documentary\", \"year\": 1940, \"count\": 28, \"percentage\": 0.03075706313985676}, {\"genres\": \"Horror\", \"year\": 1920, \"count\": 28, \"percentage\": 0.03075706313985676}, {\"genres\": \"Action\", \"year\": 1920, \"count\": 27, \"percentage\": 0.02965859659914759}, {\"genres\": \"Crime\", \"year\": 1920, \"count\": 25, \"percentage\": 0.02746166351772925}, {\"genres\": \"Fantasy\", \"year\": 1920, \"count\": 24, \"percentage\": 0.026363196977020078}, {\"genres\": \"Science Fiction\", \"year\": 1940, \"count\": 24, \"percentage\": 0.026363196977020078}, {\"genres\": \"Science Fiction\", \"year\": 1930, \"count\": 24, \"percentage\": 0.026363196977020078}, {\"genres\": \"Documentary\", \"year\": 1920, \"count\": 21, \"percentage\": 0.02306779735489257}, {\"genres\": \"Thriller\", \"year\": 1920, \"count\": 18, \"percentage\": 0.01977239773276506}, {\"genres\": \"Documentary\", \"year\": 1930, \"count\": 16, \"percentage\": 0.01757546465134672}, {\"genres\": \"Western\", \"year\": 1920, \"count\": 16, \"percentage\": 0.01757546465134672}, {\"genres\": \"History\", \"year\": 1920, \"count\": 16, \"percentage\": 0.01757546465134672}, {\"genres\": \"TV Movie\", \"year\": 1960, \"count\": 14, \"percentage\": 0.01537853156992838}, {\"genres\": \"Romance\", \"year\": 1910, \"count\": 13, \"percentage\": 0.014280065029219212}, {\"genres\": \"War\", \"year\": 1920, \"count\": 13, \"percentage\": 0.014280065029219212}, {\"genres\": \"Documentary\", \"year\": 1900, \"count\": 12, \"percentage\": 0.013181598488510039}, {\"genres\": \"Fantasy\", \"year\": 1910, \"count\": 12, \"percentage\": 0.013181598488510039}, {\"genres\": \"Animation\", \"year\": 1920, \"count\": 12, \"percentage\": 0.013181598488510039}, {\"genres\": \"Fantasy\", \"year\": 1890, \"count\": 12, \"percentage\": 0.013181598488510039}, {\"genres\": \"Comedy\", \"year\": 1890, \"count\": 10, \"percentage\": 0.0109846654070917}, {\"genres\": \"Crime\", \"year\": 1910, \"count\": 10, \"percentage\": 0.0109846654070917}, {\"genres\": \"Adventure\", \"year\": 1910, \"count\": 9, \"percentage\": 0.00988619886638253}, {\"genres\": \"Horror\", \"year\": 1900, \"count\": 9, \"percentage\": 0.00988619886638253}, {\"genres\": \"Mystery\", \"year\": 1920, \"count\": 9, \"percentage\": 0.00988619886638253}, {\"genres\": \"Drama\", \"year\": 1900, \"count\": 9, \"percentage\": 0.00988619886638253}, {\"genres\": \"Science Fiction\", \"year\": 1920, \"count\": 9, \"percentage\": 0.00988619886638253}, {\"genres\": \"Music\", \"year\": 1920, \"count\": 8, \"percentage\": 0.00878773232567336}, {\"genres\": \"History\", \"year\": 1910, \"count\": 7, \"percentage\": 0.00768926578496419}, {\"genres\": \"War\", \"year\": 1910, \"count\": 7, \"percentage\": 0.00768926578496419}, {\"genres\": \"Western\", \"year\": 1910, \"count\": 7, \"percentage\": 0.00768926578496419}, {\"genres\": \"Family\", \"year\": 1920, \"count\": 6, \"percentage\": 0.0065907992442550195}, {\"genres\": \"Animation\", \"year\": 1910, \"count\": 6, \"percentage\": 0.0065907992442550195}, {\"genres\": \"Horror\", \"year\": 1890, \"count\": 6, \"percentage\": 0.0065907992442550195}, {\"genres\": \"Action\", \"year\": 1910, \"count\": 6, \"percentage\": 0.0065907992442550195}, {\"genres\": \"Horror\", \"year\": 1910, \"count\": 5, \"percentage\": 0.00549233270354585}, {\"genres\": \"Action\", \"year\": 1900, \"count\": 5, \"percentage\": 0.00549233270354585}, {\"genres\": \"Science Fiction\", \"year\": 1900, \"count\": 5, \"percentage\": 0.00549233270354585}, {\"genres\": \"Adventure\", \"year\": 1900, \"count\": 5, \"percentage\": 0.00549233270354585}, {\"genres\": \"Crime\", \"year\": 1900, \"count\": 4, \"percentage\": 0.00439386616283668}, {\"genres\": \"Mystery\", \"year\": 1910, \"count\": 4, \"percentage\": 0.00439386616283668}, {\"genres\": \"Documentary\", \"year\": 1880, \"count\": 4, \"percentage\": 0.00439386616283668}, {\"genres\": \"Drama\", \"year\": 1890, \"count\": 4, \"percentage\": 0.00439386616283668}, {\"genres\": \"Animation\", \"year\": 1900, \"count\": 3, \"percentage\": 0.0032953996221275097}, {\"genres\": \"Science Fiction\", \"year\": 1910, \"count\": 3, \"percentage\": 0.0032953996221275097}, {\"genres\": \"Music\", \"year\": 1900, \"count\": 2, \"percentage\": 0.00219693308141834}, {\"genres\": \"Romance\", \"year\": 1900, \"count\": 2, \"percentage\": 0.00219693308141834}, {\"genres\": \"Documentary\", \"year\": 1910, \"count\": 2, \"percentage\": 0.00219693308141834}, {\"genres\": \"Action\", \"year\": 1890, \"count\": 2, \"percentage\": 0.00219693308141834}, {\"genres\": \"History\", \"year\": 1890, \"count\": 2, \"percentage\": 0.00219693308141834}, {\"genres\": \"Family\", \"year\": 1890, \"count\": 2, \"percentage\": 0.00219693308141834}, {\"genres\": \"Foreign\", \"year\": 1950, \"count\": 2, \"percentage\": 0.00219693308141834}, {\"genres\": \"Documentary\", \"year\": 1870, \"count\": 2, \"percentage\": 0.00219693308141834}, {\"genres\": \"Thriller\", \"year\": 1900, \"count\": 2, \"percentage\": 0.00219693308141834}, {\"genres\": \"Science Fiction\", \"year\": 1890, \"count\": 1, \"percentage\": 0.00109846654070917}, {\"genres\": \"Science Fiction\", \"year\": 2020, \"count\": 1, \"percentage\": 0.00109846654070917}, {\"genres\": \"Fantasy\", \"year\": 2020, \"count\": 1, \"percentage\": 0.00109846654070917}, {\"genres\": \"Action\", \"year\": 2020, \"count\": 1, \"percentage\": 0.00109846654070917}, {\"genres\": \"Family\", \"year\": 1900, \"count\": 1, \"percentage\": 0.00109846654070917}, {\"genres\": \"Animation\", \"year\": 1890, \"count\": 1, \"percentage\": 0.00109846654070917}, {\"genres\": \"Family\", \"year\": 1910, \"count\": 1, \"percentage\": 0.00109846654070917}, {\"genres\": \"History\", \"year\": 1900, \"count\": 1, \"percentage\": 0.00109846654070917}, {\"genres\": \"Western\", \"year\": 1900, \"count\": 1, \"percentage\": 0.00109846654070917}, {\"genres\": \"War\", \"year\": 1890, \"count\": 1, \"percentage\": 0.00109846654070917}, {\"genres\": \"Adventure\", \"year\": 2020, \"count\": 1, \"percentage\": 0.00109846654070917}, {\"genres\": \"Romance\", \"year\": 1890, \"count\": 1, \"percentage\": 0.00109846654070917}]}}, {\"mode\": \"vega-lite\"});\n</script>",
      "text/plain": "alt.Chart(...)"
     },
     "execution_count": 40,
     "metadata": {},
     "output_type": "execute_result"
    }
   ],
   "source": [
    "# Plot the genres distribution\n",
    "chart = alt.Chart(genres).mark_bar().encode(\n",
    "    x=alt.X('genres', title='Genre', sort='-y'),\n",
    "    y=alt.Y('count', title='Count'),\n",
    "    color=alt.Color('genres', title='Genre'),\n",
    "    tooltip=[alt.Tooltip('genres', title='Genre'), alt.Tooltip('count', format='.2f', title='Count')]\n",
    ").add_params(\n",
    "    year_select\n",
    ").transform_filter(\n",
    "    year_select\n",
    ").properties(\n",
    "    title='Genres Distribution',\n",
    "    width=600,\n",
    "    height=400,\n",
    ").interactive()\n",
    "\n",
    "chart"
   ]
  },
  {
   "cell_type": "markdown",
   "id": "21163d34",
   "metadata": {},
   "source": [
    "### Visualition #5: Countries Distribution\n",
    "\n",
    "The last visualization tries to analyze the distribution of countries in the movies dataset."
   ]
  },
  {
   "cell_type": "code",
   "execution_count": 41,
   "id": "42777279",
   "metadata": {},
   "outputs": [
    {
     "data": {
      "text/plain": "    production_countries  count          lat         long\n5              Argentina    254  -34.9964963  -64.9672817\n68               Ireland    225    52.865196   -7.9794599\n9                Austria    209     47.59397     14.12456\n39        Czech Republic    209   49.7439047   15.3381061\n109               Norway    203   61.1529386    8.7876653",
      "text/html": "<div>\n<style scoped>\n    .dataframe tbody tr th:only-of-type {\n        vertical-align: middle;\n    }\n\n    .dataframe tbody tr th {\n        vertical-align: top;\n    }\n\n    .dataframe thead th {\n        text-align: right;\n    }\n</style>\n<table border=\"1\" class=\"dataframe\">\n  <thead>\n    <tr style=\"text-align: right;\">\n      <th></th>\n      <th>production_countries</th>\n      <th>count</th>\n      <th>lat</th>\n      <th>long</th>\n    </tr>\n  </thead>\n  <tbody>\n    <tr>\n      <th>5</th>\n      <td>Argentina</td>\n      <td>254</td>\n      <td>-34.9964963</td>\n      <td>-64.9672817</td>\n    </tr>\n    <tr>\n      <th>68</th>\n      <td>Ireland</td>\n      <td>225</td>\n      <td>52.865196</td>\n      <td>-7.9794599</td>\n    </tr>\n    <tr>\n      <th>9</th>\n      <td>Austria</td>\n      <td>209</td>\n      <td>47.59397</td>\n      <td>14.12456</td>\n    </tr>\n    <tr>\n      <th>39</th>\n      <td>Czech Republic</td>\n      <td>209</td>\n      <td>49.7439047</td>\n      <td>15.3381061</td>\n    </tr>\n    <tr>\n      <th>109</th>\n      <td>Norway</td>\n      <td>203</td>\n      <td>61.1529386</td>\n      <td>8.7876653</td>\n    </tr>\n  </tbody>\n</table>\n</div>"
     },
     "execution_count": 41,
     "metadata": {},
     "output_type": "execute_result"
    }
   ],
   "source": [
    "import time\n",
    "import json\n",
    "from ast import literal_eval\n",
    "import requests\n",
    "\n",
    "# Extract the production_countries from the movies_metadata\n",
    "movies_metadata_countries = movies_metadata[['id', 'title', 'production_countries']].copy()\n",
    "# Convert the production_countries column to a list, similar to the genres column in the previous visualizations\n",
    "movies_metadata_countries['production_countries'] = (\n",
    "    movies_metadata_countries['production_countries']\n",
    "    .fillna('[]')\n",
    "    .apply(literal_eval)\n",
    "    .apply(lambda x: [i['name'] for i in x] if isinstance(x, list) else [])\n",
    ")\n",
    "# Explode the production_countries column and group by production_countries\n",
    "movies_metadata_countries = movies_metadata_countries.explode('production_countries')\n",
    "movies_metadata_countries = movies_metadata_countries.groupby('production_countries').size().reset_index(name='count')\n",
    "movies_metadata_countries = movies_metadata_countries.sort_values('count', ascending=False)\n",
    "\n",
    "def fetch_lat_long_data(country):\n",
    "    country_param = country.replace(' ', '%20')\n",
    "    country_filename = country.replace(' ', '_').lower() + '.json'\n",
    "    data_directory = './data'\n",
    "    if os.path.exists(os.path.join(data_directory, country_filename)):\n",
    "        with open(os.path.join(data_directory, country_filename), 'r') as f:\n",
    "            return json.load(f)\n",
    "    else:\n",
    "        lat_long_url = f\"https://geocode.maps.co/search?q={country_param}&api_key=6668f5eb3d464108527128ndi77d74c\"\n",
    "        print('Fetching data for:', country)\n",
    "        response = requests.get(lat_long_url)\n",
    "        if response.status_code == 200:\n",
    "            data = response.json()\n",
    "            with open(os.path.join(data_directory, country_filename), 'w') as f:\n",
    "                json.dump(data, f)\n",
    "            print('Waiting for 5 seconds...')\n",
    "            time.sleep(5)\n",
    "            return data\n",
    "        else:\n",
    "            return None\n",
    "\n",
    "def get_lat_long(country):\n",
    "    data = fetch_lat_long_data(country)\n",
    "    if data:\n",
    "        return data[0]['lat'] + ',' + data[0]['lon']\n",
    "    else:\n",
    "        return None\n",
    "\n",
    "movies_metadata_countries['lat_long'] = movies_metadata_countries.apply(lambda x: get_lat_long(x['production_countries']), axis=1)\n",
    "movies_metadata_countries[['lat', 'long']] = movies_metadata_countries['lat_long'].str.split(',', expand=True)\n",
    "movies_metadata_countries = movies_metadata_countries.drop(columns=['lat_long'])\n",
    "movies_metadata_countries = movies_metadata_countries[movies_metadata_countries['count'] >= 200]\n",
    "movies_metadata_countries.tail()"
   ]
  },
  {
   "cell_type": "code",
   "execution_count": 42,
   "id": "e952d7f4",
   "metadata": {},
   "outputs": [
    {
     "data": {
      "text/html": "\n<style>\n  #altair-viz-a516d49af131427ca3f8b9e6f8100f49.vega-embed {\n    width: 100%;\n    display: flex;\n  }\n\n  #altair-viz-a516d49af131427ca3f8b9e6f8100f49.vega-embed details,\n  #altair-viz-a516d49af131427ca3f8b9e6f8100f49.vega-embed details summary {\n    position: relative;\n  }\n</style>\n<div id=\"altair-viz-a516d49af131427ca3f8b9e6f8100f49\"></div>\n<script type=\"text/javascript\">\n  var VEGA_DEBUG = (typeof VEGA_DEBUG == \"undefined\") ? {} : VEGA_DEBUG;\n  (function(spec, embedOpt){\n    let outputDiv = document.currentScript.previousElementSibling;\n    if (outputDiv.id !== \"altair-viz-a516d49af131427ca3f8b9e6f8100f49\") {\n      outputDiv = document.getElementById(\"altair-viz-a516d49af131427ca3f8b9e6f8100f49\");\n    }\n    const paths = {\n      \"vega\": \"https://cdn.jsdelivr.net/npm/vega@5?noext\",\n      \"vega-lib\": \"https://cdn.jsdelivr.net/npm/vega-lib?noext\",\n      \"vega-lite\": \"https://cdn.jsdelivr.net/npm/vega-lite@5.17.0?noext\",\n      \"vega-embed\": \"https://cdn.jsdelivr.net/npm/vega-embed@6?noext\",\n    };\n\n    function maybeLoadScript(lib, version) {\n      var key = `${lib.replace(\"-\", \"\")}_version`;\n      return (VEGA_DEBUG[key] == version) ?\n        Promise.resolve(paths[lib]) :\n        new Promise(function(resolve, reject) {\n          var s = document.createElement('script');\n          document.getElementsByTagName(\"head\")[0].appendChild(s);\n          s.async = true;\n          s.onload = () => {\n            VEGA_DEBUG[key] = version;\n            return resolve(paths[lib]);\n          };\n          s.onerror = () => reject(`Error loading script: ${paths[lib]}`);\n          s.src = paths[lib];\n        });\n    }\n\n    function showError(err) {\n      outputDiv.innerHTML = `<div class=\"error\" style=\"color:red;\">${err}</div>`;\n      throw err;\n    }\n\n    function displayChart(vegaEmbed) {\n      vegaEmbed(outputDiv, spec, embedOpt)\n        .catch(err => showError(`Javascript Error: ${err.message}<br>This usually means there's a typo in your chart specification. See the javascript console for the full traceback.`));\n    }\n\n    if(typeof define === \"function\" && define.amd) {\n      requirejs.config({paths});\n      require([\"vega-embed\"], displayChart, err => showError(`Error loading script: ${err.message}`));\n    } else {\n      maybeLoadScript(\"vega\", \"5\")\n        .then(() => maybeLoadScript(\"vega-lite\", \"5.17.0\"))\n        .then(() => maybeLoadScript(\"vega-embed\", \"6\"))\n        .catch(showError)\n        .then(() => displayChart(vegaEmbed));\n    }\n  })({\"config\": {\"view\": {\"continuousWidth\": 300, \"continuousHeight\": 300}}, \"layer\": [{\"data\": {\"url\": \"https://cdn.jsdelivr.net/npm/vega-datasets@v1.29.0/data/world-110m.json\", \"format\": {\"feature\": \"countries\", \"type\": \"topojson\"}}, \"mark\": {\"type\": \"geoshape\", \"fill\": \"rgb(173,216,230)\", \"stroke\": \"white\"}, \"name\": \"view_2\", \"projection\": {\"type\": \"equirectangular\"}}, {\"data\": {\"name\": \"data-e3aa20a2789061220b1f0ae743b6bf4b\"}, \"mark\": {\"type\": \"circle\"}, \"encoding\": {\"color\": {\"field\": \"production_countries\", \"title\": \"Country\", \"type\": \"nominal\"}, \"latitude\": {\"field\": \"lat\", \"type\": \"quantitative\"}, \"longitude\": {\"field\": \"long\", \"type\": \"quantitative\"}, \"size\": {\"field\": \"count\", \"legend\": {\"format\": \".2s\"}, \"scale\": {\"range\": [50, 750]}, \"title\": \"Number of Movies\", \"type\": \"quantitative\"}, \"tooltip\": [{\"field\": \"production_countries\", \"title\": \"Country\", \"type\": \"nominal\"}, {\"field\": \"count\", \"format\": \".2f\", \"title\": \"Number of Movies\", \"type\": \"quantitative\"}]}, \"projection\": {\"type\": \"equirectangular\"}}], \"height\": 750, \"params\": [{\"name\": \"param_14\", \"select\": {\"type\": \"interval\", \"encodings\": [\"x\", \"y\"]}, \"bind\": \"scales\", \"views\": [\"view_2\"]}], \"title\": \"Total number of movies produced by country\", \"width\": 900, \"$schema\": \"https://vega.github.io/schema/vega-lite/v5.17.0.json\", \"datasets\": {\"data-e3aa20a2789061220b1f0ae743b6bf4b\": [{\"production_countries\": \"United States of America\", \"count\": 21153, \"lat\": \"39.7837304\", \"long\": \"-100.445882\"}, {\"production_countries\": \"United Kingdom\", \"count\": 4094, \"lat\": \"54.7023545\", \"long\": \"-3.2765753\"}, {\"production_countries\": \"France\", \"count\": 3940, \"lat\": \"46.603354\", \"long\": \"1.8883335\"}, {\"production_countries\": \"Germany\", \"count\": 2254, \"lat\": \"51.1638175\", \"long\": \"10.4478313\"}, {\"production_countries\": \"Italy\", \"count\": 2169, \"lat\": \"42.6384261\", \"long\": \"12.674297\"}, {\"production_countries\": \"Canada\", \"count\": 1765, \"lat\": \"61.0666922\", \"long\": \"-107.991707\"}, {\"production_countries\": \"Japan\", \"count\": 1648, \"lat\": \"36.5748441\", \"long\": \"139.2394179\"}, {\"production_countries\": \"Spain\", \"count\": 964, \"lat\": \"39.3260685\", \"long\": \"-4.8379791\"}, {\"production_countries\": \"Russia\", \"count\": 912, \"lat\": \"64.6863136\", \"long\": \"97.7453061\"}, {\"production_countries\": \"India\", \"count\": 828, \"lat\": \"22.3511148\", \"long\": \"78.6677428\"}, {\"production_countries\": \"Hong Kong\", \"count\": 596, \"lat\": \"22.2793278\", \"long\": \"114.1628131\"}, {\"production_countries\": \"Sweden\", \"count\": 588, \"lat\": \"59.6749712\", \"long\": \"14.5208584\"}, {\"production_countries\": \"Australia\", \"count\": 570, \"lat\": \"-24.7761086\", \"long\": \"134.755\"}, {\"production_countries\": \"South Korea\", \"count\": 495, \"lat\": \"36.638392\", \"long\": \"127.6961188\"}, {\"production_countries\": \"Belgium\", \"count\": 447, \"lat\": \"50.6402809\", \"long\": \"4.6667145\"}, {\"production_countries\": \"Denmark\", \"count\": 386, \"lat\": \"55.670249\", \"long\": \"10.3333283\"}, {\"production_countries\": \"Finland\", \"count\": 383, \"lat\": \"63.2467777\", \"long\": \"25.9209164\"}, {\"production_countries\": \"Netherlands\", \"count\": 375, \"lat\": \"52.2434979\", \"long\": \"5.6343227\"}, {\"production_countries\": \"China\", \"count\": 372, \"lat\": \"35.000074\", \"long\": \"104.999927\"}, {\"production_countries\": \"Mexico\", \"count\": 329, \"lat\": \"19.4326296\", \"long\": \"-99.1331785\"}, {\"production_countries\": \"Poland\", \"count\": 319, \"lat\": \"52.215933\", \"long\": \"19.134422\"}, {\"production_countries\": \"Brazil\", \"count\": 291, \"lat\": \"-10.3333333\", \"long\": \"-53.2\"}, {\"production_countries\": \"Switzerland\", \"count\": 254, \"lat\": \"46.7985624\", \"long\": \"8.2319736\"}, {\"production_countries\": \"Argentina\", \"count\": 254, \"lat\": \"-34.9964963\", \"long\": \"-64.9672817\"}, {\"production_countries\": \"Ireland\", \"count\": 225, \"lat\": \"52.865196\", \"long\": \"-7.9794599\"}, {\"production_countries\": \"Austria\", \"count\": 209, \"lat\": \"47.59397\", \"long\": \"14.12456\"}, {\"production_countries\": \"Czech Republic\", \"count\": 209, \"lat\": \"49.7439047\", \"long\": \"15.3381061\"}, {\"production_countries\": \"Norway\", \"count\": 203, \"lat\": \"61.1529386\", \"long\": \"8.7876653\"}]}}, {\"mode\": \"vega-lite\"});\n</script>",
      "text/plain": "alt.LayerChart(...)"
     },
     "execution_count": 42,
     "metadata": {},
     "output_type": "execute_result"
    }
   ],
   "source": [
    "import altair as alt\n",
    "from vega_datasets import data\n",
    "\n",
    "# Load a GeoJSON source that contains features for drawing\n",
    "base = alt.topo_feature(data.world_110m.url, 'countries')\n",
    "\n",
    "# Create a base map\n",
    "base_map = alt.Chart(base).mark_geoshape(\n",
    "    fill='rgb(173,216,230)',\n",
    "    stroke='white'\n",
    ").project('equirectangular')\n",
    "\n",
    "# Create a scatter plot layer\n",
    "points = alt.Chart(movies_metadata_countries).mark_circle().encode(\n",
    "    longitude='long:Q',\n",
    "    latitude='lat:Q',\n",
    "    size=alt.Size('count:Q', title='Number of Movies', scale=alt.Scale(range=[50, 750])).legend(format=\".2s\"),\n",
    "    color=alt.Color('production_countries:N', title='Country'),\n",
    "    tooltip=[alt.Tooltip('production_countries', title='Country'), alt.Tooltip('count', format='.2f', title='Number of Movies')]\n",
    ").project('equirectangular')\n",
    "\n",
    "chart = base_map + points\n",
    "\n",
    "chart = chart.properties(\n",
    "    title='Total number of movies produced by country',\n",
    "    width=900,\n",
    "    height=750\n",
    ").interactive()\n",
    "\n",
    "chart"
   ]
  },
  {
   "cell_type": "markdown",
   "source": [
    "### Evaluation\n",
    "(I missed adding the evaluation done on my first submission. I am adding it now.)\n",
    "\n",
    "#### Participants:\n",
    "I selected 3 people for the evaluation:-\n",
    "1. Friend who is a developer\n",
    "2. Friend who is in a management role\n",
    "3. Family member who is a movie enthusiast\n",
    "\n",
    "#### Measurement Criteria:\n",
    "1. Do the visualizations help us in selecting a movie to watch according to our preferences at that moment?\n",
    "2. Do the visualizations help us in understanding the distribution of genres, countries, and popularity of movies?\n",
    "3. Do the visualizations help us in choosing a movie related to a movie we like?\n",
    "\n",
    "#### Feedback Received:\n",
    "##### Positive Feedback:\n",
    "1. The genres distribution visualization was helpful in understanding the distribution of genres in the movies dataset.\n",
    "2. The genres distribution and top movies visualization was helpful in understanding the distribution of genres and the top movies for each genre.\n",
    "3. The recommendation system was helpful in recommending similar movies based on the movie overview.\n",
    "4. The genres distribution by decade visualization was helpful in understanding change of taste in movies over the decades.\n",
    "5. The countries visualization graph had mixed feedback. Some found it helpful in understanding the distribution of movies by country, while others found it less helpful.\n",
    "\n",
    "##### Improvement Feedback:\n",
    "1. The genres column was corrupted with production house names. These were identified and removed.\n",
    "2. The genres with less than 2% of the total count were grouped into a single genre called 'Other'.\n",
    "3. The recommendation system graph was missing the source movie title. This was added to the graph.\n",
    "4. The countries visualization graph legend was only displaying the numbers which was not helpful. The country names were added to the legend with color for better understanding."
   ],
   "metadata": {
    "collapsed": false
   }
  },
  {
   "cell_type": "markdown",
   "source": [
    "### Conclusion\n",
    "The visualization project analyzed the movies dataset to understand the distribution of genres, countries, and popularity of movies. The project also implemented a recommendation system to recommend similar movies based on the movie overview. The project used the Altair library to create interactive visualizations.\n",
    "\n",
    "The project received positive feedback from the participants. The visualizations were helpful in understanding the distribution of genres, countries, and popularity of movies. The recommendation system was helpful in recommending similar movies based on the movie overview. The project also received improvement feedback, which was implemented to improve the visualizations."
   ],
   "metadata": {
    "collapsed": false
   }
  },
  {
   "cell_type": "code",
   "execution_count": 42,
   "outputs": [],
   "source": [],
   "metadata": {
    "collapsed": false
   }
  }
 ],
 "metadata": {
  "kernelspec": {
   "display_name": "Python 3 (ipykernel)",
   "language": "python",
   "name": "python3"
  },
  "language_info": {
   "codemirror_mode": {
    "name": "ipython",
    "version": 3
   },
   "file_extension": ".py",
   "mimetype": "text/x-python",
   "name": "python",
   "nbconvert_exporter": "python",
   "pygments_lexer": "ipython3",
   "version": "3.9.13"
  }
 },
 "nbformat": 4,
 "nbformat_minor": 5
}
