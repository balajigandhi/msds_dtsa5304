{
 "cells": [
  {
   "cell_type": "code",
   "execution_count": 7,
   "id": "6a0b37ce6b6a8a8f",
   "metadata": {
    "ExecuteTime": {
     "end_time": "2024-05-30T03:20:28.329310Z",
     "start_time": "2024-05-30T03:20:26.000896Z"
    }
   },
   "outputs": [],
   "source": [
    "#%pip install altair vega vega_datasets"
   ]
  },
  {
   "cell_type": "code",
   "execution_count": 8,
   "id": "c8445024-c233-49a9-ad9c-395a55b5f6f4",
   "metadata": {
    "ExecuteTime": {
     "end_time": "2024-05-31T00:24:48.057942Z",
     "start_time": "2024-05-31T00:24:46.967871Z"
    }
   },
   "outputs": [],
   "source": [
    "import pandas as pd\n",
    "import altair as alt"
   ]
  },
  {
   "cell_type": "code",
   "execution_count": 9,
   "id": "689b915e-5b08-4a3b-bb05-b90177b7e763",
   "metadata": {
    "ExecuteTime": {
     "end_time": "2024-05-30T00:46:20.404700Z",
     "start_time": "2024-05-30T00:46:19.988173Z"
    }
   },
   "outputs": [
    {
     "name": "stdout",
     "output_type": "stream",
     "text": [
      "   adult                              belongs_to_collection    budget  \\\n",
      "0  False  {'id': 10194, 'name': 'Toy Story Collection', ...  30000000   \n",
      "1  False                                                NaN  65000000   \n",
      "2  False  {'id': 119050, 'name': 'Grumpy Old Men Collect...         0   \n",
      "3  False                                                NaN  16000000   \n",
      "4  False  {'id': 96871, 'name': 'Father of the Bride Col...         0   \n",
      "\n",
      "                                              genres  \\\n",
      "0  [{'id': 16, 'name': 'Animation'}, {'id': 35, '...   \n",
      "1  [{'id': 12, 'name': 'Adventure'}, {'id': 14, '...   \n",
      "2  [{'id': 10749, 'name': 'Romance'}, {'id': 35, ...   \n",
      "3  [{'id': 35, 'name': 'Comedy'}, {'id': 18, 'nam...   \n",
      "4                     [{'id': 35, 'name': 'Comedy'}]   \n",
      "\n",
      "                               homepage     id    imdb_id original_language  \\\n",
      "0  http://toystory.disney.com/toy-story    862  tt0114709                en   \n",
      "1                                   NaN   8844  tt0113497                en   \n",
      "2                                   NaN  15602  tt0113228                en   \n",
      "3                                   NaN  31357  tt0114885                en   \n",
      "4                                   NaN  11862  tt0113041                en   \n",
      "\n",
      "                original_title  \\\n",
      "0                    Toy Story   \n",
      "1                      Jumanji   \n",
      "2             Grumpier Old Men   \n",
      "3            Waiting to Exhale   \n",
      "4  Father of the Bride Part II   \n",
      "\n",
      "                                            overview  ... release_date  \\\n",
      "0  Led by Woody, Andy's toys live happily in his ...  ...   1995-10-30   \n",
      "1  When siblings Judy and Peter discover an encha...  ...   1995-12-15   \n",
      "2  A family wedding reignites the ancient feud be...  ...   1995-12-22   \n",
      "3  Cheated on, mistreated and stepped on, the wom...  ...   1995-12-22   \n",
      "4  Just when George Banks has recovered from his ...  ...   1995-02-10   \n",
      "\n",
      "       revenue runtime                                   spoken_languages  \\\n",
      "0  373554033.0    81.0           [{'iso_639_1': 'en', 'name': 'English'}]   \n",
      "1  262797249.0   104.0  [{'iso_639_1': 'en', 'name': 'English'}, {'iso...   \n",
      "2          0.0   101.0           [{'iso_639_1': 'en', 'name': 'English'}]   \n",
      "3   81452156.0   127.0           [{'iso_639_1': 'en', 'name': 'English'}]   \n",
      "4   76578911.0   106.0           [{'iso_639_1': 'en', 'name': 'English'}]   \n",
      "\n",
      "     status                                            tagline  \\\n",
      "0  Released                                                NaN   \n",
      "1  Released          Roll the dice and unleash the excitement!   \n",
      "2  Released  Still Yelling. Still Fighting. Still Ready for...   \n",
      "3  Released  Friends are the people who let you be yourself...   \n",
      "4  Released  Just When His World Is Back To Normal... He's ...   \n",
      "\n",
      "                         title  video vote_average vote_count  \n",
      "0                    Toy Story  False          7.7     5415.0  \n",
      "1                      Jumanji  False          6.9     2413.0  \n",
      "2             Grumpier Old Men  False          6.5       92.0  \n",
      "3            Waiting to Exhale  False          6.1       34.0  \n",
      "4  Father of the Bride Part II  False          5.7      173.0  \n",
      "\n",
      "[5 rows x 24 columns]\n",
      "(45466, 24)\n"
     ]
    }
   ],
   "source": [
    "movies_metadata = pd.read_csv('../The_Movies_Dataset/movies_metadata.csv', low_memory=False)\n",
    "print(movies_metadata.head())\n",
    "print(movies_metadata.shape)"
   ]
  },
  {
   "cell_type": "code",
   "execution_count": 10,
   "id": "4faf09b50264da7b",
   "metadata": {
    "ExecuteTime": {
     "end_time": "2024-05-30T00:46:24.478919Z",
     "start_time": "2024-05-30T00:46:20.405782Z"
    }
   },
   "outputs": [
    {
     "name": "stdout",
     "output_type": "stream",
     "text": [
      "   userId  movieId  rating   timestamp\n",
      "0       1      110     1.0  1425941529\n",
      "1       1      147     4.5  1425942435\n",
      "2       1      858     5.0  1425941523\n",
      "3       1     1221     5.0  1425941546\n",
      "4       1     1246     5.0  1425941556\n",
      "(26024289, 4)\n"
     ]
    }
   ],
   "source": [
    "ratings = pd.read_csv('../The_Movies_Dataset/ratings.csv')\n",
    "print(ratings.head())\n",
    "print(ratings.shape)"
   ]
  },
  {
   "cell_type": "code",
   "execution_count": 11,
   "id": "9135329537ba441d",
   "metadata": {
    "ExecuteTime": {
     "end_time": "2024-05-30T00:46:26.578514Z",
     "start_time": "2024-05-30T00:46:24.480173Z"
    }
   },
   "outputs": [
    {
     "name": "stdout",
     "output_type": "stream",
     "text": [
      "                                                cast  \\\n",
      "0  [{'cast_id': 14, 'character': 'Woody (voice)',...   \n",
      "1  [{'cast_id': 1, 'character': 'Alan Parrish', '...   \n",
      "2  [{'cast_id': 2, 'character': 'Max Goldman', 'c...   \n",
      "3  [{'cast_id': 1, 'character': \"Savannah 'Vannah...   \n",
      "4  [{'cast_id': 1, 'character': 'George Banks', '...   \n",
      "\n",
      "                                                crew     id  \n",
      "0  [{'credit_id': '52fe4284c3a36847f8024f49', 'de...    862  \n",
      "1  [{'credit_id': '52fe44bfc3a36847f80a7cd1', 'de...   8844  \n",
      "2  [{'credit_id': '52fe466a9251416c75077a89', 'de...  15602  \n",
      "3  [{'credit_id': '52fe44779251416c91011acb', 'de...  31357  \n",
      "4  [{'credit_id': '52fe44959251416c75039ed7', 'de...  11862  \n",
      "(45476, 3)\n"
     ]
    }
   ],
   "source": [
    "credits = pd.read_csv('../The_Movies_Dataset/credits.csv')\n",
    "print(credits.head())\n",
    "print(credits.shape)"
   ]
  },
  {
   "cell_type": "code",
   "execution_count": 12,
   "id": "1df5437898be3f09",
   "metadata": {
    "ExecuteTime": {
     "end_time": "2024-05-30T00:46:26.647473Z",
     "start_time": "2024-05-30T00:46:26.580111Z"
    }
   },
   "outputs": [
    {
     "name": "stdout",
     "output_type": "stream",
     "text": [
      "      id                                           keywords\n",
      "0    862  [{'id': 931, 'name': 'jealousy'}, {'id': 4290,...\n",
      "1   8844  [{'id': 10090, 'name': 'board game'}, {'id': 1...\n",
      "2  15602  [{'id': 1495, 'name': 'fishing'}, {'id': 12392...\n",
      "3  31357  [{'id': 818, 'name': 'based on novel'}, {'id':...\n",
      "4  11862  [{'id': 1009, 'name': 'baby'}, {'id': 1599, 'n...\n",
      "(46419, 2)\n"
     ]
    }
   ],
   "source": [
    "keywords = pd.read_csv('../The_Movies_Dataset/keywords.csv')\n",
    "print(keywords.head())\n",
    "print(keywords.shape)"
   ]
  },
  {
   "cell_type": "code",
   "execution_count": 13,
   "id": "6e117397aeaa14d9",
   "metadata": {
    "ExecuteTime": {
     "end_time": "2024-05-30T00:46:26.661488Z",
     "start_time": "2024-05-30T00:46:26.648362Z"
    }
   },
   "outputs": [
    {
     "name": "stdout",
     "output_type": "stream",
     "text": [
      "   movieId  imdbId   tmdbId\n",
      "0        1  114709    862.0\n",
      "1        2  113497   8844.0\n",
      "2        3  113228  15602.0\n",
      "3        4  114885  31357.0\n",
      "4        5  113041  11862.0\n",
      "(45843, 3)\n"
     ]
    }
   ],
   "source": [
    "links = pd.read_csv('../The_Movies_Dataset/links.csv')\n",
    "print(links.head())\n",
    "print(links.shape)"
   ]
  },
  {
   "cell_type": "code",
   "execution_count": 14,
   "id": "93eb537c6ed06435",
   "metadata": {
    "ExecuteTime": {
     "end_time": "2024-05-30T00:46:27.070819Z",
     "start_time": "2024-05-30T00:46:26.662359Z"
    }
   },
   "outputs": [
    {
     "name": "stdout",
     "output_type": "stream",
     "text": [
      "adult                                                                False\n",
      "belongs_to_collection    {'id': 10194, 'name': 'Toy Story Collection', ...\n",
      "budget                                                            30000000\n",
      "genres                   [{'id': 16, 'name': 'Animation'}, {'id': 35, '...\n",
      "homepage                              http://toystory.disney.com/toy-story\n",
      "id                                                                     862\n",
      "imdb_id                                                          tt0114709\n",
      "original_language                                                       en\n",
      "original_title                                                   Toy Story\n",
      "overview                 Led by Woody, Andy's toys live happily in his ...\n",
      "popularity                                                       21.946943\n",
      "poster_path                               /rhIRbceoE9lR4veEXuwCC2wARtG.jpg\n",
      "production_companies        [{'name': 'Pixar Animation Studios', 'id': 3}]\n",
      "production_countries     [{'iso_3166_1': 'US', 'name': 'United States o...\n",
      "release_date                                                    1995-10-30\n",
      "revenue                                                        373554033.0\n",
      "runtime                                                               81.0\n",
      "spoken_languages                  [{'iso_639_1': 'en', 'name': 'English'}]\n",
      "status                                                            Released\n",
      "tagline                                                                NaN\n",
      "title                                                            Toy Story\n",
      "video                                                                False\n",
      "vote_average                                                           7.7\n",
      "vote_count                                                          5415.0\n",
      "Name: 0, dtype: object\n"
     ]
    }
   ],
   "source": [
    "movies_metadata = pd.read_csv('../The_Movies_Dataset/movies_metadata.csv', low_memory=False)\n",
    "print(movies_metadata.iloc[0])"
   ]
  },
  {
   "cell_type": "code",
   "execution_count": 15,
   "id": "34622c8df0cff3bf",
   "metadata": {
    "ExecuteTime": {
     "end_time": "2024-05-30T00:46:27.074432Z",
     "start_time": "2024-05-30T00:46:27.071974Z"
    }
   },
   "outputs": [
    {
     "name": "stdout",
     "output_type": "stream",
     "text": [
      "[{'name': 'Pixar Animation Studios', 'id': 3}]\n"
     ]
    }
   ],
   "source": [
    "print(movies_metadata['production_companies'].head().iloc[0])"
   ]
  },
  {
   "cell_type": "code",
   "execution_count": 16,
   "id": "e82383dc91812fb5",
   "metadata": {
    "ExecuteTime": {
     "end_time": "2024-05-30T01:02:14.406108Z",
     "start_time": "2024-05-30T01:02:14.040737Z"
    }
   },
   "outputs": [
    {
     "name": "stdout",
     "output_type": "stream",
     "text": [
      "movies_df is of the type:  <class 'pandas.core.frame.DataFrame'>\n",
      "movies_df:  (3201, 16)\n",
      "                        Title   US_Gross  Worldwide_Gross  US_DVD_Sales  \\\n",
      "0              The Land Girls   146083.0         146083.0           NaN   \n",
      "1      First Love, Last Rites    10876.0          10876.0           NaN   \n",
      "2  I Married a Strange Person   203134.0         203134.0           NaN   \n",
      "3        Let's Talk About Sex   373615.0         373615.0           NaN   \n",
      "4                        Slam  1009819.0        1087521.0           NaN   \n",
      "\n",
      "   Production_Budget Release_Date MPAA_Rating  Running_Time_min Distributor  \\\n",
      "0          8000000.0  Jun 12 1998           R               NaN    Gramercy   \n",
      "1           300000.0  Aug 07 1998           R               NaN      Strand   \n",
      "2           250000.0  Aug 28 1998        None               NaN   Lionsgate   \n",
      "3           300000.0  Sep 11 1998        None               NaN   Fine Line   \n",
      "4          1000000.0  Oct 09 1998           R               NaN     Trimark   \n",
      "\n",
      "                Source Major_Genre         Creative_Type Director  \\\n",
      "0                 None        None                  None     None   \n",
      "1                 None       Drama                  None     None   \n",
      "2                 None      Comedy                  None     None   \n",
      "3                 None      Comedy                  None     None   \n",
      "4  Original Screenplay       Drama  Contemporary Fiction     None   \n",
      "\n",
      "   Rotten_Tomatoes_Rating  IMDB_Rating  IMDB_Votes  \n",
      "0                     NaN          6.1      1071.0  \n",
      "1                     NaN          6.9       207.0  \n",
      "2                     NaN          6.8       865.0  \n",
      "3                    13.0          NaN         NaN  \n",
      "4                    62.0          3.4       165.0  \n"
     ]
    }
   ],
   "source": [
    "# Importing the Vega Dataset\n",
    "from vega_datasets import data as vega_data\n",
    "\n",
    "movies_df = pd.read_json(vega_data.movies.url)\n",
    "\n",
    "# Checking the type of data that we get\n",
    "print(\"movies_df is of the type: \", type(movies_df))\n",
    "\n",
    "print(\"movies_df: \", movies_df.shape)\n",
    "print(movies_df.head())"
   ]
  },
  {
   "cell_type": "code",
   "execution_count": 17,
   "id": "f609181983b6afb9",
   "metadata": {
    "ExecuteTime": {
     "end_time": "2024-05-30T03:07:30.983029Z",
     "start_time": "2024-05-30T03:07:30.975529Z"
    }
   },
   "outputs": [
    {
     "data": {
      "text/plain": [
       "Index(['Title', 'US_Gross', 'Worldwide_Gross', 'US_DVD_Sales',\n",
       "       'Production_Budget', 'Release_Date', 'MPAA_Rating', 'Running_Time_min',\n",
       "       'Distributor', 'Source', 'Major_Genre', 'Creative_Type', 'Director',\n",
       "       'Rotten_Tomatoes_Rating', 'IMDB_Rating', 'IMDB_Votes'],\n",
       "      dtype='object')"
      ]
     },
     "execution_count": 17,
     "metadata": {},
     "output_type": "execute_result"
    }
   ],
   "source": [
    "movies_df.columns"
   ]
  },
  {
   "cell_type": "code",
   "execution_count": 18,
   "id": "6956aeb81305d566",
   "metadata": {
    "ExecuteTime": {
     "end_time": "2024-05-30T03:08:07.990877Z",
     "start_time": "2024-05-30T03:08:07.848443Z"
    }
   },
   "outputs": [],
   "source": [
    "def extract_year(value):\n",
    "    return pd.to_datetime(value, format='%b %d %Y').year\n",
    "\n",
    "movies_df[\"Year\"] = movies_df[\"Release_Date\"].apply(extract_year)"
   ]
  },
  {
   "cell_type": "code",
   "execution_count": 19,
   "id": "7fd3d5ebf537a1d9",
   "metadata": {
    "ExecuteTime": {
     "end_time": "2024-05-30T03:08:41.031334Z",
     "start_time": "2024-05-30T03:08:41.028161Z"
    }
   },
   "outputs": [
    {
     "data": {
      "text/plain": [
       "Index(['Title', 'US_Gross', 'Worldwide_Gross', 'US_DVD_Sales',\n",
       "       'Production_Budget', 'Release_Date', 'MPAA_Rating', 'Running_Time_min',\n",
       "       'Distributor', 'Source', 'Major_Genre', 'Creative_Type', 'Director',\n",
       "       'Rotten_Tomatoes_Rating', 'IMDB_Rating', 'IMDB_Votes', 'Year'],\n",
       "      dtype='object')"
      ]
     },
     "execution_count": 19,
     "metadata": {},
     "output_type": "execute_result"
    }
   ],
   "source": [
    "movies_df.columns"
   ]
  },
  {
   "cell_type": "code",
   "execution_count": 20,
   "id": "6ea427bcd905386d",
   "metadata": {
    "ExecuteTime": {
     "end_time": "2024-05-30T03:24:05.772977Z",
     "start_time": "2024-05-30T03:24:05.731677Z"
    }
   },
   "outputs": [
    {
     "data": {
      "text/html": [
       "\n",
       "<style>\n",
       "  #altair-viz-5872dbb5befa4f20acf8a2bc3d4981ed.vega-embed {\n",
       "    width: 100%;\n",
       "    display: flex;\n",
       "  }\n",
       "\n",
       "  #altair-viz-5872dbb5befa4f20acf8a2bc3d4981ed.vega-embed details,\n",
       "  #altair-viz-5872dbb5befa4f20acf8a2bc3d4981ed.vega-embed details summary {\n",
       "    position: relative;\n",
       "  }\n",
       "</style>\n",
       "<div id=\"altair-viz-5872dbb5befa4f20acf8a2bc3d4981ed\"></div>\n",
       "<script type=\"text/javascript\">\n",
       "  var VEGA_DEBUG = (typeof VEGA_DEBUG == \"undefined\") ? {} : VEGA_DEBUG;\n",
       "  (function(spec, embedOpt){\n",
       "    let outputDiv = document.currentScript.previousElementSibling;\n",
       "    if (outputDiv.id !== \"altair-viz-5872dbb5befa4f20acf8a2bc3d4981ed\") {\n",
       "      outputDiv = document.getElementById(\"altair-viz-5872dbb5befa4f20acf8a2bc3d4981ed\");\n",
       "    }\n",
       "    const paths = {\n",
       "      \"vega\": \"https://cdn.jsdelivr.net/npm/vega@5?noext\",\n",
       "      \"vega-lib\": \"https://cdn.jsdelivr.net/npm/vega-lib?noext\",\n",
       "      \"vega-lite\": \"https://cdn.jsdelivr.net/npm/vega-lite@5.17.0?noext\",\n",
       "      \"vega-embed\": \"https://cdn.jsdelivr.net/npm/vega-embed@6?noext\",\n",
       "    };\n",
       "\n",
       "    function maybeLoadScript(lib, version) {\n",
       "      var key = `${lib.replace(\"-\", \"\")}_version`;\n",
       "      return (VEGA_DEBUG[key] == version) ?\n",
       "        Promise.resolve(paths[lib]) :\n",
       "        new Promise(function(resolve, reject) {\n",
       "          var s = document.createElement('script');\n",
       "          document.getElementsByTagName(\"head\")[0].appendChild(s);\n",
       "          s.async = true;\n",
       "          s.onload = () => {\n",
       "            VEGA_DEBUG[key] = version;\n",
       "            return resolve(paths[lib]);\n",
       "          };\n",
       "          s.onerror = () => reject(`Error loading script: ${paths[lib]}`);\n",
       "          s.src = paths[lib];\n",
       "        });\n",
       "    }\n",
       "\n",
       "    function showError(err) {\n",
       "      outputDiv.innerHTML = `<div class=\"error\" style=\"color:red;\">${err}</div>`;\n",
       "      throw err;\n",
       "    }\n",
       "\n",
       "    function displayChart(vegaEmbed) {\n",
       "      vegaEmbed(outputDiv, spec, embedOpt)\n",
       "        .catch(err => showError(`Javascript Error: ${err.message}<br>This usually means there's a typo in your chart specification. See the javascript console for the full traceback.`));\n",
       "    }\n",
       "\n",
       "    if(typeof define === \"function\" && define.amd) {\n",
       "      requirejs.config({paths});\n",
       "      require([\"vega-embed\"], displayChart, err => showError(`Error loading script: ${err.message}`));\n",
       "    } else {\n",
       "      maybeLoadScript(\"vega\", \"5\")\n",
       "        .then(() => maybeLoadScript(\"vega-lite\", \"5.17.0\"))\n",
       "        .then(() => maybeLoadScript(\"vega-embed\", \"6\"))\n",
       "        .catch(showError)\n",
       "        .then(() => displayChart(vegaEmbed));\n",
       "    }\n",
       "  })({\"config\": {\"view\": {\"continuousWidth\": 300, \"continuousHeight\": 300}}, \"data\": {\"name\": \"data-945be0436fab4a4d01ee2d9573a8a741\"}, \"mark\": {\"type\": \"arc\"}, \"encoding\": {\"color\": {\"field\": \"genre\", \"type\": \"nominal\"}, \"theta\": {\"field\": \"count\", \"type\": \"quantitative\"}, \"tooltip\": [{\"field\": \"genre\", \"type\": \"nominal\"}, {\"field\": \"count\", \"type\": \"quantitative\"}]}, \"title\": \"Movie Genre Distribution\", \"$schema\": \"https://vega.github.io/schema/vega-lite/v5.17.0.json\", \"datasets\": {\"data-945be0436fab4a4d01ee2d9573a8a741\": [{\"genre\": \"Comedy\", \"count\": 4}, {\"genre\": \"Family\", \"count\": 2}, {\"genre\": \"Romance\", \"count\": 2}, {\"genre\": \"Animation\", \"count\": 1}, {\"genre\": \"Adventure\", \"count\": 1}, {\"genre\": \"Fantasy\", \"count\": 1}, {\"genre\": \"Drama\", \"count\": 1}]}}, {\"mode\": \"vega-lite\"});\n",
       "</script>"
      ],
      "text/plain": [
       "alt.Chart(...)"
      ]
     },
     "metadata": {},
     "output_type": "display_data"
    }
   ],
   "source": [
    "import pandas as pd\n",
    "import altair as alt\n",
    "\n",
    "# Sample data\n",
    "data = {\n",
    "    'movie': ['movie_0', 'movie_1', 'movie_2', 'movie_3', 'movie_4'],\n",
    "    'genres': [\n",
    "        ['Animation', 'Comedy', 'Family'],\n",
    "        ['Adventure', 'Fantasy', 'Family'],\n",
    "        ['Romance', 'Comedy'],\n",
    "        ['Comedy', 'Drama', 'Romance'],\n",
    "        ['Comedy']\n",
    "    ]\n",
    "}\n",
    "\n",
    "# Create a DataFrame\n",
    "df = pd.DataFrame(data)\n",
    "\n",
    "# Flatten the list of genres and count occurrences\n",
    "genre_counts = df['genres'].explode().value_counts().reset_index()\n",
    "genre_counts.columns = ['genre', 'count']\n",
    "\n",
    "alt.renderers.enable('html')\n",
    "\n",
    "# Create a pie chart with Altair\n",
    "chart = alt.Chart(genre_counts).mark_arc().encode(\n",
    "    theta=alt.Theta(field='count', type='quantitative'),\n",
    "    color=alt.Color(field='genre', type='nominal'),\n",
    "    tooltip=['genre', 'count']\n",
    ").properties(\n",
    "    title='Movie Genre Distribution'\n",
    ")\n",
    "\n",
    "# Display the chart\n",
    "chart.show()"
   ]
  },
  {
   "cell_type": "code",
   "execution_count": null,
   "id": "ecaf2f564107c138",
   "metadata": {},
   "outputs": [],
   "source": []
  }
 ],
 "metadata": {
  "kernelspec": {
   "display_name": "Python 3 (ipykernel)",
   "language": "python",
   "name": "python3"
  },
  "language_info": {
   "codemirror_mode": {
    "name": "ipython",
    "version": 3
   },
   "file_extension": ".py",
   "mimetype": "text/x-python",
   "name": "python",
   "nbconvert_exporter": "python",
   "pygments_lexer": "ipython3",
   "version": "3.9.6"
  }
 },
 "nbformat": 4,
 "nbformat_minor": 5
}
