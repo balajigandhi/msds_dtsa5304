{
 "cells": [
  {
   "cell_type": "markdown",
   "id": "919b5e3de353407b",
   "metadata": {},
   "source": [
    "## Visualization Project: Movie Recommendation System\n",
    "\n",
    "### Overview\n",
    "This project is part of MSDS course work (Course: DTSA 5304: Fundamentals of Data Visualization). The course uses the Altair library to explain visualization concepts.\n",
    "\n",
    "### Project Description\n",
    "The project uses the movies dataset to analyze multiple aspects of the dataset.\n",
    "\n",
    "### Dataset: The Movies Dataset\n",
    "This system uses the movies dataset (https://www.kaggle.com/datasets/rounakbanik/the-movies-dataset). It has metadata on over 45,000 movies. 26 million ratings from over 270,000 users."
   ]
  },
  {
   "cell_type": "markdown",
   "id": "49391e9f",
   "metadata": {},
   "source": [
    "### Required Libraries\n",
    "First we install the required libraries. This only needs to be done **once**."
   ]
  },
  {
   "cell_type": "code",
   "execution_count": 34,
   "id": "4e854eeb",
   "metadata": {},
   "outputs": [],
   "source": [
    "#%pip install altair vega vega_datasets pandas scikit-learn sentence-transformers streamlit"
   ]
  },
  {
   "cell_type": "markdown",
   "id": "e640647b",
   "metadata": {},
   "source": [
    "### Visualition #1: Genres Distribution\n",
    "The first visualization tries to analyze the distribution of genres in the movies dataset."
   ]
  },
  {
   "cell_type": "code",
   "execution_count": 35,
   "id": "347a35fc",
   "metadata": {},
   "outputs": [
    {
     "data": {
      "text/plain": "      id                        title  \\\n0    862                    Toy Story   \n1   8844                      Jumanji   \n2  15602             Grumpier Old Men   \n3  31357            Waiting to Exhale   \n4  11862  Father of the Bride Part II   \n\n                                              genres  \n0  [{'id': 16, 'name': 'Animation'}, {'id': 35, '...  \n1  [{'id': 12, 'name': 'Adventure'}, {'id': 14, '...  \n2  [{'id': 10749, 'name': 'Romance'}, {'id': 35, ...  \n3  [{'id': 35, 'name': 'Comedy'}, {'id': 18, 'nam...  \n4                     [{'id': 35, 'name': 'Comedy'}]  ",
      "text/html": "<div>\n<style scoped>\n    .dataframe tbody tr th:only-of-type {\n        vertical-align: middle;\n    }\n\n    .dataframe tbody tr th {\n        vertical-align: top;\n    }\n\n    .dataframe thead th {\n        text-align: right;\n    }\n</style>\n<table border=\"1\" class=\"dataframe\">\n  <thead>\n    <tr style=\"text-align: right;\">\n      <th></th>\n      <th>id</th>\n      <th>title</th>\n      <th>genres</th>\n    </tr>\n  </thead>\n  <tbody>\n    <tr>\n      <th>0</th>\n      <td>862</td>\n      <td>Toy Story</td>\n      <td>[{'id': 16, 'name': 'Animation'}, {'id': 35, '...</td>\n    </tr>\n    <tr>\n      <th>1</th>\n      <td>8844</td>\n      <td>Jumanji</td>\n      <td>[{'id': 12, 'name': 'Adventure'}, {'id': 14, '...</td>\n    </tr>\n    <tr>\n      <th>2</th>\n      <td>15602</td>\n      <td>Grumpier Old Men</td>\n      <td>[{'id': 10749, 'name': 'Romance'}, {'id': 35, ...</td>\n    </tr>\n    <tr>\n      <th>3</th>\n      <td>31357</td>\n      <td>Waiting to Exhale</td>\n      <td>[{'id': 35, 'name': 'Comedy'}, {'id': 18, 'nam...</td>\n    </tr>\n    <tr>\n      <th>4</th>\n      <td>11862</td>\n      <td>Father of the Bride Part II</td>\n      <td>[{'id': 35, 'name': 'Comedy'}]</td>\n    </tr>\n  </tbody>\n</table>\n</div>"
     },
     "execution_count": 35,
     "metadata": {},
     "output_type": "execute_result"
    }
   ],
   "source": [
    "import pandas as pd\n",
    "import altair as alt\n",
    "from ast import literal_eval\n",
    "\n",
    "# load the movies metadata\n",
    "movies_metadata = pd.read_csv('./The_Movies_Dataset/movies_metadata.csv', low_memory=False)\n",
    "# extract the genres from the genres column\n",
    "movies_metadata_genres = movies_metadata[['id', 'title', 'genres']].copy()\n",
    "movies_metadata_genres.head()"
   ]
  },
  {
   "cell_type": "code",
   "execution_count": 36,
   "outputs": [
    {
     "data": {
      "text/plain": "      id                        title                        genres\n0    862                    Toy Story   [Animation, Comedy, Family]\n1   8844                      Jumanji  [Adventure, Fantasy, Family]\n2  15602             Grumpier Old Men             [Romance, Comedy]\n3  31357            Waiting to Exhale      [Comedy, Drama, Romance]\n4  11862  Father of the Bride Part II                      [Comedy]",
      "text/html": "<div>\n<style scoped>\n    .dataframe tbody tr th:only-of-type {\n        vertical-align: middle;\n    }\n\n    .dataframe tbody tr th {\n        vertical-align: top;\n    }\n\n    .dataframe thead th {\n        text-align: right;\n    }\n</style>\n<table border=\"1\" class=\"dataframe\">\n  <thead>\n    <tr style=\"text-align: right;\">\n      <th></th>\n      <th>id</th>\n      <th>title</th>\n      <th>genres</th>\n    </tr>\n  </thead>\n  <tbody>\n    <tr>\n      <th>0</th>\n      <td>862</td>\n      <td>Toy Story</td>\n      <td>[Animation, Comedy, Family]</td>\n    </tr>\n    <tr>\n      <th>1</th>\n      <td>8844</td>\n      <td>Jumanji</td>\n      <td>[Adventure, Fantasy, Family]</td>\n    </tr>\n    <tr>\n      <th>2</th>\n      <td>15602</td>\n      <td>Grumpier Old Men</td>\n      <td>[Romance, Comedy]</td>\n    </tr>\n    <tr>\n      <th>3</th>\n      <td>31357</td>\n      <td>Waiting to Exhale</td>\n      <td>[Comedy, Drama, Romance]</td>\n    </tr>\n    <tr>\n      <th>4</th>\n      <td>11862</td>\n      <td>Father of the Bride Part II</td>\n      <td>[Comedy]</td>\n    </tr>\n  </tbody>\n</table>\n</div>"
     },
     "execution_count": 36,
     "metadata": {},
     "output_type": "execute_result"
    }
   ],
   "source": [
    "# genres column is a string representation of a list of dictionaries. We need to convert it to a list of strings.\n",
    "movies_metadata_genres['genres'] = (\n",
    "    movies_metadata_genres['genres']\n",
    "    .fillna('[]')\n",
    "    .apply(literal_eval)\n",
    "    .apply(lambda x: [i['name'] for i in x] if isinstance(x, list) else [])\n",
    ")\n",
    "movies_metadata_genres.head()"
   ],
   "metadata": {
    "collapsed": false
   }
  },
  {
   "cell_type": "code",
   "execution_count": 37,
   "id": "b3a6a36d567172b",
   "metadata": {
    "ExecuteTime": {
     "end_time": "2024-06-01T00:20:43.679747Z",
     "start_time": "2024-06-01T00:20:43.635922Z"
    }
   },
   "outputs": [
    {
     "data": {
      "text/plain": "      genres  count  percentage\n9      Drama  20265   22.243321\n6     Comedy  13182   14.468860\n28  Thriller   7624    8.368274\n22   Romance   6735    7.392488\n0     Action   6596    7.239918",
      "text/html": "<div>\n<style scoped>\n    .dataframe tbody tr th:only-of-type {\n        vertical-align: middle;\n    }\n\n    .dataframe tbody tr th {\n        vertical-align: top;\n    }\n\n    .dataframe thead th {\n        text-align: right;\n    }\n</style>\n<table border=\"1\" class=\"dataframe\">\n  <thead>\n    <tr style=\"text-align: right;\">\n      <th></th>\n      <th>genres</th>\n      <th>count</th>\n      <th>percentage</th>\n    </tr>\n  </thead>\n  <tbody>\n    <tr>\n      <th>9</th>\n      <td>Drama</td>\n      <td>20265</td>\n      <td>22.243321</td>\n    </tr>\n    <tr>\n      <th>6</th>\n      <td>Comedy</td>\n      <td>13182</td>\n      <td>14.468860</td>\n    </tr>\n    <tr>\n      <th>28</th>\n      <td>Thriller</td>\n      <td>7624</td>\n      <td>8.368274</td>\n    </tr>\n    <tr>\n      <th>22</th>\n      <td>Romance</td>\n      <td>6735</td>\n      <td>7.392488</td>\n    </tr>\n    <tr>\n      <th>0</th>\n      <td>Action</td>\n      <td>6596</td>\n      <td>7.239918</td>\n    </tr>\n  </tbody>\n</table>\n</div>"
     },
     "execution_count": 37,
     "metadata": {},
     "output_type": "execute_result"
    }
   ],
   "source": [
    "# The genres column is now a list of strings. We can now explode the genres column and group by genres.\n",
    "movies_metadata_genres_exploded = movies_metadata_genres.explode('genres')\n",
    "movies_metadata_genres_exploded = movies_metadata_genres_exploded.groupby('genres').size().reset_index(name='count')\n",
    "movies_metadata_genres_exploded = movies_metadata_genres_exploded.sort_values('count', ascending=False)\n",
    "# calculate the percentage\n",
    "movies_metadata_genres_exploded['percentage'] = movies_metadata_genres_exploded['count'] / movies_metadata_genres_exploded['count'].sum() * 100\n",
    "movies_metadata_genres_exploded.head()"
   ]
  },
  {
   "cell_type": "code",
   "execution_count": 38,
   "id": "775e62828dbf1b9d",
   "metadata": {
    "ExecuteTime": {
     "end_time": "2024-06-01T00:20:46.379829Z",
     "start_time": "2024-06-01T00:20:46.347851Z"
    }
   },
   "outputs": [
    {
     "data": {
      "text/html": "\n<style>\n  #altair-viz-cdf7e0d085764c04ac6de15991e617e3.vega-embed {\n    width: 100%;\n    display: flex;\n  }\n\n  #altair-viz-cdf7e0d085764c04ac6de15991e617e3.vega-embed details,\n  #altair-viz-cdf7e0d085764c04ac6de15991e617e3.vega-embed details summary {\n    position: relative;\n  }\n</style>\n<div id=\"altair-viz-cdf7e0d085764c04ac6de15991e617e3\"></div>\n<script type=\"text/javascript\">\n  var VEGA_DEBUG = (typeof VEGA_DEBUG == \"undefined\") ? {} : VEGA_DEBUG;\n  (function(spec, embedOpt){\n    let outputDiv = document.currentScript.previousElementSibling;\n    if (outputDiv.id !== \"altair-viz-cdf7e0d085764c04ac6de15991e617e3\") {\n      outputDiv = document.getElementById(\"altair-viz-cdf7e0d085764c04ac6de15991e617e3\");\n    }\n    const paths = {\n      \"vega\": \"https://cdn.jsdelivr.net/npm/vega@5?noext\",\n      \"vega-lib\": \"https://cdn.jsdelivr.net/npm/vega-lib?noext\",\n      \"vega-lite\": \"https://cdn.jsdelivr.net/npm/vega-lite@5.17.0?noext\",\n      \"vega-embed\": \"https://cdn.jsdelivr.net/npm/vega-embed@6?noext\",\n    };\n\n    function maybeLoadScript(lib, version) {\n      var key = `${lib.replace(\"-\", \"\")}_version`;\n      return (VEGA_DEBUG[key] == version) ?\n        Promise.resolve(paths[lib]) :\n        new Promise(function(resolve, reject) {\n          var s = document.createElement('script');\n          document.getElementsByTagName(\"head\")[0].appendChild(s);\n          s.async = true;\n          s.onload = () => {\n            VEGA_DEBUG[key] = version;\n            return resolve(paths[lib]);\n          };\n          s.onerror = () => reject(`Error loading script: ${paths[lib]}`);\n          s.src = paths[lib];\n        });\n    }\n\n    function showError(err) {\n      outputDiv.innerHTML = `<div class=\"error\" style=\"color:red;\">${err}</div>`;\n      throw err;\n    }\n\n    function displayChart(vegaEmbed) {\n      vegaEmbed(outputDiv, spec, embedOpt)\n        .catch(err => showError(`Javascript Error: ${err.message}<br>This usually means there's a typo in your chart specification. See the javascript console for the full traceback.`));\n    }\n\n    if(typeof define === \"function\" && define.amd) {\n      requirejs.config({paths});\n      require([\"vega-embed\"], displayChart, err => showError(`Error loading script: ${err.message}`));\n    } else {\n      maybeLoadScript(\"vega\", \"5\")\n        .then(() => maybeLoadScript(\"vega-lite\", \"5.17.0\"))\n        .then(() => maybeLoadScript(\"vega-embed\", \"6\"))\n        .catch(showError)\n        .then(() => displayChart(vegaEmbed));\n    }\n  })({\"config\": {\"view\": {\"continuousWidth\": 300, \"continuousHeight\": 300}}, \"data\": {\"name\": \"data-7a5acd705897b16d5b322c2d9ff4d5c4\"}, \"mark\": {\"type\": \"arc\"}, \"encoding\": {\"color\": {\"field\": \"genres\", \"type\": \"nominal\"}, \"theta\": {\"field\": \"percentage\", \"stack\": true, \"type\": \"quantitative\"}, \"tooltip\": [{\"field\": \"genres\", \"title\": \"Genre\", \"type\": \"nominal\"}, {\"field\": \"percentage\", \"format\": \".2f\", \"title\": \"Percentage\", \"type\": \"quantitative\"}]}, \"params\": [{\"name\": \"param_5\", \"select\": {\"type\": \"interval\", \"encodings\": [\"x\", \"y\"]}, \"bind\": \"scales\"}], \"title\": \"Genres Distribution\", \"$schema\": \"https://vega.github.io/schema/vega-lite/v5.17.0.json\", \"datasets\": {\"data-7a5acd705897b16d5b322c2d9ff4d5c4\": [{\"genres\": \"Drama\", \"count\": 20265, \"percentage\": 22.243320966785944}, {\"genres\": \"Comedy\", \"count\": 13182, \"percentage\": 14.46886044826905}, {\"genres\": \"Thriller\", \"count\": 7624, \"percentage\": 8.368274317827586}, {\"genres\": \"Romance\", \"count\": 6735, \"percentage\": 7.392487871270828}, {\"genres\": \"Action\", \"count\": 6596, \"percentage\": 7.2399183368823135}, {\"genres\": \"Horror\", \"count\": 4673, \"percentage\": 5.129190174082936}, {\"genres\": \"Crime\", \"count\": 4307, \"percentage\": 4.727460320944833}, {\"genres\": \"Documentary\", \"count\": 3932, \"percentage\": 4.315851864860712}, {\"genres\": \"Adventure\", \"count\": 3496, \"percentage\": 3.837288433253573}, {\"genres\": \"Science Fiction\", \"count\": 3049, \"percentage\": 3.3466511536012997}, {\"genres\": \"Family\", \"count\": 2770, \"percentage\": 3.040414462274713}, {\"genres\": \"Mystery\", \"count\": 2467, \"percentage\": 2.7078348297587427}, {\"genres\": \"Fantasy\", \"count\": 2313, \"percentage\": 2.5388009571268633}, {\"genres\": \"Animation\", \"count\": 1935, \"percentage\": 2.1238996333940685}, {\"genres\": \"Foreign\", \"count\": 1622, \"percentage\": 1.7803437753825215}, {\"genres\": \"Music\", \"count\": 1598, \"percentage\": 1.754000834193138}, {\"genres\": \"History\", \"count\": 1398, \"percentage\": 1.534476324281606}, {\"genres\": \"War\", \"count\": 1323, \"percentage\": 1.4521546330647817}, {\"genres\": \"Western\", \"count\": 1042, \"percentage\": 1.1437226966390797}, {\"genres\": \"TV Movie\", \"count\": 767, \"percentage\": 0.8418764955107239}, {\"genres\": \"Odyssey Media\", \"count\": 1, \"percentage\": 0.001097622549557658}, {\"genres\": \"Pulser Productions\", \"count\": 1, \"percentage\": 0.001097622549557658}, {\"genres\": \"Rogue State\", \"count\": 1, \"percentage\": 0.001097622549557658}, {\"genres\": \"GoHands\", \"count\": 1, \"percentage\": 0.001097622549557658}, {\"genres\": \"Carousel Productions\", \"count\": 1, \"percentage\": 0.001097622549557658}, {\"genres\": \"Sentai Filmworks\", \"count\": 1, \"percentage\": 0.001097622549557658}, {\"genres\": \"Telescene Film Group Productions\", \"count\": 1, \"percentage\": 0.001097622549557658}, {\"genres\": \"The Cartel\", \"count\": 1, \"percentage\": 0.001097622549557658}, {\"genres\": \"BROSTA TV\", \"count\": 1, \"percentage\": 0.001097622549557658}, {\"genres\": \"Vision View Entertainment\", \"count\": 1, \"percentage\": 0.001097622549557658}, {\"genres\": \"Aniplex\", \"count\": 1, \"percentage\": 0.001097622549557658}, {\"genres\": \"Mardock Scramble Production Committee\", \"count\": 1, \"percentage\": 0.001097622549557658}]}}, {\"mode\": \"vega-lite\"});\n</script>",
      "text/plain": "alt.Chart(...)"
     },
     "execution_count": 38,
     "metadata": {},
     "output_type": "execute_result"
    }
   ],
   "source": [
    "# plot the genres distribution\n",
    "alt.Chart(movies_metadata_genres_exploded).mark_arc().encode(\n",
    "    theta=alt.Theta(field='percentage', type='quantitative', stack=True),\n",
    "    color=alt.Color(field='genres', type='nominal'),\n",
    "    tooltip=[alt.Tooltip('genres', title='Genre'), alt.Tooltip('percentage', format='.2f', title='Percentage')]\n",
    ").properties(\n",
    "    title='Genres Distribution'\n",
    ").interactive()"
   ]
  },
  {
   "cell_type": "markdown",
   "id": "a313061b",
   "metadata": {},
   "source": [
    "### Visualition #2: Genres Distribution and Top Movies\n",
    "To find the top movies, we need to calculate the weighted rating for each movie. This will be used to find the top movies for each genre. This will also be used to pick top movies for the recommendation system."
   ]
  },
  {
   "cell_type": "code",
   "execution_count": 39,
   "id": "53e2fb0b",
   "metadata": {},
   "outputs": [
    {
     "data": {
      "text/plain": "                             title  vote_count  vote_average     score\n314       The Shawshank Redemption      8358.0           8.5  8.445870\n837                  The Godfather      6024.0           8.5  8.425439\n10345  Dilwale Dulhania Le Jayenge       661.0           9.1  8.421458\n12525              The Dark Knight     12269.0           8.3  8.265477\n2854                    Fight Club      9678.0           8.3  8.256385",
      "text/html": "<div>\n<style scoped>\n    .dataframe tbody tr th:only-of-type {\n        vertical-align: middle;\n    }\n\n    .dataframe tbody tr th {\n        vertical-align: top;\n    }\n\n    .dataframe thead th {\n        text-align: right;\n    }\n</style>\n<table border=\"1\" class=\"dataframe\">\n  <thead>\n    <tr style=\"text-align: right;\">\n      <th></th>\n      <th>title</th>\n      <th>vote_count</th>\n      <th>vote_average</th>\n      <th>score</th>\n    </tr>\n  </thead>\n  <tbody>\n    <tr>\n      <th>314</th>\n      <td>The Shawshank Redemption</td>\n      <td>8358.0</td>\n      <td>8.5</td>\n      <td>8.445870</td>\n    </tr>\n    <tr>\n      <th>837</th>\n      <td>The Godfather</td>\n      <td>6024.0</td>\n      <td>8.5</td>\n      <td>8.425439</td>\n    </tr>\n    <tr>\n      <th>10345</th>\n      <td>Dilwale Dulhania Le Jayenge</td>\n      <td>661.0</td>\n      <td>9.1</td>\n      <td>8.421458</td>\n    </tr>\n    <tr>\n      <th>12525</th>\n      <td>The Dark Knight</td>\n      <td>12269.0</td>\n      <td>8.3</td>\n      <td>8.265477</td>\n    </tr>\n    <tr>\n      <th>2854</th>\n      <td>Fight Club</td>\n      <td>9678.0</td>\n      <td>8.3</td>\n      <td>8.256385</td>\n    </tr>\n  </tbody>\n</table>\n</div>"
     },
     "execution_count": 39,
     "metadata": {},
     "output_type": "execute_result"
    }
   ],
   "source": [
    "credits = pd.read_csv('./The_Movies_Dataset/credits.csv', low_memory=False)\n",
    "movies_metadata['id'] = pd.to_numeric(movies_metadata['id'], errors='coerce')\n",
    "credits['id'] = pd.to_numeric(credits['id'], errors='coerce')\n",
    "movies_metadata_credits = movies_metadata.merge(credits, on='id')\n",
    "# Calculating the average rating for each movie is not enough. We need to calculate the weighted rating for each movie.\n",
    "# https://math.stackexchange.com/questions/169032/understanding-the-imdb-weighted-rating-function-for-usage-on-my-own-website\n",
    "# Weighted Rating (WR) = (v ÷ (v+m)) × R + (m ÷ (v+m)) × C\n",
    "\n",
    "# v = number of votes for the movie\n",
    "# m = minimum votes required to be listed in the chart\n",
    "# R = average rating of the movie\n",
    "# C = mean vote across the whole report\n",
    "\n",
    "C = movies_metadata_credits['vote_average'].mean()\n",
    "m = movies_metadata_credits['vote_count'].quantile(0.90)\n",
    "\n",
    "# filter out movies that have less than m votes\n",
    "movies_metadata_credits = movies_metadata_credits[movies_metadata_credits['vote_count'] >= m]\n",
    "\n",
    "# calculate the score\n",
    "movies_metadata_credits['score'] = (\n",
    "    (movies_metadata_credits['vote_count'] / (movies_metadata_credits['vote_count'] + m)) * movies_metadata_credits['vote_average'] +\n",
    "    (m / (movies_metadata_credits['vote_count'] + m)) * C\n",
    ")\n",
    "movies_metadata_credits = movies_metadata_credits.sort_values('score', ascending=False)\n",
    "movies_metadata_credits[['title', 'vote_count', 'vote_average', 'score']].head()"
   ]
  },
  {
   "cell_type": "code",
   "execution_count": 40,
   "outputs": [
    {
     "data": {
      "text/plain": "            id                        title                            genres  \\\n314      278.0     The Shawshank Redemption                    [Drama, Crime]   \n837      238.0                The Godfather                    [Drama, Crime]   \n10345  19404.0  Dilwale Dulhania Le Jayenge          [Comedy, Drama, Romance]   \n12525    155.0              The Dark Knight  [Drama, Action, Crime, Thriller]   \n2854     550.0                   Fight Club                           [Drama]   \n\n          score  \n314    8.445870  \n837    8.425439  \n10345  8.421458  \n12525  8.265477  \n2854   8.256385  ",
      "text/html": "<div>\n<style scoped>\n    .dataframe tbody tr th:only-of-type {\n        vertical-align: middle;\n    }\n\n    .dataframe tbody tr th {\n        vertical-align: top;\n    }\n\n    .dataframe thead th {\n        text-align: right;\n    }\n</style>\n<table border=\"1\" class=\"dataframe\">\n  <thead>\n    <tr style=\"text-align: right;\">\n      <th></th>\n      <th>id</th>\n      <th>title</th>\n      <th>genres</th>\n      <th>score</th>\n    </tr>\n  </thead>\n  <tbody>\n    <tr>\n      <th>314</th>\n      <td>278.0</td>\n      <td>The Shawshank Redemption</td>\n      <td>[Drama, Crime]</td>\n      <td>8.445870</td>\n    </tr>\n    <tr>\n      <th>837</th>\n      <td>238.0</td>\n      <td>The Godfather</td>\n      <td>[Drama, Crime]</td>\n      <td>8.425439</td>\n    </tr>\n    <tr>\n      <th>10345</th>\n      <td>19404.0</td>\n      <td>Dilwale Dulhania Le Jayenge</td>\n      <td>[Comedy, Drama, Romance]</td>\n      <td>8.421458</td>\n    </tr>\n    <tr>\n      <th>12525</th>\n      <td>155.0</td>\n      <td>The Dark Knight</td>\n      <td>[Drama, Action, Crime, Thriller]</td>\n      <td>8.265477</td>\n    </tr>\n    <tr>\n      <th>2854</th>\n      <td>550.0</td>\n      <td>Fight Club</td>\n      <td>[Drama]</td>\n      <td>8.256385</td>\n    </tr>\n  </tbody>\n</table>\n</div>"
     },
     "execution_count": 40,
     "metadata": {},
     "output_type": "execute_result"
    }
   ],
   "source": [
    "movies_metadata_credits_genres = movies_metadata_credits[['id', 'title', 'genres', 'score']].copy()\n",
    "movies_metadata_credits_genres['genres'] = (\n",
    "    movies_metadata_credits_genres['genres']\n",
    "    .fillna('[]')\n",
    "    .apply(literal_eval)\n",
    "    .apply(lambda x: [i['name'] for i in x] if isinstance(x, list) else [])\n",
    ")\n",
    "movies_metadata_credits_genres.head()"
   ],
   "metadata": {
    "collapsed": false
   }
  },
  {
   "cell_type": "markdown",
   "source": [
    "We process the genres + credits data similar to the genres data in Visualization #1."
   ],
   "metadata": {
    "collapsed": false
   }
  },
  {
   "cell_type": "code",
   "execution_count": 50,
   "outputs": [
    {
     "name": "stdout",
     "output_type": "stream",
     "text": [
      "Index(['id', 'title', 'genres', 'score'], dtype='object')\n"
     ]
    },
    {
     "ename": "TypeError",
     "evalue": "unhashable type: 'list'",
     "output_type": "error",
     "traceback": [
      "\u001B[0;31m---------------------------------------------------------------------------\u001B[0m",
      "\u001B[0;31mTypeError\u001B[0m                                 Traceback (most recent call last)",
      "\u001B[0;32m/var/folders/jn/h7rn7bs97wx7dx5vvqkg93480000gq/T/ipykernel_29551/3031240993.py\u001B[0m in \u001B[0;36m<module>\u001B[0;34m\u001B[0m\n\u001B[1;32m      4\u001B[0m \u001B[0mmovies_metadata_g_e_with_top_movies\u001B[0m \u001B[0;34m=\u001B[0m \u001B[0mmovies_metadata_g_e_with_top_movies\u001B[0m\u001B[0;34m.\u001B[0m\u001B[0mgroupby\u001B[0m\u001B[0;34m(\u001B[0m\u001B[0;34m'genres'\u001B[0m\u001B[0;34m)\u001B[0m\u001B[0;34m.\u001B[0m\u001B[0msize\u001B[0m\u001B[0;34m(\u001B[0m\u001B[0;34m)\u001B[0m\u001B[0;34m.\u001B[0m\u001B[0mreset_index\u001B[0m\u001B[0;34m(\u001B[0m\u001B[0mname\u001B[0m\u001B[0;34m=\u001B[0m\u001B[0;34m'count'\u001B[0m\u001B[0;34m)\u001B[0m\u001B[0;34m\u001B[0m\u001B[0;34m\u001B[0m\u001B[0m\n\u001B[1;32m      5\u001B[0m \u001B[0;31m# include the score column\u001B[0m\u001B[0;34m\u001B[0m\u001B[0;34m\u001B[0m\u001B[0m\n\u001B[0;32m----> 6\u001B[0;31m movies_metadata_g_e_with_top_movies = movies_metadata_g_e_with_top_movies.merge(\n\u001B[0m\u001B[1;32m      7\u001B[0m     \u001B[0mmovies_metadata_credits_genres\u001B[0m\u001B[0;34m[\u001B[0m\u001B[0;34m[\u001B[0m\u001B[0;34m'genres'\u001B[0m\u001B[0;34m,\u001B[0m \u001B[0;34m'score'\u001B[0m\u001B[0;34m,\u001B[0m \u001B[0;34m'title'\u001B[0m\u001B[0;34m]\u001B[0m\u001B[0;34m]\u001B[0m\u001B[0;34m,\u001B[0m\u001B[0;34m\u001B[0m\u001B[0;34m\u001B[0m\u001B[0m\n\u001B[1;32m      8\u001B[0m     \u001B[0mon\u001B[0m\u001B[0;34m=\u001B[0m\u001B[0;34m'genres'\u001B[0m\u001B[0;34m\u001B[0m\u001B[0;34m\u001B[0m\u001B[0m\n",
      "\u001B[0;32m~/opt/anaconda3/lib/python3.9/site-packages/pandas/core/frame.py\u001B[0m in \u001B[0;36mmerge\u001B[0;34m(self, right, how, on, left_on, right_on, left_index, right_index, sort, suffixes, copy, indicator, validate)\u001B[0m\n\u001B[1;32m  10091\u001B[0m         \u001B[0;32mfrom\u001B[0m \u001B[0mpandas\u001B[0m\u001B[0;34m.\u001B[0m\u001B[0mcore\u001B[0m\u001B[0;34m.\u001B[0m\u001B[0mreshape\u001B[0m\u001B[0;34m.\u001B[0m\u001B[0mmerge\u001B[0m \u001B[0;32mimport\u001B[0m \u001B[0mmerge\u001B[0m\u001B[0;34m\u001B[0m\u001B[0;34m\u001B[0m\u001B[0m\n\u001B[1;32m  10092\u001B[0m \u001B[0;34m\u001B[0m\u001B[0m\n\u001B[0;32m> 10093\u001B[0;31m         return merge(\n\u001B[0m\u001B[1;32m  10094\u001B[0m             \u001B[0mself\u001B[0m\u001B[0;34m,\u001B[0m\u001B[0;34m\u001B[0m\u001B[0;34m\u001B[0m\u001B[0m\n\u001B[1;32m  10095\u001B[0m             \u001B[0mright\u001B[0m\u001B[0;34m,\u001B[0m\u001B[0;34m\u001B[0m\u001B[0;34m\u001B[0m\u001B[0m\n",
      "\u001B[0;32m~/opt/anaconda3/lib/python3.9/site-packages/pandas/core/reshape/merge.py\u001B[0m in \u001B[0;36mmerge\u001B[0;34m(left, right, how, on, left_on, right_on, left_index, right_index, sort, suffixes, copy, indicator, validate)\u001B[0m\n\u001B[1;32m    122\u001B[0m         \u001B[0mvalidate\u001B[0m\u001B[0;34m=\u001B[0m\u001B[0mvalidate\u001B[0m\u001B[0;34m,\u001B[0m\u001B[0;34m\u001B[0m\u001B[0;34m\u001B[0m\u001B[0m\n\u001B[1;32m    123\u001B[0m     )\n\u001B[0;32m--> 124\u001B[0;31m     \u001B[0;32mreturn\u001B[0m \u001B[0mop\u001B[0m\u001B[0;34m.\u001B[0m\u001B[0mget_result\u001B[0m\u001B[0;34m(\u001B[0m\u001B[0mcopy\u001B[0m\u001B[0;34m=\u001B[0m\u001B[0mcopy\u001B[0m\u001B[0;34m)\u001B[0m\u001B[0;34m\u001B[0m\u001B[0;34m\u001B[0m\u001B[0m\n\u001B[0m\u001B[1;32m    125\u001B[0m \u001B[0;34m\u001B[0m\u001B[0m\n\u001B[1;32m    126\u001B[0m \u001B[0;34m\u001B[0m\u001B[0m\n",
      "\u001B[0;32m~/opt/anaconda3/lib/python3.9/site-packages/pandas/core/reshape/merge.py\u001B[0m in \u001B[0;36mget_result\u001B[0;34m(self, copy)\u001B[0m\n\u001B[1;32m    771\u001B[0m             \u001B[0mself\u001B[0m\u001B[0;34m.\u001B[0m\u001B[0mleft\u001B[0m\u001B[0;34m,\u001B[0m \u001B[0mself\u001B[0m\u001B[0;34m.\u001B[0m\u001B[0mright\u001B[0m \u001B[0;34m=\u001B[0m \u001B[0mself\u001B[0m\u001B[0;34m.\u001B[0m\u001B[0m_indicator_pre_merge\u001B[0m\u001B[0;34m(\u001B[0m\u001B[0mself\u001B[0m\u001B[0;34m.\u001B[0m\u001B[0mleft\u001B[0m\u001B[0;34m,\u001B[0m \u001B[0mself\u001B[0m\u001B[0;34m.\u001B[0m\u001B[0mright\u001B[0m\u001B[0;34m)\u001B[0m\u001B[0;34m\u001B[0m\u001B[0;34m\u001B[0m\u001B[0m\n\u001B[1;32m    772\u001B[0m \u001B[0;34m\u001B[0m\u001B[0m\n\u001B[0;32m--> 773\u001B[0;31m         \u001B[0mjoin_index\u001B[0m\u001B[0;34m,\u001B[0m \u001B[0mleft_indexer\u001B[0m\u001B[0;34m,\u001B[0m \u001B[0mright_indexer\u001B[0m \u001B[0;34m=\u001B[0m \u001B[0mself\u001B[0m\u001B[0;34m.\u001B[0m\u001B[0m_get_join_info\u001B[0m\u001B[0;34m(\u001B[0m\u001B[0;34m)\u001B[0m\u001B[0;34m\u001B[0m\u001B[0;34m\u001B[0m\u001B[0m\n\u001B[0m\u001B[1;32m    774\u001B[0m \u001B[0;34m\u001B[0m\u001B[0m\n\u001B[1;32m    775\u001B[0m         result = self._reindex_and_concat(\n",
      "\u001B[0;32m~/opt/anaconda3/lib/python3.9/site-packages/pandas/core/reshape/merge.py\u001B[0m in \u001B[0;36m_get_join_info\u001B[0;34m(self)\u001B[0m\n\u001B[1;32m   1024\u001B[0m             )\n\u001B[1;32m   1025\u001B[0m         \u001B[0;32melse\u001B[0m\u001B[0;34m:\u001B[0m\u001B[0;34m\u001B[0m\u001B[0;34m\u001B[0m\u001B[0m\n\u001B[0;32m-> 1026\u001B[0;31m             \u001B[0;34m(\u001B[0m\u001B[0mleft_indexer\u001B[0m\u001B[0;34m,\u001B[0m \u001B[0mright_indexer\u001B[0m\u001B[0;34m)\u001B[0m \u001B[0;34m=\u001B[0m \u001B[0mself\u001B[0m\u001B[0;34m.\u001B[0m\u001B[0m_get_join_indexers\u001B[0m\u001B[0;34m(\u001B[0m\u001B[0;34m)\u001B[0m\u001B[0;34m\u001B[0m\u001B[0;34m\u001B[0m\u001B[0m\n\u001B[0m\u001B[1;32m   1027\u001B[0m \u001B[0;34m\u001B[0m\u001B[0m\n\u001B[1;32m   1028\u001B[0m             \u001B[0;32mif\u001B[0m \u001B[0mself\u001B[0m\u001B[0;34m.\u001B[0m\u001B[0mright_index\u001B[0m\u001B[0;34m:\u001B[0m\u001B[0;34m\u001B[0m\u001B[0;34m\u001B[0m\u001B[0m\n",
      "\u001B[0;32m~/opt/anaconda3/lib/python3.9/site-packages/pandas/core/reshape/merge.py\u001B[0m in \u001B[0;36m_get_join_indexers\u001B[0;34m(self)\u001B[0m\n\u001B[1;32m    998\u001B[0m     \u001B[0;32mdef\u001B[0m \u001B[0m_get_join_indexers\u001B[0m\u001B[0;34m(\u001B[0m\u001B[0mself\u001B[0m\u001B[0;34m)\u001B[0m \u001B[0;34m->\u001B[0m \u001B[0mtuple\u001B[0m\u001B[0;34m[\u001B[0m\u001B[0mnpt\u001B[0m\u001B[0;34m.\u001B[0m\u001B[0mNDArray\u001B[0m\u001B[0;34m[\u001B[0m\u001B[0mnp\u001B[0m\u001B[0;34m.\u001B[0m\u001B[0mintp\u001B[0m\u001B[0;34m]\u001B[0m\u001B[0;34m,\u001B[0m \u001B[0mnpt\u001B[0m\u001B[0;34m.\u001B[0m\u001B[0mNDArray\u001B[0m\u001B[0;34m[\u001B[0m\u001B[0mnp\u001B[0m\u001B[0;34m.\u001B[0m\u001B[0mintp\u001B[0m\u001B[0;34m]\u001B[0m\u001B[0;34m]\u001B[0m\u001B[0;34m:\u001B[0m\u001B[0;34m\u001B[0m\u001B[0;34m\u001B[0m\u001B[0m\n\u001B[1;32m    999\u001B[0m         \u001B[0;34m\"\"\"return the join indexers\"\"\"\u001B[0m\u001B[0;34m\u001B[0m\u001B[0;34m\u001B[0m\u001B[0m\n\u001B[0;32m-> 1000\u001B[0;31m         return get_join_indexers(\n\u001B[0m\u001B[1;32m   1001\u001B[0m             \u001B[0mself\u001B[0m\u001B[0;34m.\u001B[0m\u001B[0mleft_join_keys\u001B[0m\u001B[0;34m,\u001B[0m \u001B[0mself\u001B[0m\u001B[0;34m.\u001B[0m\u001B[0mright_join_keys\u001B[0m\u001B[0;34m,\u001B[0m \u001B[0msort\u001B[0m\u001B[0;34m=\u001B[0m\u001B[0mself\u001B[0m\u001B[0;34m.\u001B[0m\u001B[0msort\u001B[0m\u001B[0;34m,\u001B[0m \u001B[0mhow\u001B[0m\u001B[0;34m=\u001B[0m\u001B[0mself\u001B[0m\u001B[0;34m.\u001B[0m\u001B[0mhow\u001B[0m\u001B[0;34m\u001B[0m\u001B[0;34m\u001B[0m\u001B[0m\n\u001B[1;32m   1002\u001B[0m         )\n",
      "\u001B[0;32m~/opt/anaconda3/lib/python3.9/site-packages/pandas/core/reshape/merge.py\u001B[0m in \u001B[0;36mget_join_indexers\u001B[0;34m(left_keys, right_keys, sort, how, **kwargs)\u001B[0m\n\u001B[1;32m   1583\u001B[0m         \u001B[0;32mfor\u001B[0m \u001B[0mn\u001B[0m \u001B[0;32min\u001B[0m \u001B[0mrange\u001B[0m\u001B[0;34m(\u001B[0m\u001B[0mlen\u001B[0m\u001B[0;34m(\u001B[0m\u001B[0mleft_keys\u001B[0m\u001B[0;34m)\u001B[0m\u001B[0;34m)\u001B[0m\u001B[0;34m\u001B[0m\u001B[0;34m\u001B[0m\u001B[0m\n\u001B[1;32m   1584\u001B[0m     )\n\u001B[0;32m-> 1585\u001B[0;31m     \u001B[0mzipped\u001B[0m \u001B[0;34m=\u001B[0m \u001B[0mzip\u001B[0m\u001B[0;34m(\u001B[0m\u001B[0;34m*\u001B[0m\u001B[0mmapped\u001B[0m\u001B[0;34m)\u001B[0m\u001B[0;34m\u001B[0m\u001B[0;34m\u001B[0m\u001B[0m\n\u001B[0m\u001B[1;32m   1586\u001B[0m     \u001B[0mllab\u001B[0m\u001B[0;34m,\u001B[0m \u001B[0mrlab\u001B[0m\u001B[0;34m,\u001B[0m \u001B[0mshape\u001B[0m \u001B[0;34m=\u001B[0m \u001B[0;34m(\u001B[0m\u001B[0mlist\u001B[0m\u001B[0;34m(\u001B[0m\u001B[0mx\u001B[0m\u001B[0;34m)\u001B[0m \u001B[0;32mfor\u001B[0m \u001B[0mx\u001B[0m \u001B[0;32min\u001B[0m \u001B[0mzipped\u001B[0m\u001B[0;34m)\u001B[0m\u001B[0;34m\u001B[0m\u001B[0;34m\u001B[0m\u001B[0m\n\u001B[1;32m   1587\u001B[0m \u001B[0;34m\u001B[0m\u001B[0m\n",
      "\u001B[0;32m~/opt/anaconda3/lib/python3.9/site-packages/pandas/core/reshape/merge.py\u001B[0m in \u001B[0;36m<genexpr>\u001B[0;34m(.0)\u001B[0m\n\u001B[1;32m   1580\u001B[0m     \u001B[0;31m# get left & right join labels and num. of levels at each location\u001B[0m\u001B[0;34m\u001B[0m\u001B[0;34m\u001B[0m\u001B[0m\n\u001B[1;32m   1581\u001B[0m     mapped = (\n\u001B[0;32m-> 1582\u001B[0;31m         \u001B[0m_factorize_keys\u001B[0m\u001B[0;34m(\u001B[0m\u001B[0mleft_keys\u001B[0m\u001B[0;34m[\u001B[0m\u001B[0mn\u001B[0m\u001B[0;34m]\u001B[0m\u001B[0;34m,\u001B[0m \u001B[0mright_keys\u001B[0m\u001B[0;34m[\u001B[0m\u001B[0mn\u001B[0m\u001B[0;34m]\u001B[0m\u001B[0;34m,\u001B[0m \u001B[0msort\u001B[0m\u001B[0;34m=\u001B[0m\u001B[0msort\u001B[0m\u001B[0;34m,\u001B[0m \u001B[0mhow\u001B[0m\u001B[0;34m=\u001B[0m\u001B[0mhow\u001B[0m\u001B[0;34m)\u001B[0m\u001B[0;34m\u001B[0m\u001B[0;34m\u001B[0m\u001B[0m\n\u001B[0m\u001B[1;32m   1583\u001B[0m         \u001B[0;32mfor\u001B[0m \u001B[0mn\u001B[0m \u001B[0;32min\u001B[0m \u001B[0mrange\u001B[0m\u001B[0;34m(\u001B[0m\u001B[0mlen\u001B[0m\u001B[0;34m(\u001B[0m\u001B[0mleft_keys\u001B[0m\u001B[0;34m)\u001B[0m\u001B[0;34m)\u001B[0m\u001B[0;34m\u001B[0m\u001B[0;34m\u001B[0m\u001B[0m\n\u001B[1;32m   1584\u001B[0m     )\n",
      "\u001B[0;32m~/opt/anaconda3/lib/python3.9/site-packages/pandas/core/reshape/merge.py\u001B[0m in \u001B[0;36m_factorize_keys\u001B[0;34m(lk, rk, sort, how)\u001B[0m\n\u001B[1;32m   2331\u001B[0m     \u001B[0;31m# \"Union[ndarray[Any, dtype[signedinteger[_64Bit]]],\u001B[0m\u001B[0;34m\u001B[0m\u001B[0;34m\u001B[0m\u001B[0m\n\u001B[1;32m   2332\u001B[0m     \u001B[0;31m# ndarray[Any, dtype[object_]]]\"; expected \"ndarray[Any, dtype[object_]]\"\u001B[0m\u001B[0;34m\u001B[0m\u001B[0;34m\u001B[0m\u001B[0m\n\u001B[0;32m-> 2333\u001B[0;31m     \u001B[0mrlab\u001B[0m \u001B[0;34m=\u001B[0m \u001B[0mrizer\u001B[0m\u001B[0;34m.\u001B[0m\u001B[0mfactorize\u001B[0m\u001B[0;34m(\u001B[0m\u001B[0mrk\u001B[0m\u001B[0;34m)\u001B[0m  \u001B[0;31m# type: ignore[arg-type]\u001B[0m\u001B[0;34m\u001B[0m\u001B[0;34m\u001B[0m\u001B[0m\n\u001B[0m\u001B[1;32m   2334\u001B[0m     \u001B[0;32massert\u001B[0m \u001B[0mllab\u001B[0m\u001B[0;34m.\u001B[0m\u001B[0mdtype\u001B[0m \u001B[0;34m==\u001B[0m \u001B[0mnp\u001B[0m\u001B[0;34m.\u001B[0m\u001B[0mdtype\u001B[0m\u001B[0;34m(\u001B[0m\u001B[0mnp\u001B[0m\u001B[0;34m.\u001B[0m\u001B[0mintp\u001B[0m\u001B[0;34m)\u001B[0m\u001B[0;34m,\u001B[0m \u001B[0mllab\u001B[0m\u001B[0;34m.\u001B[0m\u001B[0mdtype\u001B[0m\u001B[0;34m\u001B[0m\u001B[0;34m\u001B[0m\u001B[0m\n\u001B[1;32m   2335\u001B[0m     \u001B[0;32massert\u001B[0m \u001B[0mrlab\u001B[0m\u001B[0;34m.\u001B[0m\u001B[0mdtype\u001B[0m \u001B[0;34m==\u001B[0m \u001B[0mnp\u001B[0m\u001B[0;34m.\u001B[0m\u001B[0mdtype\u001B[0m\u001B[0;34m(\u001B[0m\u001B[0mnp\u001B[0m\u001B[0;34m.\u001B[0m\u001B[0mintp\u001B[0m\u001B[0;34m)\u001B[0m\u001B[0;34m,\u001B[0m \u001B[0mrlab\u001B[0m\u001B[0;34m.\u001B[0m\u001B[0mdtype\u001B[0m\u001B[0;34m\u001B[0m\u001B[0;34m\u001B[0m\u001B[0m\n",
      "\u001B[0;32m~/opt/anaconda3/lib/python3.9/site-packages/pandas/_libs/hashtable.pyx\u001B[0m in \u001B[0;36mpandas._libs.hashtable.ObjectFactorizer.factorize\u001B[0;34m()\u001B[0m\n",
      "\u001B[0;32mpandas/_libs/hashtable_class_helper.pxi\u001B[0m in \u001B[0;36mpandas._libs.hashtable.PyObjectHashTable.get_labels\u001B[0;34m()\u001B[0m\n",
      "\u001B[0;32mpandas/_libs/hashtable_class_helper.pxi\u001B[0m in \u001B[0;36mpandas._libs.hashtable.PyObjectHashTable._unique\u001B[0;34m()\u001B[0m\n",
      "\u001B[0;31mTypeError\u001B[0m: unhashable type: 'list'"
     ]
    }
   ],
   "source": [
    "# Grouping by genres\n",
    "movies_metadata_g_e_with_top_movies = movies_metadata_credits_genres.explode('genres')\n",
    "print(movies_metadata_g_e_with_top_movies.columns)\n",
    "movies_metadata_g_e_with_top_movies = movies_metadata_g_e_with_top_movies.groupby('genres').size().reset_index(name='count')\n",
    "print(movies_metadata_g_e_with_top_movies.columns)\n",
    "movies_metadata_g_e_with_top_movies = movies_metadata_g_e_with_top_movies.sort_values('count', ascending=False)\n",
    "# calculate the percentage\n",
    "movies_metadata_g_e_with_top_movies['percentage'] = movies_metadata_g_e_with_top_movies['count'] / movies_metadata_g_e_with_top_movies['count'].sum() * 100\n",
    "movies_metadata_g_e_with_top_movies['top_movies'] = movies_metadata_g_e_with_top_movies['genres'].apply(\n",
    "    lambda x: ' '.join(\n",
    "        f\"{i + 1}. {title}\"\n",
    "        for i, title in enumerate(\n",
    "            movies_metadata_g_e_with_top_movies[movies_metadata_g_e_with_top_movies['genres'].apply(lambda y: x in y)]\n",
    "            .sort_values(by='score', ascending=False)  # Sort by score in descending order\n",
    "            .head(10)['title']  # Select top 10 titles\n",
    "            .astype(str)\n",
    "        )\n",
    "    )\n",
    ")\n",
    "movies_metadata_g_e_with_top_movies.head()"
   ],
   "metadata": {
    "collapsed": false
   }
  },
  {
   "cell_type": "code",
   "execution_count": null,
   "outputs": [],
   "source": [
    "# plot the genres distribution and show top 10 movies as a tooltip\n",
    "alt.Chart(movies_metadata_g_e_with_top_movies).mark_arc().encode(\n",
    "    theta=alt.Theta(field='percentage', type='quantitative', stack=True),\n",
    "    color=alt.Color(field='genres', type='nominal'),\n",
    "    tooltip=[alt.Tooltip('genres', title='Genre'), alt.Tooltip('percentage', format='.2f', title='Percentage'), alt.Tooltip('top_movies', title='Top Movies')],\n",
    "    order=alt.Order('count', sort='descending')\n",
    ").properties(\n",
    "    title='Genres Distribution and Top Movies'\n",
    ").interactive()"
   ],
   "metadata": {
    "collapsed": false
   }
  },
  {
   "cell_type": "markdown",
   "source": [
    "### Visualition #3: Recommendation System"
   ],
   "metadata": {
    "collapsed": false
   }
  },
  {
   "cell_type": "code",
   "execution_count": null,
   "id": "e9d6e4b1",
   "metadata": {},
   "outputs": [],
   "source": [
    "import os\n",
    "from sentence_transformers import SentenceTransformer\n",
    "\n",
    "model_name = 'all-MiniLM-L6-v2'\n",
    "model_directory = './models'\n",
    "\n",
    "# Create the models directory if it doesn't exist\n",
    "os.makedirs(model_directory, exist_ok=True)\n",
    "\n",
    "model_path = os.path.join(model_directory, model_name)\n",
    "\n",
    "# Check if the model is already saved on disk\n",
    "if os.path.exists(model_path):\n",
    "    # Load the model from disk\n",
    "    model = SentenceTransformer(model_path)\n",
    "else:\n",
    "    # Download the model and save it to disk\n",
    "    model = SentenceTransformer(model_name)\n",
    "    model.save(model_path)"
   ]
  },
  {
   "cell_type": "code",
   "execution_count": null,
   "id": "b987e5fc",
   "metadata": {},
   "outputs": [],
   "source": [
    "import numpy as np\n",
    "from sklearn.metrics.pairwise import cosine_similarity\n",
    "\n",
    "movies_metadata_overview = movies_metadata[['id', 'title', 'overview', 'popularity', 'vote_average']].copy()\n",
    "# cache the embeddings in a folder\n",
    "embeddings_directory = './embeddings'\n",
    "os.makedirs(embeddings_directory, exist_ok=True)\n",
    "if os.path.exists(os.path.join(embeddings_directory, 'movies_metadata_overview_embeddings.npy')):\n",
    "    embeddings = np.load(os.path.join(embeddings_directory, 'movies_metadata_overview_embeddings.npy'))\n",
    "else:\n",
    "    # Generate the embeddings\n",
    "    embeddings = model.encode(movies_metadata_overview['overview'].astype(str).tolist())\n",
    "    # Save the embeddings to disk\n",
    "    np.save(os.path.join(embeddings_directory, 'movies_metadata_overview_embeddings.npy'), embeddings)"
   ]
  },
  {
   "cell_type": "code",
   "execution_count": null,
   "id": "d4f1cdf2",
   "metadata": {},
   "outputs": [],
   "source": [
    "# Function to find similar movies\n",
    "def find_similar_movies(movie_title, top_n=10):\n",
    "    idx = movies_metadata_overview[movies_metadata_overview['title'] == movie_title].index[0]\n",
    "    query_embedding = embeddings[idx].reshape(1, -1)\n",
    "\n",
    "    # Calculate cosine similarity between the query and all movie embeddings\n",
    "    similarities = cosine_similarity(query_embedding, embeddings).flatten()\n",
    "\n",
    "    # Get the top N similar movies\n",
    "    similar_indices = similarities.argsort()[::-1][1:top_n+1]\n",
    "    similar_movies = movies_metadata_overview.iloc[similar_indices]\n",
    "\n",
    "    return similar_movies\n",
    "\n",
    "# pick 5 movies from the top 100 movies\n",
    "filtered_movies = movies_metadata_credits.head(100).sample(5)\n",
    "similar_movies = pd.concat([find_similar_movies(movie_title).assign(query_title=movie_title) for movie_title in filtered_movies['title']])\n",
    "similar_movies = similar_movies.copy()\n",
    "similar_movies['popularity'] = similar_movies['popularity'].astype(float).round(2)\n",
    "\n",
    "dropdown_symbol = alt.binding_select(options=list(similar_movies[\"query_title\"].unique()), name=\" \")\n",
    "selection_symbol = alt.selection_point(fields=[\"query_title\"], bind=dropdown_symbol, value=filtered_movies['title'].values[0])\n",
    "\n",
    "# display the similar movies on a chart\n",
    "alt.Chart(similar_movies).mark_point().encode(\n",
    "    alt.X('popularity', title='Popularity'),\n",
    "    alt.Y('vote_average', title='Vote Average'),\n",
    "    alt.Color('title', title='Title'),\n",
    "    tooltip=['title', 'overview']\n",
    ").add_params(\n",
    "    selection_symbol\n",
    ").transform_filter(\n",
    "    selection_symbol\n",
    ").properties(\n",
    "    title='Similar Movies to Selected Movie',\n",
    "    width=600,\n",
    "    height=400,\n",
    ").interactive()"
   ]
  },
  {
   "cell_type": "markdown",
   "id": "e643ae62",
   "metadata": {},
   "source": [
    "### Visualition #4: Genres Distribution by Decade"
   ]
  },
  {
   "cell_type": "code",
   "execution_count": null,
   "id": "9ea9e2a8",
   "metadata": {},
   "outputs": [],
   "source": [
    "movies_metadata_genres = movies_metadata[['id', 'title', 'genres', 'release_date']].copy()\n",
    "\n",
    "# convert the genres column to a list\n",
    "movies_metadata_genres['genres'] = (\n",
    "    movies_metadata_genres['genres']\n",
    "    .fillna('[]')\n",
    "    .apply(literal_eval)\n",
    "    .apply(lambda x: [i['name'] for i in x] if isinstance(x, list) else [])\n",
    ")\n",
    "\n",
    "movies_metadata_genres['release_date'] = pd.to_datetime(movies_metadata_genres['release_date'], errors='coerce')\n",
    "movies_metadata_genres = movies_metadata_genres[~movies_metadata_genres['release_date'].isna()]\n",
    "# convert year to decade\n",
    "movies_metadata_genres['year'] = (movies_metadata_genres['release_date'].dt.year // 10 * 10).astype(int)\n",
    "\n",
    "genres = movies_metadata_genres.explode('genres')\n",
    "genres = genres.groupby(['genres', 'year']).size().reset_index(name='count')\n",
    "genres = genres.sort_values('count', ascending=False)\n",
    "\n",
    "# Create a selection object for the slider\n",
    "year_slider = alt.binding_range(min=1900, max=2010, step=10, name='Year:')\n",
    "year_select = alt.selection_point(fields=['year'], bind=year_slider, value={'year': 1900})\n",
    "\n",
    "# calculate the percentage\n",
    "genres['percentage'] = genres['count'] / genres['count'].sum() * 100\n",
    "# plot the genres distribution\n",
    "chart = alt.Chart(genres).mark_bar().encode(\n",
    "    x=alt.X('genres', title='Genre', sort='-y'),\n",
    "    y=alt.Y('count', title='Count'),\n",
    "    color=alt.Color('genres', title='Genre'),\n",
    "    tooltip=[alt.Tooltip('genres', title='Genre'), alt.Tooltip('count', format='.2f', title='Count')]\n",
    ").add_params(\n",
    "    year_select\n",
    ").transform_filter(\n",
    "    year_select\n",
    ").properties(\n",
    "    title='Genres Distribution',\n",
    "    width=600,\n",
    "    height=400,\n",
    ").interactive()\n",
    "\n",
    "chart"
   ]
  },
  {
   "cell_type": "markdown",
   "id": "21163d34",
   "metadata": {},
   "source": [
    "### Visualition #5: Countries Distribution"
   ]
  },
  {
   "cell_type": "code",
   "execution_count": null,
   "id": "42777279",
   "metadata": {},
   "outputs": [],
   "source": [
    "import time\n",
    "import json\n",
    "from ast import literal_eval\n",
    "import requests\n",
    "\n",
    "# extract the country from the production_countries column\n",
    "movies_metadata_countries = movies_metadata[['id', 'title', 'production_countries']].copy()\n",
    "\n",
    "# convert the production_countries column to a list\n",
    "movies_metadata_countries['production_countries'] = (\n",
    "    movies_metadata_countries['production_countries']\n",
    "    .fillna('[]')\n",
    "    .apply(literal_eval)\n",
    "    .apply(lambda x: [i['name'] for i in x] if isinstance(x, list) else [])\n",
    ")\n",
    "\n",
    "# explode the production_countries column\n",
    "movies_metadata_countries = movies_metadata_countries.explode('production_countries')\n",
    "movies_metadata_countries = movies_metadata_countries.groupby('production_countries').size().reset_index(name='count')\n",
    "movies_metadata_countries = movies_metadata_countries.sort_values('count', ascending=False)\n",
    "\n",
    "def fetch_lat_long_data(country):\n",
    "    country_param = country.replace(' ', '%20')\n",
    "    country_filename = country.replace(' ', '_').lower() + '.json'\n",
    "    data_directory = './data'\n",
    "    if os.path.exists(os.path.join(data_directory, country_filename)):\n",
    "        with open(os.path.join(data_directory, country_filename), 'r') as f:\n",
    "            return json.load(f)\n",
    "    else:\n",
    "        lat_long_url = f\"https://geocode.maps.co/search?q={country_param}&api_key=6668f5eb3d464108527128ndi77d74c\"\n",
    "        print('Fetching data for:', country)\n",
    "        response = requests.get(lat_long_url)\n",
    "        if response.status_code == 200:\n",
    "            data = response.json()\n",
    "            with open(os.path.join(data_directory, country_filename), 'w') as f:\n",
    "                json.dump(data, f)\n",
    "            print('Waiting for 5 seconds...')\n",
    "            time.sleep(5)\n",
    "            return data\n",
    "        else:\n",
    "            return None\n",
    "\n",
    "def get_lat_long(country):\n",
    "    data = fetch_lat_long_data(country)\n",
    "    if data:\n",
    "        return data[0]['lat'] + ',' + data[0]['lon']\n",
    "    else:\n",
    "        return None\n",
    "\n",
    "movies_metadata_countries['lat_long'] = movies_metadata_countries.apply(lambda x: get_lat_long(x['production_countries']), axis=1)\n",
    "movies_metadata_countries[['lat', 'long']] = movies_metadata_countries['lat_long'].str.split(',', expand=True)\n",
    "movies_metadata_countries = movies_metadata_countries.drop(columns=['lat_long'])\n",
    "# write the data to a csv file\n",
    "movies_metadata_countries.to_csv('./movies_metadata_countries.csv', index=False)"
   ]
  },
  {
   "cell_type": "code",
   "execution_count": null,
   "id": "e952d7f4",
   "metadata": {},
   "outputs": [],
   "source": [
    "import altair as alt\n",
    "from vega_datasets import data\n",
    "\n",
    "# Load a GeoJSON source that contains features for drawing\n",
    "base = alt.topo_feature(data.world_110m.url, 'countries')\n",
    "\n",
    "# Create a base map\n",
    "base_map = alt.Chart(base).mark_geoshape(\n",
    "    fill='lightblue',\n",
    "    stroke='white'\n",
    ").project('equirectangular')\n",
    "\n",
    "# Create a scatter plot layer\n",
    "points = alt.Chart(movies_metadata_countries).mark_circle().encode(\n",
    "    longitude='long:Q',\n",
    "    latitude='lat:Q',\n",
    "    size=alt.Size('count:Q', title='Count', scale=alt.Scale(range=[50, 250])),\n",
    "    # color=alt.Color('count:Q', title='Count'),\n",
    "    color=alt.Color('count:Q', title='Count', scale=alt.Scale(range=['blue', 'darkblue'])),\n",
    "    tooltip=[alt.Tooltip('production_countries', title='Country'), alt.Tooltip('count', format='.2f', title='Count')]\n",
    ").project('equirectangular')\n",
    "\n",
    "# Combine the base map and scatter plot\n",
    "chart = base_map + points\n",
    "\n",
    "# Set the chart properties\n",
    "chart = chart.properties(\n",
    "    title='Countries Distribution',\n",
    "    width=800,\n",
    "    height=600\n",
    ").interactive()\n",
    "\n",
    "chart"
   ]
  },
  {
   "cell_type": "code",
   "execution_count": null,
   "id": "b7382dab",
   "metadata": {},
   "outputs": [],
   "source": []
  }
 ],
 "metadata": {
  "kernelspec": {
   "display_name": "Python 3 (ipykernel)",
   "language": "python",
   "name": "python3"
  },
  "language_info": {
   "codemirror_mode": {
    "name": "ipython",
    "version": 3
   },
   "file_extension": ".py",
   "mimetype": "text/x-python",
   "name": "python",
   "nbconvert_exporter": "python",
   "pygments_lexer": "ipython3",
   "version": "3.9.13"
  }
 },
 "nbformat": 4,
 "nbformat_minor": 5
}
